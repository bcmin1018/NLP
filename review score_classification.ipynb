{
  "cells": [
    {
      "cell_type": "markdown",
      "metadata": {
        "id": "view-in-github",
        "colab_type": "text"
      },
      "source": [
        "<a href=\"https://colab.research.google.com/github/bcmin1018/NLP/blob/main/review%20score_classification.ipynb\" target=\"_parent\"><img src=\"https://colab.research.google.com/assets/colab-badge.svg\" alt=\"Open In Colab\"/></a>"
      ]
    },
    {
      "cell_type": "markdown",
      "metadata": {
        "id": "4VPGZxLT72du"
      },
      "source": [
        "https://hong-yp-ml-records.tistory.com/102  \n",
        "https://paperswithcode.com/paper/understanding-back-translation-at-scale  \n",
        "레이블 잘 섞였는지 확인.\n",
        "모델 테스트 수정"
      ]
    },
    {
      "cell_type": "code",
      "execution_count": null,
      "metadata": {
        "id": "3OfkPyjwQTUd"
      },
      "outputs": [],
      "source": [
        "!pip install transformers\n",
        "!pip install soynlp\n",
        "!pip install googletrans==3.1.0a0"
      ]
    },
    {
      "cell_type": "code",
      "execution_count": null,
      "metadata": {
        "colab": {
          "base_uri": "https://localhost:8080/"
        },
        "id": "Fx5_ly49RuyT",
        "outputId": "61e744a7-c72a-4cd6-fb54-f00984b09489"
      },
      "outputs": [
        {
          "output_type": "stream",
          "name": "stdout",
          "text": [
            "Mounted at /content/drive\n"
          ]
        }
      ],
      "source": [
        "from transformers import BertTokenizer, BertForSequenceClassification\n",
        "from transformers import ElectraTokenizer, ElectraForSequenceClassification\n",
        "from transformers import AutoTokenizer, AutoModelForSequenceClassification, AutoModel\n",
        "import pandas as pd\n",
        "\n",
        "from google.colab import drive\n",
        "drive.mount('/content/drive')"
      ]
    },
    {
      "cell_type": "code",
      "execution_count": null,
      "metadata": {
        "colab": {
          "base_uri": "https://localhost:8080/"
        },
        "id": "UcFRXgnDQ366",
        "outputId": "392f3707-0847-4429-ebd9-d7bec2f702cc"
      },
      "outputs": [
        {
          "output_type": "stream",
          "name": "stdout",
          "text": [
            "/usr/local/lib/python3.7/dist-packages/gdown/cli.py:131: FutureWarning: Option `--id` was deprecated in version 4.3.1 and will be removed in 5.0. You don't need to pass it anymore to use a file ID.\n",
            "  category=FutureWarning,\n",
            "Downloading...\n",
            "From: https://drive.google.com/uc?id=1LwUsCrYP2BtD2vVIpdezCB4vzbNUsYOr\n",
            "To: /content/train.csv\n",
            "100% 2.74M/2.74M [00:00<00:00, 180MB/s]\n",
            "/usr/local/lib/python3.7/dist-packages/gdown/cli.py:131: FutureWarning: Option `--id` was deprecated in version 4.3.1 and will be removed in 5.0. You don't need to pass it anymore to use a file ID.\n",
            "  category=FutureWarning,\n",
            "Downloading...\n",
            "From: https://drive.google.com/uc?id=1Z9sxHad7bnoR65xWKhNkqaEvCLesPeRp\n",
            "To: /content/test.csv\n",
            "100% 2.68M/2.68M [00:00<00:00, 216MB/s]\n",
            "/usr/local/lib/python3.7/dist-packages/gdown/cli.py:131: FutureWarning: Option `--id` was deprecated in version 4.3.1 and will be removed in 5.0. You don't need to pass it anymore to use a file ID.\n",
            "  category=FutureWarning,\n",
            "Downloading...\n",
            "From: https://drive.google.com/uc?id=1DAV5cjazlrbVZilO9lBvxf_yg4Gw_grl\n",
            "To: /content/sample_submission.csv\n",
            "100% 189k/189k [00:00<00:00, 60.2MB/s]\n"
          ]
        }
      ],
      "source": [
        "#train\n",
        "!gdown --id 1LwUsCrYP2BtD2vVIpdezCB4vzbNUsYOr\n",
        "\n",
        "#test\n",
        "!gdown --id 1Z9sxHad7bnoR65xWKhNkqaEvCLesPeRp\n",
        "\n",
        "#sample_submission\n",
        "!gdown --id 1DAV5cjazlrbVZilO9lBvxf_yg4Gw_grl\n",
        "\n",
        "train_data_path= \"./train.csv\"\n",
        "test_data_path= \"./test.csv\"\n",
        "sample_submission_path = \"./sample_submission.csv\"\n",
        "\n",
        "train_data = pd.read_csv(train_data_path)\n",
        "test_data = pd.read_csv(test_data_path)\n",
        "sample_submission = pd.read_csv(sample_submission_path)"
      ]
    },
    {
      "cell_type": "code",
      "execution_count": null,
      "metadata": {
        "id": "xfiVEM84Pf2Q"
      },
      "outputs": [],
      "source": [
        "from soynlp.normalizer import emoticon_normalize, only_text\n",
        "import re\n",
        "\n",
        "def normalise(df):\n",
        "     clean=[]\n",
        "     for text in df.reviews.to_list():\n",
        "         text = re.sub('\\.*!+', '!', text)\n",
        "         text = re.sub('\\.*\\?+', '?', text)\n",
        "         text = re.sub('\\.+', '.', text)\n",
        "         text = re.sub(',+', ',', text)\n",
        "         text = re.sub('[^A-Za-z0-9가-힣\\s\\[\\].,!?\\\"\\']', '', text)\n",
        "         text = emoticon_normalize(only_text(text), num_repeats=1)\n",
        "         text = re.sub('\\s+', ' ', text)\n",
        "         clean.append(text)\n",
        "\n",
        "     return clean\n",
        "\n",
        "clean_train = normalise(train_data)\n",
        "train_data['reviews'] = clean_train\n",
        "\n",
        "clean_test = normalise(test_data)\n",
        "test_data['reviews'] = clean_test"
      ]
    },
    {
      "cell_type": "code",
      "execution_count": null,
      "metadata": {
        "colab": {
          "base_uri": "https://localhost:8080/"
        },
        "id": "n_niZYRPRxNL",
        "outputId": "7e7c427a-f455-4476-ae2b-66c116109f30"
      },
      "outputs": [
        {
          "output_type": "stream",
          "name": "stdout",
          "text": [
            "train 데이터 길이 :  25000\n",
            "test 데이터 길이 :  25000\n",
            "sample_submission 데이터 길이 :  25000\n"
          ]
        }
      ],
      "source": [
        "print(\"train 데이터 길이 : \", len(train_data))\n",
        "print(\"test 데이터 길이 : \", len(test_data))\n",
        "print(\"sample_submission 데이터 길이 : \", len(sample_submission))"
      ]
    },
    {
      "cell_type": "code",
      "execution_count": null,
      "metadata": {
        "id": "3W8laKszG_9P"
      },
      "outputs": [],
      "source": [
        "from sklearn.model_selection import train_test_split\n",
        "train, valid = train_test_split(train_data, test_size=0.3, stratify=train_data.target, random_state=2022)\n",
        "train = train.reset_index(drop=True)\n",
        "valid = valid.reset_index(drop=True)"
      ]
    },
    {
      "cell_type": "code",
      "execution_count": null,
      "metadata": {
        "colab": {
          "base_uri": "https://localhost:8080/"
        },
        "id": "2RyPt2K1IoN1",
        "outputId": "87de21a2-f918-4e0c-d42c-5cc95443105e"
      },
      "outputs": [
        {
          "output_type": "stream",
          "name": "stdout",
          "text": [
            "train 데이터 길이 :  17500\n",
            "valid 데이터 길이 :  7500\n"
          ]
        }
      ],
      "source": [
        "print(\"train 데이터 길이 : \", len(train))\n",
        "print(\"valid 데이터 길이 : \", len(valid))"
      ]
    },
    {
      "cell_type": "code",
      "execution_count": null,
      "metadata": {
        "colab": {
          "base_uri": "https://localhost:8080/"
        },
        "id": "SbboLrIgSZVf",
        "outputId": "dd188b5c-50c3-4394-b4fe-21354471f23c"
      },
      "outputs": [
        {
          "output_type": "execute_result",
          "data": {
            "text/plain": [
              "5    7000\n",
              "2    5600\n",
              "1    3150\n",
              "4    1750\n",
              "Name: target, dtype: int64"
            ]
          },
          "metadata": {},
          "execution_count": 8
        }
      ],
      "source": [
        "train.target.value_counts()"
      ]
    },
    {
      "cell_type": "markdown",
      "metadata": {
        "id": "myzsfQKjIjqV"
      },
      "source": [
        "## 데이터 증강"
      ]
    },
    {
      "cell_type": "code",
      "execution_count": null,
      "metadata": {
        "id": "rzm8i0dhHHXr"
      },
      "outputs": [],
      "source": [
        "!pip install --upgrade pip\n",
        "!git clone https://github.com/kakaobrain/pororo.git\n",
        "%cd pororo\n",
        "!pip install -e ."
      ]
    },
    {
      "cell_type": "code",
      "execution_count": null,
      "metadata": {
        "id": "A42sovJhJa7v"
      },
      "outputs": [],
      "source": [
        "from pororo import Pororo\n",
        "pg = Pororo(task=\"pg\", lang=\"ko\")"
      ]
    },
    {
      "cell_type": "code",
      "execution_count": null,
      "metadata": {
        "id": "jc1D3gokQEQC"
      },
      "outputs": [],
      "source": [
        "import numpy as np\n",
        "import pandas as pd\n",
        "import random\n",
        "import sklearn\n",
        "\n",
        "def augment_gen(df, samples=300, label=4):\n",
        "  df = df[['reviews', 'target']]\n",
        "  new_text = []\n",
        "  df_n = df[df.target==label].reset_index(drop=True)\n",
        "\n",
        "  for i in np.random.randint(0, len(df_n), samples):\n",
        "    text = df_n.iloc[i]['reviews']\n",
        "    augmented_text = pg(text)\n",
        "    new_text.append(augmented_text)\n",
        "\n",
        "  new=pd.DataFrame({'reviews':new_text, 'target':label})\n",
        "  df=sklearn.utils.shuffle(df.append(new).reset_index(drop=True))\n",
        "  return df"
      ]
    },
    {
      "cell_type": "code",
      "execution_count": null,
      "metadata": {
        "id": "FIC2aW7DSDdP"
      },
      "outputs": [],
      "source": [
        "train = augment_gen(train, samples=1750, label=4)\n",
        "train = augment_gen(train, samples=1300, label=1)"
      ]
    },
    {
      "cell_type": "code",
      "execution_count": null,
      "metadata": {
        "id": "E4xWqk3DWFf_"
      },
      "outputs": [],
      "source": [
        "train.to_csv(\"/content/drive/MyDrive/gen4,1.csv\", index=False)"
      ]
    },
    {
      "cell_type": "code",
      "execution_count": null,
      "metadata": {
        "colab": {
          "base_uri": "https://localhost:8080/"
        },
        "id": "DEmDxlltS8GN",
        "outputId": "8a2e730f-c34a-4d92-8d9a-2e2a506bb6e0"
      },
      "outputs": [
        {
          "output_type": "execute_result",
          "data": {
            "text/plain": [
              "5    7000\n",
              "2    5600\n",
              "1    4450\n",
              "4    3500\n",
              "Name: target, dtype: int64"
            ]
          },
          "metadata": {},
          "execution_count": 37
        }
      ],
      "source": [
        "train.target.value_counts()"
      ]
    },
    {
      "cell_type": "code",
      "execution_count": null,
      "metadata": {
        "id": "hNU_mlBFoWSc"
      },
      "outputs": [],
      "source": [
        "train = pd.read_csv(\"/content/drive/MyDrive/gen4,1.csv\")"
      ]
    },
    {
      "cell_type": "code",
      "source": [
        "train_label_one = train[train.target == 1]\n",
        "train_label_two = train[train.target == 2]\n",
        "train_label_four = train[train.target == 4]\n",
        "train_label_five = train[train.target == 5]"
      ],
      "metadata": {
        "id": "gVtq5Lay41cn"
      },
      "execution_count": null,
      "outputs": []
    },
    {
      "cell_type": "code",
      "execution_count": null,
      "metadata": {
        "id": "V4kr9KdAYVIh"
      },
      "outputs": [],
      "source": [
        "import googletrans\n",
        "from googletrans import Translator\n",
        "\n",
        "def back_translation(text, cnt):\n",
        "  translator = Translator()\n",
        "  \n",
        "  if cnt == 1:\n",
        "    ja_to_ko = translator.translate(translator.translate(text, src='ko', dest='ja').text, src='ja', dest='ko').text\n",
        "    return ja_to_ko\n",
        "\n",
        "  elif cnt >= 2 and cnt < 3:\n",
        "    ja_to_ko = translator.translate(translator.translate(text, src='ko', dest='ja').text, src='ja', dest='ko').text\n",
        "    de_to_ko = translator.translate(translator.translate(text, src='ko', dest='de').text, src='de', dest='ko').text\n",
        "    return ja_to_ko, de_to_ko\n",
        "\n",
        "  elif cnt >= 3:\n",
        "    ja_to_ko = translator.translate(translator.translate(text, src='ko', dest='ja').text, src='ja', dest='ko').text\n",
        "    de_to_ko = translator.translate(translator.translate(text, src='ko', dest='de').text, src='de', dest='ko').text\n",
        "    fr_to_ko = translator.translate(translator.translate(text, src='ko', dest='fr').text, src='fr', dest='ko').text\n",
        "    return ja_to_ko, de_to_ko, fr_to_ko\n",
        "\n",
        "def bt_aug(data, target_num, trans_cnt):\n",
        "  reviews = []\n",
        "  for review in data.reviews: #리뷰 데이터\n",
        "    reviews.extend(back_translation(review, trans_cnt)) #리뷰데이터를 리스트 형태로 받는다\n",
        "  cnt = len(reviews)\n",
        "  target = [target_num] * cnt\n",
        "  add_df = pd.DataFrame({'reviews':reviews, 'target': target})\n",
        "  return add_df"
      ]
    },
    {
      "cell_type": "code",
      "source": [
        "reviews = []\n",
        "for review in train_four.reviews.values: #리뷰 데이터\n",
        "  reviews.append(back_translation(review, 1))"
      ],
      "metadata": {
        "id": "7JKqEoyW82Kh"
      },
      "execution_count": null,
      "outputs": []
    },
    {
      "cell_type": "code",
      "source": [
        "cnt = len(reviews)\n",
        "target = [4] * cnt\n",
        "train_four_tmp = pd.DataFrame({'reviews':reviews, 'target': target})"
      ],
      "metadata": {
        "id": "8RRhqYA58Yuh"
      },
      "execution_count": null,
      "outputs": []
    },
    {
      "cell_type": "code",
      "source": [
        "train_tmp = pd.concat([train_four_tmp, train])"
      ],
      "metadata": {
        "id": "tvcagROWgRyB"
      },
      "execution_count": null,
      "outputs": []
    },
    {
      "cell_type": "code",
      "source": [
        "train_tmp.to_csv(\"/content/drive/MyDrive/last_train.csv\", index=False)"
      ],
      "metadata": {
        "id": "juafUgDxg3mJ"
      },
      "execution_count": null,
      "outputs": []
    },
    {
      "cell_type": "code",
      "source": [
        "train_tmp = pd.read_csv(\"/content/drive/MyDrive/last_train.csv\")"
      ],
      "metadata": {
        "id": "ejpKgU7xFay2"
      },
      "execution_count": null,
      "outputs": []
    },
    {
      "cell_type": "code",
      "source": [
        "import sklearn\n",
        "train_tmp=sklearn.utils.shuffle(train_tmp)"
      ],
      "metadata": {
        "id": "guP7oqVJhfUq"
      },
      "execution_count": null,
      "outputs": []
    },
    {
      "cell_type": "code",
      "source": [
        "train = train_tmp.reset_index(drop=True)"
      ],
      "metadata": {
        "id": "azfof7oVFHOA"
      },
      "execution_count": null,
      "outputs": []
    },
    {
      "cell_type": "code",
      "source": [
        "train.target.value_counts()"
      ],
      "metadata": {
        "colab": {
          "base_uri": "https://localhost:8080/"
        },
        "id": "IStVzSuRFy-b",
        "outputId": "4c8a4703-b408-4097-ffc6-64acda9f93af"
      },
      "execution_count": null,
      "outputs": [
        {
          "output_type": "execute_result",
          "data": {
            "text/plain": [
              "4    7000\n",
              "5    7000\n",
              "2    5600\n",
              "1    4450\n",
              "Name: target, dtype: int64"
            ]
          },
          "metadata": {},
          "execution_count": 13
        }
      ]
    },
    {
      "cell_type": "code",
      "source": [
        "train_one = train[train.target == 1]\n",
        "train_two = train[train.target == 2]\n",
        "train_four = train[train.target == 4]\n",
        "train_five = train[train.target == 5]\n",
        "\n",
        "train_one['target2'] = 0\n",
        "train_two['target2'] = 0\n",
        "train_four['target2'] = 1\n",
        "train_five['target2'] = 1\n",
        "\n",
        "valid_one = valid[valid.target == 1]\n",
        "valid_two = valid[valid.target == 2]\n",
        "valid_four = valid[valid.target == 4]\n",
        "valid_five = valid[valid.target == 5]\n",
        "\n",
        "valid_one['target2'] = 0\n",
        "valid_two['target2'] = 0\n",
        "valid_four['target2'] = 1\n",
        "valid_five['target2'] = 1"
      ],
      "metadata": {
        "id": "FcqutooEF6dd"
      },
      "execution_count": null,
      "outputs": []
    },
    {
      "cell_type": "code",
      "source": [
        "train = pd.concat([train_one, train_two, train_four, train_five])\n",
        "valid = pd.concat([valid_one, valid_two, valid_four, valid_five ])"
      ],
      "metadata": {
        "id": "z3JoAJKfGHMz"
      },
      "execution_count": null,
      "outputs": []
    },
    {
      "cell_type": "code",
      "source": [
        "train = train.reset_index(drop=True)\n",
        "valid = valid.reset_index(drop=True)"
      ],
      "metadata": {
        "id": "oJGQ8C3WGtvC"
      },
      "execution_count": null,
      "outputs": []
    },
    {
      "cell_type": "code",
      "execution_count": null,
      "metadata": {
        "id": "nbgRL5TDYkna"
      },
      "outputs": [],
      "source": [
        "train_label_one = train_data[train_data.target == 1]\n",
        "train_label_two = train_data[train_data.target == 2]\n",
        "train_label_four = train_data[train_data.target == 4]\n",
        "train_label_five = train_data[train_data.target == 5]\n",
        "\n",
        "print(\"train number of target 1:\", len(train_label_one))\n",
        "print(\"train number of target 2:\", len(train_label_two))\n",
        "print(\"train number of target 4:\", len(train_label_four))\n",
        "print(\"train number of target 5:\", len(train_label_five))\n",
        "\n",
        "target_one_df = bt_aug(train_label_one, 1, 2)\n",
        "target_two_df = bt_aug(train_label_two, 2, 1)\n",
        "target_four_df = bt_aug(train_label_four, 4, 3)\n",
        "target_five_df = bt_aug(train_label_five, 5, 1)"
      ]
    },
    {
      "cell_type": "code",
      "execution_count": null,
      "metadata": {
        "id": "pGz1EseGpJRE"
      },
      "outputs": [],
      "source": [
        "train = pd.concat([target_one_df, target_two_df, target_four_df, target_five_df, train])"
      ]
    },
    {
      "cell_type": "code",
      "execution_count": null,
      "metadata": {
        "id": "MYrIdm1fu8eY"
      },
      "outputs": [],
      "source": [
        "# add_bt.to_csv(\"/content/drive/MyDrive/train_v4.csv\", index=False)\n",
        "# train_all = pd.read_csv(\"/content/drive/MyDrive/train_all.csv\")\n",
        "train = pd.read_csv(\"/content/drive/MyDrive/gen_train.csv\")"
      ]
    },
    {
      "cell_type": "code",
      "execution_count": null,
      "metadata": {
        "colab": {
          "base_uri": "https://localhost:8080/"
        },
        "id": "9GWsx--ZrXUX",
        "outputId": "991a118b-d9f9-473c-b143-c276aa93efdc"
      },
      "outputs": [
        {
          "output_type": "execute_result",
          "data": {
            "text/plain": [
              "4    7000\n",
              "5    7000\n",
              "2    5600\n",
              "1    4450\n",
              "Name: target, dtype: int64"
            ]
          },
          "metadata": {},
          "execution_count": 19
        }
      ],
      "source": [
        "train['target'].value_counts()"
      ]
    },
    {
      "cell_type": "code",
      "execution_count": null,
      "metadata": {
        "colab": {
          "base_uri": "https://localhost:8080/",
          "height": 282
        },
        "id": "jqFhiz8Ipv4L",
        "outputId": "1aa164c7-855b-4924-c0e6-b56027e8d3c1"
      },
      "outputs": [
        {
          "output_type": "execute_result",
          "data": {
            "text/plain": [
              "<matplotlib.axes._subplots.AxesSubplot at 0x7f2e2255e4d0>"
            ]
          },
          "metadata": {},
          "execution_count": 20
        },
        {
          "output_type": "display_data",
          "data": {
            "text/plain": [
              "<Figure size 432x288 with 1 Axes>"
            ],
            "image/png": "[encoded data removed]"
          },
          "metadata": {}
        }
      ],
      "source": [
        "train['target2'].value_counts().plot.pie(autopct='%0.2f%%',\n",
        "                                             labels=[5, 2, 1, 4],\n",
        "                                             title = 'label ratio')"
      ]
    },
    {
      "cell_type": "code",
      "execution_count": null,
      "metadata": {
        "id": "TfA3tiGKrOKS"
      },
      "outputs": [],
      "source": [
        "# config\n",
        "config = {\n",
        "    'TRAINER': {\n",
        "        'seed' : 2022,\n",
        "        # 'tokenizer' : 'BertTokenizer',\n",
        "        # 'tokenizer' : 'ElectraTokenizer',\n",
        "        'tokenizer' : 'AutoTokenizer',\n",
        "        # 'model' : 'BertForSequenceClassification',\n",
        "        # 'model' : 'ElectraForSequenceClassification',\n",
        "        'model' : 'AutoModelForSequenceClassification',\n",
        "        # 'pretrained' : 'bert-base-multilingual-cased',\n",
        "        # 'pretrained' : 'monologg/koelectra-small-v2-discriminator',\n",
        "        'pretrained' : 'klue/roberta-base',\n",
        "        'optimizer' : 'adamw',\n",
        "        'learning_rate' : 2e-5,\n",
        "        'loss' : 'crossentropy',\n",
        "        'early_stopping_target' : 'val_loss',\n",
        "        'early_stopping_patience' : 10,\n",
        "        'early_stopping_mode' : 'min',\n",
        "        'n_epochs' : 20,\n",
        "        'weight_decay' : 1e-2\n",
        "    },\n",
        "    'DATALOADER': {\n",
        "      'batch_size' : 32,\n",
        "      'shuffle' : True,\n",
        "      'num_workers' : 2  \n",
        "    }\n",
        "}"
      ]
    },
    {
      "cell_type": "code",
      "execution_count": null,
      "metadata": {
        "id": "mY7V5OlZzDo8"
      },
      "outputs": [],
      "source": [
        "label_map_dict = {\n",
        "    1: 0, \n",
        "    2: 1, \n",
        "    4: 2, \n",
        "    5: 3\n",
        "}\n",
        "\n",
        "train['target'].replace(label_map_dict, inplace=True)\n",
        "valid['target'].replace(label_map_dict, inplace=True)"
      ]
    },
    {
      "cell_type": "code",
      "execution_count": null,
      "metadata": {
        "id": "fQcV2B4bCv9W"
      },
      "outputs": [],
      "source": [
        "#utils.py\n",
        "import torch.optim as optim\n",
        "from torch.nn import functional as F\n",
        "import torch.nn as nn\n",
        "\n",
        "def get_model(model_name:str, pretrained):\n",
        "    if model_name == 'ElectraForSequenceClassification':\n",
        "      return ElectraForSequenceClassification.from_pretrained(pretrained, num_labels=4)\n",
        "    if model_name == 'BertForSequenceClassification':\n",
        "      return BertForSequenceClassification.from_pretrained(pretrained, num_labels=4)\n",
        "    if model_name == 'AutoModelForSequenceClassification':\n",
        "      return AutoModelForSequenceClassification.from_pretrained(pretrained, num_labels=4)\n",
        "\n",
        "def get_optimizer(optimizer_name: str):\n",
        "\n",
        "    if optimizer_name == 'sgd':\n",
        "\n",
        "        return optim.SGD\n",
        "\n",
        "    elif optimizer_name == 'adam':\n",
        "\n",
        "        return optim.Adam\n",
        "    \n",
        "    elif optimizer_name == 'adamw':\n",
        "\n",
        "        return optim.AdamW\n",
        "\n",
        "def get_loss(loss_name: str):\n",
        "    if loss_name == 'crossentropy':\n",
        "        return nn.CrossEntropyLoss()"
      ]
    },
    {
      "cell_type": "code",
      "execution_count": null,
      "metadata": {
        "id": "rE8Iw8St5uM7"
      },
      "outputs": [],
      "source": [
        "# dataset.py\n",
        "from torch.utils.data import Dataset\n",
        "import torch\n",
        "\n",
        "class BERTDataset(Dataset):\n",
        "  def __init__(self, data, tokenizer, max_seq_len, mode = 'train'):\n",
        "    self.mode = mode\n",
        "    self.tokenizer = tokenizer\n",
        "    self.max_seq_len = max_seq_len\n",
        "    self.data = data\n",
        "    if mode == 'train':\n",
        "      self.x = self.data.reviews\n",
        "      self.y = self.data.target\n",
        "    else:\n",
        "      self.x = self.data.reviews\n",
        "\n",
        "  def __len__(self):\n",
        "    return len(self.x)\n",
        "\n",
        "  def __getitem__(self, item):\n",
        "    x = str(self.x[item])\n",
        "    x = \" \".join(x.split())\n",
        "\n",
        "    inputs = self.tokenizer.encode_plus(\n",
        "        x,\n",
        "        padding='max_length',\n",
        "        truncation=True,\n",
        "        max_length = self.max_seq_len\n",
        "    )\n",
        "\n",
        "    input_ids = inputs[\"input_ids\"]\n",
        "    attention_mask = inputs['attention_mask']\n",
        "    token_type_ids = inputs[\"token_type_ids\"]\n",
        "\n",
        "    if self.mode == 'train':\n",
        "      return {\n",
        "        'input_ids' : torch.tensor(input_ids, dtype=torch.long),\n",
        "        'attention_mask' : torch.tensor(attention_mask, dtype=torch.long),\n",
        "        'token_type_ids' : torch.tensor(token_type_ids, dtype=torch.long),\n",
        "        'target' : torch.tensor(self.y[item], dtype=torch.float)\n",
        "      }\n",
        "    else:\n",
        "      return {\n",
        "        'input_ids' : torch.tensor(input_ids, dtype=torch.long),\n",
        "        'attention_mask' : torch.tensor(attention_mask, dtype=torch.long),\n",
        "        'token_type_ids' : torch.tensor(token_type_ids, dtype=torch.long),\n",
        "      }"
      ]
    },
    {
      "cell_type": "code",
      "execution_count": null,
      "metadata": {
        "id": "7nzTDEGuC6y9"
      },
      "outputs": [],
      "source": [
        "import numpy as np\n",
        "\n",
        "class EarlyStopper():\n",
        "\n",
        "    def __init__(self, patience: int, mode:str):\n",
        "        self.patience = patience\n",
        "        self.mode = mode\n",
        "\n",
        "        # Initiate\n",
        "        self.patience_counter = 0\n",
        "        self.stop = False\n",
        "        self.best_loss = np.inf\n",
        "\n",
        "        msg = f\"Initiated early stopper, mode: {self.mode}, best score: {self.best_loss}, patience: {self.patience}\"\n",
        "        print(msg)\n",
        "        \n",
        "    def check_early_stopping(self, loss: float)-> None:\n",
        "        loss = -loss if self.mode == 'max' else loss  # get max value if mode set to max\n",
        "\n",
        "        if loss > self.best_loss:\n",
        "            # got worse score\n",
        "            self.patience_counter += 1\n",
        "\n",
        "            msg = f\"Early stopper, counter {self.patience_counter}/{self.patience}, best:{abs(self.best_loss)} -> now:{abs(loss)}\"\n",
        "            print(msg)\n",
        "            \n",
        "            if self.patience_counter == self.patience:\n",
        "                msg = f\"Early stopper, stop\"\n",
        "                print(msg)\n",
        "                self.stop = True  # end\n",
        "\n",
        "        elif loss <= self.best_loss:\n",
        "            # got better score\n",
        "            self.patience_counter = 0\n",
        "            print(f\"Early stopper, counter {self.patience_counter}/{self.patience}, best:{abs(self.best_loss)} -> now:{abs(loss)}\")\n",
        "            print(f\"Set counter as {self.patience_counter}\")\n",
        "            print(f\"Update best score as {abs(loss)}\")\n",
        "            self.best_loss = loss\n",
        "            \n",
        "        else:\n",
        "            print('debug')"
      ]
    },
    {
      "cell_type": "code",
      "execution_count": null,
      "metadata": {
        "id": "jNSD42BsX1ms"
      },
      "outputs": [],
      "source": [
        "# trainer.py\n",
        "from time import time\n",
        "from tqdm import tqdm\n",
        "import torch\n",
        "\n",
        "\n",
        "class Trainer():\n",
        "  def __init__(self, model, optimizer, loss, device, scheduler, tokenizer, interval=150):\n",
        "    self.model = model\n",
        "    self.optimizer = optimizer\n",
        "    self.loss = loss\n",
        "    self.device = device\n",
        "    self.scheduler = scheduler\n",
        "    self.tokenizer = tokenizer\n",
        "    self.interval = interval\n",
        "    self.loss_sum = 0\n",
        "    self.loss_mean = 0\n",
        "    self.y = list()\n",
        "    self.y_preds = list()\n",
        "    self.elapsed_time = 0\n",
        "    \n",
        "  def train(self, mode, dataloader, tokenizer, epoch_index=0):\n",
        "\n",
        "    start_timestamp = time()\n",
        "    self.model.train() if mode == \"train\" else self.model.eval()\n",
        "    print(self.device)\n",
        "    for batch_index, batch in enumerate(tqdm(dataloader)):\n",
        "      self.optimizer.zero_grad()\n",
        "      input_ids = batch['input_ids'].to(self.device)\n",
        "      token_type_ids = batch['token_type_ids'].to(self.device)\n",
        "      attention_mask = batch['attention_mask'].to(self.device)\n",
        "      targets = batch['target'].type(torch.LongTensor).to(self.device)\n",
        "\n",
        "      outputs = self.model(\n",
        "        input_ids,\n",
        "        attention_mask = attention_mask,\n",
        "        token_type_ids = token_type_ids,\n",
        "        # labels=targets\n",
        "      )\n",
        "      # print(\"model outputs: \", outputs)\n",
        "\n",
        "      loss = self.loss(outputs, targets)\n",
        "      # loss = self.loss(outputs.logits, targets)\n",
        "      \n",
        "\n",
        "      if mode == 'train':\n",
        "        loss.backward()\n",
        "        self.optimizer.step()\n",
        "        self.scheduler.step()\n",
        "\n",
        "      elif mode in ['val', 'test']:\n",
        "        for y in targets.detach().cpu().numpy():\n",
        "          self.y.append(y)\n",
        "        for y_pred in torch.argmax(outputs, dim=1).detach().cpu().numpy():\n",
        "        # for y_pred in torch.argmax(outputs.logits, dim=1).detach().cpu().numpy():  \n",
        "          self.y_preds.append(y_pred)\n",
        "        pass\n",
        "\n",
        "      self.loss_sum += loss.item()\n",
        "      if batch_index % self.interval == 0:\n",
        "        print(\"batch: {}/{} loss: {}\".format(batch_index, len(dataloader), loss.item()))\n",
        "\n",
        "    self.loss_mean = self.loss_sum / len(dataloader)\n",
        "    self.result = pd.DataFrame({'pred': self.y_preds, 'label': self.y})\n",
        "    end_timestamp = time()\n",
        "    self.elapsed_time = end_timestamp = start_timestamp\n",
        "\n",
        "  def clear_history(self):\n",
        "    self.loss_sum = 0\n",
        "    self.loss_mean = 0\n",
        "    self.y_preds = list()\n",
        "    self.y = list()\n",
        "    self.elapsed_time = 0\n"
      ]
    },
    {
      "cell_type": "code",
      "execution_count": null,
      "metadata": {
        "id": "GQhKsfP6hTqH"
      },
      "outputs": [],
      "source": [
        "#custom_model.py\n",
        "class Classifier(nn.Module):\n",
        "  def __init__(self, mode):\n",
        "    super(Classifier, self).__init__()\n",
        "    self.roberta = AutoModel.from_pretrained('klue/roberta-base')\n",
        "    self.dropout = nn.Dropout(0.3)\n",
        "    self.out = nn.Linear(768 , 2)\n",
        "    self.mode = mode\n",
        "\n",
        "  def forward(self, input_ids, attention_mask, token_type_ids):\n",
        "    outputs = self.roberta(\n",
        "        input_ids,\n",
        "        attention_mask = attention_mask,\n",
        "        token_type_ids = token_type_ids\n",
        "    )\n",
        "    pooler_output = outputs[1]\n",
        "    if self.mode == 'train':\n",
        "      drop = self.dropout(pooler_output)\n",
        "      logits = self.out(drop)\n",
        "      return logits\n",
        "    else:\n",
        "      logits = self.out(pooler_output)\n",
        "      return logits"
      ]
    },
    {
      "cell_type": "code",
      "execution_count": null,
      "metadata": {
        "colab": {
          "base_uri": "https://localhost:8080/",
          "height": 340,
          "referenced_widgets": [
            "58f56bf724014b2980d570788d1708a4",
            "b989e0238f0848ecb605be57f4ba7eba",
            "532f03401b884d5c95a8f793b19744ad",
            "c80f07dc14124876abc329eff7dba7ed",
            "1b46139b50ae46f4ad739e70058fc320",
            "5d1196c93c8d4a5f8949bc59c20636f9",
            "abce94663e2f4c4795c2ffa4b0c575f3",
            "03d15f552d2d4281bebabcdeecc0de2b",
            "2165dc1b7d8b4665813f57084502284e",
            "0026fa4f19eb40cb91fa87d4ded62605",
            "b96b58e6313e4b79bd55d8b586bd4d2d",
            "91f1614d248b44909ab89c00526a0e7a",
            "18c48b8d233e4f6c957800b5e01c04a2",
            "1a44137743f44b189360dd22d76b23fc",
            "ac0827441b7e4b49b2a4ca7d89035b07",
            "82cbb9838a2b41f385f4623c23fb961c",
            "2dc28562c20643c099f5e535377a46e3",
            "013fd5aed14345e6958d45b889226d09",
            "cde93162dd4e4db99318337234a7336d",
            "e342b82a137f40c69a3496713779e432",
            "f8dbd53fd1f44699bda7a0a09d9cd295",
            "21adec5ecd40479f9765e4685b8546ff",
            "a9d05bc7ee2b466485a6605889f6feab",
            "1aedc5f124fe40db8bc12c4100703522",
            "8313b9998ab84395b7d5eb4084540ccd",
            "91cbe03a39244ca3ba4499e81a3bfd41",
            "53fbef1f11d641f98b397579da7659ca",
            "555bf2c3da2643d1862e039eebcf6ec6",
            "82cd8623bef64feb92644823a77a0b5e",
            "47bcadbe62664d84b21232c0da80d3b3",
            "c5791e4f0a1444bda9cede2076f884cb",
            "3f4d126035ee43be80eb998b801ef1d6",
            "6465560ceaa745f39a323a418f2101eb",
            "c947cbd01240400295c29912b4f575a0",
            "81b25c931e9444f6852ca603d15ae7b7",
            "025cfc8eb3f745a29691509edea7f6a2",
            "3f4ccc7c953a4d7e99de827933370ef0",
            "4e4d35a9ae6c46bd9d87098f29f421d3",
            "282fb8c1293f4065bb1ab921a21d12ab",
            "d9092e945a9e49508c964a687c1cfe3b",
            "cf55d57c36e3455bbf334b27cbbef751",
            "be5fffee280b4b8799661852f3069e21",
            "8553e6da92d44a95a2f1905d78e96038",
            "35f8e81030f44849b6615d78c453fb00",
            "13e4d93bfaf443ec85c6805f6d60e6b2",
            "a8ea925c39f84b9e88abd6b2c66f64e0",
            "cb913553a16b405bbb9f96499ee45c49",
            "968e52c9145e45e49f931678feb71d39",
            "9694b8cdd363443fb26732c9b0e8b29a",
            "663880f101e3490986db606614c97444",
            "0a366efc5b984fed974a866344b84d01",
            "60bdc03342bf486bbd8d9a4d87492b82",
            "b4126fd3f57a4710a9eecab327fc3e20",
            "36bec930e9f64e02993d58c4404b39f1",
            "4d97b22573a94147915d8cd3d51b4e07",
            "9cdcba2991c44ebeb2f8ac2e4fcf6f3c",
            "f8a5b32455cf4c5cbf17bd768c7ce5f8",
            "826b57b106cd4eb0a9906f2260e0cdfd",
            "1b152f1bba0d4864aa31d3dbe7f8c211",
            "6ae9a8528bb540da99c58252c3b7f89b",
            "610a5cff39fe4c5896579d9ceeba4781",
            "86c3bf1b9a324743b13b67d9bae8bbc0",
            "72bd0ef32ae24afc974a89d71b695269",
            "4c6cce103c444a3e95f500534f87bf28",
            "3646bc339b6b4aefa320ae9b038fe7c7",
            "2ea02e6339c7409384eb1345f03c2383"
          ]
        },
        "id": "cphQ8yZuraW7",
        "outputId": "32e5846a-ae8f-434e-e161-9b6c312dab22"
      },
      "outputs": [
        {
          "output_type": "display_data",
          "data": {
            "text/plain": [
              "Downloading tokenizer_config.json:   0%|          | 0.00/375 [00:00<?, ?B/s]"
            ],
            "application/vnd.jupyter.widget-view+json": {
              "version_major": 2,
              "version_minor": 0,
              "model_id": "58f56bf724014b2980d570788d1708a4"
            }
          },
          "metadata": {}
        },
        {
          "output_type": "display_data",
          "data": {
            "text/plain": [
              "Downloading vocab.txt:   0%|          | 0.00/243k [00:00<?, ?B/s]"
            ],
            "application/vnd.jupyter.widget-view+json": {
              "version_major": 2,
              "version_minor": 0,
              "model_id": "91f1614d248b44909ab89c00526a0e7a"
            }
          },
          "metadata": {}
        },
        {
          "output_type": "display_data",
          "data": {
            "text/plain": [
              "Downloading tokenizer.json:   0%|          | 0.00/734k [00:00<?, ?B/s]"
            ],
            "application/vnd.jupyter.widget-view+json": {
              "version_major": 2,
              "version_minor": 0,
              "model_id": "a9d05bc7ee2b466485a6605889f6feab"
            }
          },
          "metadata": {}
        },
        {
          "output_type": "display_data",
          "data": {
            "text/plain": [
              "Downloading special_tokens_map.json:   0%|          | 0.00/173 [00:00<?, ?B/s]"
            ],
            "application/vnd.jupyter.widget-view+json": {
              "version_major": 2,
              "version_minor": 0,
              "model_id": "c947cbd01240400295c29912b4f575a0"
            }
          },
          "metadata": {}
        },
        {
          "output_type": "display_data",
          "data": {
            "text/plain": [
              "Downloading config.json:   0%|          | 0.00/546 [00:00<?, ?B/s]"
            ],
            "application/vnd.jupyter.widget-view+json": {
              "version_major": 2,
              "version_minor": 0,
              "model_id": "13e4d93bfaf443ec85c6805f6d60e6b2"
            }
          },
          "metadata": {}
        },
        {
          "output_type": "display_data",
          "data": {
            "text/plain": [
              "Downloading pytorch_model.bin:   0%|          | 0.00/422M [00:00<?, ?B/s]"
            ],
            "application/vnd.jupyter.widget-view+json": {
              "version_major": 2,
              "version_minor": 0,
              "model_id": "9cdcba2991c44ebeb2f8ac2e4fcf6f3c"
            }
          },
          "metadata": {}
        },
        {
          "output_type": "stream",
          "name": "stderr",
          "text": [
            "Some weights of the model checkpoint at klue/roberta-base were not used when initializing RobertaModel: ['lm_head.layer_norm.weight', 'lm_head.decoder.bias', 'lm_head.dense.weight', 'lm_head.dense.bias', 'lm_head.decoder.weight', 'lm_head.layer_norm.bias', 'lm_head.bias']\n",
            "- This IS expected if you are initializing RobertaModel from the checkpoint of a model trained on another task or with another architecture (e.g. initializing a BertForSequenceClassification model from a BertForPreTraining model).\n",
            "- This IS NOT expected if you are initializing RobertaModel from the checkpoint of a model that you expect to be exactly identical (initializing a BertForSequenceClassification model from a BertForSequenceClassification model).\n",
            "Some weights of RobertaModel were not initialized from the model checkpoint at klue/roberta-base and are newly initialized: ['roberta.pooler.dense.weight', 'roberta.pooler.dense.bias']\n",
            "You should probably TRAIN this model on a down-stream task to be able to use it for predictions and inference.\n"
          ]
        },
        {
          "output_type": "stream",
          "name": "stdout",
          "text": [
            "Initiated early stopper, mode: min, best score: inf, patience: 10\n"
          ]
        }
      ],
      "source": [
        "# train.py\n",
        "import numpy as np\n",
        "import random\n",
        "import torch\n",
        "\n",
        "from torch.utils.data import DataLoader\n",
        "from transformers import get_scheduler\n",
        "\n",
        "torch.manual_seed(config['TRAINER']['seed'])\n",
        "torch.backends.cudnn.deterministic = True\n",
        "torch.backends.cudnn.benchmark = False\n",
        "np.random.seed(config['TRAINER']['seed'])\n",
        "random.seed(config['TRAINER']['seed'])\n",
        "\n",
        "device = torch.device('cuda' if torch.cuda.is_available() else 'cpu')\n",
        "# tokenizer_dict = {'BertTokenizer': BertTokenizer}\n",
        "# tokenizer_dict = {'ElectraTokenizer': ElectraTokenizer, }\n",
        "tokenizer_dict = {'AutoTokenizer': AutoTokenizer}\n",
        "tokenizer = tokenizer_dict[config['TRAINER']['tokenizer']].from_pretrained(config['TRAINER']['pretrained'])\n",
        "\n",
        "train_dataset = BERTDataset(train, tokenizer, max_seq_len=80, mode = 'train')\n",
        "valid_dataset = BERTDataset(valid, tokenizer, max_seq_len=80, mode = 'train')\n",
        "\n",
        "train_data_loader = DataLoader(train_dataset, \n",
        "                               batch_size=config['DATALOADER']['batch_size'],\n",
        "                               num_workers=config['DATALOADER']['num_workers'],\n",
        "                               shuffle=config['DATALOADER']['shuffle'])\n",
        "\n",
        "valid_data_loader = DataLoader(valid_dataset, \n",
        "                               batch_size=config['DATALOADER']['batch_size'],\n",
        "                               num_workers=config['DATALOADER']['num_workers'],\n",
        "                               shuffle=config['DATALOADER']['shuffle'])\n",
        "\n",
        "# model_name = config['TRAINER']['model']\n",
        "# model = get_model(model_name=model_name, pretrained=config['TRAINER']['pretrained']).to(device)\n",
        "model = Classifier(\"train\").to(device)\n",
        "\n",
        "optimizer = get_optimizer(optimizer_name=config['TRAINER']['optimizer'])\n",
        "optimizer = optimizer(params=model.parameters(),lr=config['TRAINER']['learning_rate'], weight_decay=config['TRAINER']['weight_decay'])\n",
        "\n",
        "num_training_steps = config['TRAINER']['n_epochs'] * len(train_data_loader)\n",
        "lr_scheduler = get_scheduler(\n",
        "    \"linear\",\n",
        "    optimizer=optimizer,\n",
        "    num_warmup_steps=0,\n",
        "    num_training_steps=num_training_steps,\n",
        ")\n",
        "\n",
        "loss = get_loss(loss_name=config['TRAINER']['loss'])\n",
        "\n",
        "early_stopper = EarlyStopper(patience=config['TRAINER']['early_stopping_patience'],\n",
        "                                mode=config['TRAINER']['early_stopping_mode'])\n",
        "\n",
        "trainer = Trainer(model=model,\n",
        "                      optimizer=optimizer,\n",
        "                      loss=loss,\n",
        "                      device=device,\n",
        "                      scheduler = lr_scheduler,\n",
        "                      tokenizer=tokenizer,)"
      ]
    },
    {
      "cell_type": "code",
      "execution_count": null,
      "metadata": {
        "id": "ZAuctW_HDqzy"
      },
      "outputs": [],
      "source": [
        "# Train\n",
        "from datetime import datetime, timezone, timedelta\n",
        "import os\n",
        "from torch.utils.tensorboard import SummaryWriter\n",
        "from sklearn.metrics import accuracy_score\n",
        "writer = SummaryWriter()\n",
        "\n",
        "PROJECT_DIR = \"/content/drive/MyDrive/\"\n",
        "kst = timezone(timedelta(hours=9))\n",
        "train_serial = datetime.now(tz=kst).strftime(\"%Y%m%d_%H%M%S\")\n",
        "RECORDER_DIR = os.path.join(PROJECT_DIR, 'results', 'train', train_serial)\n",
        "os.makedirs(RECORDER_DIR, exist_ok=True)\n",
        "\n",
        "n_epochs = config['TRAINER']['n_epochs']\n",
        "for epoch_index in range(n_epochs):\n",
        "  print(f\"Train {epoch_index}/{n_epochs}\")\n",
        "  trainer.train(dataloader=train_data_loader, epoch_index=epoch_index, tokenizer=tokenizer, mode='train')\n",
        "  print(\"train loss_mean {} / epoch {}\".format(trainer.loss_mean , epoch_index + 1))\n",
        "  print(\"train elapsed_time : \", trainer.elapsed_time)\n",
        "  writer.add_scalar(\"Loss/train\", trainer.loss_mean, epoch_index+1)\n",
        "  writer.close()\n",
        "  trainer.clear_history()\n",
        "\n",
        "  print(f\"Val {epoch_index}/{n_epochs}\")\n",
        "  trainer.train(dataloader=valid_data_loader, epoch_index=epoch_index, tokenizer=tokenizer, mode='val')\n",
        "  print(\"valid loss_mean {} / epoch {}\".format(trainer.loss_mean , epoch_index + 1))\n",
        "  print(\"valid elapsed_time : \", trainer.elapsed_time)\n",
        "  print(\"valid accuracy_score : \", accuracy_score(trainer.y, trainer.y_preds))\n",
        "  writer.add_scalar(\"Accuracy/valid\", accuracy_score(trainer.y, trainer.y_preds), epoch_index+1)\n",
        "  writer.add_scalar(\"Loss/valid\", trainer.loss_mean, epoch_index+1)\n",
        "  writer.close()\n",
        "\n",
        "\n",
        "  early_stopping_target = config['TRAINER']['early_stopping_target']\n",
        "  early_stopper.check_early_stopping(loss=trainer.loss_mean)\n",
        "\n",
        "  if early_stopper.patience_counter == 0:\n",
        "      check_point = {\n",
        "          'epoch': epoch_index + 1,\n",
        "          'model': model.state_dict(),\n",
        "          'optimizer': optimizer.state_dict(),\n",
        "      }\n",
        "      weight_path = os.path.join(RECORDER_DIR, 'model.pt')\n",
        "      torch.save(check_point, weight_path) \n",
        "      print(\"Recorder, epoch {} Model saved: {}\".format(epoch_index + 1, weight_path))\n",
        "      trainer.result.to_csv(os.path.join(RECORDER_DIR, 'valid_result.csv'), index=False)\n",
        "  \n",
        "  if early_stopper.stop == True:\n",
        "      print(f\"Early stopped, counter {early_stopper.patience_counter}/{config['TRAINER']['early_stopping_patience']}\")"
      ]
    },
    {
      "cell_type": "code",
      "source": [
        "train_one = train[train.target == 1]\n",
        "train_two = train[train.target == 2]\n",
        "train_four = train[train.target == 4]\n",
        "train_five = train[train.target == 5]\n",
        "\n",
        "train_one_two = pd.concat([train_one, train_two]).reset_index(drop=True)\n",
        "train_four_five = pd.concat([train_four, train_five]).reset_index(drop=True)\n",
        "\n",
        "valid_one = valid[valid.target == 1]\n",
        "valid_two = valid[valid.target == 2]\n",
        "valid_four = valid[valid.target == 4]\n",
        "valid_five = valid[valid.target == 5]\n",
        "\n",
        "valid_one_two = pd.concat([valid_one, valid_two]).reset_index(drop=True)\n",
        "valid_four_five = pd.concat([valid_four, valid_five]).reset_index(drop=True)\n",
        "\n",
        "label_map_dict = {\n",
        "    1: 0, \n",
        "    2: 1, \n",
        "    4: 0, \n",
        "    5: 1\n",
        "}\n",
        "\n",
        "train_one_two['target'].replace(label_map_dict, inplace=True)\n",
        "train_four_five['target'].replace(label_map_dict, inplace=True)\n",
        "valid_one_two['target'].replace(label_map_dict, inplace=True)\n",
        "valid_four_five['target'].replace(label_map_dict, inplace=True)"
      ],
      "metadata": {
        "id": "DItttxhvCDiJ"
      },
      "execution_count": null,
      "outputs": []
    },
    {
      "cell_type": "code",
      "source": [
        "print(len(train_one_two))\n",
        "print(len(train_four_five))\n",
        "print(len(valid_one_two))\n",
        "print(len(valid_four_five))"
      ],
      "metadata": {
        "colab": {
          "base_uri": "https://localhost:8080/"
        },
        "id": "DNurExMfDi8_",
        "outputId": "8b0aa57f-67e2-42a3-ea6d-caa3d36a9b76"
      },
      "execution_count": null,
      "outputs": [
        {
          "output_type": "stream",
          "name": "stdout",
          "text": [
            "10050\n",
            "14000\n",
            "3750\n",
            "3750\n"
          ]
        }
      ]
    },
    {
      "cell_type": "code",
      "source": [
        "train_onetwo_dataset = BERTDataset(train_one_two, tokenizer, max_seq_len=80, mode = 'train')\n",
        "valid_onetwo_dataset = BERTDataset(valid_one_two, tokenizer, max_seq_len=80, mode = 'train')\n",
        "train_fourfive_dataset = BERTDataset(train_four_five, tokenizer, max_seq_len=80, mode = 'train')\n",
        "valid_fourfive_dataset = BERTDataset(valid_four_five, tokenizer, max_seq_len=80, mode = 'train')\n",
        "\n",
        "train1_data_loader = DataLoader(train_onetwo_dataset, \n",
        "                               batch_size=config['DATALOADER']['batch_size'],\n",
        "                               num_workers=config['DATALOADER']['num_workers'],\n",
        "                               shuffle=config['DATALOADER']['shuffle'])\n",
        "\n",
        "valid1_data_loader = DataLoader(valid_onetwo_dataset, \n",
        "                               batch_size=config['DATALOADER']['batch_size'],\n",
        "                               num_workers=config['DATALOADER']['num_workers'],\n",
        "                               shuffle=config['DATALOADER']['shuffle'])\n",
        "\n",
        "train2_data_loader = DataLoader(train_fourfive_dataset, \n",
        "                               batch_size=config['DATALOADER']['batch_size'],\n",
        "                               num_workers=config['DATALOADER']['num_workers'],\n",
        "                               shuffle=config['DATALOADER']['shuffle'])\n",
        "\n",
        "valid2_data_loader = DataLoader(valid_fourfive_dataset, \n",
        "                               batch_size=config['DATALOADER']['batch_size'],\n",
        "                               num_workers=config['DATALOADER']['num_workers'],\n",
        "                               shuffle=config['DATALOADER']['shuffle'])"
      ],
      "metadata": {
        "id": "hTKEE6U1Dxxc"
      },
      "execution_count": null,
      "outputs": []
    },
    {
      "cell_type": "code",
      "source": [
        "model = Classifier(\"train\").to(device)\n",
        "optimizer = get_optimizer(optimizer_name=config['TRAINER']['optimizer'])\n",
        "optimizer = optimizer(params=model.parameters(),lr=config['TRAINER']['learning_rate'], weight_decay=config['TRAINER']['weight_decay'])\n",
        "\n",
        "num_training_steps = config['TRAINER']['n_epochs'] * len(train_data_loader)\n",
        "lr_scheduler = get_scheduler(\n",
        "    \"linear\",\n",
        "    optimizer=optimizer,\n",
        "    num_warmup_steps=0,\n",
        "    num_training_steps=num_training_steps,\n",
        ")\n",
        "\n",
        "loss = get_loss(loss_name=config['TRAINER']['loss'])\n",
        "\n",
        "early_stopper = EarlyStopper(patience=config['TRAINER']['early_stopping_patience'],\n",
        "                                mode=config['TRAINER']['early_stopping_mode'])\n",
        "trainer = Trainer(model=model,\n",
        "                      optimizer=optimizer,\n",
        "                      loss=loss,\n",
        "                      device=device,\n",
        "                      scheduler = lr_scheduler,\n",
        "                      tokenizer=tokenizer,)"
      ],
      "metadata": {
        "colab": {
          "base_uri": "https://localhost:8080/"
        },
        "id": "lB7emRkQEWvM",
        "outputId": "cb6a4ae4-622d-493d-a832-e23de14cd9cd"
      },
      "execution_count": null,
      "outputs": [
        {
          "output_type": "stream",
          "name": "stderr",
          "text": [
            "Some weights of the model checkpoint at klue/roberta-base were not used when initializing RobertaModel: ['lm_head.layer_norm.weight', 'lm_head.decoder.bias', 'lm_head.dense.weight', 'lm_head.dense.bias', 'lm_head.decoder.weight', 'lm_head.layer_norm.bias', 'lm_head.bias']\n",
            "- This IS expected if you are initializing RobertaModel from the checkpoint of a model trained on another task or with another architecture (e.g. initializing a BertForSequenceClassification model from a BertForPreTraining model).\n",
            "- This IS NOT expected if you are initializing RobertaModel from the checkpoint of a model that you expect to be exactly identical (initializing a BertForSequenceClassification model from a BertForSequenceClassification model).\n",
            "Some weights of RobertaModel were not initialized from the model checkpoint at klue/roberta-base and are newly initialized: ['roberta.pooler.dense.weight', 'roberta.pooler.dense.bias']\n",
            "You should probably TRAIN this model on a down-stream task to be able to use it for predictions and inference.\n"
          ]
        },
        {
          "output_type": "stream",
          "name": "stdout",
          "text": [
            "Initiated early stopper, mode: min, best score: inf, patience: 10\n"
          ]
        }
      ]
    },
    {
      "cell_type": "code",
      "source": [
        "# Train\n",
        "from datetime import datetime, timezone, timedelta\n",
        "import os\n",
        "from torch.utils.tensorboard import SummaryWriter\n",
        "from sklearn.metrics import accuracy_score\n",
        "writer = SummaryWriter()\n",
        "\n",
        "PROJECT_DIR = \"/content/drive/MyDrive/\"\n",
        "kst = timezone(timedelta(hours=9))\n",
        "train_serial = datetime.now(tz=kst).strftime(\"%Y%m%d_%H%M%S\")\n",
        "RECORDER_DIR = os.path.join(PROJECT_DIR, 'results', 'train', train_serial)\n",
        "os.makedirs(RECORDER_DIR, exist_ok=True)\n",
        "\n",
        "n_epochs = config['TRAINER']['n_epochs']\n",
        "for epoch_index in range(n_epochs):\n",
        "  print(f\"Train {epoch_index}/{n_epochs}\")\n",
        "  trainer.train(dataloader=train2_data_loader, epoch_index=epoch_index, tokenizer=tokenizer, mode='train')\n",
        "  print(\"train loss_mean {} / epoch {}\".format(trainer.loss_mean , epoch_index + 1))\n",
        "  print(\"train elapsed_time : \", trainer.elapsed_time)\n",
        "  writer.add_scalar(\"Loss/train\", trainer.loss_mean, epoch_index+1)\n",
        "  writer.close()\n",
        "  trainer.clear_history()\n",
        "\n",
        "  print(f\"Val {epoch_index}/{n_epochs}\")\n",
        "  trainer.train(dataloader=valid2_data_loader, epoch_index=epoch_index, tokenizer=tokenizer, mode='val')\n",
        "  print(\"valid loss_mean {} / epoch {}\".format(trainer.loss_mean , epoch_index + 1))\n",
        "  print(\"valid elapsed_time : \", trainer.elapsed_time)\n",
        "  print(\"valid accuracy_score : \", accuracy_score(trainer.y, trainer.y_preds))\n",
        "  writer.add_scalar(\"Accuracy/valid\", accuracy_score(trainer.y, trainer.y_preds), epoch_index+1)\n",
        "  writer.add_scalar(\"Loss/valid\", trainer.loss_mean, epoch_index+1)\n",
        "  writer.close()\n",
        "\n",
        "\n",
        "  early_stopping_target = config['TRAINER']['early_stopping_target']\n",
        "  early_stopper.check_early_stopping(loss=trainer.loss_mean)\n",
        "\n",
        "  if early_stopper.patience_counter == 0:\n",
        "      check_point = {\n",
        "          'epoch': epoch_index + 1,\n",
        "          'model': model.state_dict(),\n",
        "          'optimizer': optimizer.state_dict(),\n",
        "      }\n",
        "      weight_path = os.path.join(RECORDER_DIR, 'model.pt')\n",
        "      torch.save(check_point, weight_path) \n",
        "      print(\"Recorder, epoch {} Model saved: {}\".format(epoch_index + 1, weight_path))\n",
        "      trainer.result.to_csv(os.path.join(RECORDER_DIR, 'valid_result.csv'), index=False)\n",
        "  \n",
        "  if early_stopper.stop == True:\n",
        "      print(f\"Early stopped, counter {early_stopper.patience_counter}/{config['TRAINER']['early_stopping_patience']}\")"
      ],
      "metadata": {
        "colab": {
          "base_uri": "https://localhost:8080/",
          "height": 1000
        },
        "id": "zmeF2K4QEiLd",
        "outputId": "8fa8ce6d-99c0-44ae-8b23-425cb1c5d8f3"
      },
      "execution_count": null,
      "outputs": [
        {
          "output_type": "stream",
          "name": "stdout",
          "text": [
            "Train 0/20\n",
            "cuda\n"
          ]
        },
        {
          "output_type": "stream",
          "name": "stderr",
          "text": [
            "  0%|          | 1/438 [00:00<03:37,  2.01it/s]"
          ]
        },
        {
          "output_type": "stream",
          "name": "stdout",
          "text": [
            "batch: 0/438 loss: 1.2134243249893188\n"
          ]
        },
        {
          "output_type": "stream",
          "name": "stderr",
          "text": [
            " 34%|███▍      | 151/438 [00:41<01:18,  3.65it/s]"
          ]
        },
        {
          "output_type": "stream",
          "name": "stdout",
          "text": [
            "batch: 150/438 loss: 0.3682362735271454\n"
          ]
        },
        {
          "output_type": "stream",
          "name": "stderr",
          "text": [
            " 69%|██████▊   | 301/438 [01:22<00:37,  3.67it/s]"
          ]
        },
        {
          "output_type": "stream",
          "name": "stdout",
          "text": [
            "batch: 300/438 loss: 0.2705581784248352\n"
          ]
        },
        {
          "output_type": "stream",
          "name": "stderr",
          "text": [
            "100%|██████████| 438/438 [01:59<00:00,  3.66it/s]\n"
          ]
        },
        {
          "output_type": "stream",
          "name": "stdout",
          "text": [
            "train loss_mean 0.6623436474160517 / epoch 1\n",
            "train elapsed_time :  1659630800.814682\n",
            "Val 0/20\n",
            "cuda\n"
          ]
        },
        {
          "output_type": "stream",
          "name": "stderr",
          "text": [
            "  3%|▎         | 3/118 [00:00<00:14,  7.99it/s]"
          ]
        },
        {
          "output_type": "stream",
          "name": "stdout",
          "text": [
            "batch: 0/118 loss: 0.49810028076171875\n"
          ]
        },
        {
          "output_type": "stream",
          "name": "stderr",
          "text": [
            "100%|██████████| 118/118 [00:11<00:00, 10.64it/s]\n"
          ]
        },
        {
          "output_type": "stream",
          "name": "stdout",
          "text": [
            "valid loss_mean 0.5126772492618884 / epoch 1\n",
            "valid elapsed_time :  1659630920.4024658\n",
            "valid accuracy_score :  0.7757333333333334\n",
            "Early stopper, counter 0/10, best:0.6251894728106967 -> now:0.5126772492618884\n",
            "Set counter as 0\n",
            "Update best score as 0.5126772492618884\n",
            "Recorder, epoch 1 Model saved: /content/drive/MyDrive/results/train/20220805_013320/model.pt\n",
            "Train 1/20\n",
            "cuda\n"
          ]
        },
        {
          "output_type": "stream",
          "name": "stderr",
          "text": [
            "  0%|          | 1/438 [00:00<03:01,  2.40it/s]"
          ]
        },
        {
          "output_type": "stream",
          "name": "stdout",
          "text": [
            "batch: 0/438 loss: 0.3233519196510315\n"
          ]
        },
        {
          "output_type": "stream",
          "name": "stderr",
          "text": [
            " 34%|███▍      | 151/438 [00:41<01:18,  3.67it/s]"
          ]
        },
        {
          "output_type": "stream",
          "name": "stdout",
          "text": [
            "batch: 150/438 loss: 0.26756685972213745\n"
          ]
        },
        {
          "output_type": "stream",
          "name": "stderr",
          "text": [
            " 69%|██████▊   | 301/438 [01:22<00:37,  3.66it/s]"
          ]
        },
        {
          "output_type": "stream",
          "name": "stdout",
          "text": [
            "batch: 300/438 loss: 0.3717176616191864\n"
          ]
        },
        {
          "output_type": "stream",
          "name": "stderr",
          "text": [
            "100%|██████████| 438/438 [01:59<00:00,  3.66it/s]\n"
          ]
        },
        {
          "output_type": "stream",
          "name": "stdout",
          "text": [
            "train loss_mean 0.4702187289726244 / epoch 2\n",
            "train elapsed_time :  1659630935.7527676\n",
            "Val 1/20\n",
            "cuda\n"
          ]
        },
        {
          "output_type": "stream",
          "name": "stderr",
          "text": [
            "  3%|▎         | 3/118 [00:00<00:14,  8.12it/s]"
          ]
        },
        {
          "output_type": "stream",
          "name": "stdout",
          "text": [
            "batch: 0/118 loss: 0.5736215710639954\n"
          ]
        },
        {
          "output_type": "stream",
          "name": "stderr",
          "text": [
            "100%|██████████| 118/118 [00:11<00:00, 10.60it/s]\n"
          ]
        },
        {
          "output_type": "stream",
          "name": "stdout",
          "text": [
            "valid loss_mean 0.5586146279159239 / epoch 2\n",
            "valid elapsed_time :  1659631055.3818908\n",
            "valid accuracy_score :  0.7669333333333334\n",
            "Early stopper, counter 1/10, best:0.5126772492618884 -> now:0.5586146279159239\n",
            "Train 2/20\n",
            "cuda\n"
          ]
        },
        {
          "output_type": "stream",
          "name": "stderr",
          "text": [
            "  0%|          | 1/438 [00:00<02:50,  2.56it/s]"
          ]
        },
        {
          "output_type": "stream",
          "name": "stdout",
          "text": [
            "batch: 0/438 loss: 0.2195987105369568\n"
          ]
        },
        {
          "output_type": "stream",
          "name": "stderr",
          "text": [
            " 34%|███▍      | 151/438 [00:41<01:18,  3.67it/s]"
          ]
        },
        {
          "output_type": "stream",
          "name": "stdout",
          "text": [
            "batch: 150/438 loss: 0.32299062609672546\n"
          ]
        },
        {
          "output_type": "stream",
          "name": "stderr",
          "text": [
            " 69%|██████▊   | 301/438 [01:22<00:37,  3.68it/s]"
          ]
        },
        {
          "output_type": "stream",
          "name": "stdout",
          "text": [
            "batch: 300/438 loss: 0.26015180349349976\n"
          ]
        },
        {
          "output_type": "stream",
          "name": "stderr",
          "text": [
            "100%|██████████| 438/438 [01:59<00:00,  3.67it/s]\n"
          ]
        },
        {
          "output_type": "stream",
          "name": "stdout",
          "text": [
            "train loss_mean 0.431693732075087 / epoch 3\n",
            "train elapsed_time :  1659631066.5358613\n",
            "Val 2/20\n",
            "cuda\n"
          ]
        },
        {
          "output_type": "stream",
          "name": "stderr",
          "text": [
            "  3%|▎         | 3/118 [00:00<00:14,  8.08it/s]"
          ]
        },
        {
          "output_type": "stream",
          "name": "stdout",
          "text": [
            "batch: 0/118 loss: 0.4497286081314087\n"
          ]
        },
        {
          "output_type": "stream",
          "name": "stderr",
          "text": [
            "100%|██████████| 118/118 [00:11<00:00, 10.61it/s]\n"
          ]
        },
        {
          "output_type": "stream",
          "name": "stdout",
          "text": [
            "valid loss_mean 0.5239430455080534 / epoch 3\n",
            "valid elapsed_time :  1659631185.9874942\n",
            "valid accuracy_score :  0.7784\n",
            "Early stopper, counter 2/10, best:0.5126772492618884 -> now:0.5239430455080534\n",
            "Train 3/20\n",
            "cuda\n"
          ]
        },
        {
          "output_type": "stream",
          "name": "stderr",
          "text": [
            "  0%|          | 1/438 [00:00<02:52,  2.54it/s]"
          ]
        },
        {
          "output_type": "stream",
          "name": "stdout",
          "text": [
            "batch: 0/438 loss: 0.17534665763378143\n"
          ]
        },
        {
          "output_type": "stream",
          "name": "stderr",
          "text": [
            " 34%|███▍      | 151/438 [00:41<01:18,  3.67it/s]"
          ]
        },
        {
          "output_type": "stream",
          "name": "stdout",
          "text": [
            "batch: 150/438 loss: 0.22847044467926025\n"
          ]
        },
        {
          "output_type": "stream",
          "name": "stderr",
          "text": [
            " 69%|██████▊   | 301/438 [01:22<00:37,  3.67it/s]"
          ]
        },
        {
          "output_type": "stream",
          "name": "stdout",
          "text": [
            "batch: 300/438 loss: 0.16823643445968628\n"
          ]
        },
        {
          "output_type": "stream",
          "name": "stderr",
          "text": [
            "100%|██████████| 438/438 [01:59<00:00,  3.67it/s]\n"
          ]
        },
        {
          "output_type": "stream",
          "name": "stdout",
          "text": [
            "train loss_mean 0.3686446273384709 / epoch 4\n",
            "train elapsed_time :  1659631197.1300993\n",
            "Val 3/20\n",
            "cuda\n"
          ]
        },
        {
          "output_type": "stream",
          "name": "stderr",
          "text": [
            "  3%|▎         | 3/118 [00:00<00:14,  8.05it/s]"
          ]
        },
        {
          "output_type": "stream",
          "name": "stdout",
          "text": [
            "batch: 0/118 loss: 0.5303898453712463\n"
          ]
        },
        {
          "output_type": "stream",
          "name": "stderr",
          "text": [
            "100%|██████████| 118/118 [00:11<00:00, 10.64it/s]\n"
          ]
        },
        {
          "output_type": "stream",
          "name": "stdout",
          "text": [
            "valid loss_mean 0.5793731995558334 / epoch 4\n",
            "valid elapsed_time :  1659631316.6353369\n",
            "valid accuracy_score :  0.7605333333333333\n",
            "Early stopper, counter 3/10, best:0.5126772492618884 -> now:0.5793731995558334\n",
            "Train 4/20\n",
            "cuda\n"
          ]
        },
        {
          "output_type": "stream",
          "name": "stderr",
          "text": [
            "  0%|          | 1/438 [00:00<02:48,  2.59it/s]"
          ]
        },
        {
          "output_type": "stream",
          "name": "stdout",
          "text": [
            "batch: 0/438 loss: 0.14013363420963287\n"
          ]
        },
        {
          "output_type": "stream",
          "name": "stderr",
          "text": [
            " 34%|███▍      | 151/438 [00:41<01:18,  3.67it/s]"
          ]
        },
        {
          "output_type": "stream",
          "name": "stdout",
          "text": [
            "batch: 150/438 loss: 0.03605220839381218\n"
          ]
        },
        {
          "output_type": "stream",
          "name": "stderr",
          "text": [
            " 69%|██████▊   | 301/438 [01:22<00:37,  3.66it/s]"
          ]
        },
        {
          "output_type": "stream",
          "name": "stdout",
          "text": [
            "batch: 300/438 loss: 0.02049843966960907\n"
          ]
        },
        {
          "output_type": "stream",
          "name": "stderr",
          "text": [
            "100%|██████████| 438/438 [01:59<00:00,  3.67it/s]\n"
          ]
        },
        {
          "output_type": "stream",
          "name": "stdout",
          "text": [
            "train loss_mean 0.32600507039797905 / epoch 5\n",
            "train elapsed_time :  1659631327.7522383\n",
            "Val 4/20\n",
            "cuda\n"
          ]
        },
        {
          "output_type": "stream",
          "name": "stderr",
          "text": [
            "  3%|▎         | 3/118 [00:00<00:14,  8.13it/s]"
          ]
        },
        {
          "output_type": "stream",
          "name": "stdout",
          "text": [
            "batch: 0/118 loss: 0.39261916279792786\n"
          ]
        },
        {
          "output_type": "stream",
          "name": "stderr",
          "text": [
            "100%|██████████| 118/118 [00:11<00:00, 10.64it/s]\n"
          ]
        },
        {
          "output_type": "stream",
          "name": "stdout",
          "text": [
            "valid loss_mean 0.680396537785813 / epoch 5\n",
            "valid elapsed_time :  1659631447.23151\n",
            "valid accuracy_score :  0.7802666666666667\n",
            "Early stopper, counter 4/10, best:0.5126772492618884 -> now:0.680396537785813\n",
            "Train 5/20\n",
            "cuda\n"
          ]
        },
        {
          "output_type": "stream",
          "name": "stderr",
          "text": [
            "  0%|          | 1/438 [00:00<02:50,  2.56it/s]"
          ]
        },
        {
          "output_type": "stream",
          "name": "stdout",
          "text": [
            "batch: 0/438 loss: 0.02985994890332222\n"
          ]
        },
        {
          "output_type": "stream",
          "name": "stderr",
          "text": [
            " 34%|███▍      | 151/438 [00:41<01:18,  3.66it/s]"
          ]
        },
        {
          "output_type": "stream",
          "name": "stdout",
          "text": [
            "batch: 150/438 loss: 0.08862852305173874\n"
          ]
        },
        {
          "output_type": "stream",
          "name": "stderr",
          "text": [
            " 69%|██████▊   | 301/438 [01:22<00:37,  3.67it/s]"
          ]
        },
        {
          "output_type": "stream",
          "name": "stdout",
          "text": [
            "batch: 300/438 loss: 0.18469294905662537\n"
          ]
        },
        {
          "output_type": "stream",
          "name": "stderr",
          "text": [
            "100%|██████████| 438/438 [01:59<00:00,  3.67it/s]\n"
          ]
        },
        {
          "output_type": "stream",
          "name": "stdout",
          "text": [
            "train loss_mean 0.31378563765019657 / epoch 6\n",
            "train elapsed_time :  1659631458.3518655\n",
            "Val 5/20\n",
            "cuda\n"
          ]
        },
        {
          "output_type": "stream",
          "name": "stderr",
          "text": [
            "  2%|▏         | 2/118 [00:00<00:17,  6.81it/s]"
          ]
        },
        {
          "output_type": "stream",
          "name": "stdout",
          "text": [
            "batch: 0/118 loss: 0.7577027678489685\n"
          ]
        },
        {
          "output_type": "stream",
          "name": "stderr",
          "text": [
            "100%|██████████| 118/118 [00:11<00:00, 10.60it/s]\n"
          ]
        },
        {
          "output_type": "stream",
          "name": "stdout",
          "text": [
            "valid loss_mean 0.7611844838928368 / epoch 6\n",
            "valid elapsed_time :  1659631577.846276\n",
            "valid accuracy_score :  0.7757333333333334\n",
            "Early stopper, counter 5/10, best:0.5126772492618884 -> now:0.7611844838928368\n",
            "Train 6/20\n",
            "cuda\n"
          ]
        },
        {
          "output_type": "stream",
          "name": "stderr",
          "text": [
            "  0%|          | 1/438 [00:00<02:53,  2.52it/s]"
          ]
        },
        {
          "output_type": "stream",
          "name": "stdout",
          "text": [
            "batch: 0/438 loss: 0.07606491446495056\n"
          ]
        },
        {
          "output_type": "stream",
          "name": "stderr",
          "text": [
            "  9%|▊         | 38/438 [00:10<01:53,  3.52it/s]\n"
          ]
        },
        {
          "output_type": "error",
          "ename": "KeyboardInterrupt",
          "evalue": "ignored",
          "traceback": [
            "\u001b[0;31m---------------------------------------------------------------------------\u001b[0m",
            "\u001b[0;31mKeyboardInterrupt\u001b[0m                         Traceback (most recent call last)",
            "\u001b[0;32m<ipython-input-36-6a3478543ced>\u001b[0m in \u001b[0;36m<module>\u001b[0;34m()\u001b[0m\n\u001b[1;32m     15\u001b[0m \u001b[0;32mfor\u001b[0m \u001b[0mepoch_index\u001b[0m \u001b[0;32min\u001b[0m \u001b[0mrange\u001b[0m\u001b[0;34m(\u001b[0m\u001b[0mn_epochs\u001b[0m\u001b[0;34m)\u001b[0m\u001b[0;34m:\u001b[0m\u001b[0;34m\u001b[0m\u001b[0;34m\u001b[0m\u001b[0m\n\u001b[1;32m     16\u001b[0m   \u001b[0mprint\u001b[0m\u001b[0;34m(\u001b[0m\u001b[0;34mf\"Train {epoch_index}/{n_epochs}\"\u001b[0m\u001b[0;34m)\u001b[0m\u001b[0;34m\u001b[0m\u001b[0;34m\u001b[0m\u001b[0m\n\u001b[0;32m---> 17\u001b[0;31m   \u001b[0mtrainer\u001b[0m\u001b[0;34m.\u001b[0m\u001b[0mtrain\u001b[0m\u001b[0;34m(\u001b[0m\u001b[0mdataloader\u001b[0m\u001b[0;34m=\u001b[0m\u001b[0mtrain2_data_loader\u001b[0m\u001b[0;34m,\u001b[0m \u001b[0mepoch_index\u001b[0m\u001b[0;34m=\u001b[0m\u001b[0mepoch_index\u001b[0m\u001b[0;34m,\u001b[0m \u001b[0mtokenizer\u001b[0m\u001b[0;34m=\u001b[0m\u001b[0mtokenizer\u001b[0m\u001b[0;34m,\u001b[0m \u001b[0mmode\u001b[0m\u001b[0;34m=\u001b[0m\u001b[0;34m'train'\u001b[0m\u001b[0;34m)\u001b[0m\u001b[0;34m\u001b[0m\u001b[0;34m\u001b[0m\u001b[0m\n\u001b[0m\u001b[1;32m     18\u001b[0m   \u001b[0mprint\u001b[0m\u001b[0;34m(\u001b[0m\u001b[0;34m\"train loss_mean {} / epoch {}\"\u001b[0m\u001b[0;34m.\u001b[0m\u001b[0mformat\u001b[0m\u001b[0;34m(\u001b[0m\u001b[0mtrainer\u001b[0m\u001b[0;34m.\u001b[0m\u001b[0mloss_mean\u001b[0m \u001b[0;34m,\u001b[0m \u001b[0mepoch_index\u001b[0m \u001b[0;34m+\u001b[0m \u001b[0;36m1\u001b[0m\u001b[0;34m)\u001b[0m\u001b[0;34m)\u001b[0m\u001b[0;34m\u001b[0m\u001b[0;34m\u001b[0m\u001b[0m\n\u001b[1;32m     19\u001b[0m   \u001b[0mprint\u001b[0m\u001b[0;34m(\u001b[0m\u001b[0;34m\"train elapsed_time : \"\u001b[0m\u001b[0;34m,\u001b[0m \u001b[0mtrainer\u001b[0m\u001b[0;34m.\u001b[0m\u001b[0melapsed_time\u001b[0m\u001b[0;34m)\u001b[0m\u001b[0;34m\u001b[0m\u001b[0;34m\u001b[0m\u001b[0m\n",
            "\u001b[0;32m<ipython-input-25-bbf548056d9b>\u001b[0m in \u001b[0;36mtrain\u001b[0;34m(self, mode, dataloader, tokenizer, epoch_index)\u001b[0m\n\u001b[1;32m     46\u001b[0m       \u001b[0;32mif\u001b[0m \u001b[0mmode\u001b[0m \u001b[0;34m==\u001b[0m \u001b[0;34m'train'\u001b[0m\u001b[0;34m:\u001b[0m\u001b[0;34m\u001b[0m\u001b[0;34m\u001b[0m\u001b[0m\n\u001b[1;32m     47\u001b[0m         \u001b[0mloss\u001b[0m\u001b[0;34m.\u001b[0m\u001b[0mbackward\u001b[0m\u001b[0;34m(\u001b[0m\u001b[0;34m)\u001b[0m\u001b[0;34m\u001b[0m\u001b[0;34m\u001b[0m\u001b[0m\n\u001b[0;32m---> 48\u001b[0;31m         \u001b[0mself\u001b[0m\u001b[0;34m.\u001b[0m\u001b[0moptimizer\u001b[0m\u001b[0;34m.\u001b[0m\u001b[0mstep\u001b[0m\u001b[0;34m(\u001b[0m\u001b[0;34m)\u001b[0m\u001b[0;34m\u001b[0m\u001b[0;34m\u001b[0m\u001b[0m\n\u001b[0m\u001b[1;32m     49\u001b[0m         \u001b[0mself\u001b[0m\u001b[0;34m.\u001b[0m\u001b[0mscheduler\u001b[0m\u001b[0;34m.\u001b[0m\u001b[0mstep\u001b[0m\u001b[0;34m(\u001b[0m\u001b[0;34m)\u001b[0m\u001b[0;34m\u001b[0m\u001b[0;34m\u001b[0m\u001b[0m\n\u001b[1;32m     50\u001b[0m \u001b[0;34m\u001b[0m\u001b[0m\n",
            "\u001b[0;32m/usr/local/lib/python3.7/dist-packages/torch/optim/lr_scheduler.py\u001b[0m in \u001b[0;36mwrapper\u001b[0;34m(*args, **kwargs)\u001b[0m\n\u001b[1;32m     63\u001b[0m                 \u001b[0minstance\u001b[0m\u001b[0;34m.\u001b[0m\u001b[0m_step_count\u001b[0m \u001b[0;34m+=\u001b[0m \u001b[0;36m1\u001b[0m\u001b[0;34m\u001b[0m\u001b[0;34m\u001b[0m\u001b[0m\n\u001b[1;32m     64\u001b[0m                 \u001b[0mwrapped\u001b[0m \u001b[0;34m=\u001b[0m \u001b[0mfunc\u001b[0m\u001b[0;34m.\u001b[0m\u001b[0m__get__\u001b[0m\u001b[0;34m(\u001b[0m\u001b[0minstance\u001b[0m\u001b[0;34m,\u001b[0m \u001b[0mcls\u001b[0m\u001b[0;34m)\u001b[0m\u001b[0;34m\u001b[0m\u001b[0;34m\u001b[0m\u001b[0m\n\u001b[0;32m---> 65\u001b[0;31m                 \u001b[0;32mreturn\u001b[0m \u001b[0mwrapped\u001b[0m\u001b[0;34m(\u001b[0m\u001b[0;34m*\u001b[0m\u001b[0margs\u001b[0m\u001b[0;34m,\u001b[0m \u001b[0;34m**\u001b[0m\u001b[0mkwargs\u001b[0m\u001b[0;34m)\u001b[0m\u001b[0;34m\u001b[0m\u001b[0;34m\u001b[0m\u001b[0m\n\u001b[0m\u001b[1;32m     66\u001b[0m \u001b[0;34m\u001b[0m\u001b[0m\n\u001b[1;32m     67\u001b[0m             \u001b[0;31m# Note that the returned function here is no longer a bound method,\u001b[0m\u001b[0;34m\u001b[0m\u001b[0;34m\u001b[0m\u001b[0;34m\u001b[0m\u001b[0m\n",
            "\u001b[0;32m/usr/local/lib/python3.7/dist-packages/torch/optim/optimizer.py\u001b[0m in \u001b[0;36mwrapper\u001b[0;34m(*args, **kwargs)\u001b[0m\n\u001b[1;32m    107\u001b[0m                 \u001b[0mprofile_name\u001b[0m \u001b[0;34m=\u001b[0m \u001b[0;34m\"Optimizer.step#{}.step\"\u001b[0m\u001b[0;34m.\u001b[0m\u001b[0mformat\u001b[0m\u001b[0;34m(\u001b[0m\u001b[0mobj\u001b[0m\u001b[0;34m.\u001b[0m\u001b[0m__class__\u001b[0m\u001b[0;34m.\u001b[0m\u001b[0m__name__\u001b[0m\u001b[0;34m)\u001b[0m\u001b[0;34m\u001b[0m\u001b[0;34m\u001b[0m\u001b[0m\n\u001b[1;32m    108\u001b[0m                 \u001b[0;32mwith\u001b[0m \u001b[0mtorch\u001b[0m\u001b[0;34m.\u001b[0m\u001b[0mautograd\u001b[0m\u001b[0;34m.\u001b[0m\u001b[0mprofiler\u001b[0m\u001b[0;34m.\u001b[0m\u001b[0mrecord_function\u001b[0m\u001b[0;34m(\u001b[0m\u001b[0mprofile_name\u001b[0m\u001b[0;34m)\u001b[0m\u001b[0;34m:\u001b[0m\u001b[0;34m\u001b[0m\u001b[0;34m\u001b[0m\u001b[0m\n\u001b[0;32m--> 109\u001b[0;31m                     \u001b[0;32mreturn\u001b[0m \u001b[0mfunc\u001b[0m\u001b[0;34m(\u001b[0m\u001b[0;34m*\u001b[0m\u001b[0margs\u001b[0m\u001b[0;34m,\u001b[0m \u001b[0;34m**\u001b[0m\u001b[0mkwargs\u001b[0m\u001b[0;34m)\u001b[0m\u001b[0;34m\u001b[0m\u001b[0;34m\u001b[0m\u001b[0m\n\u001b[0m\u001b[1;32m    110\u001b[0m             \u001b[0;32mreturn\u001b[0m \u001b[0mwrapper\u001b[0m\u001b[0;34m\u001b[0m\u001b[0;34m\u001b[0m\u001b[0m\n\u001b[1;32m    111\u001b[0m \u001b[0;34m\u001b[0m\u001b[0m\n",
            "\u001b[0;32m/usr/local/lib/python3.7/dist-packages/torch/autograd/grad_mode.py\u001b[0m in \u001b[0;36mdecorate_context\u001b[0;34m(*args, **kwargs)\u001b[0m\n\u001b[1;32m     25\u001b[0m         \u001b[0;32mdef\u001b[0m \u001b[0mdecorate_context\u001b[0m\u001b[0;34m(\u001b[0m\u001b[0;34m*\u001b[0m\u001b[0margs\u001b[0m\u001b[0;34m,\u001b[0m \u001b[0;34m**\u001b[0m\u001b[0mkwargs\u001b[0m\u001b[0;34m)\u001b[0m\u001b[0;34m:\u001b[0m\u001b[0;34m\u001b[0m\u001b[0;34m\u001b[0m\u001b[0m\n\u001b[1;32m     26\u001b[0m             \u001b[0;32mwith\u001b[0m \u001b[0mself\u001b[0m\u001b[0;34m.\u001b[0m\u001b[0mclone\u001b[0m\u001b[0;34m(\u001b[0m\u001b[0;34m)\u001b[0m\u001b[0;34m:\u001b[0m\u001b[0;34m\u001b[0m\u001b[0;34m\u001b[0m\u001b[0m\n\u001b[0;32m---> 27\u001b[0;31m                 \u001b[0;32mreturn\u001b[0m \u001b[0mfunc\u001b[0m\u001b[0;34m(\u001b[0m\u001b[0;34m*\u001b[0m\u001b[0margs\u001b[0m\u001b[0;34m,\u001b[0m \u001b[0;34m**\u001b[0m\u001b[0mkwargs\u001b[0m\u001b[0;34m)\u001b[0m\u001b[0;34m\u001b[0m\u001b[0;34m\u001b[0m\u001b[0m\n\u001b[0m\u001b[1;32m     28\u001b[0m         \u001b[0;32mreturn\u001b[0m \u001b[0mcast\u001b[0m\u001b[0;34m(\u001b[0m\u001b[0mF\u001b[0m\u001b[0;34m,\u001b[0m \u001b[0mdecorate_context\u001b[0m\u001b[0;34m)\u001b[0m\u001b[0;34m\u001b[0m\u001b[0;34m\u001b[0m\u001b[0m\n\u001b[1;32m     29\u001b[0m \u001b[0;34m\u001b[0m\u001b[0m\n",
            "\u001b[0;32m/usr/local/lib/python3.7/dist-packages/torch/optim/adamw.py\u001b[0m in \u001b[0;36mstep\u001b[0;34m(self, closure)\u001b[0m\n\u001b[1;32m    173\u001b[0m                   \u001b[0mmaximize\u001b[0m\u001b[0;34m=\u001b[0m\u001b[0mgroup\u001b[0m\u001b[0;34m[\u001b[0m\u001b[0;34m'maximize'\u001b[0m\u001b[0;34m]\u001b[0m\u001b[0;34m,\u001b[0m\u001b[0;34m\u001b[0m\u001b[0;34m\u001b[0m\u001b[0m\n\u001b[1;32m    174\u001b[0m                   \u001b[0mforeach\u001b[0m\u001b[0;34m=\u001b[0m\u001b[0mgroup\u001b[0m\u001b[0;34m[\u001b[0m\u001b[0;34m'foreach'\u001b[0m\u001b[0;34m]\u001b[0m\u001b[0;34m,\u001b[0m\u001b[0;34m\u001b[0m\u001b[0;34m\u001b[0m\u001b[0m\n\u001b[0;32m--> 175\u001b[0;31m                   capturable=group['capturable'])\n\u001b[0m\u001b[1;32m    176\u001b[0m \u001b[0;34m\u001b[0m\u001b[0m\n\u001b[1;32m    177\u001b[0m         \u001b[0;32mreturn\u001b[0m \u001b[0mloss\u001b[0m\u001b[0;34m\u001b[0m\u001b[0;34m\u001b[0m\u001b[0m\n",
            "\u001b[0;32m/usr/local/lib/python3.7/dist-packages/torch/optim/adamw.py\u001b[0m in \u001b[0;36madamw\u001b[0;34m(params, grads, exp_avgs, exp_avg_sqs, max_exp_avg_sqs, state_steps, foreach, capturable, amsgrad, beta1, beta2, lr, weight_decay, eps, maximize)\u001b[0m\n\u001b[1;32m    229\u001b[0m          \u001b[0meps\u001b[0m\u001b[0;34m=\u001b[0m\u001b[0meps\u001b[0m\u001b[0;34m,\u001b[0m\u001b[0;34m\u001b[0m\u001b[0;34m\u001b[0m\u001b[0m\n\u001b[1;32m    230\u001b[0m          \u001b[0mmaximize\u001b[0m\u001b[0;34m=\u001b[0m\u001b[0mmaximize\u001b[0m\u001b[0;34m,\u001b[0m\u001b[0;34m\u001b[0m\u001b[0;34m\u001b[0m\u001b[0m\n\u001b[0;32m--> 231\u001b[0;31m          capturable=capturable)\n\u001b[0m\u001b[1;32m    232\u001b[0m \u001b[0;34m\u001b[0m\u001b[0m\n\u001b[1;32m    233\u001b[0m \u001b[0;34m\u001b[0m\u001b[0m\n",
            "\u001b[0;32m/usr/local/lib/python3.7/dist-packages/torch/optim/adamw.py\u001b[0m in \u001b[0;36m_single_tensor_adamw\u001b[0;34m(params, grads, exp_avgs, exp_avg_sqs, max_exp_avg_sqs, state_steps, amsgrad, beta1, beta2, lr, weight_decay, eps, maximize, capturable)\u001b[0m\n\u001b[1;32m    311\u001b[0m                 \u001b[0mdenom\u001b[0m \u001b[0;34m=\u001b[0m \u001b[0;34m(\u001b[0m\u001b[0mexp_avg_sq\u001b[0m\u001b[0;34m.\u001b[0m\u001b[0msqrt\u001b[0m\u001b[0;34m(\u001b[0m\u001b[0;34m)\u001b[0m \u001b[0;34m/\u001b[0m \u001b[0mbias_correction2_sqrt\u001b[0m\u001b[0;34m)\u001b[0m\u001b[0;34m.\u001b[0m\u001b[0madd_\u001b[0m\u001b[0;34m(\u001b[0m\u001b[0meps\u001b[0m\u001b[0;34m)\u001b[0m\u001b[0;34m\u001b[0m\u001b[0;34m\u001b[0m\u001b[0m\n\u001b[1;32m    312\u001b[0m \u001b[0;34m\u001b[0m\u001b[0m\n\u001b[0;32m--> 313\u001b[0;31m             \u001b[0mparam\u001b[0m\u001b[0;34m.\u001b[0m\u001b[0maddcdiv_\u001b[0m\u001b[0;34m(\u001b[0m\u001b[0mexp_avg\u001b[0m\u001b[0;34m,\u001b[0m \u001b[0mdenom\u001b[0m\u001b[0;34m,\u001b[0m \u001b[0mvalue\u001b[0m\u001b[0;34m=\u001b[0m\u001b[0;34m-\u001b[0m\u001b[0mstep_size\u001b[0m\u001b[0;34m)\u001b[0m\u001b[0;34m\u001b[0m\u001b[0;34m\u001b[0m\u001b[0m\n\u001b[0m\u001b[1;32m    314\u001b[0m \u001b[0;34m\u001b[0m\u001b[0m\n\u001b[1;32m    315\u001b[0m \u001b[0;34m\u001b[0m\u001b[0m\n",
            "\u001b[0;31mKeyboardInterrupt\u001b[0m: "
          ]
        }
      ]
    },
    {
      "cell_type": "code",
      "execution_count": null,
      "metadata": {
        "colab": {
          "base_uri": "https://localhost:8080/",
          "height": 820
        },
        "id": "GJrRX3Oy4YFQ",
        "outputId": "62838b79-cad1-4909-d52f-6f7a336f512b"
      },
      "outputs": [],
      "source": [
        "%load_ext tensorboard\n",
        "%tensorboard --logdir=runs"
      ]
    },
    {
      "cell_type": "code",
      "source": [
        "# 긍부정 분류모델\n",
        "import pandas as pd\n",
        "import os\n",
        "test_dataset = BERTDataset(test_data, tokenizer, max_seq_len=80, mode = 'test')\n",
        "test_data_loader = DataLoader(test_dataset, \n",
        "                               batch_size=config['DATALOADER']['batch_size'],\n",
        "                               num_workers=config['DATALOADER']['num_workers'],\n",
        "                               shuffle=False)\n",
        "# model_name = config['TRAINER']['model']\n",
        "# model = get_model(model_name=model_name, pretrained=config['TRAINER']['pretrained']).to(device)\n",
        "model = Classifier(\"test\").to(device)\n",
        "checkpoint = torch.load(\"/content/drive/MyDrive/results/train/20220805_010723/model1.pt\")\n",
        "# checkpoint = torch.load(os.path.join(RECORDER_DIR, 'model.pt'))\n",
        "model.load_state_dict(checkpoint['model'])\n",
        "model.eval()\n",
        "\n",
        "y_pred = []\n",
        "for batch_index, batch in enumerate(tqdm(test_data_loader, leave=True)):\n",
        "  input_ids = batch['input_ids'].to(device)\n",
        "  attention_mask = batch['attention_mask'].to(device)\n",
        "  token_type_ids = batch['token_type_ids'].to(device)\n",
        "  outputs = model(input_ids, attention_mask=attention_mask, token_type_ids=token_type_ids)\n",
        "  for output in torch.argmax(outputs, dim=1).detach().cpu().numpy():\n",
        "    y_pred.append(output)\n",
        "\n",
        "test_data['target'] = y_pred"
      ],
      "metadata": {
        "colab": {
          "base_uri": "https://localhost:8080/"
        },
        "id": "0jIVfwrRLTaQ",
        "outputId": "e5c82958-850c-43fc-c024-2dfff6c9c208"
      },
      "execution_count": null,
      "outputs": [
        {
          "output_type": "stream",
          "name": "stderr",
          "text": [
            "Some weights of the model checkpoint at klue/roberta-base were not used when initializing RobertaModel: ['lm_head.layer_norm.weight', 'lm_head.decoder.bias', 'lm_head.dense.weight', 'lm_head.dense.bias', 'lm_head.decoder.weight', 'lm_head.layer_norm.bias', 'lm_head.bias']\n",
            "- This IS expected if you are initializing RobertaModel from the checkpoint of a model trained on another task or with another architecture (e.g. initializing a BertForSequenceClassification model from a BertForPreTraining model).\n",
            "- This IS NOT expected if you are initializing RobertaModel from the checkpoint of a model that you expect to be exactly identical (initializing a BertForSequenceClassification model from a BertForSequenceClassification model).\n",
            "Some weights of RobertaModel were not initialized from the model checkpoint at klue/roberta-base and are newly initialized: ['roberta.pooler.dense.weight', 'roberta.pooler.dense.bias']\n",
            "You should probably TRAIN this model on a down-stream task to be able to use it for predictions and inference.\n",
            "100%|██████████| 782/782 [01:10<00:00, 11.14it/s]\n"
          ]
        }
      ]
    },
    {
      "cell_type": "code",
      "source": [
        "test_data"
      ],
      "metadata": {
        "colab": {
          "base_uri": "https://localhost:8080/",
          "height": 423
        },
        "id": "ql91lbOhwoCX",
        "outputId": "f94f4402-cb39-4cd2-bc65-10b8084951ef"
      },
      "execution_count": null,
      "outputs": [
        {
          "output_type": "execute_result",
          "data": {
            "text/plain": [
              "          id                                            reviews  target\n",
              "0          0                                     채소가 약간 시들어 있어요       0\n",
              "1          1  발톱 두껍고 단단한 분들 써도 소용없어요 이 테이프 물렁거리고 힘이없어서 들어 올리...       0\n",
              "2          2                           부들부들 좋네요 입어보고 시원하면 또 살게요       1\n",
              "3          3      이런 1. 8 골드 주라니깐 파란개 오네 회사전화걸어도 받지도 않고 머하자는거임?       0\n",
              "4          4       검수도 없이 보내구 불량 배송비 5000원 청구하네요 완전별로 별하나도 아까워요       0\n",
              "...      ...                                                ...     ...\n",
              "24995  24995                                          사용해보니 좋아요       1\n",
              "24996  24996                  저렴한가격에. 질좋고. 핏좋고. 너무. 이쁘게. 입고다녀요.       1\n",
              "24997  24997  세트상품이라고 써있어서 그런줄 알고 구매했더니 단품이었네요 낚인 느낌도 들고 그러네...       0\n",
              "24998  24998                                      역시 로네펠트! 좋아요.       1\n",
              "24999  24999  데싱 디바 써보고 갠찮아서 비슷 한줄 알앗더니 완전 별로예요3000언 더주고 디바가...       0\n",
              "\n",
              "[25000 rows x 3 columns]"
            ],
            "text/html": [
              "\n",
              "  <div id=\"df-698b5cdf-dc0e-4d8d-9078-8ad06ee5ca32\">\n",
              "    <div class=\"colab-df-container\">\n",
              "      <div>\n",
              "<style scoped>\n",
              "    .dataframe tbody tr th:only-of-type {\n",
              "        vertical-align: middle;\n",
              "    }\n",
              "\n",
              "    .dataframe tbody tr th {\n",
              "        vertical-align: top;\n",
              "    }\n",
              "\n",
              "    .dataframe thead th {\n",
              "        text-align: right;\n",
              "    }\n",
              "</style>\n",
              "<table border=\"1\" class=\"dataframe\">\n",
              "  <thead>\n",
              "    <tr style=\"text-align: right;\">\n",
              "      <th></th>\n",
              "      <th>id</th>\n",
              "      <th>reviews</th>\n",
              "      <th>target</th>\n",
              "    </tr>\n",
              "  </thead>\n",
              "  <tbody>\n",
              "    <tr>\n",
              "      <th>0</th>\n",
              "      <td>0</td>\n",
              "      <td>채소가 약간 시들어 있어요</td>\n",
              "      <td>0</td>\n",
              "    </tr>\n",
              "    <tr>\n",
              "      <th>1</th>\n",
              "      <td>1</td>\n",
              "      <td>발톱 두껍고 단단한 분들 써도 소용없어요 이 테이프 물렁거리고 힘이없어서 들어 올리...</td>\n",
              "      <td>0</td>\n",
              "    </tr>\n",
              "    <tr>\n",
              "      <th>2</th>\n",
              "      <td>2</td>\n",
              "      <td>부들부들 좋네요 입어보고 시원하면 또 살게요</td>\n",
              "      <td>1</td>\n",
              "    </tr>\n",
              "    <tr>\n",
              "      <th>3</th>\n",
              "      <td>3</td>\n",
              "      <td>이런 1. 8 골드 주라니깐 파란개 오네 회사전화걸어도 받지도 않고 머하자는거임?</td>\n",
              "      <td>0</td>\n",
              "    </tr>\n",
              "    <tr>\n",
              "      <th>4</th>\n",
              "      <td>4</td>\n",
              "      <td>검수도 없이 보내구 불량 배송비 5000원 청구하네요 완전별로 별하나도 아까워요</td>\n",
              "      <td>0</td>\n",
              "    </tr>\n",
              "    <tr>\n",
              "      <th>...</th>\n",
              "      <td>...</td>\n",
              "      <td>...</td>\n",
              "      <td>...</td>\n",
              "    </tr>\n",
              "    <tr>\n",
              "      <th>24995</th>\n",
              "      <td>24995</td>\n",
              "      <td>사용해보니 좋아요</td>\n",
              "      <td>1</td>\n",
              "    </tr>\n",
              "    <tr>\n",
              "      <th>24996</th>\n",
              "      <td>24996</td>\n",
              "      <td>저렴한가격에. 질좋고. 핏좋고. 너무. 이쁘게. 입고다녀요.</td>\n",
              "      <td>1</td>\n",
              "    </tr>\n",
              "    <tr>\n",
              "      <th>24997</th>\n",
              "      <td>24997</td>\n",
              "      <td>세트상품이라고 써있어서 그런줄 알고 구매했더니 단품이었네요 낚인 느낌도 들고 그러네...</td>\n",
              "      <td>0</td>\n",
              "    </tr>\n",
              "    <tr>\n",
              "      <th>24998</th>\n",
              "      <td>24998</td>\n",
              "      <td>역시 로네펠트! 좋아요.</td>\n",
              "      <td>1</td>\n",
              "    </tr>\n",
              "    <tr>\n",
              "      <th>24999</th>\n",
              "      <td>24999</td>\n",
              "      <td>데싱 디바 써보고 갠찮아서 비슷 한줄 알앗더니 완전 별로예요3000언 더주고 디바가...</td>\n",
              "      <td>0</td>\n",
              "    </tr>\n",
              "  </tbody>\n",
              "</table>\n",
              "<p>25000 rows × 3 columns</p>\n",
              "</div>\n",
              "      <button class=\"colab-df-convert\" onclick=\"convertToInteractive('df-698b5cdf-dc0e-4d8d-9078-8ad06ee5ca32')\"\n",
              "              title=\"Convert this dataframe to an interactive table.\"\n",
              "              style=\"display:none;\">\n",
              "        \n",
              "  <svg xmlns=\"http://www.w3.org/2000/svg\" height=\"24px\"viewBox=\"0 0 24 24\"\n",
              "       width=\"24px\">\n",
              "    <path d=\"M0 0h24v24H0V0z\" fill=\"none\"/>\n",
              "    <path d=\"M18.56 5.44l.94 2.06.94-2.06 2.06-.94-2.06-.94-.94-2.06-.94 2.06-2.06.94zm-11 1L8.5 8.5l.94-2.06 2.06-.94-2.06-.94L8.5 2.5l-.94 2.06-2.06.94zm10 10l.94 2.06.94-2.06 2.06-.94-2.06-.94-.94-2.06-.94 2.06-2.06.94z\"/><path d=\"M17.41 7.96l-1.37-1.37c-.4-.4-.92-.59-1.43-.59-.52 0-1.04.2-1.43.59L10.3 9.45l-7.72 7.72c-.78.78-.78 2.05 0 2.83L4 21.41c.39.39.9.59 1.41.59.51 0 1.02-.2 1.41-.59l7.78-7.78 2.81-2.81c.8-.78.8-2.07 0-2.86zM5.41 20L4 18.59l7.72-7.72 1.47 1.35L5.41 20z\"/>\n",
              "  </svg>\n",
              "      </button>\n",
              "      \n",
              "  <style>\n",
              "    .colab-df-container {\n",
              "      display:flex;\n",
              "      flex-wrap:wrap;\n",
              "      gap: 12px;\n",
              "    }\n",
              "\n",
              "    .colab-df-convert {\n",
              "      background-color: #E8F0FE;\n",
              "      border: none;\n",
              "      border-radius: 50%;\n",
              "      cursor: pointer;\n",
              "      display: none;\n",
              "      fill: #1967D2;\n",
              "      height: 32px;\n",
              "      padding: 0 0 0 0;\n",
              "      width: 32px;\n",
              "    }\n",
              "\n",
              "    .colab-df-convert:hover {\n",
              "      background-color: #E2EBFA;\n",
              "      box-shadow: 0px 1px 2px rgba(60, 64, 67, 0.3), 0px 1px 3px 1px rgba(60, 64, 67, 0.15);\n",
              "      fill: #174EA6;\n",
              "    }\n",
              "\n",
              "    [theme=dark] .colab-df-convert {\n",
              "      background-color: #3B4455;\n",
              "      fill: #D2E3FC;\n",
              "    }\n",
              "\n",
              "    [theme=dark] .colab-df-convert:hover {\n",
              "      background-color: #434B5C;\n",
              "      box-shadow: 0px 1px 3px 1px rgba(0, 0, 0, 0.15);\n",
              "      filter: drop-shadow(0px 1px 2px rgba(0, 0, 0, 0.3));\n",
              "      fill: #FFFFFF;\n",
              "    }\n",
              "  </style>\n",
              "\n",
              "      <script>\n",
              "        const buttonEl =\n",
              "          document.querySelector('#df-698b5cdf-dc0e-4d8d-9078-8ad06ee5ca32 button.colab-df-convert');\n",
              "        buttonEl.style.display =\n",
              "          google.colab.kernel.accessAllowed ? 'block' : 'none';\n",
              "\n",
              "        async function convertToInteractive(key) {\n",
              "          const element = document.querySelector('#df-698b5cdf-dc0e-4d8d-9078-8ad06ee5ca32');\n",
              "          const dataTable =\n",
              "            await google.colab.kernel.invokeFunction('convertToInteractive',\n",
              "                                                     [key], {});\n",
              "          if (!dataTable) return;\n",
              "\n",
              "          const docLinkHtml = 'Like what you see? Visit the ' +\n",
              "            '<a target=\"_blank\" href=https://colab.research.google.com/notebooks/data_table.ipynb>data table notebook</a>'\n",
              "            + ' to learn more about interactive tables.';\n",
              "          element.innerHTML = '';\n",
              "          dataTable['output_type'] = 'display_data';\n",
              "          await google.colab.output.renderOutput(dataTable, element);\n",
              "          const docLink = document.createElement('div');\n",
              "          docLink.innerHTML = docLinkHtml;\n",
              "          element.appendChild(docLink);\n",
              "        }\n",
              "      </script>\n",
              "    </div>\n",
              "  </div>\n",
              "  "
            ]
          },
          "metadata": {},
          "execution_count": 38
        }
      ]
    },
    {
      "cell_type": "code",
      "source": [
        "test_data_neg = test_data[test_data.target == 0].reset_index(drop=True)\n",
        "test_data_pos = test_data[test_data.target == 1].reset_index(drop=True)\n",
        "\n",
        "test_dataset_pos = BERTDataset(test_data_pos, tokenizer, max_seq_len=80, mode = 'test')\n",
        "test_dataset_neg = BERTDataset(test_data_neg, tokenizer, max_seq_len=80, mode = 'test')\n",
        "test_data_pos_loader = DataLoader(test_dataset_pos, \n",
        "                               batch_size=config['DATALOADER']['batch_size'],\n",
        "                               num_workers=config['DATALOADER']['num_workers'],\n",
        "                               shuffle=False)\n",
        "test_data_neg_loader = DataLoader(test_dataset_neg, \n",
        "                               batch_size=config['DATALOADER']['batch_size'],\n",
        "                               num_workers=config['DATALOADER']['num_workers'],\n",
        "                               shuffle=False)"
      ],
      "metadata": {
        "id": "H2JnVAacMPHm"
      },
      "execution_count": null,
      "outputs": []
    },
    {
      "cell_type": "code",
      "source": [
        "model = Classifier(\"train\").to(device)\n",
        "optimizer = get_optimizer(optimizer_name=config['TRAINER']['optimizer'])\n",
        "optimizer = optimizer(params=model.parameters(),lr=config['TRAINER']['learning_rate'], weight_decay=config['TRAINER']['weight_decay'])\n",
        "\n",
        "num_training_steps = config['TRAINER']['n_epochs'] * len(train_data_loader)\n",
        "lr_scheduler = get_scheduler(\n",
        "    \"linear\",\n",
        "    optimizer=optimizer,\n",
        "    num_warmup_steps=0,\n",
        "    num_training_steps=num_training_steps,\n",
        ")\n",
        "\n",
        "loss = get_loss(loss_name=config['TRAINER']['loss'])\n",
        "\n",
        "early_stopper = EarlyStopper(patience=config['TRAINER']['early_stopping_patience'],\n",
        "                                mode=config['TRAINER']['early_stopping_mode'])\n",
        "trainer = Trainer(model=model,\n",
        "                      optimizer=optimizer,\n",
        "                      loss=loss,\n",
        "                      device=device,\n",
        "                      scheduler = lr_scheduler,\n",
        "                      tokenizer=tokenizer,)\n",
        "\n",
        "checkpoint = torch.load(\"/content/drive/MyDrive/results/train/20220805_012618/model2.pt\")\n",
        "# checkpoint = torch.load(os.path.join(RECORDER_DIR, 'model.pt'))\n",
        "model.load_state_dict(checkpoint['model'])\n",
        "model.eval()\n",
        "\n",
        "y_pred = []\n",
        "for batch_index, batch in enumerate(tqdm(test_data_pos_loader, leave=True)):\n",
        "  input_ids = batch['input_ids'].to(device)\n",
        "  attention_mask = batch['attention_mask'].to(device)\n",
        "  token_type_ids = batch['token_type_ids'].to(device)\n",
        "  outputs = model(input_ids, attention_mask=attention_mask, token_type_ids=token_type_ids)\n",
        "  for output in torch.argmax(outputs, dim=1).detach().cpu().numpy():\n",
        "    y_pred.append(output)\n",
        "\n",
        "test_data_pos['target2'] = y_pred"
      ],
      "metadata": {
        "colab": {
          "base_uri": "https://localhost:8080/"
        },
        "id": "Js5NjmdsN8nO",
        "outputId": "1514b5ed-2151-4112-ad70-43ea133aeb1f"
      },
      "execution_count": null,
      "outputs": [
        {
          "output_type": "stream",
          "name": "stderr",
          "text": [
            "Some weights of the model checkpoint at klue/roberta-base were not used when initializing RobertaModel: ['lm_head.layer_norm.weight', 'lm_head.decoder.bias', 'lm_head.dense.weight', 'lm_head.dense.bias', 'lm_head.decoder.weight', 'lm_head.layer_norm.bias', 'lm_head.bias']\n",
            "- This IS expected if you are initializing RobertaModel from the checkpoint of a model trained on another task or with another architecture (e.g. initializing a BertForSequenceClassification model from a BertForPreTraining model).\n",
            "- This IS NOT expected if you are initializing RobertaModel from the checkpoint of a model that you expect to be exactly identical (initializing a BertForSequenceClassification model from a BertForSequenceClassification model).\n",
            "Some weights of RobertaModel were not initialized from the model checkpoint at klue/roberta-base and are newly initialized: ['roberta.pooler.dense.weight', 'roberta.pooler.dense.bias']\n",
            "You should probably TRAIN this model on a down-stream task to be able to use it for predictions and inference.\n"
          ]
        },
        {
          "output_type": "stream",
          "name": "stdout",
          "text": [
            "Initiated early stopper, mode: min, best score: inf, patience: 10\n"
          ]
        },
        {
          "output_type": "stream",
          "name": "stderr",
          "text": [
            "100%|██████████| 396/396 [00:35<00:00, 11.15it/s]\n"
          ]
        }
      ]
    },
    {
      "cell_type": "code",
      "source": [
        "model = Classifier(\"train\").to(device)\n",
        "optimizer = get_optimizer(optimizer_name=config['TRAINER']['optimizer'])\n",
        "optimizer = optimizer(params=model.parameters(),lr=config['TRAINER']['learning_rate'], weight_decay=config['TRAINER']['weight_decay'])\n",
        "\n",
        "num_training_steps = config['TRAINER']['n_epochs'] * len(train_data_loader)\n",
        "lr_scheduler = get_scheduler(\n",
        "    \"linear\",\n",
        "    optimizer=optimizer,\n",
        "    num_warmup_steps=0,\n",
        "    num_training_steps=num_training_steps,\n",
        ")\n",
        "\n",
        "loss = get_loss(loss_name=config['TRAINER']['loss'])\n",
        "\n",
        "early_stopper = EarlyStopper(patience=config['TRAINER']['early_stopping_patience'],\n",
        "                                mode=config['TRAINER']['early_stopping_mode'])\n",
        "trainer = Trainer(model=model,\n",
        "                      optimizer=optimizer,\n",
        "                      loss=loss,\n",
        "                      device=device,\n",
        "                      scheduler = lr_scheduler,\n",
        "                      tokenizer=tokenizer,)\n",
        "\n",
        "checkpoint = torch.load(\"/content/drive/MyDrive/results/train/20220804_133730/model3.pt\")\n",
        "# checkpoint = torch.load(os.path.join(RECORDER_DIR, 'model.pt'))\n",
        "model.load_state_dict(checkpoint['model'])\n",
        "model.eval()\n",
        "\n",
        "y_pred = []\n",
        "for batch_index, batch in enumerate(tqdm(test_data_neg_loader, leave=True)):\n",
        "  input_ids = batch['input_ids'].to(device)\n",
        "  attention_mask = batch['attention_mask'].to(device)\n",
        "  token_type_ids = batch['token_type_ids'].to(device)\n",
        "  outputs = model(input_ids, attention_mask=attention_mask, token_type_ids=token_type_ids)\n",
        "  for output in torch.argmax(outputs, dim=1).detach().cpu().numpy():\n",
        "    y_pred.append(output)\n",
        "\n",
        "test_data_neg['target2'] = y_pred"
      ],
      "metadata": {
        "colab": {
          "base_uri": "https://localhost:8080/"
        },
        "id": "pzOxtEerP2qg",
        "outputId": "f6f8ffd4-914a-41ff-beae-648cb877da57"
      },
      "execution_count": null,
      "outputs": [
        {
          "output_type": "stream",
          "name": "stderr",
          "text": [
            "Some weights of the model checkpoint at klue/roberta-base were not used when initializing RobertaModel: ['lm_head.layer_norm.weight', 'lm_head.decoder.bias', 'lm_head.dense.weight', 'lm_head.dense.bias', 'lm_head.decoder.weight', 'lm_head.layer_norm.bias', 'lm_head.bias']\n",
            "- This IS expected if you are initializing RobertaModel from the checkpoint of a model trained on another task or with another architecture (e.g. initializing a BertForSequenceClassification model from a BertForPreTraining model).\n",
            "- This IS NOT expected if you are initializing RobertaModel from the checkpoint of a model that you expect to be exactly identical (initializing a BertForSequenceClassification model from a BertForSequenceClassification model).\n",
            "Some weights of RobertaModel were not initialized from the model checkpoint at klue/roberta-base and are newly initialized: ['roberta.pooler.dense.weight', 'roberta.pooler.dense.bias']\n",
            "You should probably TRAIN this model on a down-stream task to be able to use it for predictions and inference.\n"
          ]
        },
        {
          "output_type": "stream",
          "name": "stdout",
          "text": [
            "Initiated early stopper, mode: min, best score: inf, patience: 10\n"
          ]
        },
        {
          "output_type": "stream",
          "name": "stderr",
          "text": [
            "100%|██████████| 386/386 [00:35<00:00, 10.97it/s]\n"
          ]
        }
      ]
    },
    {
      "cell_type": "code",
      "source": [
        "test_data_neg.target2.value_counts()"
      ],
      "metadata": {
        "colab": {
          "base_uri": "https://localhost:8080/"
        },
        "id": "T3zCT2ZLT6r3",
        "outputId": "602f8817-4150-403d-81ef-fbbdfeb2c8cb"
      },
      "execution_count": null,
      "outputs": [
        {
          "output_type": "execute_result",
          "data": {
            "text/plain": [
              "1    7534\n",
              "0    4806\n",
              "Name: target2, dtype: int64"
            ]
          },
          "metadata": {},
          "execution_count": 49
        }
      ]
    },
    {
      "cell_type": "code",
      "source": [
        "neg_label_map_dict = {\n",
        "    0: 1, \n",
        "    1: 2\n",
        "}\n",
        "pos_label_map_dict = {\n",
        "    0: 4, \n",
        "    1: 5, \n",
        "}\n",
        "test_data_pos['target2'].replace(pos_label_map_dict, inplace=True)\n",
        "test_data_neg['target2'].replace(neg_label_map_dict, inplace=True)"
      ],
      "metadata": {
        "id": "NCWa5QEiRvCH"
      },
      "execution_count": null,
      "outputs": []
    },
    {
      "cell_type": "code",
      "source": [
        "train_result = pd.concat([test_data_neg, test_data_pos])"
      ],
      "metadata": {
        "id": "MLVPMKdLQkQm"
      },
      "execution_count": null,
      "outputs": []
    },
    {
      "cell_type": "code",
      "source": [
        "train_result = train_result.sort_values(by=['id']).reset_index(drop=True)"
      ],
      "metadata": {
        "id": "iknvKumAQ2ux"
      },
      "execution_count": null,
      "outputs": []
    },
    {
      "cell_type": "code",
      "source": [
        "train_result.target2.value_counts()"
      ],
      "metadata": {
        "colab": {
          "base_uri": "https://localhost:8080/"
        },
        "id": "tFYf6TwcSoCz",
        "outputId": "52740804-4327-4cd1-b61f-e74df4d89603"
      },
      "execution_count": null,
      "outputs": [
        {
          "output_type": "execute_result",
          "data": {
            "text/plain": [
              "5    12111\n",
              "2     7534\n",
              "1     4806\n",
              "4      549\n",
              "Name: target2, dtype: int64"
            ]
          },
          "metadata": {},
          "execution_count": 54
        }
      ]
    },
    {
      "cell_type": "code",
      "source": [
        "pred_df = pd.read_csv(sample_submission_path)\n",
        "pred_df['target'] = train_result['target2']"
      ],
      "metadata": {
        "id": "OvXYxalvRfYk"
      },
      "execution_count": null,
      "outputs": []
    },
    {
      "cell_type": "code",
      "source": [
        "pred_df.to_csv(\"/content/drive/MyDrive/results/prediction.csv\", index=False)"
      ],
      "metadata": {
        "id": "7VzxyoUMRKCK"
      },
      "execution_count": null,
      "outputs": []
    },
    {
      "cell_type": "code",
      "execution_count": null,
      "metadata": {
        "colab": {
          "base_uri": "https://localhost:8080/"
        },
        "id": "l40ojfOldNYe",
        "outputId": "1497e0d0-fb9e-4e7d-f8a9-6720ddb693d4"
      },
      "outputs": [
        {
          "name": "stderr",
          "output_type": "stream",
          "text": [
            "Some weights of the model checkpoint at klue/roberta-base were not used when initializing RobertaModel: ['lm_head.layer_norm.weight', 'lm_head.dense.bias', 'lm_head.decoder.weight', 'lm_head.bias', 'lm_head.decoder.bias', 'lm_head.dense.weight', 'lm_head.layer_norm.bias']\n",
            "- This IS expected if you are initializing RobertaModel from the checkpoint of a model trained on another task or with another architecture (e.g. initializing a BertForSequenceClassification model from a BertForPreTraining model).\n",
            "- This IS NOT expected if you are initializing RobertaModel from the checkpoint of a model that you expect to be exactly identical (initializing a BertForSequenceClassification model from a BertForSequenceClassification model).\n",
            "Some weights of RobertaModel were not initialized from the model checkpoint at klue/roberta-base and are newly initialized: ['roberta.pooler.dense.weight', 'roberta.pooler.dense.bias']\n",
            "You should probably TRAIN this model on a down-stream task to be able to use it for predictions and inference.\n",
            "100%|██████████| 782/782 [01:11<00:00, 10.89it/s]\n"
          ]
        }
      ],
      "source": [
        "# Predict\n",
        "import pandas as pd\n",
        "import os\n",
        "test_dataset = BERTDataset(test_data, tokenizer, max_seq_len=80, mode = 'test')\n",
        "test_data_loader = DataLoader(test_dataset, \n",
        "                               batch_size=config['DATALOADER']['batch_size'],\n",
        "                               num_workers=config['DATALOADER']['num_workers'],\n",
        "                               shuffle=False)\n",
        "# model_name = config['TRAINER']['model']\n",
        "# model = get_model(model_name=model_name, pretrained=config['TRAINER']['pretrained']).to(device)\n",
        "model = Classifier(\"test\").to(device)\n",
        "checkpoint = torch.load(\"/content/drive/MyDrive/results/train/20220803_023844/model.pt\")\n",
        "# checkpoint = torch.load(os.path.join(RECORDER_DIR, 'model.pt'))\n",
        "model.load_state_dict(checkpoint['model'])\n",
        "model.eval()\n",
        "pred_df = pd.read_csv(sample_submission_path)\n",
        "y_pred = []\n",
        "for batch_index, batch in enumerate(tqdm(test_data_loader, leave=True)):\n",
        "  input_ids = batch['input_ids'].to(device)\n",
        "  attention_mask = batch['attention_mask'].to(device)\n",
        "  token_type_ids = batch['token_type_ids'].to(device)\n",
        "  outputs = model(input_ids, attention_mask=attention_mask, token_type_ids=token_type_ids)\n",
        "  for output in torch.argmax(outputs, dim=1).detach().cpu().numpy():\n",
        "    y_pred.append(output)\n"
      ]
    },
    {
      "cell_type": "code",
      "execution_count": null,
      "metadata": {
        "id": "p6SOUa2BO_Zd"
      },
      "outputs": [],
      "source": [
        "pred_df['target'] = y_pred"
      ]
    },
    {
      "cell_type": "code",
      "execution_count": null,
      "metadata": {
        "id": "K3y4T12VMGxl"
      },
      "outputs": [],
      "source": [
        "label_map_dict = {\n",
        "    0: 1, \n",
        "    1: 2, \n",
        "    2: 4, \n",
        "    3: 5\n",
        "}\n",
        "pred_df['target'].replace(label_map_dict, inplace=True)\n",
        "# pred_df.to_csv(os.path.join(RECORDER_DIR, 'prediction.csv'), index=False)\n",
        "pred_df.to_csv(\"/content/drive/MyDrive/results/train/20220803_013642/prediction.csv\", index=False)"
      ]
    },
    {
      "cell_type": "code",
      "execution_count": null,
      "metadata": {
        "colab": {
          "base_uri": "https://localhost:8080/"
        },
        "id": "hPi5KxG5Wrpw",
        "outputId": "c0b6a190-f709-4afe-fcb1-c71a6a37ea14"
      },
      "outputs": [
        {
          "output_type": "execute_result",
          "data": {
            "text/plain": [
              "5    12111\n",
              "2     7534\n",
              "1     4806\n",
              "4      549\n",
              "Name: target, dtype: int64"
            ]
          },
          "metadata": {},
          "execution_count": 57
        }
      ],
      "source": [
        "pred_df['target'].value_counts()"
      ]
    },
    {
      "cell_type": "code",
      "execution_count": null,
      "metadata": {
        "colab": {
          "base_uri": "https://localhost:8080/",
          "height": 282
        },
        "id": "7K5McttHWuBj",
        "outputId": "c18b3d5a-8011-42d4-8642-5ca97a88e696"
      },
      "outputs": [
        {
          "output_type": "execute_result",
          "data": {
            "text/plain": [
              "<matplotlib.axes._subplots.AxesSubplot at 0x7f2dac036950>"
            ]
          },
          "metadata": {},
          "execution_count": 58
        },
        {
          "output_type": "display_data",
          "data": {
            "text/plain": [
              "<Figure size 432x288 with 1 Axes>"
            ],
            "image/png": "[encoded data removed]"
          },
          "metadata": {}
        }
      ],
      "source": [
        "pred_df['target'].value_counts().plot.pie(autopct='%0.2f%%',\n",
        "                                             labels=[5, 2, 1, 4],\n",
        "                                             title = 'label ratio')"
      ]
    },
    {
      "cell_type": "code",
      "execution_count": null,
      "metadata": {
        "id": "fSHhpG4NYTJe"
      },
      "outputs": [],
      "source": [
        "    "
      ]
    }
  ],
  "metadata": {
    "accelerator": "GPU",
    "colab": {
      "collapsed_sections": [],
      "machine_shape": "hm",
      "name": "리뷰분류2.ipynb",
      "provenance": [],
      "include_colab_link": true
    },
    "gpuClass": "standard",
    "kernelspec": {
      "display_name": "Python 3",
      "name": "python3"
    },
    "language_info": {
      "name": "python"
    },
    "widgets": {
      "application/vnd.jupyter.widget-state+json": {
        "58f56bf724014b2980d570788d1708a4": {
          "model_module": "@jupyter-widgets/controls",
          "model_name": "HBoxModel",
          "model_module_version": "1.5.0",
          "state": {
            "_dom_classes": [],
            "_model_module": "@jupyter-widgets/controls",
            "_model_module_version": "1.5.0",
            "_model_name": "HBoxModel",
            "_view_count": null,
            "_view_module": "@jupyter-widgets/controls",
            "_view_module_version": "1.5.0",
            "_view_name": "HBoxView",
            "box_style": "",
            "children": [
              "IPY_MODEL_b989e0238f0848ecb605be57f4ba7eba",
              "IPY_MODEL_532f03401b884d5c95a8f793b19744ad",
              "IPY_MODEL_c80f07dc14124876abc329eff7dba7ed"
            ],
            "layout": "IPY_MODEL_1b46139b50ae46f4ad739e70058fc320"
          }
        },
        "b989e0238f0848ecb605be57f4ba7eba": {
          "model_module": "@jupyter-widgets/controls",
          "model_name": "HTMLModel",
          "model_module_version": "1.5.0",
          "state": {
            "_dom_classes": [],
            "_model_module": "@jupyter-widgets/controls",
            "_model_module_version": "1.5.0",
            "_model_name": "HTMLModel",
            "_view_count": null,
            "_view_module": "@jupyter-widgets/controls",
            "_view_module_version": "1.5.0",
            "_view_name": "HTMLView",
            "description": "",
            "description_tooltip": null,
            "layout": "IPY_MODEL_5d1196c93c8d4a5f8949bc59c20636f9",
            "placeholder": "​",
            "style": "IPY_MODEL_abce94663e2f4c4795c2ffa4b0c575f3",
            "value": "Downloading tokenizer_config.json: 100%"
          }
        },
        "532f03401b884d5c95a8f793b19744ad": {
          "model_module": "@jupyter-widgets/controls",
          "model_name": "FloatProgressModel",
          "model_module_version": "1.5.0",
          "state": {
            "_dom_classes": [],
            "_model_module": "@jupyter-widgets/controls",
            "_model_module_version": "1.5.0",
            "_model_name": "FloatProgressModel",
            "_view_count": null,
            "_view_module": "@jupyter-widgets/controls",
            "_view_module_version": "1.5.0",
            "_view_name": "ProgressView",
            "bar_style": "success",
            "description": "",
            "description_tooltip": null,
            "layout": "IPY_MODEL_03d15f552d2d4281bebabcdeecc0de2b",
            "max": 375,
            "min": 0,
            "orientation": "horizontal",
            "style": "IPY_MODEL_2165dc1b7d8b4665813f57084502284e",
            "value": 375
          }
        },
        "c80f07dc14124876abc329eff7dba7ed": {
          "model_module": "@jupyter-widgets/controls",
          "model_name": "HTMLModel",
          "model_module_version": "1.5.0",
          "state": {
            "_dom_classes": [],
            "_model_module": "@jupyter-widgets/controls",
            "_model_module_version": "1.5.0",
            "_model_name": "HTMLModel",
            "_view_count": null,
            "_view_module": "@jupyter-widgets/controls",
            "_view_module_version": "1.5.0",
            "_view_name": "HTMLView",
            "description": "",
            "description_tooltip": null,
            "layout": "IPY_MODEL_0026fa4f19eb40cb91fa87d4ded62605",
            "placeholder": "​",
            "style": "IPY_MODEL_b96b58e6313e4b79bd55d8b586bd4d2d",
            "value": " 375/375 [00:00&lt;00:00, 10.3kB/s]"
          }
        },
        "1b46139b50ae46f4ad739e70058fc320": {
          "model_module": "@jupyter-widgets/base",
          "model_name": "LayoutModel",
          "model_module_version": "1.2.0",
          "state": {
            "_model_module": "@jupyter-widgets/base",
            "_model_module_version": "1.2.0",
            "_model_name": "LayoutModel",
            "_view_count": null,
            "_view_module": "@jupyter-widgets/base",
            "_view_module_version": "1.2.0",
            "_view_name": "LayoutView",
            "align_content": null,
            "align_items": null,
            "align_self": null,
            "border": null,
            "bottom": null,
            "display": null,
            "flex": null,
            "flex_flow": null,
            "grid_area": null,
            "grid_auto_columns": null,
            "grid_auto_flow": null,
            "grid_auto_rows": null,
            "grid_column": null,
            "grid_gap": null,
            "grid_row": null,
            "grid_template_areas": null,
            "grid_template_columns": null,
            "grid_template_rows": null,
            "height": null,
            "justify_content": null,
            "justify_items": null,
            "left": null,
            "margin": null,
            "max_height": null,
            "max_width": null,
            "min_height": null,
            "min_width": null,
            "object_fit": null,
            "object_position": null,
            "order": null,
            "overflow": null,
            "overflow_x": null,
            "overflow_y": null,
            "padding": null,
            "right": null,
            "top": null,
            "visibility": null,
            "width": null
          }
        },
        "5d1196c93c8d4a5f8949bc59c20636f9": {
          "model_module": "@jupyter-widgets/base",
          "model_name": "LayoutModel",
          "model_module_version": "1.2.0",
          "state": {
            "_model_module": "@jupyter-widgets/base",
            "_model_module_version": "1.2.0",
            "_model_name": "LayoutModel",
            "_view_count": null,
            "_view_module": "@jupyter-widgets/base",
            "_view_module_version": "1.2.0",
            "_view_name": "LayoutView",
            "align_content": null,
            "align_items": null,
            "align_self": null,
            "border": null,
            "bottom": null,
            "display": null,
            "flex": null,
            "flex_flow": null,
            "grid_area": null,
            "grid_auto_columns": null,
            "grid_auto_flow": null,
            "grid_auto_rows": null,
            "grid_column": null,
            "grid_gap": null,
            "grid_row": null,
            "grid_template_areas": null,
            "grid_template_columns": null,
            "grid_template_rows": null,
            "height": null,
            "justify_content": null,
            "justify_items": null,
            "left": null,
            "margin": null,
            "max_height": null,
            "max_width": null,
            "min_height": null,
            "min_width": null,
            "object_fit": null,
            "object_position": null,
            "order": null,
            "overflow": null,
            "overflow_x": null,
            "overflow_y": null,
            "padding": null,
            "right": null,
            "top": null,
            "visibility": null,
            "width": null
          }
        },
        "abce94663e2f4c4795c2ffa4b0c575f3": {
          "model_module": "@jupyter-widgets/controls",
          "model_name": "DescriptionStyleModel",
          "model_module_version": "1.5.0",
          "state": {
            "_model_module": "@jupyter-widgets/controls",
            "_model_module_version": "1.5.0",
            "_model_name": "DescriptionStyleModel",
            "_view_count": null,
            "_view_module": "@jupyter-widgets/base",
            "_view_module_version": "1.2.0",
            "_view_name": "StyleView",
            "description_width": ""
          }
        },
        "03d15f552d2d4281bebabcdeecc0de2b": {
          "model_module": "@jupyter-widgets/base",
          "model_name": "LayoutModel",
          "model_module_version": "1.2.0",
          "state": {
            "_model_module": "@jupyter-widgets/base",
            "_model_module_version": "1.2.0",
            "_model_name": "LayoutModel",
            "_view_count": null,
            "_view_module": "@jupyter-widgets/base",
            "_view_module_version": "1.2.0",
            "_view_name": "LayoutView",
            "align_content": null,
            "align_items": null,
            "align_self": null,
            "border": null,
            "bottom": null,
            "display": null,
            "flex": null,
            "flex_flow": null,
            "grid_area": null,
            "grid_auto_columns": null,
            "grid_auto_flow": null,
            "grid_auto_rows": null,
            "grid_column": null,
            "grid_gap": null,
            "grid_row": null,
            "grid_template_areas": null,
            "grid_template_columns": null,
            "grid_template_rows": null,
            "height": null,
            "justify_content": null,
            "justify_items": null,
            "left": null,
            "margin": null,
            "max_height": null,
            "max_width": null,
            "min_height": null,
            "min_width": null,
            "object_fit": null,
            "object_position": null,
            "order": null,
            "overflow": null,
            "overflow_x": null,
            "overflow_y": null,
            "padding": null,
            "right": null,
            "top": null,
            "visibility": null,
            "width": null
          }
        },
        "2165dc1b7d8b4665813f57084502284e": {
          "model_module": "@jupyter-widgets/controls",
          "model_name": "ProgressStyleModel",
          "model_module_version": "1.5.0",
          "state": {
            "_model_module": "@jupyter-widgets/controls",
            "_model_module_version": "1.5.0",
            "_model_name": "ProgressStyleModel",
            "_view_count": null,
            "_view_module": "@jupyter-widgets/base",
            "_view_module_version": "1.2.0",
            "_view_name": "StyleView",
            "bar_color": null,
            "description_width": ""
          }
        },
        "0026fa4f19eb40cb91fa87d4ded62605": {
          "model_module": "@jupyter-widgets/base",
          "model_name": "LayoutModel",
          "model_module_version": "1.2.0",
          "state": {
            "_model_module": "@jupyter-widgets/base",
            "_model_module_version": "1.2.0",
            "_model_name": "LayoutModel",
            "_view_count": null,
            "_view_module": "@jupyter-widgets/base",
            "_view_module_version": "1.2.0",
            "_view_name": "LayoutView",
            "align_content": null,
            "align_items": null,
            "align_self": null,
            "border": null,
            "bottom": null,
            "display": null,
            "flex": null,
            "flex_flow": null,
            "grid_area": null,
            "grid_auto_columns": null,
            "grid_auto_flow": null,
            "grid_auto_rows": null,
            "grid_column": null,
            "grid_gap": null,
            "grid_row": null,
            "grid_template_areas": null,
            "grid_template_columns": null,
            "grid_template_rows": null,
            "height": null,
            "justify_content": null,
            "justify_items": null,
            "left": null,
            "margin": null,
            "max_height": null,
            "max_width": null,
            "min_height": null,
            "min_width": null,
            "object_fit": null,
            "object_position": null,
            "order": null,
            "overflow": null,
            "overflow_x": null,
            "overflow_y": null,
            "padding": null,
            "right": null,
            "top": null,
            "visibility": null,
            "width": null
          }
        },
        "b96b58e6313e4b79bd55d8b586bd4d2d": {
          "model_module": "@jupyter-widgets/controls",
          "model_name": "DescriptionStyleModel",
          "model_module_version": "1.5.0",
          "state": {
            "_model_module": "@jupyter-widgets/controls",
            "_model_module_version": "1.5.0",
            "_model_name": "DescriptionStyleModel",
            "_view_count": null,
            "_view_module": "@jupyter-widgets/base",
            "_view_module_version": "1.2.0",
            "_view_name": "StyleView",
            "description_width": ""
          }
        },
        "91f1614d248b44909ab89c00526a0e7a": {
          "model_module": "@jupyter-widgets/controls",
          "model_name": "HBoxModel",
          "model_module_version": "1.5.0",
          "state": {
            "_dom_classes": [],
            "_model_module": "@jupyter-widgets/controls",
            "_model_module_version": "1.5.0",
            "_model_name": "HBoxModel",
            "_view_count": null,
            "_view_module": "@jupyter-widgets/controls",
            "_view_module_version": "1.5.0",
            "_view_name": "HBoxView",
            "box_style": "",
            "children": [
              "IPY_MODEL_18c48b8d233e4f6c957800b5e01c04a2",
              "IPY_MODEL_1a44137743f44b189360dd22d76b23fc",
              "IPY_MODEL_ac0827441b7e4b49b2a4ca7d89035b07"
            ],
            "layout": "IPY_MODEL_82cbb9838a2b41f385f4623c23fb961c"
          }
        },
        "18c48b8d233e4f6c957800b5e01c04a2": {
          "model_module": "@jupyter-widgets/controls",
          "model_name": "HTMLModel",
          "model_module_version": "1.5.0",
          "state": {
            "_dom_classes": [],
            "_model_module": "@jupyter-widgets/controls",
            "_model_module_version": "1.5.0",
            "_model_name": "HTMLModel",
            "_view_count": null,
            "_view_module": "@jupyter-widgets/controls",
            "_view_module_version": "1.5.0",
            "_view_name": "HTMLView",
            "description": "",
            "description_tooltip": null,
            "layout": "IPY_MODEL_2dc28562c20643c099f5e535377a46e3",
            "placeholder": "​",
            "style": "IPY_MODEL_013fd5aed14345e6958d45b889226d09",
            "value": "Downloading vocab.txt: 100%"
          }
        },
        "1a44137743f44b189360dd22d76b23fc": {
          "model_module": "@jupyter-widgets/controls",
          "model_name": "FloatProgressModel",
          "model_module_version": "1.5.0",
          "state": {
            "_dom_classes": [],
            "_model_module": "@jupyter-widgets/controls",
            "_model_module_version": "1.5.0",
            "_model_name": "FloatProgressModel",
            "_view_count": null,
            "_view_module": "@jupyter-widgets/controls",
            "_view_module_version": "1.5.0",
            "_view_name": "ProgressView",
            "bar_style": "success",
            "description": "",
            "description_tooltip": null,
            "layout": "IPY_MODEL_cde93162dd4e4db99318337234a7336d",
            "max": 248477,
            "min": 0,
            "orientation": "horizontal",
            "style": "IPY_MODEL_e342b82a137f40c69a3496713779e432",
            "value": 248477
          }
        },
        "ac0827441b7e4b49b2a4ca7d89035b07": {
          "model_module": "@jupyter-widgets/controls",
          "model_name": "HTMLModel",
          "model_module_version": "1.5.0",
          "state": {
            "_dom_classes": [],
            "_model_module": "@jupyter-widgets/controls",
            "_model_module_version": "1.5.0",
            "_model_name": "HTMLModel",
            "_view_count": null,
            "_view_module": "@jupyter-widgets/controls",
            "_view_module_version": "1.5.0",
            "_view_name": "HTMLView",
            "description": "",
            "description_tooltip": null,
            "layout": "IPY_MODEL_f8dbd53fd1f44699bda7a0a09d9cd295",
            "placeholder": "​",
            "style": "IPY_MODEL_21adec5ecd40479f9765e4685b8546ff",
            "value": " 243k/243k [00:00&lt;00:00, 852kB/s]"
          }
        },
        "82cbb9838a2b41f385f4623c23fb961c": {
          "model_module": "@jupyter-widgets/base",
          "model_name": "LayoutModel",
          "model_module_version": "1.2.0",
          "state": {
            "_model_module": "@jupyter-widgets/base",
            "_model_module_version": "1.2.0",
            "_model_name": "LayoutModel",
            "_view_count": null,
            "_view_module": "@jupyter-widgets/base",
            "_view_module_version": "1.2.0",
            "_view_name": "LayoutView",
            "align_content": null,
            "align_items": null,
            "align_self": null,
            "border": null,
            "bottom": null,
            "display": null,
            "flex": null,
            "flex_flow": null,
            "grid_area": null,
            "grid_auto_columns": null,
            "grid_auto_flow": null,
            "grid_auto_rows": null,
            "grid_column": null,
            "grid_gap": null,
            "grid_row": null,
            "grid_template_areas": null,
            "grid_template_columns": null,
            "grid_template_rows": null,
            "height": null,
            "justify_content": null,
            "justify_items": null,
            "left": null,
            "margin": null,
            "max_height": null,
            "max_width": null,
            "min_height": null,
            "min_width": null,
            "object_fit": null,
            "object_position": null,
            "order": null,
            "overflow": null,
            "overflow_x": null,
            "overflow_y": null,
            "padding": null,
            "right": null,
            "top": null,
            "visibility": null,
            "width": null
          }
        },
        "2dc28562c20643c099f5e535377a46e3": {
          "model_module": "@jupyter-widgets/base",
          "model_name": "LayoutModel",
          "model_module_version": "1.2.0",
          "state": {
            "_model_module": "@jupyter-widgets/base",
            "_model_module_version": "1.2.0",
            "_model_name": "LayoutModel",
            "_view_count": null,
            "_view_module": "@jupyter-widgets/base",
            "_view_module_version": "1.2.0",
            "_view_name": "LayoutView",
            "align_content": null,
            "align_items": null,
            "align_self": null,
            "border": null,
            "bottom": null,
            "display": null,
            "flex": null,
            "flex_flow": null,
            "grid_area": null,
            "grid_auto_columns": null,
            "grid_auto_flow": null,
            "grid_auto_rows": null,
            "grid_column": null,
            "grid_gap": null,
            "grid_row": null,
            "grid_template_areas": null,
            "grid_template_columns": null,
            "grid_template_rows": null,
            "height": null,
            "justify_content": null,
            "justify_items": null,
            "left": null,
            "margin": null,
            "max_height": null,
            "max_width": null,
            "min_height": null,
            "min_width": null,
            "object_fit": null,
            "object_position": null,
            "order": null,
            "overflow": null,
            "overflow_x": null,
            "overflow_y": null,
            "padding": null,
            "right": null,
            "top": null,
            "visibility": null,
            "width": null
          }
        },
        "013fd5aed14345e6958d45b889226d09": {
          "model_module": "@jupyter-widgets/controls",
          "model_name": "DescriptionStyleModel",
          "model_module_version": "1.5.0",
          "state": {
            "_model_module": "@jupyter-widgets/controls",
            "_model_module_version": "1.5.0",
            "_model_name": "DescriptionStyleModel",
            "_view_count": null,
            "_view_module": "@jupyter-widgets/base",
            "_view_module_version": "1.2.0",
            "_view_name": "StyleView",
            "description_width": ""
          }
        },
        "cde93162dd4e4db99318337234a7336d": {
          "model_module": "@jupyter-widgets/base",
          "model_name": "LayoutModel",
          "model_module_version": "1.2.0",
          "state": {
            "_model_module": "@jupyter-widgets/base",
            "_model_module_version": "1.2.0",
            "_model_name": "LayoutModel",
            "_view_count": null,
            "_view_module": "@jupyter-widgets/base",
            "_view_module_version": "1.2.0",
            "_view_name": "LayoutView",
            "align_content": null,
            "align_items": null,
            "align_self": null,
            "border": null,
            "bottom": null,
            "display": null,
            "flex": null,
            "flex_flow": null,
            "grid_area": null,
            "grid_auto_columns": null,
            "grid_auto_flow": null,
            "grid_auto_rows": null,
            "grid_column": null,
            "grid_gap": null,
            "grid_row": null,
            "grid_template_areas": null,
            "grid_template_columns": null,
            "grid_template_rows": null,
            "height": null,
            "justify_content": null,
            "justify_items": null,
            "left": null,
            "margin": null,
            "max_height": null,
            "max_width": null,
            "min_height": null,
            "min_width": null,
            "object_fit": null,
            "object_position": null,
            "order": null,
            "overflow": null,
            "overflow_x": null,
            "overflow_y": null,
            "padding": null,
            "right": null,
            "top": null,
            "visibility": null,
            "width": null
          }
        },
        "e342b82a137f40c69a3496713779e432": {
          "model_module": "@jupyter-widgets/controls",
          "model_name": "ProgressStyleModel",
          "model_module_version": "1.5.0",
          "state": {
            "_model_module": "@jupyter-widgets/controls",
            "_model_module_version": "1.5.0",
            "_model_name": "ProgressStyleModel",
            "_view_count": null,
            "_view_module": "@jupyter-widgets/base",
            "_view_module_version": "1.2.0",
            "_view_name": "StyleView",
            "bar_color": null,
            "description_width": ""
          }
        },
        "f8dbd53fd1f44699bda7a0a09d9cd295": {
          "model_module": "@jupyter-widgets/base",
          "model_name": "LayoutModel",
          "model_module_version": "1.2.0",
          "state": {
            "_model_module": "@jupyter-widgets/base",
            "_model_module_version": "1.2.0",
            "_model_name": "LayoutModel",
            "_view_count": null,
            "_view_module": "@jupyter-widgets/base",
            "_view_module_version": "1.2.0",
            "_view_name": "LayoutView",
            "align_content": null,
            "align_items": null,
            "align_self": null,
            "border": null,
            "bottom": null,
            "display": null,
            "flex": null,
            "flex_flow": null,
            "grid_area": null,
            "grid_auto_columns": null,
            "grid_auto_flow": null,
            "grid_auto_rows": null,
            "grid_column": null,
            "grid_gap": null,
            "grid_row": null,
            "grid_template_areas": null,
            "grid_template_columns": null,
            "grid_template_rows": null,
            "height": null,
            "justify_content": null,
            "justify_items": null,
            "left": null,
            "margin": null,
            "max_height": null,
            "max_width": null,
            "min_height": null,
            "min_width": null,
            "object_fit": null,
            "object_position": null,
            "order": null,
            "overflow": null,
            "overflow_x": null,
            "overflow_y": null,
            "padding": null,
            "right": null,
            "top": null,
            "visibility": null,
            "width": null
          }
        },
        "21adec5ecd40479f9765e4685b8546ff": {
          "model_module": "@jupyter-widgets/controls",
          "model_name": "DescriptionStyleModel",
          "model_module_version": "1.5.0",
          "state": {
            "_model_module": "@jupyter-widgets/controls",
            "_model_module_version": "1.5.0",
            "_model_name": "DescriptionStyleModel",
            "_view_count": null,
            "_view_module": "@jupyter-widgets/base",
            "_view_module_version": "1.2.0",
            "_view_name": "StyleView",
            "description_width": ""
          }
        },
        "a9d05bc7ee2b466485a6605889f6feab": {
          "model_module": "@jupyter-widgets/controls",
          "model_name": "HBoxModel",
          "model_module_version": "1.5.0",
          "state": {
            "_dom_classes": [],
            "_model_module": "@jupyter-widgets/controls",
            "_model_module_version": "1.5.0",
            "_model_name": "HBoxModel",
            "_view_count": null,
            "_view_module": "@jupyter-widgets/controls",
            "_view_module_version": "1.5.0",
            "_view_name": "HBoxView",
            "box_style": "",
            "children": [
              "IPY_MODEL_1aedc5f124fe40db8bc12c4100703522",
              "IPY_MODEL_8313b9998ab84395b7d5eb4084540ccd",
              "IPY_MODEL_91cbe03a39244ca3ba4499e81a3bfd41"
            ],
            "layout": "IPY_MODEL_53fbef1f11d641f98b397579da7659ca"
          }
        },
        "1aedc5f124fe40db8bc12c4100703522": {
          "model_module": "@jupyter-widgets/controls",
          "model_name": "HTMLModel",
          "model_module_version": "1.5.0",
          "state": {
            "_dom_classes": [],
            "_model_module": "@jupyter-widgets/controls",
            "_model_module_version": "1.5.0",
            "_model_name": "HTMLModel",
            "_view_count": null,
            "_view_module": "@jupyter-widgets/controls",
            "_view_module_version": "1.5.0",
            "_view_name": "HTMLView",
            "description": "",
            "description_tooltip": null,
            "layout": "IPY_MODEL_555bf2c3da2643d1862e039eebcf6ec6",
            "placeholder": "​",
            "style": "IPY_MODEL_82cd8623bef64feb92644823a77a0b5e",
            "value": "Downloading tokenizer.json: 100%"
          }
        },
        "8313b9998ab84395b7d5eb4084540ccd": {
          "model_module": "@jupyter-widgets/controls",
          "model_name": "FloatProgressModel",
          "model_module_version": "1.5.0",
          "state": {
            "_dom_classes": [],
            "_model_module": "@jupyter-widgets/controls",
            "_model_module_version": "1.5.0",
            "_model_name": "FloatProgressModel",
            "_view_count": null,
            "_view_module": "@jupyter-widgets/controls",
            "_view_module_version": "1.5.0",
            "_view_name": "ProgressView",
            "bar_style": "success",
            "description": "",
            "description_tooltip": null,
            "layout": "IPY_MODEL_47bcadbe62664d84b21232c0da80d3b3",
            "max": 751504,
            "min": 0,
            "orientation": "horizontal",
            "style": "IPY_MODEL_c5791e4f0a1444bda9cede2076f884cb",
            "value": 751504
          }
        },
        "91cbe03a39244ca3ba4499e81a3bfd41": {
          "model_module": "@jupyter-widgets/controls",
          "model_name": "HTMLModel",
          "model_module_version": "1.5.0",
          "state": {
            "_dom_classes": [],
            "_model_module": "@jupyter-widgets/controls",
            "_model_module_version": "1.5.0",
            "_model_name": "HTMLModel",
            "_view_count": null,
            "_view_module": "@jupyter-widgets/controls",
            "_view_module_version": "1.5.0",
            "_view_name": "HTMLView",
            "description": "",
            "description_tooltip": null,
            "layout": "IPY_MODEL_3f4d126035ee43be80eb998b801ef1d6",
            "placeholder": "​",
            "style": "IPY_MODEL_6465560ceaa745f39a323a418f2101eb",
            "value": " 734k/734k [00:00&lt;00:00, 894kB/s]"
          }
        },
        "53fbef1f11d641f98b397579da7659ca": {
          "model_module": "@jupyter-widgets/base",
          "model_name": "LayoutModel",
          "model_module_version": "1.2.0",
          "state": {
            "_model_module": "@jupyter-widgets/base",
            "_model_module_version": "1.2.0",
            "_model_name": "LayoutModel",
            "_view_count": null,
            "_view_module": "@jupyter-widgets/base",
            "_view_module_version": "1.2.0",
            "_view_name": "LayoutView",
            "align_content": null,
            "align_items": null,
            "align_self": null,
            "border": null,
            "bottom": null,
            "display": null,
            "flex": null,
            "flex_flow": null,
            "grid_area": null,
            "grid_auto_columns": null,
            "grid_auto_flow": null,
            "grid_auto_rows": null,
            "grid_column": null,
            "grid_gap": null,
            "grid_row": null,
            "grid_template_areas": null,
            "grid_template_columns": null,
            "grid_template_rows": null,
            "height": null,
            "justify_content": null,
            "justify_items": null,
            "left": null,
            "margin": null,
            "max_height": null,
            "max_width": null,
            "min_height": null,
            "min_width": null,
            "object_fit": null,
            "object_position": null,
            "order": null,
            "overflow": null,
            "overflow_x": null,
            "overflow_y": null,
            "padding": null,
            "right": null,
            "top": null,
            "visibility": null,
            "width": null
          }
        },
        "555bf2c3da2643d1862e039eebcf6ec6": {
          "model_module": "@jupyter-widgets/base",
          "model_name": "LayoutModel",
          "model_module_version": "1.2.0",
          "state": {
            "_model_module": "@jupyter-widgets/base",
            "_model_module_version": "1.2.0",
            "_model_name": "LayoutModel",
            "_view_count": null,
            "_view_module": "@jupyter-widgets/base",
            "_view_module_version": "1.2.0",
            "_view_name": "LayoutView",
            "align_content": null,
            "align_items": null,
            "align_self": null,
            "border": null,
            "bottom": null,
            "display": null,
            "flex": null,
            "flex_flow": null,
            "grid_area": null,
            "grid_auto_columns": null,
            "grid_auto_flow": null,
            "grid_auto_rows": null,
            "grid_column": null,
            "grid_gap": null,
            "grid_row": null,
            "grid_template_areas": null,
            "grid_template_columns": null,
            "grid_template_rows": null,
            "height": null,
            "justify_content": null,
            "justify_items": null,
            "left": null,
            "margin": null,
            "max_height": null,
            "max_width": null,
            "min_height": null,
            "min_width": null,
            "object_fit": null,
            "object_position": null,
            "order": null,
            "overflow": null,
            "overflow_x": null,
            "overflow_y": null,
            "padding": null,
            "right": null,
            "top": null,
            "visibility": null,
            "width": null
          }
        },
        "82cd8623bef64feb92644823a77a0b5e": {
          "model_module": "@jupyter-widgets/controls",
          "model_name": "DescriptionStyleModel",
          "model_module_version": "1.5.0",
          "state": {
            "_model_module": "@jupyter-widgets/controls",
            "_model_module_version": "1.5.0",
            "_model_name": "DescriptionStyleModel",
            "_view_count": null,
            "_view_module": "@jupyter-widgets/base",
            "_view_module_version": "1.2.0",
            "_view_name": "StyleView",
            "description_width": ""
          }
        },
        "47bcadbe62664d84b21232c0da80d3b3": {
          "model_module": "@jupyter-widgets/base",
          "model_name": "LayoutModel",
          "model_module_version": "1.2.0",
          "state": {
            "_model_module": "@jupyter-widgets/base",
            "_model_module_version": "1.2.0",
            "_model_name": "LayoutModel",
            "_view_count": null,
            "_view_module": "@jupyter-widgets/base",
            "_view_module_version": "1.2.0",
            "_view_name": "LayoutView",
            "align_content": null,
            "align_items": null,
            "align_self": null,
            "border": null,
            "bottom": null,
            "display": null,
            "flex": null,
            "flex_flow": null,
            "grid_area": null,
            "grid_auto_columns": null,
            "grid_auto_flow": null,
            "grid_auto_rows": null,
            "grid_column": null,
            "grid_gap": null,
            "grid_row": null,
            "grid_template_areas": null,
            "grid_template_columns": null,
            "grid_template_rows": null,
            "height": null,
            "justify_content": null,
            "justify_items": null,
            "left": null,
            "margin": null,
            "max_height": null,
            "max_width": null,
            "min_height": null,
            "min_width": null,
            "object_fit": null,
            "object_position": null,
            "order": null,
            "overflow": null,
            "overflow_x": null,
            "overflow_y": null,
            "padding": null,
            "right": null,
            "top": null,
            "visibility": null,
            "width": null
          }
        },
        "c5791e4f0a1444bda9cede2076f884cb": {
          "model_module": "@jupyter-widgets/controls",
          "model_name": "ProgressStyleModel",
          "model_module_version": "1.5.0",
          "state": {
            "_model_module": "@jupyter-widgets/controls",
            "_model_module_version": "1.5.0",
            "_model_name": "ProgressStyleModel",
            "_view_count": null,
            "_view_module": "@jupyter-widgets/base",
            "_view_module_version": "1.2.0",
            "_view_name": "StyleView",
            "bar_color": null,
            "description_width": ""
          }
        },
        "3f4d126035ee43be80eb998b801ef1d6": {
          "model_module": "@jupyter-widgets/base",
          "model_name": "LayoutModel",
          "model_module_version": "1.2.0",
          "state": {
            "_model_module": "@jupyter-widgets/base",
            "_model_module_version": "1.2.0",
            "_model_name": "LayoutModel",
            "_view_count": null,
            "_view_module": "@jupyter-widgets/base",
            "_view_module_version": "1.2.0",
            "_view_name": "LayoutView",
            "align_content": null,
            "align_items": null,
            "align_self": null,
            "border": null,
            "bottom": null,
            "display": null,
            "flex": null,
            "flex_flow": null,
            "grid_area": null,
            "grid_auto_columns": null,
            "grid_auto_flow": null,
            "grid_auto_rows": null,
            "grid_column": null,
            "grid_gap": null,
            "grid_row": null,
            "grid_template_areas": null,
            "grid_template_columns": null,
            "grid_template_rows": null,
            "height": null,
            "justify_content": null,
            "justify_items": null,
            "left": null,
            "margin": null,
            "max_height": null,
            "max_width": null,
            "min_height": null,
            "min_width": null,
            "object_fit": null,
            "object_position": null,
            "order": null,
            "overflow": null,
            "overflow_x": null,
            "overflow_y": null,
            "padding": null,
            "right": null,
            "top": null,
            "visibility": null,
            "width": null
          }
        },
        "6465560ceaa745f39a323a418f2101eb": {
          "model_module": "@jupyter-widgets/controls",
          "model_name": "DescriptionStyleModel",
          "model_module_version": "1.5.0",
          "state": {
            "_model_module": "@jupyter-widgets/controls",
            "_model_module_version": "1.5.0",
            "_model_name": "DescriptionStyleModel",
            "_view_count": null,
            "_view_module": "@jupyter-widgets/base",
            "_view_module_version": "1.2.0",
            "_view_name": "StyleView",
            "description_width": ""
          }
        },
        "c947cbd01240400295c29912b4f575a0": {
          "model_module": "@jupyter-widgets/controls",
          "model_name": "HBoxModel",
          "model_module_version": "1.5.0",
          "state": {
            "_dom_classes": [],
            "_model_module": "@jupyter-widgets/controls",
            "_model_module_version": "1.5.0",
            "_model_name": "HBoxModel",
            "_view_count": null,
            "_view_module": "@jupyter-widgets/controls",
            "_view_module_version": "1.5.0",
            "_view_name": "HBoxView",
            "box_style": "",
            "children": [
              "IPY_MODEL_81b25c931e9444f6852ca603d15ae7b7",
              "IPY_MODEL_025cfc8eb3f745a29691509edea7f6a2",
              "IPY_MODEL_3f4ccc7c953a4d7e99de827933370ef0"
            ],
            "layout": "IPY_MODEL_4e4d35a9ae6c46bd9d87098f29f421d3"
          }
        },
        "81b25c931e9444f6852ca603d15ae7b7": {
          "model_module": "@jupyter-widgets/controls",
          "model_name": "HTMLModel",
          "model_module_version": "1.5.0",
          "state": {
            "_dom_classes": [],
            "_model_module": "@jupyter-widgets/controls",
            "_model_module_version": "1.5.0",
            "_model_name": "HTMLModel",
            "_view_count": null,
            "_view_module": "@jupyter-widgets/controls",
            "_view_module_version": "1.5.0",
            "_view_name": "HTMLView",
            "description": "",
            "description_tooltip": null,
            "layout": "IPY_MODEL_282fb8c1293f4065bb1ab921a21d12ab",
            "placeholder": "​",
            "style": "IPY_MODEL_d9092e945a9e49508c964a687c1cfe3b",
            "value": "Downloading special_tokens_map.json: 100%"
          }
        },
        "025cfc8eb3f745a29691509edea7f6a2": {
          "model_module": "@jupyter-widgets/controls",
          "model_name": "FloatProgressModel",
          "model_module_version": "1.5.0",
          "state": {
            "_dom_classes": [],
            "_model_module": "@jupyter-widgets/controls",
            "_model_module_version": "1.5.0",
            "_model_name": "FloatProgressModel",
            "_view_count": null,
            "_view_module": "@jupyter-widgets/controls",
            "_view_module_version": "1.5.0",
            "_view_name": "ProgressView",
            "bar_style": "success",
            "description": "",
            "description_tooltip": null,
            "layout": "IPY_MODEL_cf55d57c36e3455bbf334b27cbbef751",
            "max": 173,
            "min": 0,
            "orientation": "horizontal",
            "style": "IPY_MODEL_be5fffee280b4b8799661852f3069e21",
            "value": 173
          }
        },
        "3f4ccc7c953a4d7e99de827933370ef0": {
          "model_module": "@jupyter-widgets/controls",
          "model_name": "HTMLModel",
          "model_module_version": "1.5.0",
          "state": {
            "_dom_classes": [],
            "_model_module": "@jupyter-widgets/controls",
            "_model_module_version": "1.5.0",
            "_model_name": "HTMLModel",
            "_view_count": null,
            "_view_module": "@jupyter-widgets/controls",
            "_view_module_version": "1.5.0",
            "_view_name": "HTMLView",
            "description": "",
            "description_tooltip": null,
            "layout": "IPY_MODEL_8553e6da92d44a95a2f1905d78e96038",
            "placeholder": "​",
            "style": "IPY_MODEL_35f8e81030f44849b6615d78c453fb00",
            "value": " 173/173 [00:00&lt;00:00, 4.24kB/s]"
          }
        },
        "4e4d35a9ae6c46bd9d87098f29f421d3": {
          "model_module": "@jupyter-widgets/base",
          "model_name": "LayoutModel",
          "model_module_version": "1.2.0",
          "state": {
            "_model_module": "@jupyter-widgets/base",
            "_model_module_version": "1.2.0",
            "_model_name": "LayoutModel",
            "_view_count": null,
            "_view_module": "@jupyter-widgets/base",
            "_view_module_version": "1.2.0",
            "_view_name": "LayoutView",
            "align_content": null,
            "align_items": null,
            "align_self": null,
            "border": null,
            "bottom": null,
            "display": null,
            "flex": null,
            "flex_flow": null,
            "grid_area": null,
            "grid_auto_columns": null,
            "grid_auto_flow": null,
            "grid_auto_rows": null,
            "grid_column": null,
            "grid_gap": null,
            "grid_row": null,
            "grid_template_areas": null,
            "grid_template_columns": null,
            "grid_template_rows": null,
            "height": null,
            "justify_content": null,
            "justify_items": null,
            "left": null,
            "margin": null,
            "max_height": null,
            "max_width": null,
            "min_height": null,
            "min_width": null,
            "object_fit": null,
            "object_position": null,
            "order": null,
            "overflow": null,
            "overflow_x": null,
            "overflow_y": null,
            "padding": null,
            "right": null,
            "top": null,
            "visibility": null,
            "width": null
          }
        },
        "282fb8c1293f4065bb1ab921a21d12ab": {
          "model_module": "@jupyter-widgets/base",
          "model_name": "LayoutModel",
          "model_module_version": "1.2.0",
          "state": {
            "_model_module": "@jupyter-widgets/base",
            "_model_module_version": "1.2.0",
            "_model_name": "LayoutModel",
            "_view_count": null,
            "_view_module": "@jupyter-widgets/base",
            "_view_module_version": "1.2.0",
            "_view_name": "LayoutView",
            "align_content": null,
            "align_items": null,
            "align_self": null,
            "border": null,
            "bottom": null,
            "display": null,
            "flex": null,
            "flex_flow": null,
            "grid_area": null,
            "grid_auto_columns": null,
            "grid_auto_flow": null,
            "grid_auto_rows": null,
            "grid_column": null,
            "grid_gap": null,
            "grid_row": null,
            "grid_template_areas": null,
            "grid_template_columns": null,
            "grid_template_rows": null,
            "height": null,
            "justify_content": null,
            "justify_items": null,
            "left": null,
            "margin": null,
            "max_height": null,
            "max_width": null,
            "min_height": null,
            "min_width": null,
            "object_fit": null,
            "object_position": null,
            "order": null,
            "overflow": null,
            "overflow_x": null,
            "overflow_y": null,
            "padding": null,
            "right": null,
            "top": null,
            "visibility": null,
            "width": null
          }
        },
        "d9092e945a9e49508c964a687c1cfe3b": {
          "model_module": "@jupyter-widgets/controls",
          "model_name": "DescriptionStyleModel",
          "model_module_version": "1.5.0",
          "state": {
            "_model_module": "@jupyter-widgets/controls",
            "_model_module_version": "1.5.0",
            "_model_name": "DescriptionStyleModel",
            "_view_count": null,
            "_view_module": "@jupyter-widgets/base",
            "_view_module_version": "1.2.0",
            "_view_name": "StyleView",
            "description_width": ""
          }
        },
        "cf55d57c36e3455bbf334b27cbbef751": {
          "model_module": "@jupyter-widgets/base",
          "model_name": "LayoutModel",
          "model_module_version": "1.2.0",
          "state": {
            "_model_module": "@jupyter-widgets/base",
            "_model_module_version": "1.2.0",
            "_model_name": "LayoutModel",
            "_view_count": null,
            "_view_module": "@jupyter-widgets/base",
            "_view_module_version": "1.2.0",
            "_view_name": "LayoutView",
            "align_content": null,
            "align_items": null,
            "align_self": null,
            "border": null,
            "bottom": null,
            "display": null,
            "flex": null,
            "flex_flow": null,
            "grid_area": null,
            "grid_auto_columns": null,
            "grid_auto_flow": null,
            "grid_auto_rows": null,
            "grid_column": null,
            "grid_gap": null,
            "grid_row": null,
            "grid_template_areas": null,
            "grid_template_columns": null,
            "grid_template_rows": null,
            "height": null,
            "justify_content": null,
            "justify_items": null,
            "left": null,
            "margin": null,
            "max_height": null,
            "max_width": null,
            "min_height": null,
            "min_width": null,
            "object_fit": null,
            "object_position": null,
            "order": null,
            "overflow": null,
            "overflow_x": null,
            "overflow_y": null,
            "padding": null,
            "right": null,
            "top": null,
            "visibility": null,
            "width": null
          }
        },
        "be5fffee280b4b8799661852f3069e21": {
          "model_module": "@jupyter-widgets/controls",
          "model_name": "ProgressStyleModel",
          "model_module_version": "1.5.0",
          "state": {
            "_model_module": "@jupyter-widgets/controls",
            "_model_module_version": "1.5.0",
            "_model_name": "ProgressStyleModel",
            "_view_count": null,
            "_view_module": "@jupyter-widgets/base",
            "_view_module_version": "1.2.0",
            "_view_name": "StyleView",
            "bar_color": null,
            "description_width": ""
          }
        },
        "8553e6da92d44a95a2f1905d78e96038": {
          "model_module": "@jupyter-widgets/base",
          "model_name": "LayoutModel",
          "model_module_version": "1.2.0",
          "state": {
            "_model_module": "@jupyter-widgets/base",
            "_model_module_version": "1.2.0",
            "_model_name": "LayoutModel",
            "_view_count": null,
            "_view_module": "@jupyter-widgets/base",
            "_view_module_version": "1.2.0",
            "_view_name": "LayoutView",
            "align_content": null,
            "align_items": null,
            "align_self": null,
            "border": null,
            "bottom": null,
            "display": null,
            "flex": null,
            "flex_flow": null,
            "grid_area": null,
            "grid_auto_columns": null,
            "grid_auto_flow": null,
            "grid_auto_rows": null,
            "grid_column": null,
            "grid_gap": null,
            "grid_row": null,
            "grid_template_areas": null,
            "grid_template_columns": null,
            "grid_template_rows": null,
            "height": null,
            "justify_content": null,
            "justify_items": null,
            "left": null,
            "margin": null,
            "max_height": null,
            "max_width": null,
            "min_height": null,
            "min_width": null,
            "object_fit": null,
            "object_position": null,
            "order": null,
            "overflow": null,
            "overflow_x": null,
            "overflow_y": null,
            "padding": null,
            "right": null,
            "top": null,
            "visibility": null,
            "width": null
          }
        },
        "35f8e81030f44849b6615d78c453fb00": {
          "model_module": "@jupyter-widgets/controls",
          "model_name": "DescriptionStyleModel",
          "model_module_version": "1.5.0",
          "state": {
            "_model_module": "@jupyter-widgets/controls",
            "_model_module_version": "1.5.0",
            "_model_name": "DescriptionStyleModel",
            "_view_count": null,
            "_view_module": "@jupyter-widgets/base",
            "_view_module_version": "1.2.0",
            "_view_name": "StyleView",
            "description_width": ""
          }
        },
        "13e4d93bfaf443ec85c6805f6d60e6b2": {
          "model_module": "@jupyter-widgets/controls",
          "model_name": "HBoxModel",
          "model_module_version": "1.5.0",
          "state": {
            "_dom_classes": [],
            "_model_module": "@jupyter-widgets/controls",
            "_model_module_version": "1.5.0",
            "_model_name": "HBoxModel",
            "_view_count": null,
            "_view_module": "@jupyter-widgets/controls",
            "_view_module_version": "1.5.0",
            "_view_name": "HBoxView",
            "box_style": "",
            "children": [
              "IPY_MODEL_a8ea925c39f84b9e88abd6b2c66f64e0",
              "IPY_MODEL_cb913553a16b405bbb9f96499ee45c49",
              "IPY_MODEL_968e52c9145e45e49f931678feb71d39"
            ],
            "layout": "IPY_MODEL_9694b8cdd363443fb26732c9b0e8b29a"
          }
        },
        "a8ea925c39f84b9e88abd6b2c66f64e0": {
          "model_module": "@jupyter-widgets/controls",
          "model_name": "HTMLModel",
          "model_module_version": "1.5.0",
          "state": {
            "_dom_classes": [],
            "_model_module": "@jupyter-widgets/controls",
            "_model_module_version": "1.5.0",
            "_model_name": "HTMLModel",
            "_view_count": null,
            "_view_module": "@jupyter-widgets/controls",
            "_view_module_version": "1.5.0",
            "_view_name": "HTMLView",
            "description": "",
            "description_tooltip": null,
            "layout": "IPY_MODEL_663880f101e3490986db606614c97444",
            "placeholder": "​",
            "style": "IPY_MODEL_0a366efc5b984fed974a866344b84d01",
            "value": "Downloading config.json: 100%"
          }
        },
        "cb913553a16b405bbb9f96499ee45c49": {
          "model_module": "@jupyter-widgets/controls",
          "model_name": "FloatProgressModel",
          "model_module_version": "1.5.0",
          "state": {
            "_dom_classes": [],
            "_model_module": "@jupyter-widgets/controls",
            "_model_module_version": "1.5.0",
            "_model_name": "FloatProgressModel",
            "_view_count": null,
            "_view_module": "@jupyter-widgets/controls",
            "_view_module_version": "1.5.0",
            "_view_name": "ProgressView",
            "bar_style": "success",
            "description": "",
            "description_tooltip": null,
            "layout": "IPY_MODEL_60bdc03342bf486bbd8d9a4d87492b82",
            "max": 546,
            "min": 0,
            "orientation": "horizontal",
            "style": "IPY_MODEL_b4126fd3f57a4710a9eecab327fc3e20",
            "value": 546
          }
        },
        "968e52c9145e45e49f931678feb71d39": {
          "model_module": "@jupyter-widgets/controls",
          "model_name": "HTMLModel",
          "model_module_version": "1.5.0",
          "state": {
            "_dom_classes": [],
            "_model_module": "@jupyter-widgets/controls",
            "_model_module_version": "1.5.0",
            "_model_name": "HTMLModel",
            "_view_count": null,
            "_view_module": "@jupyter-widgets/controls",
            "_view_module_version": "1.5.0",
            "_view_name": "HTMLView",
            "description": "",
            "description_tooltip": null,
            "layout": "IPY_MODEL_36bec930e9f64e02993d58c4404b39f1",
            "placeholder": "​",
            "style": "IPY_MODEL_4d97b22573a94147915d8cd3d51b4e07",
            "value": " 546/546 [00:00&lt;00:00, 15.3kB/s]"
          }
        },
        "9694b8cdd363443fb26732c9b0e8b29a": {
          "model_module": "@jupyter-widgets/base",
          "model_name": "LayoutModel",
          "model_module_version": "1.2.0",
          "state": {
            "_model_module": "@jupyter-widgets/base",
            "_model_module_version": "1.2.0",
            "_model_name": "LayoutModel",
            "_view_count": null,
            "_view_module": "@jupyter-widgets/base",
            "_view_module_version": "1.2.0",
            "_view_name": "LayoutView",
            "align_content": null,
            "align_items": null,
            "align_self": null,
            "border": null,
            "bottom": null,
            "display": null,
            "flex": null,
            "flex_flow": null,
            "grid_area": null,
            "grid_auto_columns": null,
            "grid_auto_flow": null,
            "grid_auto_rows": null,
            "grid_column": null,
            "grid_gap": null,
            "grid_row": null,
            "grid_template_areas": null,
            "grid_template_columns": null,
            "grid_template_rows": null,
            "height": null,
            "justify_content": null,
            "justify_items": null,
            "left": null,
            "margin": null,
            "max_height": null,
            "max_width": null,
            "min_height": null,
            "min_width": null,
            "object_fit": null,
            "object_position": null,
            "order": null,
            "overflow": null,
            "overflow_x": null,
            "overflow_y": null,
            "padding": null,
            "right": null,
            "top": null,
            "visibility": null,
            "width": null
          }
        },
        "663880f101e3490986db606614c97444": {
          "model_module": "@jupyter-widgets/base",
          "model_name": "LayoutModel",
          "model_module_version": "1.2.0",
          "state": {
            "_model_module": "@jupyter-widgets/base",
            "_model_module_version": "1.2.0",
            "_model_name": "LayoutModel",
            "_view_count": null,
            "_view_module": "@jupyter-widgets/base",
            "_view_module_version": "1.2.0",
            "_view_name": "LayoutView",
            "align_content": null,
            "align_items": null,
            "align_self": null,
            "border": null,
            "bottom": null,
            "display": null,
            "flex": null,
            "flex_flow": null,
            "grid_area": null,
            "grid_auto_columns": null,
            "grid_auto_flow": null,
            "grid_auto_rows": null,
            "grid_column": null,
            "grid_gap": null,
            "grid_row": null,
            "grid_template_areas": null,
            "grid_template_columns": null,
            "grid_template_rows": null,
            "height": null,
            "justify_content": null,
            "justify_items": null,
            "left": null,
            "margin": null,
            "max_height": null,
            "max_width": null,
            "min_height": null,
            "min_width": null,
            "object_fit": null,
            "object_position": null,
            "order": null,
            "overflow": null,
            "overflow_x": null,
            "overflow_y": null,
            "padding": null,
            "right": null,
            "top": null,
            "visibility": null,
            "width": null
          }
        },
        "0a366efc5b984fed974a866344b84d01": {
          "model_module": "@jupyter-widgets/controls",
          "model_name": "DescriptionStyleModel",
          "model_module_version": "1.5.0",
          "state": {
            "_model_module": "@jupyter-widgets/controls",
            "_model_module_version": "1.5.0",
            "_model_name": "DescriptionStyleModel",
            "_view_count": null,
            "_view_module": "@jupyter-widgets/base",
            "_view_module_version": "1.2.0",
            "_view_name": "StyleView",
            "description_width": ""
          }
        },
        "60bdc03342bf486bbd8d9a4d87492b82": {
          "model_module": "@jupyter-widgets/base",
          "model_name": "LayoutModel",
          "model_module_version": "1.2.0",
          "state": {
            "_model_module": "@jupyter-widgets/base",
            "_model_module_version": "1.2.0",
            "_model_name": "LayoutModel",
            "_view_count": null,
            "_view_module": "@jupyter-widgets/base",
            "_view_module_version": "1.2.0",
            "_view_name": "LayoutView",
            "align_content": null,
            "align_items": null,
            "align_self": null,
            "border": null,
            "bottom": null,
            "display": null,
            "flex": null,
            "flex_flow": null,
            "grid_area": null,
            "grid_auto_columns": null,
            "grid_auto_flow": null,
            "grid_auto_rows": null,
            "grid_column": null,
            "grid_gap": null,
            "grid_row": null,
            "grid_template_areas": null,
            "grid_template_columns": null,
            "grid_template_rows": null,
            "height": null,
            "justify_content": null,
            "justify_items": null,
            "left": null,
            "margin": null,
            "max_height": null,
            "max_width": null,
            "min_height": null,
            "min_width": null,
            "object_fit": null,
            "object_position": null,
            "order": null,
            "overflow": null,
            "overflow_x": null,
            "overflow_y": null,
            "padding": null,
            "right": null,
            "top": null,
            "visibility": null,
            "width": null
          }
        },
        "b4126fd3f57a4710a9eecab327fc3e20": {
          "model_module": "@jupyter-widgets/controls",
          "model_name": "ProgressStyleModel",
          "model_module_version": "1.5.0",
          "state": {
            "_model_module": "@jupyter-widgets/controls",
            "_model_module_version": "1.5.0",
            "_model_name": "ProgressStyleModel",
            "_view_count": null,
            "_view_module": "@jupyter-widgets/base",
            "_view_module_version": "1.2.0",
            "_view_name": "StyleView",
            "bar_color": null,
            "description_width": ""
          }
        },
        "36bec930e9f64e02993d58c4404b39f1": {
          "model_module": "@jupyter-widgets/base",
          "model_name": "LayoutModel",
          "model_module_version": "1.2.0",
          "state": {
            "_model_module": "@jupyter-widgets/base",
            "_model_module_version": "1.2.0",
            "_model_name": "LayoutModel",
            "_view_count": null,
            "_view_module": "@jupyter-widgets/base",
            "_view_module_version": "1.2.0",
            "_view_name": "LayoutView",
            "align_content": null,
            "align_items": null,
            "align_self": null,
            "border": null,
            "bottom": null,
            "display": null,
            "flex": null,
            "flex_flow": null,
            "grid_area": null,
            "grid_auto_columns": null,
            "grid_auto_flow": null,
            "grid_auto_rows": null,
            "grid_column": null,
            "grid_gap": null,
            "grid_row": null,
            "grid_template_areas": null,
            "grid_template_columns": null,
            "grid_template_rows": null,
            "height": null,
            "justify_content": null,
            "justify_items": null,
            "left": null,
            "margin": null,
            "max_height": null,
            "max_width": null,
            "min_height": null,
            "min_width": null,
            "object_fit": null,
            "object_position": null,
            "order": null,
            "overflow": null,
            "overflow_x": null,
            "overflow_y": null,
            "padding": null,
            "right": null,
            "top": null,
            "visibility": null,
            "width": null
          }
        },
        "4d97b22573a94147915d8cd3d51b4e07": {
          "model_module": "@jupyter-widgets/controls",
          "model_name": "DescriptionStyleModel",
          "model_module_version": "1.5.0",
          "state": {
            "_model_module": "@jupyter-widgets/controls",
            "_model_module_version": "1.5.0",
            "_model_name": "DescriptionStyleModel",
            "_view_count": null,
            "_view_module": "@jupyter-widgets/base",
            "_view_module_version": "1.2.0",
            "_view_name": "StyleView",
            "description_width": ""
          }
        },
        "9cdcba2991c44ebeb2f8ac2e4fcf6f3c": {
          "model_module": "@jupyter-widgets/controls",
          "model_name": "HBoxModel",
          "model_module_version": "1.5.0",
          "state": {
            "_dom_classes": [],
            "_model_module": "@jupyter-widgets/controls",
            "_model_module_version": "1.5.0",
            "_model_name": "HBoxModel",
            "_view_count": null,
            "_view_module": "@jupyter-widgets/controls",
            "_view_module_version": "1.5.0",
            "_view_name": "HBoxView",
            "box_style": "",
            "children": [
              "IPY_MODEL_f8a5b32455cf4c5cbf17bd768c7ce5f8",
              "IPY_MODEL_826b57b106cd4eb0a9906f2260e0cdfd",
              "IPY_MODEL_1b152f1bba0d4864aa31d3dbe7f8c211"
            ],
            "layout": "IPY_MODEL_6ae9a8528bb540da99c58252c3b7f89b"
          }
        },
        "f8a5b32455cf4c5cbf17bd768c7ce5f8": {
          "model_module": "@jupyter-widgets/controls",
          "model_name": "HTMLModel",
          "model_module_version": "1.5.0",
          "state": {
            "_dom_classes": [],
            "_model_module": "@jupyter-widgets/controls",
            "_model_module_version": "1.5.0",
            "_model_name": "HTMLModel",
            "_view_count": null,
            "_view_module": "@jupyter-widgets/controls",
            "_view_module_version": "1.5.0",
            "_view_name": "HTMLView",
            "description": "",
            "description_tooltip": null,
            "layout": "IPY_MODEL_610a5cff39fe4c5896579d9ceeba4781",
            "placeholder": "​",
            "style": "IPY_MODEL_86c3bf1b9a324743b13b67d9bae8bbc0",
            "value": "Downloading pytorch_model.bin: 100%"
          }
        },
        "826b57b106cd4eb0a9906f2260e0cdfd": {
          "model_module": "@jupyter-widgets/controls",
          "model_name": "FloatProgressModel",
          "model_module_version": "1.5.0",
          "state": {
            "_dom_classes": [],
            "_model_module": "@jupyter-widgets/controls",
            "_model_module_version": "1.5.0",
            "_model_name": "FloatProgressModel",
            "_view_count": null,
            "_view_module": "@jupyter-widgets/controls",
            "_view_module_version": "1.5.0",
            "_view_name": "ProgressView",
            "bar_style": "success",
            "description": "",
            "description_tooltip": null,
            "layout": "IPY_MODEL_72bd0ef32ae24afc974a89d71b695269",
            "max": 442694866,
            "min": 0,
            "orientation": "horizontal",
            "style": "IPY_MODEL_4c6cce103c444a3e95f500534f87bf28",
            "value": 442694866
          }
        },
        "1b152f1bba0d4864aa31d3dbe7f8c211": {
          "model_module": "@jupyter-widgets/controls",
          "model_name": "HTMLModel",
          "model_module_version": "1.5.0",
          "state": {
            "_dom_classes": [],
            "_model_module": "@jupyter-widgets/controls",
            "_model_module_version": "1.5.0",
            "_model_name": "HTMLModel",
            "_view_count": null,
            "_view_module": "@jupyter-widgets/controls",
            "_view_module_version": "1.5.0",
            "_view_name": "HTMLView",
            "description": "",
            "description_tooltip": null,
            "layout": "IPY_MODEL_3646bc339b6b4aefa320ae9b038fe7c7",
            "placeholder": "​",
            "style": "IPY_MODEL_2ea02e6339c7409384eb1345f03c2383",
            "value": " 422M/422M [00:10&lt;00:00, 37.5MB/s]"
          }
        },
        "6ae9a8528bb540da99c58252c3b7f89b": {
          "model_module": "@jupyter-widgets/base",
          "model_name": "LayoutModel",
          "model_module_version": "1.2.0",
          "state": {
            "_model_module": "@jupyter-widgets/base",
            "_model_module_version": "1.2.0",
            "_model_name": "LayoutModel",
            "_view_count": null,
            "_view_module": "@jupyter-widgets/base",
            "_view_module_version": "1.2.0",
            "_view_name": "LayoutView",
            "align_content": null,
            "align_items": null,
            "align_self": null,
            "border": null,
            "bottom": null,
            "display": null,
            "flex": null,
            "flex_flow": null,
            "grid_area": null,
            "grid_auto_columns": null,
            "grid_auto_flow": null,
            "grid_auto_rows": null,
            "grid_column": null,
            "grid_gap": null,
            "grid_row": null,
            "grid_template_areas": null,
            "grid_template_columns": null,
            "grid_template_rows": null,
            "height": null,
            "justify_content": null,
            "justify_items": null,
            "left": null,
            "margin": null,
            "max_height": null,
            "max_width": null,
            "min_height": null,
            "min_width": null,
            "object_fit": null,
            "object_position": null,
            "order": null,
            "overflow": null,
            "overflow_x": null,
            "overflow_y": null,
            "padding": null,
            "right": null,
            "top": null,
            "visibility": null,
            "width": null
          }
        },
        "610a5cff39fe4c5896579d9ceeba4781": {
          "model_module": "@jupyter-widgets/base",
          "model_name": "LayoutModel",
          "model_module_version": "1.2.0",
          "state": {
            "_model_module": "@jupyter-widgets/base",
            "_model_module_version": "1.2.0",
            "_model_name": "LayoutModel",
            "_view_count": null,
            "_view_module": "@jupyter-widgets/base",
            "_view_module_version": "1.2.0",
            "_view_name": "LayoutView",
            "align_content": null,
            "align_items": null,
            "align_self": null,
            "border": null,
            "bottom": null,
            "display": null,
            "flex": null,
            "flex_flow": null,
            "grid_area": null,
            "grid_auto_columns": null,
            "grid_auto_flow": null,
            "grid_auto_rows": null,
            "grid_column": null,
            "grid_gap": null,
            "grid_row": null,
            "grid_template_areas": null,
            "grid_template_columns": null,
            "grid_template_rows": null,
            "height": null,
            "justify_content": null,
            "justify_items": null,
            "left": null,
            "margin": null,
            "max_height": null,
            "max_width": null,
            "min_height": null,
            "min_width": null,
            "object_fit": null,
            "object_position": null,
            "order": null,
            "overflow": null,
            "overflow_x": null,
            "overflow_y": null,
            "padding": null,
            "right": null,
            "top": null,
            "visibility": null,
            "width": null
          }
        },
        "86c3bf1b9a324743b13b67d9bae8bbc0": {
          "model_module": "@jupyter-widgets/controls",
          "model_name": "DescriptionStyleModel",
          "model_module_version": "1.5.0",
          "state": {
            "_model_module": "@jupyter-widgets/controls",
            "_model_module_version": "1.5.0",
            "_model_name": "DescriptionStyleModel",
            "_view_count": null,
            "_view_module": "@jupyter-widgets/base",
            "_view_module_version": "1.2.0",
            "_view_name": "StyleView",
            "description_width": ""
          }
        },
        "72bd0ef32ae24afc974a89d71b695269": {
          "model_module": "@jupyter-widgets/base",
          "model_name": "LayoutModel",
          "model_module_version": "1.2.0",
          "state": {
            "_model_module": "@jupyter-widgets/base",
            "_model_module_version": "1.2.0",
            "_model_name": "LayoutModel",
            "_view_count": null,
            "_view_module": "@jupyter-widgets/base",
            "_view_module_version": "1.2.0",
            "_view_name": "LayoutView",
            "align_content": null,
            "align_items": null,
            "align_self": null,
            "border": null,
            "bottom": null,
            "display": null,
            "flex": null,
            "flex_flow": null,
            "grid_area": null,
            "grid_auto_columns": null,
            "grid_auto_flow": null,
            "grid_auto_rows": null,
            "grid_column": null,
            "grid_gap": null,
            "grid_row": null,
            "grid_template_areas": null,
            "grid_template_columns": null,
            "grid_template_rows": null,
            "height": null,
            "justify_content": null,
            "justify_items": null,
            "left": null,
            "margin": null,
            "max_height": null,
            "max_width": null,
            "min_height": null,
            "min_width": null,
            "object_fit": null,
            "object_position": null,
            "order": null,
            "overflow": null,
            "overflow_x": null,
            "overflow_y": null,
            "padding": null,
            "right": null,
            "top": null,
            "visibility": null,
            "width": null
          }
        },
        "4c6cce103c444a3e95f500534f87bf28": {
          "model_module": "@jupyter-widgets/controls",
          "model_name": "ProgressStyleModel",
          "model_module_version": "1.5.0",
          "state": {
            "_model_module": "@jupyter-widgets/controls",
            "_model_module_version": "1.5.0",
            "_model_name": "ProgressStyleModel",
            "_view_count": null,
            "_view_module": "@jupyter-widgets/base",
            "_view_module_version": "1.2.0",
            "_view_name": "StyleView",
            "bar_color": null,
            "description_width": ""
          }
        },
        "3646bc339b6b4aefa320ae9b038fe7c7": {
          "model_module": "@jupyter-widgets/base",
          "model_name": "LayoutModel",
          "model_module_version": "1.2.0",
          "state": {
            "_model_module": "@jupyter-widgets/base",
            "_model_module_version": "1.2.0",
            "_model_name": "LayoutModel",
            "_view_count": null,
            "_view_module": "@jupyter-widgets/base",
            "_view_module_version": "1.2.0",
            "_view_name": "LayoutView",
            "align_content": null,
            "align_items": null,
            "align_self": null,
            "border": null,
            "bottom": null,
            "display": null,
            "flex": null,
            "flex_flow": null,
            "grid_area": null,
            "grid_auto_columns": null,
            "grid_auto_flow": null,
            "grid_auto_rows": null,
            "grid_column": null,
            "grid_gap": null,
            "grid_row": null,
            "grid_template_areas": null,
            "grid_template_columns": null,
            "grid_template_rows": null,
            "height": null,
            "justify_content": null,
            "justify_items": null,
            "left": null,
            "margin": null,
            "max_height": null,
            "max_width": null,
            "min_height": null,
            "min_width": null,
            "object_fit": null,
            "object_position": null,
            "order": null,
            "overflow": null,
            "overflow_x": null,
            "overflow_y": null,
            "padding": null,
            "right": null,
            "top": null,
            "visibility": null,
            "width": null
          }
        },
        "2ea02e6339c7409384eb1345f03c2383": {
          "model_module": "@jupyter-widgets/controls",
          "model_name": "DescriptionStyleModel",
          "model_module_version": "1.5.0",
          "state": {
            "_model_module": "@jupyter-widgets/controls",
            "_model_module_version": "1.5.0",
            "_model_name": "DescriptionStyleModel",
            "_view_count": null,
            "_view_module": "@jupyter-widgets/base",
            "_view_module_version": "1.2.0",
            "_view_name": "StyleView",
            "description_width": ""
          }
        }
      }
    }
  },
  "nbformat": 4,
  "nbformat_minor": 0
}