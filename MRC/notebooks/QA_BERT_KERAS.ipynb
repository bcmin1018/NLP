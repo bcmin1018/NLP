{
  "nbformat": 4,
  "nbformat_minor": 0,
  "metadata": {
    "colab": {
      "name": "QA_BERT_KERAS.ipynb",
      "provenance": [],
      "machine_shape": "hm",
      "authorship_tag": "ABX9TyPSdncM/BG660+/L3/LswfA",
      "include_colab_link": true
    },
    "kernelspec": {
      "name": "python3",
      "display_name": "Python 3"
    },
    "language_info": {
      "name": "python"
    },
    "accelerator": "GPU"
  },
  "cells": [
    {
      "cell_type": "markdown",
      "metadata": {
        "id": "view-in-github",
        "colab_type": "text"
      },
      "source": [
        "<a href=\"https://colab.research.google.com/github/bcmin1018/NLP/blob/main/MRC/QA_BERT_KERAS.ipynb\" target=\"_parent\"><img src=\"https://colab.research.google.com/assets/colab-badge.svg\" alt=\"Open In Colab\"/></a>"
      ]
    },
    {
      "cell_type": "code",
      "execution_count": 1,
      "metadata": {
        "id": "N95sLSH-YZt6",
        "colab": {
          "base_uri": "https://localhost:8080/"
        },
        "outputId": "76aaa3ba-0ada-413a-bed7-94f16106cb5b"
      },
      "outputs": [
        {
          "output_type": "stream",
          "name": "stdout",
          "text": [
            "/usr/local/lib/python3.7/dist-packages/gdown/cli.py:131: FutureWarning: Option `--id` was deprecated in version 4.3.1 and will be removed in 5.0. You don't need to pass it anymore to use a file ID.\n",
            "  category=FutureWarning,\n",
            "Downloading...\n",
            "From: https://drive.google.com/uc?id=1n74_kfEjrjkHYsUr1CugGgzxL7ns28gV\n",
            "To: /content/train.zip\n",
            "100% 17.4M/17.4M [00:00<00:00, 187MB/s]\n",
            "/usr/local/lib/python3.7/dist-packages/gdown/cli.py:131: FutureWarning: Option `--id` was deprecated in version 4.3.1 and will be removed in 5.0. You don't need to pass it anymore to use a file ID.\n",
            "  category=FutureWarning,\n",
            "Downloading...\n",
            "From: https://drive.google.com/uc?id=1lMszENg5tEyeTnm2XR0X0876HKltWlLk\n",
            "To: /content/test.zip\n",
            "100% 844k/844k [00:00<00:00, 144MB/s]\n",
            "/usr/local/lib/python3.7/dist-packages/gdown/cli.py:131: FutureWarning: Option `--id` was deprecated in version 4.3.1 and will be removed in 5.0. You don't need to pass it anymore to use a file ID.\n",
            "  category=FutureWarning,\n",
            "Downloading...\n",
            "From: https://drive.google.com/uc?id=14FUap4xX_XMfq1T4RS3nJXeomQiDm4Nu\n",
            "To: /content/sample.json\n",
            "100% 28.1k/28.1k [00:00<00:00, 43.1MB/s]\n",
            "/usr/local/lib/python3.7/dist-packages/gdown/cli.py:131: FutureWarning: Option `--id` was deprecated in version 4.3.1 and will be removed in 5.0. You don't need to pass it anymore to use a file ID.\n",
            "  category=FutureWarning,\n",
            "Downloading...\n",
            "From: https://drive.google.com/uc?id=1ygUD3YA9goXs20h6gvmrxkBjMzJlCQjR\n",
            "To: /content/sample_submission.csv\n",
            "100% 27.7k/27.7k [00:00<00:00, 40.7MB/s]\n"
          ]
        }
      ],
      "source": [
        "!gdown --id 1n74_kfEjrjkHYsUr1CugGgzxL7ns28gV\n",
        "!gdown --id 1lMszENg5tEyeTnm2XR0X0876HKltWlLk\n",
        "!gdown --id 14FUap4xX_XMfq1T4RS3nJXeomQiDm4Nu\n",
        "!gdown --id 1ygUD3YA9goXs20h6gvmrxkBjMzJlCQjR\n",
        "!unzip -qq \"./train.zip\"\n",
        "!unzip -qq \"./test.zip\"\n",
        "\n",
        "train_data = \"/content/train.json\"\n",
        "valid_data = \"/content/train.json\"\n",
        "test_data = \"/content/test.json\"\n",
        "submission = \"/content/sample_submission.csv\""
      ]
    },
    {
      "cell_type": "code",
      "source": [
        "import matplotlib.pyplot as plt\n",
        "import numpy as np\n",
        "import json\n",
        "import pprint"
      ],
      "metadata": {
        "id": "t3o5uVfmpcmD"
      },
      "execution_count": 13,
      "outputs": []
    },
    {
      "cell_type": "code",
      "source": [
        "train_data = json.load(open(\"/content/train.json\", 'r', encoding='utf8'))\n",
        "pprint.pprint(train_data['data'][0])"
      ],
      "metadata": {
        "colab": {
          "base_uri": "https://localhost:8080/"
        },
        "id": "heEPU7F8qn-4",
        "outputId": "ba12371d-2fd7-4e04-e530-8b379f8388f9"
      },
      "execution_count": 3,
      "outputs": [
        {
          "output_type": "stream",
          "name": "stdout",
          "text": [
            "{'content_id': 'CNTS_4740509086',\n",
            " 'paragraphs': [{'context': '이 글에서는 제안한 기술경쟁력 평가 방법의 특징은 두 가지로 요약된다. 첫째, 현재의 '\n",
            "                            '경쟁력보다는 미래의 경쟁력을 평가하도록 평가의 대상을 확대해야 한다. 지금까지의 경쟁력 '\n",
            "                            '평가가 현위치를 중심으로 한 것이었다면, 앞으로의 대안은 과정과 경로를 중시하는 것이 '\n",
            "                            '되어야 한다는 것이다. 사실 지식정보화사회에서 가진 것이란 허망한 것이다. 현재의 '\n",
            "                            '기술수준이 높더라고, 이를 끊임없이 개량하고 새로운 기술을 발전시킬 수 있는 능력이 '\n",
            "                            '없다면 미래의 전망은 어둡다. 기술이나 정보는 실물 자산보다 진부화율이 매우 높다. '\n",
            "                            '둘째, 기술경쟁력 평가를 순위를 매기는 작업이 아니라 이를 통하여 장점과 단점을 파악하는 '\n",
            "                            '과정으로 활용하여야 한다. 순위는 대중적인 흥미는 끌 수 있지만, 그것으로부터 교훈이 '\n",
            "                            '도출되는 것은 아니다. 기술경쟁력의 평가를 통해서 외국시스템의 장점을 배우고, 한국 '\n",
            "                            '시스템의 단점을 교정하는 대안이 발견될 수 있다. 경쟁이란 남과 비교하는 것을 의미한다. '\n",
            "                            '내가 아무리 잘 하더라도 남이 나보다 더 잘 한다면 경쟁에서 진다. 그래서 경쟁은 '\n",
            "                            '각박하지만, 과학기술은 경쟁을 피할 수 있는 분야가 아니다. 경쟁 상대국을 연구하고, '\n",
            "                            '경쟁 상대국을 앞설 수 있는 방안을 강구하기 위해서 기술경쟁력에 관한 연구가 더욱 '\n",
            "                            '활발해져야 할 것이다.',\n",
            "                 'paragraph_id': 'PARS_RrlDreD2hE',\n",
            "                 'qas': [{'answers': [{'answer_start': 603, 'text': '기술경쟁력'}],\n",
            "                          'is_impossible': False,\n",
            "                          'question': '경쟁 상대국을 연구하고 경쟁 상대국을 앞설 수 있는 방법을 연구하기 '\n",
            "                                      '위해서 더욱 활발해져야 할 연구는 뭐지',\n",
            "                          'question_id': 'QUES_CHGHl0CHHK'}]},\n",
            "                {'context': '현위치와 관련된 평가부문은 IMD 평가에서나 종합과학기술력의 평가에서 도 포함된 부문으로 '\n",
            "                            '그 내역은 이미 잘 알려져 있다. 연구개발투자, 연구개발인력 등 기술혁신을 위한 '\n",
            "                            '자원투입의 양적 측면에서 한국은 상대적으로 우월하다. 또한 특허등록건수 등도 계속 '\n",
            "                            '증가하는 추세이다. 현위치 부문에서 취약한 점은 과학기반과 관련산업의 집적 부문을 들 수 '\n",
            "                            '있다. 학술논문 발표수가 계속 증가하고 있기는 하지만 아직도 한국의 기초과학수준은 취약한 '\n",
            "                            '것으로 평가된다. 산업구조면에서 보면 조립가공형 산업으로부터 산업화가 이루어졌기 때문에 '\n",
            "                            '소재, 부품, 자본재 등 상방산업의 기반이 약하며 이는 상방산업과 하방산업의 상호작용에 '\n",
            "                            '의한 기술혁신을 저해하는 요인이다. 과정에 속하는 평가부문은 대체로 한국이 취약하다. '\n",
            "                            'IMD 평가에 포함되었던 기술관리부문을 보면 한국의 순위는 평균 32위(기술개발자금지원의 '\n",
            "                            '충분성 28위, 과학기술교육의 적절성부문은 34위, 지적재산권보호 정도는 32위, '\n",
            "                            '젊은이들의 과학기술에 대한 관심도 34위)로 과학기술부문의 종합순위보다 낮다.',\n",
            "                 'paragraph_id': 'PARS_s5sSaKdCH3',\n",
            "                 'qas': [{'answers': [{'answer_start': 420, 'text': '평균 32위'}],\n",
            "                          'is_impossible': False,\n",
            "                          'question': 'IMD평가에 포함되었던 기술관리부분의 한국의 순위는 평균 몇 위야',\n",
            "                          'question_id': 'QUES_ncJEA1ANCe'}]},\n",
            "                {'context': 'IMD는 스위스의 비영리 민간기구로 국가경쟁력의 순위를 1996년이래 연례적으로 발표하고 '\n",
            "                            '있다. IMD의 평가에서는 국가경쟁력을 ①국내경제 ②세계화 ③정부 ④금융 ⑤인프라 ⑥경영 '\n",
            "                            '⑦과학기술 ⑧인력의 8개 분야로 구분하고 이와 관련한 223개 항목을 평가한다. 이들 '\n",
            "                            '항목 중 계량지표는 통계지표를 사용하여 산출하고, 비계량지표는 전문가에 대한 설문조사를 '\n",
            "                            '실시한 다. 223개 항목 가운데 계량지표는 136개이며 비계량 지표는 87개이다. '\n",
            "                            'IMD 평가에서 과학기술부문의 평가는 다섯 개의 부문으로 구성되어 있다. 첫째, '\n",
            "                            '연구개발투자부문에서는 국내총생산대비 연구개발투자 비율, 국가 연구개발투자의 절대 규모 '\n",
            "                            '등이 평가 요소이다. 둘째, 연구개발인력 부문에서는 과학기술인력의 숫자, 유자격 '\n",
            "                            '엔지니어의 충분성 등이 감안된다. 셋째, 기술관리 부문에서는 기업간 기술협력의 정도, '\n",
            "                            '기술개발에 대한 재정지원 여부 등이 포함된다. 넷째, 과학적 환경 부문에서는 노벨상 '\n",
            "                            '수상자의 수, 의무교육에서 과학기술교육의 질 등이 고려된다. 다섯째, 지적재산권 '\n",
            "                            '부문에서는 특허등록 건수, 지적재산권에 보호에 대한 정부의 의지 등이 반영된다.',\n",
            "                 'paragraph_id': 'PARS_erOlnfgWx2',\n",
            "                 'qas': [{'answers': [],\n",
            "                          'is_impossible': True,\n",
            "                          'question': '국가경쟁력의 순위를 1996년 이전 연례적으로 발표하는 스위스의 비영리 '\n",
            "                                      '민간기구는 뭐야',\n",
            "                          'question_id': 'QUES_WwhEDEQ4JT'}]},\n",
            "                {'context': 'IMD의 평가나 종합과학기술력 평가는 궁극적으로는 국가간 순위를 매기기 위한 평가이다. '\n",
            "                            '즉 기술경쟁력을 대표할 수 있는 요소들을 지수화하고, 이러한 지수를 종합하여 하나의 단일 '\n",
            "                            '지수를 창출하여 이를 국가간에 비교를 한다. 종합과학기술력 평가는 연구개발투자액, '\n",
            "                            '기술무역액 등과 같이 가용할 수 있는 통계 수치에 전적으로 의존하였지만, IMD 평가는 '\n",
            "                            '기술경영과 같은 정성적 부문에 대한 지표도 포함한다. 이러한 의미에서 IMD의 평가 '\n",
            "                            '방법이 종합과학기술력의 평가보다는 우월한 것으로 판단된다. IMD의 평가는 정량적으로 '\n",
            "                            '나타낼 수 없지만, 기술경쟁력을 좌우하는 정성적 요인들을 포함한 것이 장점이다. 물론 '\n",
            "                            '이러한 전문가 평가를 병행해야 하기 때문에 IMD의 평가는 시간과 노력이 많이 소요된다는 '\n",
            "                            '단점이 있기는 하다.',\n",
            "                 'paragraph_id': 'PARS_pP8k4n8yg4',\n",
            "                 'qas': [{'answers': [{'answer_start': 124,\n",
            "                                       'text': '종합과학기술력 평가'}],\n",
            "                          'is_impossible': False,\n",
            "                          'question': '기술무역액 등과 같이 가용할 수 있는 통계 수치에 전적으로 의존하는 '\n",
            "                                      '평가가 뭐야',\n",
            "                          'question_id': 'QUES_GnQIVxXt70'}]},\n",
            "                {'context': '기업경영, 산학연 협력, 교육과 훈련, 세계화, 정부의 행정효율 그 어느 부문도 한국의 '\n",
            "                            '경쟁력이 강하다고 보기는 어렵다. 기업경영 측면을 보면 산업사회에서 형성되었던 '\n",
            "                            '중앙집중형, 획일적 문화가 계속 유지되고 있다. 연공서열제에 의한 인사제도는 창의력을 '\n",
            "                            '저해하는 요인이다. 기업의 연구관리 면에서 연구부문과 생산부문간의 연계가 취약하고, 조직 '\n",
            "                            '구조가 경직적이다. 산학연 협력은 선진국 수준은 물론 대만, 이스라엘 등 경쟁상대국 '\n",
            "                            '수준보다 낮은 것으로 판단된다. 산학연간의 공동연구나 협력연구가 부진하고 인적 교류도 '\n",
            "                            '매우 저조하다. 1970년대의 시대적 요구에 맞추어 설계되었던 공공연구기관이 새로운 '\n",
            "                            '시대에 맞추어 변신하지 못하여, 공공연구기관의 새로운 역할 정립이 시급하다. 교육 부문은 '\n",
            "                            '한국의 높은 교육열 때문에 그동안 한국의 강점이었으나, 이제 는 더 이상 그러한 가정이 '\n",
            "                            '성립되지 않는다. 평준화를 근간으로 하는 초, 중, 고 교육은 창의적이고 차별화된 교육을 '\n",
            "                            '방해하는 요인이며, 학생들이 학업에 투입하는 노력이나 시간에 비하여 이루어 내는 성취도는 '\n",
            "                            '낮은 실정이다. 대학 교육과 연구는 점차로 개선되는 추세이나 아직도 세계 일류라 할 수 '\n",
            "                            '있는 대학은 하나도 없다. 학과 정원의 고착화 등 인력 공급의 경직성 때문에 인력 '\n",
            "                            '수급상의 불균형이 크다.',\n",
            "                 'paragraph_id': 'PARS_7b3M3mKZbb',\n",
            "                 'qas': [{'answers': [{'answer_start': 120, 'text': '연공서열제'}],\n",
            "                          'is_impossible': False,\n",
            "                          'question': '창의력을 저해하는 인사제도 요인은 뭐야',\n",
            "                          'question_id': 'QUES_RcrMURMuhd'}]},\n",
            "                {'context': 'IMD의 기술경쟁력 평가가 1990년 중반 이후부터는 폭 넓게 인용되고 있지만, 그 '\n",
            "                            '이전까지는 투입산출지표를 활용한 종합과학기술수준 평가방법이 많이 활용되었다. 그 대표적 '\n",
            "                            '예가 홍사균(1994,1995)인데, 투입지표와 산출지표를 활용해 산출한 국가 과학기술력 '\n",
            "                            '종합지수가 제시되었다. 이 연구에서 사용한 투입지표는 과학기술의 발전을 위해서 얼마나 '\n",
            "                            '많은 자원이 투입되는가를 나타내는 것으로 연구개발투자의 규모, 국민총생산 대비 '\n",
            "                            '연구개발투자의 비율, 연구인력의 총수, 인구비례당 연구원 수 등을 가중 평균하여 '\n",
            "                            '산출되었다. 이 지표를 기술개발력으로 정의하였으며, 기술개발력의 세계 순위는 한국이 '\n",
            "                            '12위(1990)로 평가되었다. 산출지표는 과학기술의 성과로 나타나는 기술무역액, '\n",
            "                            '특허출원수, 인구만명당 특허출원수, 논문발표수, 기술집약제품이 수출에서 차지하는 비중 '\n",
            "                            '등을 근거로 하여 계산된다. 이를 기술개발성과지수라고 정의하였으며, 기술개발성과지수의 '\n",
            "                            '국제 순위는 20위(1990)로 평가되었다.',\n",
            "                 'paragraph_id': 'PARS_Ldm3nIToPd',\n",
            "                 'qas': [{'answers': [{'answer_start': 348, 'text': '산출지표'}],\n",
            "                          'is_impossible': False,\n",
            "                          'question': '과학기술의 성과로 나타나는 기술집약제품이 수출에서 차지하는 비중 등을 '\n",
            "                                      '바탕으로 하여 계산되는게 뭐야',\n",
            "                          'question_id': 'QUES_OhH70koIzZ'}]},\n",
            "                {'context': '경로와 관련된 부문은 장점과 단점이 혼재한다. 한국의 장점은 21세기 주도 기술이라고 할 '\n",
            "                            '수 있는 IT 부문에서 상당한 산업기반과 기술축적이 있다는 것이다. 특히 인터넷 관련 '\n",
            "                            '정보통신이나 이동통신부문의 기술수준은 높게 평가되고 있다. 미래에 적절한 경로 선택 '\n",
            "                            '능력과 관련해서 제기할 수 있는 문제로는 기술기획이 지나치게 중앙집중형인 점을 지적할 수 '\n",
            "                            '있다. 출연연구기관이 등 공공연구기관이 위탁과제 수행기관으로 전락하여, 공공 기관으로서의 '\n",
            "                            '역할을 못하고 있다. 기술의 미분화와 융합화가 활발하게 이루어지는 상황에서 성공의 '\n",
            "                            '가능성을 높이기 위해서는 기술기획의 분권화가 필요하다. 개괄적으로 살펴본 한국기술경쟁력의 '\n",
            "                            '강점과 약점을 종합적으로 요약하면, 강점은 주로 현위치(position) 측면에 있는 '\n",
            "                            '반면 약점은 과정(process)에 있다. 이러한 결과는 한국 기술경쟁력의 미래에 심각한 '\n",
            "                            '우려를 제기한다. 장기적인 경쟁력을 좌우하는 것은 현위치이기보다는 과정 즉 역동성이기 '\n",
            "                            '때문이다.',\n",
            "                 'paragraph_id': 'PARS_IPjTVIFock',\n",
            "                 'qas': [{'answers': [{'answer_start': 305,\n",
            "                                       'text': '기술기획의 분권화'}],\n",
            "                          'is_impossible': False,\n",
            "                          'question': '기술의 미분화와 융합화가 활발하게 이루어지는 상태에서 성공의 가능성을 '\n",
            "                                      '높이기 위해서 필요한 것은 뭐야',\n",
            "                          'question_id': 'QUES_E7ld15GzDh'}]},\n",
            "                {'context': 'IMD의 평가 방법이 종합과학기술력 평가방법보다는 우월하지만, 이 평가가 국가간 '\n",
            "                            '기술혁신시스템의 우월성을 평가하는데 있어서 100% 만족할 수준은 아니다. 국가간 '\n",
            "                            '기술경쟁력을 비교한다고 하는 것은 궁극적으로 국가 기술혁 신시스템을 비교하는 것으로 볼 '\n",
            "                            '수 있는데 IMD에서 다루고 있는 요소들만 으로는 국가간 기술혁신시스템의 차이를 충분히 '\n",
            "                            '비교하였다고 보기는 어렵 다. IMD의 평가는 국가경쟁력 평가가 목적이고 이러한 목적을 '\n",
            "                            '위하여 기술경 쟁력 평가는 하나의 부문으로 포함되었다. 따라서 IMD의 기술경쟁력에 대한 '\n",
            "                            '평가가 완결성이 부족한 것은 불가피한 결과라 하겠다. 즉 기술경쟁력 평가 로 전문화되지 '\n",
            "                            '않는 평가이기 때문에 평가의 완결성면에서 근본적인 한계가 있다. 국가 기술경쟁력 평가의 '\n",
            "                            '방법론 논의에서 핵심적인 과제는 현 시점에서의 역량 뿐 아니라 미래의 잠재력이 포함되어야 '\n",
            "                            '한다는 것이다. 현재의 기술수준을 평가하는 것도 중요하지만, 기술 발전의 잠재력에 대한 '\n",
            "                            '평가가 더욱 중요하다. 지식정보화시대에는 축적된 지식의 양이 중요한 것이 아니라 새로운 '\n",
            "                            '지식을 습득하고 향상시킬 수 있는 학습 능력이 중요하다. 즉 기술경쟁력의 평가는 동태적 '\n",
            "                            '경쟁력을 중시해야 한다는 것이다.',\n",
            "                 'paragraph_id': 'PARS_KNTDkuJdo9',\n",
            "                 'qas': [{'answers': [{'answer_start': 579, 'text': '동태적 경쟁력'}],\n",
            "                          'is_impossible': False,\n",
            "                          'question': '기술경쟁력 평가에서 가장 중시하는게 뭐야',\n",
            "                          'question_id': 'QUES_PzT1egGczC'}]},\n",
            "                {'context': '현위치는 기업이 현재 보유하고 있는 자산을 의미하는데, 자산은 '\n",
            "                            '기술자산(technological assets), 보완적 자산(complement ary '\n",
            "                            'assets), 금융자산(financial assets), 지리적 '\n",
            "                            '자산(locational assets)으로 분류된다. 기술자산은 항상 시장을 통해서 '\n",
            "                            '거래될 수 있는 것은 아니다. 조직에 체화된 기술은 기업의 중요한 자산이다. 기업의 '\n",
            "                            '기술자산은 특허 등을 지적재산권의 보호를 받을 수 있다. 기술의 보유, 보호, 활용 '\n",
            "                            '능력은 기업의 경쟁력을 좌우하는 핵심이다. 보완적자산은 제품을 생산하고 판매한 '\n",
            "                            '경험으로부터 축적된다. 예를 들어 자동차를 생산한 경험은 자동차부품의 생산에 유용하게 '\n",
            "                            '활용될 수 있다. 금융자산은 내부 자금조달 능력이다. 외부로부터의 차입이 항상 늘 가능한 '\n",
            "                            '것은 아니며, 외부 차입을 위해서는 기업의 핵심기술이나 노하우가 누출될 염려도 있다. '\n",
            "                            '지리적 자산이 중요한 이유는 기업의 위치에 따라 기업에 대한 법적, 제도적 환경이 달라질 '\n",
            "                            '수 있기 때문이다.',\n",
            "                 'paragraph_id': 'PARS_ScxqXJFhX5',\n",
            "                 'qas': [{'answers': [],\n",
            "                          'is_impossible': True,\n",
            "                          'question': '개인이 현재 보유하고 있는 자산은 보완적 자산 금융자산 지리적 자산 '\n",
            "                                      '그리고 뭐야',\n",
            "                          'question_id': 'QUES_Jmzg1EfEL6'}]},\n",
            "                {'context': '앞에서 제시된 평가방법론을 적용하여 한국의 기술경쟁력을 평가하는 것이 쉽지 않다. '\n",
            "                            '현위치에 포함된 평가분야는 대부분 계량화가 가능하고 이를 활용하여 비교가 용이하지만, '\n",
            "                            '과정과 경로에 해당하는 평가분야는 계량화가 불가능하다. 계량화가 불가능한 부문을 평가하기 '\n",
            "                            '위해서는 평가의 대상이 되는 모든 국가에 대한 해박한 지식을 요구한다. 나아가 이러한 '\n",
            "                            '지식을 종합하여 시스템의 장단점을 판단할 수 있는 능력이 있어야 한다. 분석적이고 '\n",
            "                            '실증적인 경쟁력평가는 향후의 연구과제로 남겨두고, 이 글에서는 한국의 기술경쟁력에 대한 '\n",
            "                            '필자의 주관적인 의견을 제시하여 앞으로의 이 분야 연구에 가설로서 활용될 수 있도록 '\n",
            "                            '한다. 구체적으로 제시된 평가분야들에 대해서 한국의 강점과 약점을 논의하고자 한다. '\n",
            "                            '여기서 강점과 약점이라 함은 기술선진국에 비교한 것이 아니라 한국의 기술경쟁력의 '\n",
            "                            '평균수준에 대한 비교임을 밝혀 둔다.',\n",
            "                 'paragraph_id': 'PARS_ahby6PZ7XR',\n",
            "                 'qas': [{'answers': [{'answer_start': 94, 'text': '과정과 경로'}],\n",
            "                          'is_impossible': False,\n",
            "                          'question': '평가방법론에서 계량화가 안 되는 평가 분야는 어디야',\n",
            "                          'question_id': 'QUES_HzqqEj4J9m'}]},\n",
            "                {'context': '기술경쟁력의 평가라는 관점에서 국가기술혁신시스템 이론의 한계는 이 이 론이 국가 단위의 '\n",
            "                            '기술혁신시스템의 시스템간의 우월성이나 장단점을 판단할 수 있는 준거를 많이 제공하지 '\n",
            "                            '못한다는 점이다. 이 이론은 국가기술혁신시스템의 작동원리나 국별 차이 등에 대한 설명과 '\n",
            "                            '분석에 주력한다. 예를들어 산학연 협력 패턴이 국가간에 어떤 차이를 보이는가에 대한 '\n",
            "                            '연구는 있지만, 어떤 유형이 가장 바람직하다는 연구는 별로 없다. 국가기술혁신시스템이론은 '\n",
            "                            '기술경쟁력 평가에 밑바탕이 되지만, 역으로 기술경쟁력 평가가 이러한 국가기술혁신시스템 '\n",
            "                            '이론의 한계를 보완하는 역할을 할 수 있을 것으로도 기대된다. 기술경쟁력 평가는 '\n",
            "                            '본질적으로 각국의 시스템을 평가해서 우열을 판단하는데 목적이 있기 때문에 결국 최적 '\n",
            "                            '국가기술혁신시스템에 대한 연구를 유발한다.',\n",
            "                 'paragraph_id': 'PARS_ls5YvdxlDn',\n",
            "                 'qas': [{'answers': [{'answer_start': 229,\n",
            "                                       'text': '국가기술혁신시스템이론'}],\n",
            "                          'is_impossible': False,\n",
            "                          'question': '기술경쟁력 평가에 밑바탕이 되고 역으로 기술경쟁력 평가가 이러한 이론의 '\n",
            "                                      '한계를 보완하는 역할을 할 수 있는 이론은 뭐야',\n",
            "                          'question_id': 'QUES_AeGVZNIb3c'}]},\n",
            "                {'context': 'PPP framework 은 기존의 기업경쟁력에 대한 평가 방법론과는 상당한 차이가 '\n",
            "                            '있다. 기존의 이론들은 현위치를 주로 대상으로 하는데 반하여, 이 이론은 과정 및 경로의 '\n",
            "                            '중요성을 강조한다. 즉 기업의 정태적 경쟁력보다는 동태적 경쟁력을 중시한다. 이러한 접근 '\n",
            "                            '방법은 국가 단위의 경쟁력 평가에서도 활용되어야 한다. 현위치에 근거한 평가보다는 미래의 '\n",
            "                            '잠재력을 평가하는 측면이 강조되어야 한다. 기업 차원에서든지 또는 국가차원에서든지 '\n",
            "                            '기술경쟁력을 좌우하는 핵심 요인은 지식을 흡수하고 창출하는 능력이다. 시장이나, 기술수준 '\n",
            "                            '측면에서 불리한 면은 극복이 가능하지만, 동태적 역량이 부족한 것은 극복이 불가능하다. '\n",
            "                            '한국 기업발전의 역사를 보더라도, 현재의 시장 점유율이나 기득권에 안주했던 기업은 쇠퇴의 '\n",
            "                            '길로 갔으며, 반면에 혁신형 기업은 초기의 불리한 여건을 극복하고 성장했다. 산업혁명 후 '\n",
            "                            '세계 경제의 주도국은 많은 변화가 있었는데, 신기술 패러다임에 대한 국가 적응능력의 '\n",
            "                            '차이가 이러한 변화의 원동력이 되었다.',\n",
            "                 'paragraph_id': 'PARS_FYK7ityr0D',\n",
            "                 'qas': [{'answers': [{'answer_start': 0,\n",
            "                                       'text': 'PPP framework'}],\n",
            "                          'is_impossible': False,\n",
            "                          'question': '동태적 경쟁력을 중시 하며 과정 및 경로의 중요성을 강조 하는 것은 '\n",
            "                                      '뭐야',\n",
            "                          'question_id': 'QUES_YOjd0S1wHE'}]},\n",
            "                {'context': 'Teece의 기업경쟁력 평가의 틀은 PPP로 요약된다. 여기서 PPP는 과정 '\n",
            "                            '(Process), 현위치(Position), 및 경로(Path)를 의미한다. 과정이란 '\n",
            "                            '기업이 일을 처리하는 행태를 의미하는데 네 가지의 핵심 기능을 포괄한다. 여기서 네 가지 '\n",
            "                            '핵심 기능이라 함은 종합/조정(coordination / integration), '\n",
            "                            '관행화(routinization), 학습(learning ), 재구성과 '\n",
            "                            '전환(reconfiguration and transformation)을 의미한다. '\n",
            "                            '종합/조정은 조직이 원활히 운영되기 위한 필수적 기능이다. 기업 내부 부서간의 종합조정 '\n",
            "                            '기능이 잘 작동해야 하며, 시장 등 외적인 환경 변화에 적응하는 유연성이 있어야 한다. '\n",
            "                            '관행화를 통하여 기업은 성과를 거둔다. 좋은 관행을 정착시킨 기업과 그렇지 못한 기업간의 '\n",
            "                            '경쟁력은 현격한 차이를 보인다. 학습은 새로운 관행을 창출하는 원동력이다. 학습은 '\n",
            "                            '개인만이 아니라 조직 단위에서도 이루어진다. 학습은 사회적이고 집단적인 과정을 통해서 '\n",
            "                            '주로 이루어진다. 재구성과 전환은 외적 환경이 급격하게 변화할 때 필요로 하는 기능이다. '\n",
            "                            '시장과 기술의 변화에 부응하여 조직이 재구성되고 조직의 경영방식이 전환되어야 한다.',\n",
            "                 'paragraph_id': 'PARS_wwj2PL5ZEj',\n",
            "                 'qas': [{'answers': [{'answer_start': 440, 'text': '학습'}],\n",
            "                          'is_impossible': False,\n",
            "                          'question': '새로운 관행을 창출하는 원동력은 뭐야',\n",
            "                          'question_id': 'QUES_cn1GLM3t4a'}]},\n",
            "                {'context': '기술개발력 지수와 기술개발성과지수를 종합하면, 종합 기술개발력 지수가 산출되는데 이 '\n",
            "                            '지수의 세계 순위는 미국, 일본, 독일, 소련, 스위스, 영국의 순이며, 한국은 18위에 '\n",
            "                            '해당된다. 이 연구의 결과는 과학기술정책의 수립에서 유용하게 활용되었다. 2010년을 '\n",
            "                            '향한 과학기술발전장기계획에는 이 순위를 어떻게 단계적으로 향상시킬 것인가에 대한 목표를 '\n",
            "                            '제시하고 있다. 2010 계획에서는 한국의 종합 과학기술력 선진 7개국 수준으로 '\n",
            "                            '향상시키는 것을 목표로 삼았다. 이 연구는 한국과학기술투자의 효율성과 관련한 논쟁을 '\n",
            "                            '일으키는 계기가 되었다. 앞에서 이미 설명한 바와 같이 한국의 기술개발력 지수는 12위인 '\n",
            "                            '반면 기술개발성과지수는 20위로 투입지표와 산출지표간에 괴리가 크다. 다시 말하면, '\n",
            "                            '투입은 많은데 비해서 상대적으로 성과는 낮다는 것이다. 경제기획원 등에서는 이 연구를 '\n",
            "                            '과학기술투자의 확대보다는 효율화가 더욱 시급하다는 주장의 근거로 삼았다.',\n",
            "                 'paragraph_id': 'PARS_h684AH3qc3',\n",
            "                 'qas': [{'answers': [],\n",
            "                          'is_impossible': True,\n",
            "                          'question': '과학기술정책의 폐지에서 유용하게 활용되는 게 뭐야',\n",
            "                          'question_id': 'QUES_CylGzQiSio'}]},\n",
            "                {'context': '세계화는 불가피한 추세이며 민간부문에서는 세계화가 불가피한 경쟁전략으로 인식되어 그동안 '\n",
            "                            '많은 진전이 있었다. 기술의 outsourcing 방식도 다양해지고 있으며, '\n",
            "                            '첨단기술분야에서 외국기업과의 전략적 제휴도 활발해지는 추세이다. 그러나 출연연구기관 및 '\n",
            "                            '대학의 세계화는 부진하다. 해외의 우수 대학 또는 연구기관과의 연구협력이나 인적교류가 '\n",
            "                            '별로 없으며, 국제 공동연구도 활성화되어 있지 못하다. 행정의 효율성 부문과 관련한 '\n",
            "                            'IMD의 평가는 높지 않다. 물론 IMD의 평가는 과학기술행정만이 아닌 행정 전반의 '\n",
            "                            '효율성이기는 하지만, 과학기술행정 부문의 경쟁력이 다른 행정부문의 경쟁력과 큰 차이가 '\n",
            "                            '있는 것은 아니다. 한국 행정의 공통적인 문제는 전문화가 잘 이루어지지 못한다는 점이다. '\n",
            "                            '고시 위주의 인력 채용은 과학기술과 같이 고도의 전문성을 요하는 부문에는 부적절하다. '\n",
            "                            '기술고시의 경우에도 초임 기준이기 때문에 과학기술에 상당한 경험이 축적된 중견의 전문가가 '\n",
            "                            '행정에 참여할 수 있는 길이 막혀 있다. 또한 과도한 순환보직 인사 관행 때문에 공무원이 '\n",
            "                            '한 분야의 전문가로서 발전하기 어렵다.',\n",
            "                 'paragraph_id': 'PARS_tFF67m8m93',\n",
            "                 'qas': [{'answers': [{'answer_start': 505,\n",
            "                                       'text': '과도한 순환보직'}],\n",
            "                          'is_impossible': False,\n",
            "                          'question': '어떤 인사 관례 때문에 공무원이 한 분야의 전문가로 발전하기 어려워',\n",
            "                          'question_id': 'QUES_NFowGV1eQB'}]},\n",
            "                {'context': '앞에서의 논의를 종합하여 기술경쟁력 평가의 구성요소를 정리하였다. 현위치 부문은 '\n",
            "                            '연구개발투자, 연구인력, 과학기술성과, 산업구조 등을 포함하여 현재의 기술수준을 '\n",
            "                            '나타내주는 양적 지표가 될 수 있도록 하였다. 현위치에 포함된 구성요소는 종합과학기술력 '\n",
            "                            '평가의 구성요소와 유사하지만, 산업구조에 관한 부문은 종합과학기술력 평가에는 포함하지 '\n",
            "                            '않은 내역이다. 과정 부문은 주로 동태적 경쟁력과 관련된 요소를 포함한다. 기업경영, '\n",
            "                            '산학연협력, 교육과 훈련체제, 세계화, 정부의 행정효율 등 기술혁신시스템의 효율성을 '\n",
            "                            '나타낼 수 있는 영역으로 구성된다. IMD의 평가와 비교하면, IMD는 기업경영과 정부의 '\n",
            "                            '기술관리만을 포함한데 반하여, 여기서는 산학연협력, 교육과 훈련체계, 세계화 등을 '\n",
            "                            '포함시킨 것이 차이이다. 경로 부문은 미래 기술패러다임에 대한 준비태세와 기술적 기회의 '\n",
            "                            '선택능력을 주로 평가한다.',\n",
            "                 'paragraph_id': 'PARS_XkzR4dZuWI',\n",
            "                 'qas': [{'answers': [],\n",
            "                          'is_impossible': True,\n",
            "                          'question': '연구개발투자 연구인력 과학기술성과 산업구조 등을 포함하여 미래의 '\n",
            "                                      '기술수준을 나타내주는 양적 지표는 뭐야',\n",
            "                          'question_id': 'QUES_7hO0jtRJNe'}]},\n",
            "                {'context': 'IMD 국가경쟁력 평가의 이론적 근거를 제공한 연구는 Porter(1990) 이다. 그는 '\n",
            "                            '기업의 경영전략에 대한 이론적 틀을 국가 단위의 경쟁전략에 적용하 여, 경쟁력 관련 '\n",
            "                            '논의에 새로운 지평을 열었다. 인력의 양과 질, 자본축적 등 전통적 경제변수에 주로 '\n",
            "                            '근거한 경쟁력 논의에서 간과되었던 구조적 요인들을 추가하였다. 전후방관련산업의 병행발전, '\n",
            "                            '기업간 네트워크 등 경제의 구조적 효율성을 나타내는 변수들이 국가 경쟁력의 결정요인으로서 '\n",
            "                            '매우 중요하다는 것을 그는 주장하였다. 한국의 국가 경쟁력 순위는 IMF 경제 위기 '\n",
            "                            '직후에 하락하였다가 최근에 회복되는 추세이다. 한국의 과학기술 부문의 순위는 국가경쟁력 '\n",
            "                            '순위보다는 높다. 즉 과학기술부문이 다른 부문보다는 상대적인 경쟁력이 강하다는 것을 '\n",
            "                            '의미한다.',\n",
            "                 'paragraph_id': 'PARS_j2YPBo6Bsl',\n",
            "                 'qas': [{'answers': [{'answer_start': 30, 'text': 'Porter'}],\n",
            "                          'is_impossible': False,\n",
            "                          'question': 'IMD 국가경쟁력 평가의 이론적 근거를 제공한 전문가는 누구인가',\n",
            "                          'question_id': 'QUES_NavH024fPg'}]}],\n",
            " 'title': '국가 기술경쟁력 평가의 방법론과 응용'}\n"
          ]
        }
      ]
    },
    {
      "cell_type": "code",
      "source": [
        "documents = []\n",
        "for d in train_data['data']:\n",
        "  documents += [p['context'] for p in d['paragraphs']]\n",
        "  \n",
        "print('전체 텍스트 수: {}'.format(len(documents)))"
      ],
      "metadata": {
        "id": "r2q0K5jwquvD",
        "colab": {
          "base_uri": "https://localhost:8080/"
        },
        "outputId": "d6375bac-f625-4e65-bd66-6321448012d2"
      },
      "execution_count": 5,
      "outputs": [
        {
          "output_type": "stream",
          "name": "stdout",
          "text": [
            "전체 텍스트 수: 37329\n"
          ]
        }
      ]
    },
    {
      "cell_type": "code",
      "source": [
        "len_docs = []\n",
        "for d in documents:\n",
        "  len_docs.append(len(d.split()))\n",
        "print('텍스트 최대길이: {}'.format(np.max(len_docs)))\n",
        "print('텍스트 최소길이: {}'.format(np.min(len_docs)))\n",
        "print('텍스트 평균 길이: {:.2f}'.format(np.mean(len_docs)))\n",
        "print('텍스트 길이 표준 편차: {:.2f}'.format(np.std(len_docs)))\n",
        "print('텍스트 중간 길이: {}'.format(np.median(len_docs)))\n",
        "print('1사분위 텍스트 길이: {}'.format(np.percentile(len_docs, 25)))\n",
        "print('3사분위 텍스트 길이: {}'.format(np.percentile(len_docs, 75)))"
      ],
      "metadata": {
        "colab": {
          "base_uri": "https://localhost:8080/"
        },
        "id": "WlQr7Bvxtrjw",
        "outputId": "0b5309bc-9c5c-43eb-e8b1-069888c19e48"
      },
      "execution_count": 11,
      "outputs": [
        {
          "output_type": "stream",
          "name": "stdout",
          "text": [
            "텍스트 최대길이: 180\n",
            "텍스트 최소길이: 38\n",
            "텍스트 평균 길이: 111.88\n",
            "텍스트 길이 표준 편차: 18.96\n",
            "텍스트 중간 길이: 111.0\n",
            "1사분위 텍스트 길이: 98.0\n",
            "3사분위 텍스트 길이: 126.0\n"
          ]
        }
      ]
    },
    {
      "cell_type": "code",
      "source": [
        "plt.figure(figsize=(12,5))\n",
        "plt.boxplot([len_docs],\n",
        "            labels=['counts'],\n",
        "            showmeans=True)"
      ],
      "metadata": {
        "colab": {
          "base_uri": "https://localhost:8080/",
          "height": 466
        },
        "id": "zHjAlLX6uwoa",
        "outputId": "d119ea7a-531f-4bb3-ce74-4cb01b736461"
      },
      "execution_count": 14,
      "outputs": [
        {
          "output_type": "execute_result",
          "data": {
            "text/plain": [
              "{'boxes': [<matplotlib.lines.Line2D at 0x7f2c0549f710>],\n",
              " 'caps': [<matplotlib.lines.Line2D at 0x7f2c054ab710>,\n",
              "  <matplotlib.lines.Line2D at 0x7f2c054abc50>],\n",
              " 'fliers': [<matplotlib.lines.Line2D at 0x7f2c054b2c90>],\n",
              " 'means': [<matplotlib.lines.Line2D at 0x7f2c05591a50>],\n",
              " 'medians': [<matplotlib.lines.Line2D at 0x7f2c054b2210>],\n",
              " 'whiskers': [<matplotlib.lines.Line2D at 0x7f2c0549fc50>,\n",
              "  <matplotlib.lines.Line2D at 0x7f2c054ab1d0>]}"
            ]
          },
          "metadata": {},
          "execution_count": 14
        },
        {
          "output_type": "display_data",
          "data": {
            "text/plain": [
              "<Figure size 864x360 with 1 Axes>"
            ],
            "image/png": "[encoded data removed]"
          },
          "metadata": {
            "needs_background": "light"
          }
        }
      ]
    },
    {
      "cell_type": "code",
      "source": [
        "plt.figure(figsize=(15, 10))\n",
        "plt.hist(len_docs, bins=150, range=[0,200], facecolor='r', density=True, label='train')\n",
        "plt.title(\"Distribution of word count in paragraph\", fontsize=15)\n",
        "plt.legend()\n",
        "plt.xlabel('Number of words', fontsize=15)\n",
        "plt.ylabel('Probablility', fontsize=15)"
      ],
      "metadata": {
        "colab": {
          "base_uri": "https://localhost:8080/",
          "height": 646
        },
        "id": "FYHeaAR4vkHF",
        "outputId": "123832a6-6877-4059-f440-642af72d09aa"
      },
      "execution_count": 17,
      "outputs": [
        {
          "output_type": "execute_result",
          "data": {
            "text/plain": [
              "Text(0, 0.5, 'Probablility')"
            ]
          },
          "metadata": {},
          "execution_count": 17
        },
        {
          "output_type": "display_data",
          "data": {
            "text/plain": [
              "<Figure size 1080x720 with 1 Axes>"
            ],
            "image/png": "[encoded data removed]"
          },
          "metadata": {
            "needs_background": "light"
          }
        }
      ]
    },
    {
      "cell_type": "code",
      "source": [
        ""
      ],
      "metadata": {
        "id": "KNmXKQFNwcCA"
      },
      "execution_count": null,
      "outputs": []
    }
  ]
}
