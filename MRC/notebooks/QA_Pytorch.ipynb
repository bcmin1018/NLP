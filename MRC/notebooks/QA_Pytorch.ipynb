{
  "cells": [
    {
      "cell_type": "markdown",
      "metadata": {
        "id": "view-in-github",
        "colab_type": "text"
      },
      "source": [
        "<a href=\"https://colab.research.google.com/github/bcmin1018/NLP/blob/main/MRC/notebooks/QA_Pytorch.ipynb\" target=\"_parent\"><img src=\"https://colab.research.google.com/assets/colab-badge.svg\" alt=\"Open In Colab\"/></a>"
      ]
    },
    {
      "cell_type": "code",
      "execution_count": 1,
      "metadata": {
        "colab": {
          "base_uri": "https://localhost:8080/"
        },
        "id": "wIy0OAbO_G5D",
        "outputId": "6f68f6ea-d0ee-4cfa-895d-d7b6649e4dce"
      },
      "outputs": [
        {
          "output_type": "stream",
          "name": "stdout",
          "text": [
            "Mounted at /content/drive/\n"
          ]
        }
      ],
      "source": [
        "from google.colab import drive\n",
        "drive.mount('/content/drive/')"
      ]
    },
    {
      "cell_type": "code",
      "execution_count": 2,
      "metadata": {
        "colab": {
          "base_uri": "https://localhost:8080/"
        },
        "id": "ZTNT26JQ_-HG",
        "outputId": "66950a58-e9aa-470a-8b1b-a076379cd40a"
      },
      "outputs": [
        {
          "output_type": "stream",
          "name": "stdout",
          "text": [
            "/content/drive/MyDrive/Colab Notebooks/QA/QA_KOBERT\n"
          ]
        }
      ],
      "source": [
        "%cd \"/content/drive/MyDrive/Colab Notebooks/QA/QA_KOBERT\""
      ]
    },
    {
      "cell_type": "code",
      "execution_count": 3,
      "metadata": {
        "id": "pG29EpNN94eR"
      },
      "outputs": [],
      "source": [
        "from torch.utils.data import Dataset\n",
        "from modules.utils import load_json\n",
        "import numpy as np\n",
        "import os\n",
        "import torch\n",
        "\n",
        "class QADataset(Dataset):\n",
        "    \n",
        "    def __init__ (self, data_dir: str, tokenizer, max_seq_len: int, mode = 'train', debug = False):\n",
        "        self.mode = mode\n",
        "        self.data = load_json(data_dir)\n",
        "        \n",
        "        # self.encodings = encodings\n",
        "        self.tokenizer = tokenizer\n",
        "        self.max_seq_len = max_seq_len\n",
        "        self.debug = debug\n",
        "        if mode == 'test':\n",
        "            self.encodings, self.question_ids = self.preprocess()\n",
        "        else:\n",
        "            self.encodings, self.answers = self.preprocess()\n",
        "        \n",
        "    def __len__(self):\n",
        "        return len(self.encodings.input_ids)\n",
        "\n",
        "    def __getitem__(self, index: int):\n",
        "        return {key: torch.tensor(val[index]) for key, val in self.encodings.items()}\n",
        "\n",
        "    # 훈련, 검증, 테스트 데이터에 따라 토크나이징 결과 값을 받아오는 함수\n",
        "    def preprocess(self):\n",
        "        contexts, questions, answers, question_ids = self.read_squad()\n",
        "        if self.mode == 'test':\n",
        "            encodings = self.tokenizer(contexts, questions, truncation=True, max_length = self.max_seq_len, padding=True)\n",
        "            return encodings, question_ids\n",
        "        else:\n",
        "            self.add_end_idx(answers, contexts)\n",
        "            encodings = self.tokenizer(contexts, questions, truncation=True, max_length = self.max_seq_len, padding=True)\n",
        "            self.add_token_positions(encodings, answers)\n",
        "        \n",
        "            return encodings, answers\n",
        "\n",
        "    #스쿼드 데이터를 리스트 형태로 변환 하는 함수\n",
        "    def read_squad(self):\n",
        "      contexts = []\n",
        "      questions = []\n",
        "      question_ids = []\n",
        "      answers = []\n",
        "    \n",
        "      # train - val split\n",
        "      if self.mode == 'train':\n",
        "          self.data['data'] = self.data['data'][:-1*int(len(self.data['data'])*0.1)]\n",
        "      elif self.mode == 'val':\n",
        "          self.data['data'] = self.data['data'][-1*int(len(self.data['data'])*0.1):]\n",
        "      \n",
        "      \n",
        "      till = 100 if self.debug else len(self.data['data'])\n",
        "      \n",
        "\n",
        "      for group in self.data['data'][:till]:\n",
        "          for passage in group['paragraphs']:\n",
        "              context = passage['context']\n",
        "              for qa in passage['qas']:\n",
        "                  question = qa['question']\n",
        "                  if self.mode == 'test':\n",
        "                      contexts.append(context)\n",
        "                      questions.append(question)\n",
        "                      question_ids.append(qa['question_id'])\n",
        "                  else: # train or val\n",
        "                      for ans in qa['answers']:\n",
        "                          contexts.append(context)\n",
        "                          questions.append(question)\n",
        "\n",
        "                          if qa['is_impossible']:\n",
        "                              answers.append({'text':'','answer_start':-1})\n",
        "                          else:\n",
        "                              answers.append(ans)\n",
        "              \n",
        "      # return formatted data lists\n",
        "      return contexts, questions, answers, question_ids\n",
        "\n",
        "    # context에서 정답의 마지막 인덱스를 찾는 함수\n",
        "    def add_end_idx(self, answers, contexts):\n",
        "      for answer, context in zip(answers, contexts):\n",
        "          gold_text = answer['text']\n",
        "          start_idx = answer['answer_start']\n",
        "          end_idx = start_idx + len(gold_text)\n",
        "\n",
        "          # in case the indices are off 1-2 idxs\n",
        "          if context[start_idx:end_idx] == gold_text:\n",
        "              answer['answer_end'] = end_idx\n",
        "          else:\n",
        "              for n in [1, 2]:\n",
        "                  if context[start_idx-n:end_idx-n] == gold_text:\n",
        "                      answer['answer_start'] = start_idx - n\n",
        "                      answer['answer_end'] = end_idx - n\n",
        "                  elif context[start_idx+n:end_idx+n] == gold_text:\n",
        "                      answer['answer_start'] = start_idx + n\n",
        "                      answer['answer_end'] = end_idx + n\n",
        "\n",
        "    #토크나이저에 맞게 정답의 인덱스를 다시 구하는 함수\n",
        "    def add_token_positions(self, encodings, answers):\n",
        "        # should use Fast tokenizer\n",
        "        start_positions = []\n",
        "        end_positions = []\n",
        "        for i in range(len(answers)):\n",
        "            # 답변이 없는 경우\n",
        "            if answers[i]['answer_start'] == -1:\n",
        "                # set [CLS] token as answer if is_impossible\n",
        "                start_positions.append(0)\n",
        "                end_positions.append(1)\n",
        "            else:\n",
        "                start_positions.append(encodings.char_to_token(i, answers[i]['answer_start']))\n",
        "\n",
        "                assert 'answer_end' in answers[i].keys(), f'no answer_end at {i}'\n",
        "                end_positions.append(encodings.char_to_token(i, answers[i]['answer_end']))\n",
        "\n",
        "            # answer passage truncated\n",
        "            if start_positions[-1] is None:\n",
        "                start_positions[-1] = tokenizer.model_max_length\n",
        "            # end position cannot be found, shift until found\n",
        "            shift = 1\n",
        "            while end_positions[-1] is None:\n",
        "                end_positions[-1] = encodings.char_to_token(i, answers[i]['answer_end'] - shift)\n",
        "                shift += 1\n",
        "        # char-based -> token based\n",
        "        encodings.update({'start_positions': start_positions, 'end_positions': end_positions})"
      ]
    },
    {
      "cell_type": "code",
      "execution_count": 4,
      "metadata": {
        "id": "Ey5pjKy7JB2J"
      },
      "outputs": [],
      "source": [
        "from time import time\n",
        "from tqdm import tqdm\n",
        "\n",
        "class Trainer():\n",
        "\n",
        "    def __init__(self,\n",
        "                 model,\n",
        "                 optimizer,\n",
        "                 loss,\n",
        "                 device,\n",
        "                 tokenizer):\n",
        "        \n",
        "        self.model = model\n",
        "        self.optimizer = optimizer\n",
        "        self.loss = loss\n",
        "        self.device = device\n",
        "        self.tokenizer = tokenizer\n",
        "\n",
        "        # History\n",
        "        self.loss_sum = 0  # Epoch loss sum\n",
        "        self.loss_mean = 0 # Epoch loss mean\n",
        "        self.y = list()\n",
        "        self.y_preds = list()\n",
        "        self.score_dict = dict()  # metric score\n",
        "        self.elapsed_time = 0\n",
        "        \n",
        "\n",
        "    def train(self, mode, dataloader, tokenizer, epoch_index=0):\n",
        "        \n",
        "        start_timestamp = time()\n",
        "        self.model.train() if mode == 'train' else self.model.eval()\n",
        " \n",
        "        for batch_index, batch in enumerate(tqdm(dataloader, leave=True)):\n",
        "            \n",
        "            # initialize calculated gradients (from prev step)\n",
        "            self.optimizer.zero_grad()\n",
        "            # pull all the tensor batches required for training\n",
        "            input_ids = batch['input_ids'].to(self.device)\n",
        "            attention_mask = batch['attention_mask'].to(self.device)\n",
        "            start_positions = batch['start_positions'].to(self.device)\n",
        "            end_positions = batch['end_positions'].to(self.device)\n",
        "            \n",
        "            # train model on batch and return outputs (incl. loss)\n",
        "            # Inference\n",
        "            outputs = self.model(input_ids, attention_mask=attention_mask,\n",
        "                            start_positions=start_positions,\n",
        "                            end_positions=end_positions)\n",
        "            \n",
        "            loss = outputs.loss\n",
        "            start_score = outputs.start_logits\n",
        "            end_score = outputs.end_logits\n",
        "            \n",
        "            \n",
        "            start_idx = torch.argmax(start_score, dim=1).cpu().tolist()\n",
        "            end_idx = torch.argmax(end_score, dim=1).cpu().tolist()\n",
        "            \n",
        "            # Update\n",
        "            if mode == 'train':\n",
        "                loss.backward()\n",
        "                optimizer.step()\n",
        "                \n",
        "            elif mode in ['val', 'test']:\n",
        "                pass\n",
        "            \n",
        "            # History\n",
        "            # self.filenames += filename\n",
        "            self.loss_sum += loss.item()\n",
        "            \n",
        "            # create answer; list of strings\n",
        "            for i in range(len(input_ids)):\n",
        "                if start_idx[i] > end_idx[i]:\n",
        "                    output = ''\n",
        "                \n",
        "                self.y_preds.append(self.tokenizer.decode(input_ids[i][start_idx[i]:end_idx[i]]))\n",
        "                self.y.append(self.tokenizer.decode(input_ids[i][start_positions[i]:end_positions[i]]))\n",
        "\n",
        "\n",
        "            # Logging\n",
        "            if batch_index % 100 == 0:\n",
        "                msg = f\"batch: {batch_index}/{len(dataloader)} loss: {loss.item()}\"\n",
        "                print(msg)\n",
        "                \n",
        "        # Epoch history\n",
        "        self.loss_mean = self.loss_sum / len(dataloader)  # Epoch loss mean\n",
        "\n",
        "        # Metric\n",
        "        from sklearn.metrics import accuracy_score\n",
        "        accuracy_score = accuracy_score(self.y, self.y_preds)\n",
        "        print(accuracy_score)\n",
        "        \n",
        "        # Elapsed time\n",
        "        end_timestamp = time()\n",
        "        self.elapsed_time = end_timestamp - start_timestamp\n",
        "\n",
        "    def clear_history(self):\n",
        "        self.loss_sum = 0\n",
        "        self.loss_mean = 0\n",
        "        self.y_preds = list()\n",
        "        self.y = list()\n",
        "        self.score_dict = dict()\n",
        "        self.elapsed_time = 0"
      ]
    },
    {
      "cell_type": "code",
      "execution_count": 5,
      "metadata": {
        "id": "1T0JZ4ZATV8J"
      },
      "outputs": [],
      "source": [
        "import numpy as np\n",
        "import logging\n",
        "\n",
        "class EarlyStopper():\n",
        "\n",
        "    def __init__(self, patience: int, mode:str):\n",
        "        self.patience = patience\n",
        "        self.mode = mode\n",
        "\n",
        "        # Initiate\n",
        "        self.patience_counter = 0\n",
        "        self.stop = False\n",
        "        self.best_loss = np.inf\n",
        "\n",
        "        msg = f\"Initiated early stopper, mode: {self.mode}, best score: {self.best_loss}, patience: {self.patience}\"\n",
        "        print(msg)\n",
        "        \n",
        "    def check_early_stopping(self, loss: float)-> None:\n",
        "        loss = -loss if self.mode == 'max' else loss  # get max value if mode set to max\n",
        "\n",
        "        if loss > self.best_loss:\n",
        "            # got worse score\n",
        "            self.patience_counter += 1\n",
        "\n",
        "            msg = f\"Early stopper, counter {self.patience_counter}/{self.patience}, best:{abs(self.best_loss)} -> now:{abs(loss)}\"\n",
        "            print(msg)\n",
        "            \n",
        "            if self.patience_counter == self.patience:\n",
        "                msg = f\"Early stopper, stop\"\n",
        "                print(msg)\n",
        "                self.stop = True  # end\n",
        "\n",
        "        elif loss <= self.best_loss:\n",
        "            # got better score\n",
        "            self.patience_counter = 0\n",
        "            print(f\"Early stopper, counter {self.patience_counter}/{self.patience}, best:{abs(self.best_loss)} -> now:{abs(loss)}\")\n",
        "            print(f\"Set counter as {self.patience_counter}\")\n",
        "            print(f\"Update best score as {abs(loss)}\")\n",
        "            self.best_loss = loss\n",
        "            \n",
        "        else:\n",
        "            print('debug')"
      ]
    },
    {
      "cell_type": "code",
      "execution_count": 6,
      "metadata": {
        "id": "apoZ3d_rfxvM"
      },
      "outputs": [],
      "source": [
        "#config.py\n",
        "config = {\n",
        "    'DATALOADER': {\n",
        "      'batch_size': 32,\n",
        "      'num_workers': 0,\n",
        "      'shuffle': True,\n",
        "      'pin_memory': True,\n",
        "      'drop_last': False\n",
        "    },\n",
        "    'TRAINER': {\n",
        "        'optimizer' : 'adamw',\n",
        "        'learning_rate' : '5.0e-4',\n",
        "        'loss': 'crossentropy',\n",
        "        'seed': 2022,\n",
        "        'n_epochs': 1,\n",
        "        'early_stopping_target': 'val_loss',\n",
        "        'early_stopping_patience': 10,\n",
        "        'early_stopping_mode': 'min'\n",
        "    }\n",
        "}"
      ]
    },
    {
      "cell_type": "code",
      "execution_count": 7,
      "metadata": {
        "id": "cBHmAoTeVP-N"
      },
      "outputs": [],
      "source": [
        "from datetime import datetime, timezone, timedelta\n",
        "PROJECT_DIR = \"/content/drive/MyDrive/Colab Notebooks/QA/QA_KOBERT\"\n",
        "kst = timezone(timedelta(hours=9))\n",
        "train_serial = datetime.now(tz=kst).strftime(\"%Y%m%d_%H%M%S\")\n",
        "RECORDER_DIR = os.path.join(PROJECT_DIR, 'results', 'train', train_serial)\n",
        "os.makedirs(RECORDER_DIR, exist_ok=True)"
      ]
    },
    {
      "cell_type": "code",
      "execution_count": 8,
      "metadata": {
        "colab": {
          "base_uri": "https://localhost:8080/",
          "height": 804
        },
        "id": "s-GuoER4Qj5Z",
        "outputId": "b041c781-06f1-4c4e-d856-bf1d18593390"
      },
      "outputs": [
        {
          "output_type": "stream",
          "name": "stdout",
          "text": [
            "Looking in indexes: https://pypi.org/simple, https://us-python.pkg.dev/colab-wheels/public/simple/\n",
            "Collecting transformers\n",
            "  Downloading transformers-4.20.1-py3-none-any.whl (4.4 MB)\n",
            "\u001b[K     |████████████████████████████████| 4.4 MB 4.1 MB/s \n",
            "\u001b[?25hRequirement already satisfied: importlib-metadata in /usr/local/lib/python3.7/dist-packages (from transformers) (4.11.4)\n",
            "Requirement already satisfied: tqdm>=4.27 in /usr/local/lib/python3.7/dist-packages (from transformers) (4.64.0)\n",
            "Requirement already satisfied: packaging>=20.0 in /usr/local/lib/python3.7/dist-packages (from transformers) (21.3)\n",
            "Requirement already satisfied: numpy>=1.17 in /usr/local/lib/python3.7/dist-packages (from transformers) (1.21.6)\n",
            "Collecting pyyaml>=5.1\n",
            "  Downloading PyYAML-6.0-cp37-cp37m-manylinux_2_5_x86_64.manylinux1_x86_64.manylinux_2_12_x86_64.manylinux2010_x86_64.whl (596 kB)\n",
            "\u001b[K     |████████████████████████████████| 596 kB 58.7 MB/s \n",
            "\u001b[?25hCollecting tokenizers!=0.11.3,<0.13,>=0.11.1\n",
            "  Downloading tokenizers-0.12.1-cp37-cp37m-manylinux_2_12_x86_64.manylinux2010_x86_64.whl (6.6 MB)\n",
            "\u001b[K     |████████████████████████████████| 6.6 MB 39.6 MB/s \n",
            "\u001b[?25hRequirement already satisfied: filelock in /usr/local/lib/python3.7/dist-packages (from transformers) (3.7.1)\n",
            "Collecting huggingface-hub<1.0,>=0.1.0\n",
            "  Downloading huggingface_hub-0.8.1-py3-none-any.whl (101 kB)\n",
            "\u001b[K     |████████████████████████████████| 101 kB 10.0 MB/s \n",
            "\u001b[?25hRequirement already satisfied: regex!=2019.12.17 in /usr/local/lib/python3.7/dist-packages (from transformers) (2022.6.2)\n",
            "Requirement already satisfied: requests in /usr/local/lib/python3.7/dist-packages (from transformers) (2.23.0)\n",
            "Requirement already satisfied: typing-extensions>=3.7.4.3 in /usr/local/lib/python3.7/dist-packages (from huggingface-hub<1.0,>=0.1.0->transformers) (4.1.1)\n",
            "Requirement already satisfied: pyparsing!=3.0.5,>=2.0.2 in /usr/local/lib/python3.7/dist-packages (from packaging>=20.0->transformers) (3.0.9)\n",
            "Requirement already satisfied: zipp>=0.5 in /usr/local/lib/python3.7/dist-packages (from importlib-metadata->transformers) (3.8.0)\n",
            "Requirement already satisfied: urllib3!=1.25.0,!=1.25.1,<1.26,>=1.21.1 in /usr/local/lib/python3.7/dist-packages (from requests->transformers) (1.24.3)\n",
            "Requirement already satisfied: chardet<4,>=3.0.2 in /usr/local/lib/python3.7/dist-packages (from requests->transformers) (3.0.4)\n",
            "Requirement already satisfied: idna<3,>=2.5 in /usr/local/lib/python3.7/dist-packages (from requests->transformers) (2.10)\n",
            "Requirement already satisfied: certifi>=2017.4.17 in /usr/local/lib/python3.7/dist-packages (from requests->transformers) (2022.6.15)\n",
            "Installing collected packages: pyyaml, tokenizers, huggingface-hub, transformers\n",
            "  Attempting uninstall: pyyaml\n",
            "    Found existing installation: PyYAML 3.13\n",
            "    Uninstalling PyYAML-3.13:\n",
            "      Successfully uninstalled PyYAML-3.13\n",
            "Successfully installed huggingface-hub-0.8.1 pyyaml-6.0 tokenizers-0.12.1 transformers-4.20.1\n"
          ]
        },
        {
          "output_type": "display_data",
          "data": {
            "application/vnd.colab-display-data+json": {
              "pip_warning": {
                "packages": [
                  "yaml"
                ]
              }
            }
          },
          "metadata": {}
        },
        {
          "output_type": "stream",
          "name": "stdout",
          "text": [
            "Looking in indexes: https://pypi.org/simple, https://us-python.pkg.dev/colab-wheels/public/simple/\n",
            "Collecting sentencepiece\n",
            "  Downloading sentencepiece-0.1.96-cp37-cp37m-manylinux_2_17_x86_64.manylinux2014_x86_64.whl (1.2 MB)\n",
            "\u001b[K     |████████████████████████████████| 1.2 MB 3.7 MB/s \n",
            "\u001b[?25hInstalling collected packages: sentencepiece\n",
            "Successfully installed sentencepiece-0.1.96\n"
          ]
        }
      ],
      "source": [
        "!pip install transformers\n",
        "!pip install sentencepiece"
      ]
    },
    {
      "cell_type": "code",
      "execution_count": 9,
      "metadata": {
        "colab": {
          "base_uri": "https://localhost:8080/",
          "height": 737,
          "referenced_widgets": [
            "e99ff02b7f084713b733904449ed2c6f",
            "904e31fb4abb4ddaa249cbceb44f1e29",
            "44c3a44b155c4c2eb943fdb088cf2a04",
            "967034393e5b4ad6a135f9d9c536f6a7",
            "d42d87817af1423da67c022feee90313",
            "692347e0d6e145eeaaf70d53ae98d5e8",
            "9604f86c434f4ac1acfae59ef2b3d40f",
            "ac0f08f98abd448d87e4f685724b99ff",
            "3c596fd6bd1c4146bf40650caeb2c1cb",
            "8c404cec293c495bb84a72e11ada312f",
            "2e5edd0e86a14b148f403b8019408591",
            "1c2eef69695b4b9b9641cd51d7c84ee8",
            "696c32eebcd74a75be1a828caee95c7f",
            "ca6e03659e8a4dab979ba242fef1de7f",
            "010d9636afb545f8b9084ee8c798c681",
            "9f2ebd76bf4c480f823b904d076ae8fb",
            "924e3e61afe34fbc93fd3f3cbb8972f4",
            "3228038463e44db2a3b54f882c3296ef",
            "0b0253f55900425ea292f7c2746c3693",
            "544288590e5e4cd1924ab4674a798fe8",
            "b438f26bde404c45a47bbca3b9d4e3f3",
            "805ce3a52dee406280944316f4d172c9",
            "514f46960014456991dbfe3eb05a5186",
            "d09016b8cd33420f8b34de08cda836c7",
            "e0b0040660e0497bac84f972c57d7cd4",
            "0e7e74727e4245fcbe03f5f71b877e3a",
            "0282e726ac864c8885470f463e65f3db",
            "a769712621af4495b10d77baec642936",
            "8e5b0aa213d34b4bad1d5108d3eb98ad",
            "0d1968b096fd455cb02919c0d61fa825",
            "8086e2a829ea40d185fbb16b6d8fe4c3",
            "4f1630d150b6495b8f7d54b5261ba8b6",
            "8ee8e43592c34efbb9cf812d823aab69",
            "69bdb70a7e744f13beebf06767cdb51e",
            "77b4264ab66341b0bbcf3b53a2919bc4",
            "21f449247dee4e7dba7659eacce761aa",
            "a7d5c547eb6a4ea1824d1b243a848525",
            "381a8732711a4d1c9ab71741acad9466",
            "8fc888beabb24d068477b989cdf2904d",
            "5bc4dcd4d9b640e8b60bdaaaf46cfe52",
            "b4edc33d9b1b4655bf85123f97a4e83a",
            "d59f9019c8d14140bead971636c2e1d5",
            "8112c42670de4c758291690c5985eb14",
            "8ece955069f74c9c83f88d391a1da988"
          ]
        },
        "id": "GksAH4uwOdSt",
        "outputId": "f0db9a75-aa68-4509-bfba-d59f00b545be"
      },
      "outputs": [
        {
          "output_type": "display_data",
          "data": {
            "text/plain": [
              "Downloading:   0%|          | 0.00/61.0 [00:00<?, ?B/s]"
            ],
            "application/vnd.jupyter.widget-view+json": {
              "version_major": 2,
              "version_minor": 0,
              "model_id": "e99ff02b7f084713b733904449ed2c6f"
            }
          },
          "metadata": {}
        },
        {
          "output_type": "display_data",
          "data": {
            "text/plain": [
              "Downloading:   0%|          | 0.00/257k [00:00<?, ?B/s]"
            ],
            "application/vnd.jupyter.widget-view+json": {
              "version_major": 2,
              "version_minor": 0,
              "model_id": "1c2eef69695b4b9b9641cd51d7c84ee8"
            }
          },
          "metadata": {}
        },
        {
          "output_type": "display_data",
          "data": {
            "text/plain": [
              "Downloading:   0%|          | 0.00/458 [00:00<?, ?B/s]"
            ],
            "application/vnd.jupyter.widget-view+json": {
              "version_major": 2,
              "version_minor": 0,
              "model_id": "514f46960014456991dbfe3eb05a5186"
            }
          },
          "metadata": {}
        },
        {
          "output_type": "stream",
          "name": "stdout",
          "text": [
            "/usr/local/lib/python3.7/dist-packages/gdown/cli.py:131: FutureWarning: Option `--id` was deprecated in version 4.3.1 and will be removed in 5.0. You don't need to pass it anymore to use a file ID.\n",
            "  category=FutureWarning,\n",
            "Downloading...\n",
            "From: https://drive.google.com/uc?id=1n74_kfEjrjkHYsUr1CugGgzxL7ns28gV\n",
            "To: /content/drive/MyDrive/Colab Notebooks/QA/QA_KOBERT/train.zip\n",
            "100% 17.4M/17.4M [00:00<00:00, 163MB/s]\n",
            "/usr/local/lib/python3.7/dist-packages/gdown/cli.py:131: FutureWarning: Option `--id` was deprecated in version 4.3.1 and will be removed in 5.0. You don't need to pass it anymore to use a file ID.\n",
            "  category=FutureWarning,\n",
            "Downloading...\n",
            "From: https://drive.google.com/uc?id=1lMszENg5tEyeTnm2XR0X0876HKltWlLk\n",
            "To: /content/drive/MyDrive/Colab Notebooks/QA/QA_KOBERT/test.zip\n",
            "100% 844k/844k [00:00<00:00, 109MB/s]\n",
            "/usr/local/lib/python3.7/dist-packages/gdown/cli.py:131: FutureWarning: Option `--id` was deprecated in version 4.3.1 and will be removed in 5.0. You don't need to pass it anymore to use a file ID.\n",
            "  category=FutureWarning,\n",
            "Downloading...\n",
            "From: https://drive.google.com/uc?id=14FUap4xX_XMfq1T4RS3nJXeomQiDm4Nu\n",
            "To: /content/drive/MyDrive/Colab Notebooks/QA/QA_KOBERT/sample.json\n",
            "100% 28.1k/28.1k [00:00<00:00, 46.3MB/s]\n",
            "/usr/local/lib/python3.7/dist-packages/gdown/cli.py:131: FutureWarning: Option `--id` was deprecated in version 4.3.1 and will be removed in 5.0. You don't need to pass it anymore to use a file ID.\n",
            "  category=FutureWarning,\n",
            "Downloading...\n",
            "From: https://drive.google.com/uc?id=1ygUD3YA9goXs20h6gvmrxkBjMzJlCQjR\n",
            "To: /content/drive/MyDrive/Colab Notebooks/QA/QA_KOBERT/sample_submission.csv\n",
            "100% 27.7k/27.7k [00:00<00:00, 34.5MB/s]\n",
            "replace train.json? [y]es, [n]o, [A]ll, [N]one, [r]ename: y\n",
            "replace test.json? [y]es, [n]o, [A]ll, [N]one, [r]ename: y\n"
          ]
        },
        {
          "output_type": "display_data",
          "data": {
            "text/plain": [
              "Downloading:   0%|          | 0.00/54.0M [00:00<?, ?B/s]"
            ],
            "application/vnd.jupyter.widget-view+json": {
              "version_major": 2,
              "version_minor": 0,
              "model_id": "69bdb70a7e744f13beebf06767cdb51e"
            }
          },
          "metadata": {}
        },
        {
          "output_type": "stream",
          "name": "stderr",
          "text": [
            "Some weights of the model checkpoint at monologg/koelectra-small-v3-discriminator were not used when initializing ElectraForQuestionAnswering: ['discriminator_predictions.dense_prediction.bias', 'discriminator_predictions.dense.weight', 'discriminator_predictions.dense.bias', 'discriminator_predictions.dense_prediction.weight']\n",
            "- This IS expected if you are initializing ElectraForQuestionAnswering from the checkpoint of a model trained on another task or with another architecture (e.g. initializing a BertForSequenceClassification model from a BertForPreTraining model).\n",
            "- This IS NOT expected if you are initializing ElectraForQuestionAnswering from the checkpoint of a model that you expect to be exactly identical (initializing a BertForSequenceClassification model from a BertForSequenceClassification model).\n",
            "Some weights of ElectraForQuestionAnswering were not initialized from the model checkpoint at monologg/koelectra-small-v3-discriminator and are newly initialized: ['qa_outputs.bias', 'qa_outputs.weight']\n",
            "You should probably TRAIN this model on a down-stream task to be able to use it for predictions and inference.\n"
          ]
        },
        {
          "output_type": "stream",
          "name": "stdout",
          "text": [
            "Initiated early stopper, mode: min, best score: inf, patience: 10\n"
          ]
        }
      ],
      "source": [
        "# random seed\n",
        "import random\n",
        "torch.manual_seed(config['TRAINER']['seed'])\n",
        "torch.backends.cudnn.deterministic = True\n",
        "torch.backends.cudnn.benchmark = False\n",
        "np.random.seed(config['TRAINER']['seed'])\n",
        "random.seed(config['TRAINER']['seed'])\n",
        "\n",
        "# get gpu or cpu device\n",
        "device = torch.device(\"cuda\" if torch.cuda.is_available() else \"cpu\")\n",
        "\n",
        "# get tokenizer\n",
        "from transformers import ElectraTokenizerFast\n",
        "tokenizer = ElectraTokenizerFast.from_pretrained(\"monologg/koelectra-small-v3-discriminator\")\n",
        "\n",
        "# load dataset\n",
        "# !gdown --id 1n74_kfEjrjkHYsUr1CugGgzxL7ns28gV\n",
        "# !gdown --id 1lMszENg5tEyeTnm2XR0X0876HKltWlLk\n",
        "# !gdown --id 14FUap4xX_XMfq1T4RS3nJXeomQiDm4Nu\n",
        "# !gdown --id 1ygUD3YA9goXs20h6gvmrxkBjMzJlCQjR\n",
        "!unzip -qq \"./train.zip\"\n",
        "!unzip -qq \"./test.zip\"\n",
        "\n",
        "train_data = \"/content/drive/MyDrive/Colab Notebooks/QA/QA_KOBERT/train.json\"\n",
        "valid_data = \"/content/drive/MyDrive/Colab Notebooks/QA/QA_KOBERT/train.json\"\n",
        "test_data = \"/content/drive/MyDrive/Colab Notebooks/QA/QA_KOBERT/test.json\"\n",
        "submission = \"/content/drive/MyDrive/Colab Notebooks/QA/QA_KOBERT/sample_submission.csv\"\n",
        "\n",
        "# data loader\n",
        "train_dataset = QADataset(data_dir=train_data, tokenizer = tokenizer, max_seq_len = 512, mode = 'train')\n",
        "valid_dataset = QADataset(data_dir=valid_data, tokenizer = tokenizer, max_seq_len = 512, mode = 'train')\n",
        "\n",
        "from torch.utils.data import DataLoader\n",
        "train_dataloader = DataLoader(dataset=train_dataset,\n",
        "                              batch_size=config['DATALOADER']['batch_size'],\n",
        "                              num_workers=config['DATALOADER']['num_workers'], \n",
        "                              shuffle=config['DATALOADER']['shuffle'],\n",
        "                              pin_memory=config['DATALOADER']['pin_memory'],\n",
        "                              drop_last=config['DATALOADER']['drop_last'])\n",
        "val_dataloader = DataLoader(dataset=valid_dataset,\n",
        "                            batch_size=config['DATALOADER']['batch_size'],\n",
        "                            num_workers=config['DATALOADER']['num_workers'], \n",
        "                            shuffle=False,\n",
        "                            pin_memory=config['DATALOADER']['pin_memory'],\n",
        "                            drop_last=config['DATALOADER']['drop_last'])\n",
        "\n",
        "#set model\n",
        "from transformers import ElectraForQuestionAnswering\n",
        "model = ElectraForQuestionAnswering.from_pretrained(\"monologg/koelectra-small-v3-discriminator\").to(device)\n",
        "\n",
        "#set trainer\n",
        "import torch.optim as optim\n",
        "optimizer = optim.AdamW(params=model.parameters(),lr=5.0e-4)\n",
        "\n",
        "from torch.nn import functional as F\n",
        "loss = F.cross_entropy\n",
        "\n",
        "#early stopper\n",
        "early_stopper = EarlyStopper(patience=config['TRAINER']['early_stopping_patience'],\n",
        "                                mode=config['TRAINER']['early_stopping_mode'])\n",
        "\n",
        "trainer = Trainer(model=model,\n",
        "                      optimizer=optimizer,\n",
        "                      loss=loss,\n",
        "                      device=device,\n",
        "                      tokenizer=tokenizer,)"
      ]
    },
    {
      "cell_type": "code",
      "execution_count": 10,
      "metadata": {
        "colab": {
          "base_uri": "https://localhost:8080/"
        },
        "id": "BFtkakFcYLxT",
        "outputId": "1d37edc9-3344-42e2-ad8a-7cdb71eac80e"
      },
      "outputs": [
        {
          "output_type": "stream",
          "name": "stdout",
          "text": [
            "Train 0/1\n"
          ]
        },
        {
          "output_type": "stream",
          "name": "stderr",
          "text": [
            "  0%|          | 1/790 [00:07<1:41:22,  7.71s/it]"
          ]
        },
        {
          "output_type": "stream",
          "name": "stdout",
          "text": [
            "batch: 0/790 loss: 5.960369110107422\n"
          ]
        },
        {
          "output_type": "stream",
          "name": "stderr",
          "text": [
            " 13%|█▎        | 101/790 [00:38<03:25,  3.36it/s]"
          ]
        },
        {
          "output_type": "stream",
          "name": "stdout",
          "text": [
            "batch: 100/790 loss: 2.648710250854492\n"
          ]
        },
        {
          "output_type": "stream",
          "name": "stderr",
          "text": [
            " 25%|██▌       | 201/790 [01:09<03:12,  3.06it/s]"
          ]
        },
        {
          "output_type": "stream",
          "name": "stdout",
          "text": [
            "batch: 200/790 loss: 1.4212837219238281\n"
          ]
        },
        {
          "output_type": "stream",
          "name": "stderr",
          "text": [
            " 38%|███▊      | 301/790 [01:39<02:26,  3.34it/s]"
          ]
        },
        {
          "output_type": "stream",
          "name": "stdout",
          "text": [
            "batch: 300/790 loss: 0.9766261577606201\n"
          ]
        },
        {
          "output_type": "stream",
          "name": "stderr",
          "text": [
            " 51%|█████     | 401/790 [02:09<01:55,  3.37it/s]"
          ]
        },
        {
          "output_type": "stream",
          "name": "stdout",
          "text": [
            "batch: 400/790 loss: 1.3423991203308105\n"
          ]
        },
        {
          "output_type": "stream",
          "name": "stderr",
          "text": [
            " 63%|██████▎   | 501/790 [02:39<01:25,  3.36it/s]"
          ]
        },
        {
          "output_type": "stream",
          "name": "stdout",
          "text": [
            "batch: 500/790 loss: 1.2833640575408936\n"
          ]
        },
        {
          "output_type": "stream",
          "name": "stderr",
          "text": [
            " 76%|███████▌  | 601/790 [03:09<00:56,  3.35it/s]"
          ]
        },
        {
          "output_type": "stream",
          "name": "stdout",
          "text": [
            "batch: 600/790 loss: 1.1602027416229248\n"
          ]
        },
        {
          "output_type": "stream",
          "name": "stderr",
          "text": [
            " 89%|████████▊ | 701/790 [03:39<00:26,  3.38it/s]"
          ]
        },
        {
          "output_type": "stream",
          "name": "stdout",
          "text": [
            "batch: 700/790 loss: 1.214773178100586\n"
          ]
        },
        {
          "output_type": "stream",
          "name": "stderr",
          "text": [
            "100%|██████████| 790/790 [04:05<00:00,  3.22it/s]\n"
          ]
        },
        {
          "output_type": "stream",
          "name": "stdout",
          "text": [
            "0.5465917187871111\n",
            "train loss_mean 1.47125456499148 / epoch 1 : \n",
            "train elapsed_time :  246.375235080719\n",
            "Val 0/1\n"
          ]
        },
        {
          "output_type": "stream",
          "name": "stderr",
          "text": [
            "  0%|          | 1/790 [00:00<01:33,  8.40it/s]"
          ]
        },
        {
          "output_type": "stream",
          "name": "stdout",
          "text": [
            "batch: 0/790 loss: 0.8122074604034424\n"
          ]
        },
        {
          "output_type": "stream",
          "name": "stderr",
          "text": [
            " 13%|█▎        | 102/790 [00:11<01:20,  8.50it/s]"
          ]
        },
        {
          "output_type": "stream",
          "name": "stdout",
          "text": [
            "batch: 100/790 loss: 0.5505495071411133\n"
          ]
        },
        {
          "output_type": "stream",
          "name": "stderr",
          "text": [
            " 26%|██▌       | 202/790 [00:23<01:09,  8.50it/s]"
          ]
        },
        {
          "output_type": "stream",
          "name": "stdout",
          "text": [
            "batch: 200/790 loss: 0.3543239235877991\n"
          ]
        },
        {
          "output_type": "stream",
          "name": "stderr",
          "text": [
            " 38%|███▊      | 302/790 [00:35<00:57,  8.51it/s]"
          ]
        },
        {
          "output_type": "stream",
          "name": "stdout",
          "text": [
            "batch: 300/790 loss: 0.9879108667373657\n"
          ]
        },
        {
          "output_type": "stream",
          "name": "stderr",
          "text": [
            " 51%|█████     | 402/790 [00:47<00:45,  8.54it/s]"
          ]
        },
        {
          "output_type": "stream",
          "name": "stdout",
          "text": [
            "batch: 400/790 loss: 0.3176060616970062\n"
          ]
        },
        {
          "output_type": "stream",
          "name": "stderr",
          "text": [
            " 64%|██████▎   | 502/790 [00:59<00:33,  8.49it/s]"
          ]
        },
        {
          "output_type": "stream",
          "name": "stdout",
          "text": [
            "batch: 500/790 loss: 0.3544155955314636\n"
          ]
        },
        {
          "output_type": "stream",
          "name": "stderr",
          "text": [
            " 76%|███████▌  | 602/790 [01:11<00:22,  8.53it/s]"
          ]
        },
        {
          "output_type": "stream",
          "name": "stdout",
          "text": [
            "batch: 600/790 loss: 0.5128646492958069\n"
          ]
        },
        {
          "output_type": "stream",
          "name": "stderr",
          "text": [
            " 89%|████████▉ | 702/790 [01:22<00:10,  8.51it/s]"
          ]
        },
        {
          "output_type": "stream",
          "name": "stdout",
          "text": [
            "batch: 700/790 loss: 0.9465636610984802\n"
          ]
        },
        {
          "output_type": "stream",
          "name": "stderr",
          "text": [
            "100%|██████████| 790/790 [01:33<00:00,  8.49it/s]\n"
          ]
        },
        {
          "output_type": "stream",
          "name": "stdout",
          "text": [
            "0.7672393318027076\n",
            "valid loss_mean 0.7027491528022138 / epoch 1 : \n",
            "valid elapsed_time :  93.32425284385681\n",
            "Early stopper, counter 0/10, best:inf -> now:0.7027491528022138\n",
            "Set counter as 0\n",
            "Update best score as 0.7027491528022138\n",
            "Recorder, epoch 1 Model saved: /content/drive/MyDrive/Colab Notebooks/QA/QA_KOBERT/results/train/20220703_152819/model.pt\n"
          ]
        }
      ],
      "source": [
        "# Train\n",
        "n_epochs = config['TRAINER']['n_epochs']\n",
        "for epoch_index in range(n_epochs):\n",
        "  print(f\"Train {epoch_index}/{n_epochs}\")\n",
        "  trainer.train(dataloader=train_dataloader, epoch_index=epoch_index, tokenizer=tokenizer, mode='train')\n",
        "  print(\"train loss_mean {} / epoch {}\".format(trainer.loss_mean , epoch_index + 1))\n",
        "  print(\"train elapsed_time : \", trainer.elapsed_time)\n",
        "  trainer.clear_history()\n",
        "\n",
        "  print(f\"Val {epoch_index}/{n_epochs}\")\n",
        "  trainer.train(dataloader=val_dataloader, epoch_index=epoch_index, tokenizer=tokenizer, mode='val')\n",
        "  print(\"valid loss_mean {} / epoch {}\".format(trainer.loss_mean , epoch_index + 1))\n",
        "  print(\"valid elapsed_time : \", trainer.elapsed_time)\n",
        "\n",
        "\n",
        "  early_stopping_target = config['TRAINER']['early_stopping_target']\n",
        "  early_stopper.check_early_stopping(loss=trainer.loss_mean)\n",
        "\n",
        "  if early_stopper.patience_counter == 0:\n",
        "      check_point = {\n",
        "          'epoch': epoch_index + 1,\n",
        "          'model': model.state_dict(),\n",
        "          'optimizer': optimizer.state_dict(),\n",
        "      }\n",
        "  weight_path = os.path.join(RECORDER_DIR, 'model.pt')\n",
        "  torch.save(check_point, weight_path)  \n",
        "  print(\"Recorder, epoch {} Model saved: {}\".format(epoch_index + 1, weight_path))\n",
        "  \n",
        "  if early_stopper.stop == True:\n",
        "      print(f\"Early stopped, counter {early_stopper.patience_counter}/{config['TRAINER']['early_stopping_patience']}\")\n",
        "  break"
      ]
    },
    {
      "cell_type": "code",
      "execution_count": 12,
      "metadata": {
        "id": "LBeApN8yH2T-"
      },
      "outputs": [],
      "source": [
        "# Predict\n",
        "test_dataset = QADataset(data_dir=test_data, tokenizer = tokenizer, max_seq_len = 512, mode = 'test')"
      ]
    },
    {
      "cell_type": "code",
      "execution_count": 13,
      "metadata": {
        "id": "Yvys5eZhmPRk"
      },
      "outputs": [],
      "source": [
        "question_ids = test_dataset.question_ids"
      ]
    },
    {
      "cell_type": "code",
      "execution_count": 14,
      "metadata": {
        "id": "TE6KX0EJqlsg"
      },
      "outputs": [],
      "source": [
        "test_dataloader = DataLoader(dataset=test_dataset,\n",
        "                            batch_size=config['DATALOADER']['batch_size'],\n",
        "                            num_workers=config['DATALOADER']['num_workers'], \n",
        "                            shuffle=False,\n",
        "                            pin_memory=config['DATALOADER']['pin_memory'],\n",
        "                            drop_last=config['DATALOADER']['drop_last'])"
      ]
    },
    {
      "cell_type": "code",
      "execution_count": 15,
      "metadata": {
        "id": "-KJpobeJrnxO",
        "colab": {
          "base_uri": "https://localhost:8080/"
        },
        "outputId": "caecc92f-9380-4467-8085-284f6a9f5735"
      },
      "outputs": [
        {
          "output_type": "stream",
          "name": "stderr",
          "text": [
            "Some weights of the model checkpoint at monologg/koelectra-small-v3-discriminator were not used when initializing ElectraForQuestionAnswering: ['discriminator_predictions.dense_prediction.bias', 'discriminator_predictions.dense.weight', 'discriminator_predictions.dense.bias', 'discriminator_predictions.dense_prediction.weight']\n",
            "- This IS expected if you are initializing ElectraForQuestionAnswering from the checkpoint of a model trained on another task or with another architecture (e.g. initializing a BertForSequenceClassification model from a BertForPreTraining model).\n",
            "- This IS NOT expected if you are initializing ElectraForQuestionAnswering from the checkpoint of a model that you expect to be exactly identical (initializing a BertForSequenceClassification model from a BertForSequenceClassification model).\n",
            "Some weights of ElectraForQuestionAnswering were not initialized from the model checkpoint at monologg/koelectra-small-v3-discriminator and are newly initialized: ['qa_outputs.bias', 'qa_outputs.weight']\n",
            "You should probably TRAIN this model on a down-stream task to be able to use it for predictions and inference.\n"
          ]
        },
        {
          "output_type": "execute_result",
          "data": {
            "text/plain": [
              "<All keys matched successfully>"
            ]
          },
          "metadata": {},
          "execution_count": 15
        }
      ],
      "source": [
        "model = ElectraForQuestionAnswering.from_pretrained(\"monologg/koelectra-small-v3-discriminator\").to(device)\n",
        "checkpoint = torch.load(os.path.join(RECORDER_DIR, 'model.pt'))\n",
        "model.load_state_dict(checkpoint['model'])"
      ]
    },
    {
      "cell_type": "code",
      "execution_count": 16,
      "metadata": {
        "id": "4wsD3zuYru_Q"
      },
      "outputs": [],
      "source": [
        "model.eval()\n",
        "import pandas as pd\n",
        "pred_df = pd.read_csv(os.path.join(submission))"
      ]
    },
    {
      "cell_type": "code",
      "execution_count": 19,
      "metadata": {
        "id": "ajyYRDZarzWK",
        "colab": {
          "base_uri": "https://localhost:8080/"
        },
        "outputId": "94d66f6d-e758-4df1-e7bb-fd59bdeda1d5"
      },
      "outputs": [
        {
          "output_type": "stream",
          "name": "stderr",
          "text": [
            "100%|██████████| 51/51 [00:06<00:00,  7.81it/s]\n"
          ]
        }
      ],
      "source": [
        "for batch_index, batch in enumerate(tqdm(test_dataloader, leave=True)):\n",
        "        input_ids = batch['input_ids'].to(device)\n",
        "        attention_mask = batch['attention_mask'].to(device)\n",
        "        \n",
        "        # Inference\n",
        "        outputs = model(input_ids, attention_mask=attention_mask)\n",
        "        \n",
        "        start_score = outputs.start_logits\n",
        "        end_score = outputs.end_logits\n",
        "        \n",
        "        start_idx = torch.argmax(start_score, dim=1).cpu().tolist()\n",
        "        end_idx = torch.argmax(end_score, dim=1).cpu().tolist()\n",
        "        \n",
        "        y_pred = []\n",
        "        for i in range(len(input_ids)):\n",
        "            if start_idx[i] > end_idx[i]:\n",
        "                output = ''\n",
        "            \n",
        "            ans_txt = tokenizer.decode(input_ids[i][start_idx[i]:end_idx[i]]).replace('#','')\n",
        "            \n",
        "            if ans_txt == '[CLS]':\n",
        "                ans_txt == ''\n",
        "            \n",
        "            y_pred.append(ans_txt)\n",
        "        \n",
        "\n",
        "        q_end_idx = config['DATALOADER']['batch_size']*batch_index + len(y_pred)\n",
        "        for q_id, pred in zip(question_ids[config['DATALOADER']['batch_size']*batch_index:q_end_idx], y_pred):\n",
        "            pred_df.loc[pred_df['question_id'] == q_id,'answer_text'] = pred\n",
        "            \n",
        "\n",
        "        pred_df.to_csv(os.path.join(RECORDER_DIR, 'prediction.csv'), index=False)"
      ]
    },
    {
      "cell_type": "code",
      "source": [
        ""
      ],
      "metadata": {
        "id": "SMm6jt4IyaMP"
      },
      "execution_count": null,
      "outputs": []
    }
  ],
  "metadata": {
    "accelerator": "GPU",
    "colab": {
      "collapsed_sections": [],
      "machine_shape": "hm",
      "name": "QA_Pytorch.py",
      "provenance": [],
      "authorship_tag": "ABX9TyMFpjv4nxQlLcwtnzgqzirj",
      "include_colab_link": true
    },
    "gpuClass": "standard",
    "kernelspec": {
      "display_name": "Python 3",
      "name": "python3"
    },
    "language_info": {
      "name": "python"
    },
    "widgets": {
      "application/vnd.jupyter.widget-state+json": {
        "e99ff02b7f084713b733904449ed2c6f": {
          "model_module": "@jupyter-widgets/controls",
          "model_name": "HBoxModel",
          "model_module_version": "1.5.0",
          "state": {
            "_dom_classes": [],
            "_model_module": "@jupyter-widgets/controls",
            "_model_module_version": "1.5.0",
            "_model_name": "HBoxModel",
            "_view_count": null,
            "_view_module": "@jupyter-widgets/controls",
            "_view_module_version": "1.5.0",
            "_view_name": "HBoxView",
            "box_style": "",
            "children": [
              "IPY_MODEL_904e31fb4abb4ddaa249cbceb44f1e29",
              "IPY_MODEL_44c3a44b155c4c2eb943fdb088cf2a04",
              "IPY_MODEL_967034393e5b4ad6a135f9d9c536f6a7"
            ],
            "layout": "IPY_MODEL_d42d87817af1423da67c022feee90313"
          }
        },
        "904e31fb4abb4ddaa249cbceb44f1e29": {
          "model_module": "@jupyter-widgets/controls",
          "model_name": "HTMLModel",
          "model_module_version": "1.5.0",
          "state": {
            "_dom_classes": [],
            "_model_module": "@jupyter-widgets/controls",
            "_model_module_version": "1.5.0",
            "_model_name": "HTMLModel",
            "_view_count": null,
            "_view_module": "@jupyter-widgets/controls",
            "_view_module_version": "1.5.0",
            "_view_name": "HTMLView",
            "description": "",
            "description_tooltip": null,
            "layout": "IPY_MODEL_692347e0d6e145eeaaf70d53ae98d5e8",
            "placeholder": "​",
            "style": "IPY_MODEL_9604f86c434f4ac1acfae59ef2b3d40f",
            "value": "Downloading: 100%"
          }
        },
        "44c3a44b155c4c2eb943fdb088cf2a04": {
          "model_module": "@jupyter-widgets/controls",
          "model_name": "FloatProgressModel",
          "model_module_version": "1.5.0",
          "state": {
            "_dom_classes": [],
            "_model_module": "@jupyter-widgets/controls",
            "_model_module_version": "1.5.0",
            "_model_name": "FloatProgressModel",
            "_view_count": null,
            "_view_module": "@jupyter-widgets/controls",
            "_view_module_version": "1.5.0",
            "_view_name": "ProgressView",
            "bar_style": "success",
            "description": "",
            "description_tooltip": null,
            "layout": "IPY_MODEL_ac0f08f98abd448d87e4f685724b99ff",
            "max": 61,
            "min": 0,
            "orientation": "horizontal",
            "style": "IPY_MODEL_3c596fd6bd1c4146bf40650caeb2c1cb",
            "value": 61
          }
        },
        "967034393e5b4ad6a135f9d9c536f6a7": {
          "model_module": "@jupyter-widgets/controls",
          "model_name": "HTMLModel",
          "model_module_version": "1.5.0",
          "state": {
            "_dom_classes": [],
            "_model_module": "@jupyter-widgets/controls",
            "_model_module_version": "1.5.0",
            "_model_name": "HTMLModel",
            "_view_count": null,
            "_view_module": "@jupyter-widgets/controls",
            "_view_module_version": "1.5.0",
            "_view_name": "HTMLView",
            "description": "",
            "description_tooltip": null,
            "layout": "IPY_MODEL_8c404cec293c495bb84a72e11ada312f",
            "placeholder": "​",
            "style": "IPY_MODEL_2e5edd0e86a14b148f403b8019408591",
            "value": " 61.0/61.0 [00:00&lt;00:00, 1.73kB/s]"
          }
        },
        "d42d87817af1423da67c022feee90313": {
          "model_module": "@jupyter-widgets/base",
          "model_name": "LayoutModel",
          "model_module_version": "1.2.0",
          "state": {
            "_model_module": "@jupyter-widgets/base",
            "_model_module_version": "1.2.0",
            "_model_name": "LayoutModel",
            "_view_count": null,
            "_view_module": "@jupyter-widgets/base",
            "_view_module_version": "1.2.0",
            "_view_name": "LayoutView",
            "align_content": null,
            "align_items": null,
            "align_self": null,
            "border": null,
            "bottom": null,
            "display": null,
            "flex": null,
            "flex_flow": null,
            "grid_area": null,
            "grid_auto_columns": null,
            "grid_auto_flow": null,
            "grid_auto_rows": null,
            "grid_column": null,
            "grid_gap": null,
            "grid_row": null,
            "grid_template_areas": null,
            "grid_template_columns": null,
            "grid_template_rows": null,
            "height": null,
            "justify_content": null,
            "justify_items": null,
            "left": null,
            "margin": null,
            "max_height": null,
            "max_width": null,
            "min_height": null,
            "min_width": null,
            "object_fit": null,
            "object_position": null,
            "order": null,
            "overflow": null,
            "overflow_x": null,
            "overflow_y": null,
            "padding": null,
            "right": null,
            "top": null,
            "visibility": null,
            "width": null
          }
        },
        "692347e0d6e145eeaaf70d53ae98d5e8": {
          "model_module": "@jupyter-widgets/base",
          "model_name": "LayoutModel",
          "model_module_version": "1.2.0",
          "state": {
            "_model_module": "@jupyter-widgets/base",
            "_model_module_version": "1.2.0",
            "_model_name": "LayoutModel",
            "_view_count": null,
            "_view_module": "@jupyter-widgets/base",
            "_view_module_version": "1.2.0",
            "_view_name": "LayoutView",
            "align_content": null,
            "align_items": null,
            "align_self": null,
            "border": null,
            "bottom": null,
            "display": null,
            "flex": null,
            "flex_flow": null,
            "grid_area": null,
            "grid_auto_columns": null,
            "grid_auto_flow": null,
            "grid_auto_rows": null,
            "grid_column": null,
            "grid_gap": null,
            "grid_row": null,
            "grid_template_areas": null,
            "grid_template_columns": null,
            "grid_template_rows": null,
            "height": null,
            "justify_content": null,
            "justify_items": null,
            "left": null,
            "margin": null,
            "max_height": null,
            "max_width": null,
            "min_height": null,
            "min_width": null,
            "object_fit": null,
            "object_position": null,
            "order": null,
            "overflow": null,
            "overflow_x": null,
            "overflow_y": null,
            "padding": null,
            "right": null,
            "top": null,
            "visibility": null,
            "width": null
          }
        },
        "9604f86c434f4ac1acfae59ef2b3d40f": {
          "model_module": "@jupyter-widgets/controls",
          "model_name": "DescriptionStyleModel",
          "model_module_version": "1.5.0",
          "state": {
            "_model_module": "@jupyter-widgets/controls",
            "_model_module_version": "1.5.0",
            "_model_name": "DescriptionStyleModel",
            "_view_count": null,
            "_view_module": "@jupyter-widgets/base",
            "_view_module_version": "1.2.0",
            "_view_name": "StyleView",
            "description_width": ""
          }
        },
        "ac0f08f98abd448d87e4f685724b99ff": {
          "model_module": "@jupyter-widgets/base",
          "model_name": "LayoutModel",
          "model_module_version": "1.2.0",
          "state": {
            "_model_module": "@jupyter-widgets/base",
            "_model_module_version": "1.2.0",
            "_model_name": "LayoutModel",
            "_view_count": null,
            "_view_module": "@jupyter-widgets/base",
            "_view_module_version": "1.2.0",
            "_view_name": "LayoutView",
            "align_content": null,
            "align_items": null,
            "align_self": null,
            "border": null,
            "bottom": null,
            "display": null,
            "flex": null,
            "flex_flow": null,
            "grid_area": null,
            "grid_auto_columns": null,
            "grid_auto_flow": null,
            "grid_auto_rows": null,
            "grid_column": null,
            "grid_gap": null,
            "grid_row": null,
            "grid_template_areas": null,
            "grid_template_columns": null,
            "grid_template_rows": null,
            "height": null,
            "justify_content": null,
            "justify_items": null,
            "left": null,
            "margin": null,
            "max_height": null,
            "max_width": null,
            "min_height": null,
            "min_width": null,
            "object_fit": null,
            "object_position": null,
            "order": null,
            "overflow": null,
            "overflow_x": null,
            "overflow_y": null,
            "padding": null,
            "right": null,
            "top": null,
            "visibility": null,
            "width": null
          }
        },
        "3c596fd6bd1c4146bf40650caeb2c1cb": {
          "model_module": "@jupyter-widgets/controls",
          "model_name": "ProgressStyleModel",
          "model_module_version": "1.5.0",
          "state": {
            "_model_module": "@jupyter-widgets/controls",
            "_model_module_version": "1.5.0",
            "_model_name": "ProgressStyleModel",
            "_view_count": null,
            "_view_module": "@jupyter-widgets/base",
            "_view_module_version": "1.2.0",
            "_view_name": "StyleView",
            "bar_color": null,
            "description_width": ""
          }
        },
        "8c404cec293c495bb84a72e11ada312f": {
          "model_module": "@jupyter-widgets/base",
          "model_name": "LayoutModel",
          "model_module_version": "1.2.0",
          "state": {
            "_model_module": "@jupyter-widgets/base",
            "_model_module_version": "1.2.0",
            "_model_name": "LayoutModel",
            "_view_count": null,
            "_view_module": "@jupyter-widgets/base",
            "_view_module_version": "1.2.0",
            "_view_name": "LayoutView",
            "align_content": null,
            "align_items": null,
            "align_self": null,
            "border": null,
            "bottom": null,
            "display": null,
            "flex": null,
            "flex_flow": null,
            "grid_area": null,
            "grid_auto_columns": null,
            "grid_auto_flow": null,
            "grid_auto_rows": null,
            "grid_column": null,
            "grid_gap": null,
            "grid_row": null,
            "grid_template_areas": null,
            "grid_template_columns": null,
            "grid_template_rows": null,
            "height": null,
            "justify_content": null,
            "justify_items": null,
            "left": null,
            "margin": null,
            "max_height": null,
            "max_width": null,
            "min_height": null,
            "min_width": null,
            "object_fit": null,
            "object_position": null,
            "order": null,
            "overflow": null,
            "overflow_x": null,
            "overflow_y": null,
            "padding": null,
            "right": null,
            "top": null,
            "visibility": null,
            "width": null
          }
        },
        "2e5edd0e86a14b148f403b8019408591": {
          "model_module": "@jupyter-widgets/controls",
          "model_name": "DescriptionStyleModel",
          "model_module_version": "1.5.0",
          "state": {
            "_model_module": "@jupyter-widgets/controls",
            "_model_module_version": "1.5.0",
            "_model_name": "DescriptionStyleModel",
            "_view_count": null,
            "_view_module": "@jupyter-widgets/base",
            "_view_module_version": "1.2.0",
            "_view_name": "StyleView",
            "description_width": ""
          }
        },
        "1c2eef69695b4b9b9641cd51d7c84ee8": {
          "model_module": "@jupyter-widgets/controls",
          "model_name": "HBoxModel",
          "model_module_version": "1.5.0",
          "state": {
            "_dom_classes": [],
            "_model_module": "@jupyter-widgets/controls",
            "_model_module_version": "1.5.0",
            "_model_name": "HBoxModel",
            "_view_count": null,
            "_view_module": "@jupyter-widgets/controls",
            "_view_module_version": "1.5.0",
            "_view_name": "HBoxView",
            "box_style": "",
            "children": [
              "IPY_MODEL_696c32eebcd74a75be1a828caee95c7f",
              "IPY_MODEL_ca6e03659e8a4dab979ba242fef1de7f",
              "IPY_MODEL_010d9636afb545f8b9084ee8c798c681"
            ],
            "layout": "IPY_MODEL_9f2ebd76bf4c480f823b904d076ae8fb"
          }
        },
        "696c32eebcd74a75be1a828caee95c7f": {
          "model_module": "@jupyter-widgets/controls",
          "model_name": "HTMLModel",
          "model_module_version": "1.5.0",
          "state": {
            "_dom_classes": [],
            "_model_module": "@jupyter-widgets/controls",
            "_model_module_version": "1.5.0",
            "_model_name": "HTMLModel",
            "_view_count": null,
            "_view_module": "@jupyter-widgets/controls",
            "_view_module_version": "1.5.0",
            "_view_name": "HTMLView",
            "description": "",
            "description_tooltip": null,
            "layout": "IPY_MODEL_924e3e61afe34fbc93fd3f3cbb8972f4",
            "placeholder": "​",
            "style": "IPY_MODEL_3228038463e44db2a3b54f882c3296ef",
            "value": "Downloading: 100%"
          }
        },
        "ca6e03659e8a4dab979ba242fef1de7f": {
          "model_module": "@jupyter-widgets/controls",
          "model_name": "FloatProgressModel",
          "model_module_version": "1.5.0",
          "state": {
            "_dom_classes": [],
            "_model_module": "@jupyter-widgets/controls",
            "_model_module_version": "1.5.0",
            "_model_name": "FloatProgressModel",
            "_view_count": null,
            "_view_module": "@jupyter-widgets/controls",
            "_view_module_version": "1.5.0",
            "_view_name": "ProgressView",
            "bar_style": "success",
            "description": "",
            "description_tooltip": null,
            "layout": "IPY_MODEL_0b0253f55900425ea292f7c2746c3693",
            "max": 263326,
            "min": 0,
            "orientation": "horizontal",
            "style": "IPY_MODEL_544288590e5e4cd1924ab4674a798fe8",
            "value": 263326
          }
        },
        "010d9636afb545f8b9084ee8c798c681": {
          "model_module": "@jupyter-widgets/controls",
          "model_name": "HTMLModel",
          "model_module_version": "1.5.0",
          "state": {
            "_dom_classes": [],
            "_model_module": "@jupyter-widgets/controls",
            "_model_module_version": "1.5.0",
            "_model_name": "HTMLModel",
            "_view_count": null,
            "_view_module": "@jupyter-widgets/controls",
            "_view_module_version": "1.5.0",
            "_view_name": "HTMLView",
            "description": "",
            "description_tooltip": null,
            "layout": "IPY_MODEL_b438f26bde404c45a47bbca3b9d4e3f3",
            "placeholder": "​",
            "style": "IPY_MODEL_805ce3a52dee406280944316f4d172c9",
            "value": " 257k/257k [00:00&lt;00:00, 333kB/s]"
          }
        },
        "9f2ebd76bf4c480f823b904d076ae8fb": {
          "model_module": "@jupyter-widgets/base",
          "model_name": "LayoutModel",
          "model_module_version": "1.2.0",
          "state": {
            "_model_module": "@jupyter-widgets/base",
            "_model_module_version": "1.2.0",
            "_model_name": "LayoutModel",
            "_view_count": null,
            "_view_module": "@jupyter-widgets/base",
            "_view_module_version": "1.2.0",
            "_view_name": "LayoutView",
            "align_content": null,
            "align_items": null,
            "align_self": null,
            "border": null,
            "bottom": null,
            "display": null,
            "flex": null,
            "flex_flow": null,
            "grid_area": null,
            "grid_auto_columns": null,
            "grid_auto_flow": null,
            "grid_auto_rows": null,
            "grid_column": null,
            "grid_gap": null,
            "grid_row": null,
            "grid_template_areas": null,
            "grid_template_columns": null,
            "grid_template_rows": null,
            "height": null,
            "justify_content": null,
            "justify_items": null,
            "left": null,
            "margin": null,
            "max_height": null,
            "max_width": null,
            "min_height": null,
            "min_width": null,
            "object_fit": null,
            "object_position": null,
            "order": null,
            "overflow": null,
            "overflow_x": null,
            "overflow_y": null,
            "padding": null,
            "right": null,
            "top": null,
            "visibility": null,
            "width": null
          }
        },
        "924e3e61afe34fbc93fd3f3cbb8972f4": {
          "model_module": "@jupyter-widgets/base",
          "model_name": "LayoutModel",
          "model_module_version": "1.2.0",
          "state": {
            "_model_module": "@jupyter-widgets/base",
            "_model_module_version": "1.2.0",
            "_model_name": "LayoutModel",
            "_view_count": null,
            "_view_module": "@jupyter-widgets/base",
            "_view_module_version": "1.2.0",
            "_view_name": "LayoutView",
            "align_content": null,
            "align_items": null,
            "align_self": null,
            "border": null,
            "bottom": null,
            "display": null,
            "flex": null,
            "flex_flow": null,
            "grid_area": null,
            "grid_auto_columns": null,
            "grid_auto_flow": null,
            "grid_auto_rows": null,
            "grid_column": null,
            "grid_gap": null,
            "grid_row": null,
            "grid_template_areas": null,
            "grid_template_columns": null,
            "grid_template_rows": null,
            "height": null,
            "justify_content": null,
            "justify_items": null,
            "left": null,
            "margin": null,
            "max_height": null,
            "max_width": null,
            "min_height": null,
            "min_width": null,
            "object_fit": null,
            "object_position": null,
            "order": null,
            "overflow": null,
            "overflow_x": null,
            "overflow_y": null,
            "padding": null,
            "right": null,
            "top": null,
            "visibility": null,
            "width": null
          }
        },
        "3228038463e44db2a3b54f882c3296ef": {
          "model_module": "@jupyter-widgets/controls",
          "model_name": "DescriptionStyleModel",
          "model_module_version": "1.5.0",
          "state": {
            "_model_module": "@jupyter-widgets/controls",
            "_model_module_version": "1.5.0",
            "_model_name": "DescriptionStyleModel",
            "_view_count": null,
            "_view_module": "@jupyter-widgets/base",
            "_view_module_version": "1.2.0",
            "_view_name": "StyleView",
            "description_width": ""
          }
        },
        "0b0253f55900425ea292f7c2746c3693": {
          "model_module": "@jupyter-widgets/base",
          "model_name": "LayoutModel",
          "model_module_version": "1.2.0",
          "state": {
            "_model_module": "@jupyter-widgets/base",
            "_model_module_version": "1.2.0",
            "_model_name": "LayoutModel",
            "_view_count": null,
            "_view_module": "@jupyter-widgets/base",
            "_view_module_version": "1.2.0",
            "_view_name": "LayoutView",
            "align_content": null,
            "align_items": null,
            "align_self": null,
            "border": null,
            "bottom": null,
            "display": null,
            "flex": null,
            "flex_flow": null,
            "grid_area": null,
            "grid_auto_columns": null,
            "grid_auto_flow": null,
            "grid_auto_rows": null,
            "grid_column": null,
            "grid_gap": null,
            "grid_row": null,
            "grid_template_areas": null,
            "grid_template_columns": null,
            "grid_template_rows": null,
            "height": null,
            "justify_content": null,
            "justify_items": null,
            "left": null,
            "margin": null,
            "max_height": null,
            "max_width": null,
            "min_height": null,
            "min_width": null,
            "object_fit": null,
            "object_position": null,
            "order": null,
            "overflow": null,
            "overflow_x": null,
            "overflow_y": null,
            "padding": null,
            "right": null,
            "top": null,
            "visibility": null,
            "width": null
          }
        },
        "544288590e5e4cd1924ab4674a798fe8": {
          "model_module": "@jupyter-widgets/controls",
          "model_name": "ProgressStyleModel",
          "model_module_version": "1.5.0",
          "state": {
            "_model_module": "@jupyter-widgets/controls",
            "_model_module_version": "1.5.0",
            "_model_name": "ProgressStyleModel",
            "_view_count": null,
            "_view_module": "@jupyter-widgets/base",
            "_view_module_version": "1.2.0",
            "_view_name": "StyleView",
            "bar_color": null,
            "description_width": ""
          }
        },
        "b438f26bde404c45a47bbca3b9d4e3f3": {
          "model_module": "@jupyter-widgets/base",
          "model_name": "LayoutModel",
          "model_module_version": "1.2.0",
          "state": {
            "_model_module": "@jupyter-widgets/base",
            "_model_module_version": "1.2.0",
            "_model_name": "LayoutModel",
            "_view_count": null,
            "_view_module": "@jupyter-widgets/base",
            "_view_module_version": "1.2.0",
            "_view_name": "LayoutView",
            "align_content": null,
            "align_items": null,
            "align_self": null,
            "border": null,
            "bottom": null,
            "display": null,
            "flex": null,
            "flex_flow": null,
            "grid_area": null,
            "grid_auto_columns": null,
            "grid_auto_flow": null,
            "grid_auto_rows": null,
            "grid_column": null,
            "grid_gap": null,
            "grid_row": null,
            "grid_template_areas": null,
            "grid_template_columns": null,
            "grid_template_rows": null,
            "height": null,
            "justify_content": null,
            "justify_items": null,
            "left": null,
            "margin": null,
            "max_height": null,
            "max_width": null,
            "min_height": null,
            "min_width": null,
            "object_fit": null,
            "object_position": null,
            "order": null,
            "overflow": null,
            "overflow_x": null,
            "overflow_y": null,
            "padding": null,
            "right": null,
            "top": null,
            "visibility": null,
            "width": null
          }
        },
        "805ce3a52dee406280944316f4d172c9": {
          "model_module": "@jupyter-widgets/controls",
          "model_name": "DescriptionStyleModel",
          "model_module_version": "1.5.0",
          "state": {
            "_model_module": "@jupyter-widgets/controls",
            "_model_module_version": "1.5.0",
            "_model_name": "DescriptionStyleModel",
            "_view_count": null,
            "_view_module": "@jupyter-widgets/base",
            "_view_module_version": "1.2.0",
            "_view_name": "StyleView",
            "description_width": ""
          }
        },
        "514f46960014456991dbfe3eb05a5186": {
          "model_module": "@jupyter-widgets/controls",
          "model_name": "HBoxModel",
          "model_module_version": "1.5.0",
          "state": {
            "_dom_classes": [],
            "_model_module": "@jupyter-widgets/controls",
            "_model_module_version": "1.5.0",
            "_model_name": "HBoxModel",
            "_view_count": null,
            "_view_module": "@jupyter-widgets/controls",
            "_view_module_version": "1.5.0",
            "_view_name": "HBoxView",
            "box_style": "",
            "children": [
              "IPY_MODEL_d09016b8cd33420f8b34de08cda836c7",
              "IPY_MODEL_e0b0040660e0497bac84f972c57d7cd4",
              "IPY_MODEL_0e7e74727e4245fcbe03f5f71b877e3a"
            ],
            "layout": "IPY_MODEL_0282e726ac864c8885470f463e65f3db"
          }
        },
        "d09016b8cd33420f8b34de08cda836c7": {
          "model_module": "@jupyter-widgets/controls",
          "model_name": "HTMLModel",
          "model_module_version": "1.5.0",
          "state": {
            "_dom_classes": [],
            "_model_module": "@jupyter-widgets/controls",
            "_model_module_version": "1.5.0",
            "_model_name": "HTMLModel",
            "_view_count": null,
            "_view_module": "@jupyter-widgets/controls",
            "_view_module_version": "1.5.0",
            "_view_name": "HTMLView",
            "description": "",
            "description_tooltip": null,
            "layout": "IPY_MODEL_a769712621af4495b10d77baec642936",
            "placeholder": "​",
            "style": "IPY_MODEL_8e5b0aa213d34b4bad1d5108d3eb98ad",
            "value": "Downloading: 100%"
          }
        },
        "e0b0040660e0497bac84f972c57d7cd4": {
          "model_module": "@jupyter-widgets/controls",
          "model_name": "FloatProgressModel",
          "model_module_version": "1.5.0",
          "state": {
            "_dom_classes": [],
            "_model_module": "@jupyter-widgets/controls",
            "_model_module_version": "1.5.0",
            "_model_name": "FloatProgressModel",
            "_view_count": null,
            "_view_module": "@jupyter-widgets/controls",
            "_view_module_version": "1.5.0",
            "_view_name": "ProgressView",
            "bar_style": "success",
            "description": "",
            "description_tooltip": null,
            "layout": "IPY_MODEL_0d1968b096fd455cb02919c0d61fa825",
            "max": 458,
            "min": 0,
            "orientation": "horizontal",
            "style": "IPY_MODEL_8086e2a829ea40d185fbb16b6d8fe4c3",
            "value": 458
          }
        },
        "0e7e74727e4245fcbe03f5f71b877e3a": {
          "model_module": "@jupyter-widgets/controls",
          "model_name": "HTMLModel",
          "model_module_version": "1.5.0",
          "state": {
            "_dom_classes": [],
            "_model_module": "@jupyter-widgets/controls",
            "_model_module_version": "1.5.0",
            "_model_name": "HTMLModel",
            "_view_count": null,
            "_view_module": "@jupyter-widgets/controls",
            "_view_module_version": "1.5.0",
            "_view_name": "HTMLView",
            "description": "",
            "description_tooltip": null,
            "layout": "IPY_MODEL_4f1630d150b6495b8f7d54b5261ba8b6",
            "placeholder": "​",
            "style": "IPY_MODEL_8ee8e43592c34efbb9cf812d823aab69",
            "value": " 458/458 [00:00&lt;00:00, 4.61kB/s]"
          }
        },
        "0282e726ac864c8885470f463e65f3db": {
          "model_module": "@jupyter-widgets/base",
          "model_name": "LayoutModel",
          "model_module_version": "1.2.0",
          "state": {
            "_model_module": "@jupyter-widgets/base",
            "_model_module_version": "1.2.0",
            "_model_name": "LayoutModel",
            "_view_count": null,
            "_view_module": "@jupyter-widgets/base",
            "_view_module_version": "1.2.0",
            "_view_name": "LayoutView",
            "align_content": null,
            "align_items": null,
            "align_self": null,
            "border": null,
            "bottom": null,
            "display": null,
            "flex": null,
            "flex_flow": null,
            "grid_area": null,
            "grid_auto_columns": null,
            "grid_auto_flow": null,
            "grid_auto_rows": null,
            "grid_column": null,
            "grid_gap": null,
            "grid_row": null,
            "grid_template_areas": null,
            "grid_template_columns": null,
            "grid_template_rows": null,
            "height": null,
            "justify_content": null,
            "justify_items": null,
            "left": null,
            "margin": null,
            "max_height": null,
            "max_width": null,
            "min_height": null,
            "min_width": null,
            "object_fit": null,
            "object_position": null,
            "order": null,
            "overflow": null,
            "overflow_x": null,
            "overflow_y": null,
            "padding": null,
            "right": null,
            "top": null,
            "visibility": null,
            "width": null
          }
        },
        "a769712621af4495b10d77baec642936": {
          "model_module": "@jupyter-widgets/base",
          "model_name": "LayoutModel",
          "model_module_version": "1.2.0",
          "state": {
            "_model_module": "@jupyter-widgets/base",
            "_model_module_version": "1.2.0",
            "_model_name": "LayoutModel",
            "_view_count": null,
            "_view_module": "@jupyter-widgets/base",
            "_view_module_version": "1.2.0",
            "_view_name": "LayoutView",
            "align_content": null,
            "align_items": null,
            "align_self": null,
            "border": null,
            "bottom": null,
            "display": null,
            "flex": null,
            "flex_flow": null,
            "grid_area": null,
            "grid_auto_columns": null,
            "grid_auto_flow": null,
            "grid_auto_rows": null,
            "grid_column": null,
            "grid_gap": null,
            "grid_row": null,
            "grid_template_areas": null,
            "grid_template_columns": null,
            "grid_template_rows": null,
            "height": null,
            "justify_content": null,
            "justify_items": null,
            "left": null,
            "margin": null,
            "max_height": null,
            "max_width": null,
            "min_height": null,
            "min_width": null,
            "object_fit": null,
            "object_position": null,
            "order": null,
            "overflow": null,
            "overflow_x": null,
            "overflow_y": null,
            "padding": null,
            "right": null,
            "top": null,
            "visibility": null,
            "width": null
          }
        },
        "8e5b0aa213d34b4bad1d5108d3eb98ad": {
          "model_module": "@jupyter-widgets/controls",
          "model_name": "DescriptionStyleModel",
          "model_module_version": "1.5.0",
          "state": {
            "_model_module": "@jupyter-widgets/controls",
            "_model_module_version": "1.5.0",
            "_model_name": "DescriptionStyleModel",
            "_view_count": null,
            "_view_module": "@jupyter-widgets/base",
            "_view_module_version": "1.2.0",
            "_view_name": "StyleView",
            "description_width": ""
          }
        },
        "0d1968b096fd455cb02919c0d61fa825": {
          "model_module": "@jupyter-widgets/base",
          "model_name": "LayoutModel",
          "model_module_version": "1.2.0",
          "state": {
            "_model_module": "@jupyter-widgets/base",
            "_model_module_version": "1.2.0",
            "_model_name": "LayoutModel",
            "_view_count": null,
            "_view_module": "@jupyter-widgets/base",
            "_view_module_version": "1.2.0",
            "_view_name": "LayoutView",
            "align_content": null,
            "align_items": null,
            "align_self": null,
            "border": null,
            "bottom": null,
            "display": null,
            "flex": null,
            "flex_flow": null,
            "grid_area": null,
            "grid_auto_columns": null,
            "grid_auto_flow": null,
            "grid_auto_rows": null,
            "grid_column": null,
            "grid_gap": null,
            "grid_row": null,
            "grid_template_areas": null,
            "grid_template_columns": null,
            "grid_template_rows": null,
            "height": null,
            "justify_content": null,
            "justify_items": null,
            "left": null,
            "margin": null,
            "max_height": null,
            "max_width": null,
            "min_height": null,
            "min_width": null,
            "object_fit": null,
            "object_position": null,
            "order": null,
            "overflow": null,
            "overflow_x": null,
            "overflow_y": null,
            "padding": null,
            "right": null,
            "top": null,
            "visibility": null,
            "width": null
          }
        },
        "8086e2a829ea40d185fbb16b6d8fe4c3": {
          "model_module": "@jupyter-widgets/controls",
          "model_name": "ProgressStyleModel",
          "model_module_version": "1.5.0",
          "state": {
            "_model_module": "@jupyter-widgets/controls",
            "_model_module_version": "1.5.0",
            "_model_name": "ProgressStyleModel",
            "_view_count": null,
            "_view_module": "@jupyter-widgets/base",
            "_view_module_version": "1.2.0",
            "_view_name": "StyleView",
            "bar_color": null,
            "description_width": ""
          }
        },
        "4f1630d150b6495b8f7d54b5261ba8b6": {
          "model_module": "@jupyter-widgets/base",
          "model_name": "LayoutModel",
          "model_module_version": "1.2.0",
          "state": {
            "_model_module": "@jupyter-widgets/base",
            "_model_module_version": "1.2.0",
            "_model_name": "LayoutModel",
            "_view_count": null,
            "_view_module": "@jupyter-widgets/base",
            "_view_module_version": "1.2.0",
            "_view_name": "LayoutView",
            "align_content": null,
            "align_items": null,
            "align_self": null,
            "border": null,
            "bottom": null,
            "display": null,
            "flex": null,
            "flex_flow": null,
            "grid_area": null,
            "grid_auto_columns": null,
            "grid_auto_flow": null,
            "grid_auto_rows": null,
            "grid_column": null,
            "grid_gap": null,
            "grid_row": null,
            "grid_template_areas": null,
            "grid_template_columns": null,
            "grid_template_rows": null,
            "height": null,
            "justify_content": null,
            "justify_items": null,
            "left": null,
            "margin": null,
            "max_height": null,
            "max_width": null,
            "min_height": null,
            "min_width": null,
            "object_fit": null,
            "object_position": null,
            "order": null,
            "overflow": null,
            "overflow_x": null,
            "overflow_y": null,
            "padding": null,
            "right": null,
            "top": null,
            "visibility": null,
            "width": null
          }
        },
        "8ee8e43592c34efbb9cf812d823aab69": {
          "model_module": "@jupyter-widgets/controls",
          "model_name": "DescriptionStyleModel",
          "model_module_version": "1.5.0",
          "state": {
            "_model_module": "@jupyter-widgets/controls",
            "_model_module_version": "1.5.0",
            "_model_name": "DescriptionStyleModel",
            "_view_count": null,
            "_view_module": "@jupyter-widgets/base",
            "_view_module_version": "1.2.0",
            "_view_name": "StyleView",
            "description_width": ""
          }
        },
        "69bdb70a7e744f13beebf06767cdb51e": {
          "model_module": "@jupyter-widgets/controls",
          "model_name": "HBoxModel",
          "model_module_version": "1.5.0",
          "state": {
            "_dom_classes": [],
            "_model_module": "@jupyter-widgets/controls",
            "_model_module_version": "1.5.0",
            "_model_name": "HBoxModel",
            "_view_count": null,
            "_view_module": "@jupyter-widgets/controls",
            "_view_module_version": "1.5.0",
            "_view_name": "HBoxView",
            "box_style": "",
            "children": [
              "IPY_MODEL_77b4264ab66341b0bbcf3b53a2919bc4",
              "IPY_MODEL_21f449247dee4e7dba7659eacce761aa",
              "IPY_MODEL_a7d5c547eb6a4ea1824d1b243a848525"
            ],
            "layout": "IPY_MODEL_381a8732711a4d1c9ab71741acad9466"
          }
        },
        "77b4264ab66341b0bbcf3b53a2919bc4": {
          "model_module": "@jupyter-widgets/controls",
          "model_name": "HTMLModel",
          "model_module_version": "1.5.0",
          "state": {
            "_dom_classes": [],
            "_model_module": "@jupyter-widgets/controls",
            "_model_module_version": "1.5.0",
            "_model_name": "HTMLModel",
            "_view_count": null,
            "_view_module": "@jupyter-widgets/controls",
            "_view_module_version": "1.5.0",
            "_view_name": "HTMLView",
            "description": "",
            "description_tooltip": null,
            "layout": "IPY_MODEL_8fc888beabb24d068477b989cdf2904d",
            "placeholder": "​",
            "style": "IPY_MODEL_5bc4dcd4d9b640e8b60bdaaaf46cfe52",
            "value": "Downloading: 100%"
          }
        },
        "21f449247dee4e7dba7659eacce761aa": {
          "model_module": "@jupyter-widgets/controls",
          "model_name": "FloatProgressModel",
          "model_module_version": "1.5.0",
          "state": {
            "_dom_classes": [],
            "_model_module": "@jupyter-widgets/controls",
            "_model_module_version": "1.5.0",
            "_model_name": "FloatProgressModel",
            "_view_count": null,
            "_view_module": "@jupyter-widgets/controls",
            "_view_module_version": "1.5.0",
            "_view_name": "ProgressView",
            "bar_style": "success",
            "description": "",
            "description_tooltip": null,
            "layout": "IPY_MODEL_b4edc33d9b1b4655bf85123f97a4e83a",
            "max": 56577499,
            "min": 0,
            "orientation": "horizontal",
            "style": "IPY_MODEL_d59f9019c8d14140bead971636c2e1d5",
            "value": 56577499
          }
        },
        "a7d5c547eb6a4ea1824d1b243a848525": {
          "model_module": "@jupyter-widgets/controls",
          "model_name": "HTMLModel",
          "model_module_version": "1.5.0",
          "state": {
            "_dom_classes": [],
            "_model_module": "@jupyter-widgets/controls",
            "_model_module_version": "1.5.0",
            "_model_name": "HTMLModel",
            "_view_count": null,
            "_view_module": "@jupyter-widgets/controls",
            "_view_module_version": "1.5.0",
            "_view_name": "HTMLView",
            "description": "",
            "description_tooltip": null,
            "layout": "IPY_MODEL_8112c42670de4c758291690c5985eb14",
            "placeholder": "​",
            "style": "IPY_MODEL_8ece955069f74c9c83f88d391a1da988",
            "value": " 54.0M/54.0M [00:04&lt;00:00, 18.1MB/s]"
          }
        },
        "381a8732711a4d1c9ab71741acad9466": {
          "model_module": "@jupyter-widgets/base",
          "model_name": "LayoutModel",
          "model_module_version": "1.2.0",
          "state": {
            "_model_module": "@jupyter-widgets/base",
            "_model_module_version": "1.2.0",
            "_model_name": "LayoutModel",
            "_view_count": null,
            "_view_module": "@jupyter-widgets/base",
            "_view_module_version": "1.2.0",
            "_view_name": "LayoutView",
            "align_content": null,
            "align_items": null,
            "align_self": null,
            "border": null,
            "bottom": null,
            "display": null,
            "flex": null,
            "flex_flow": null,
            "grid_area": null,
            "grid_auto_columns": null,
            "grid_auto_flow": null,
            "grid_auto_rows": null,
            "grid_column": null,
            "grid_gap": null,
            "grid_row": null,
            "grid_template_areas": null,
            "grid_template_columns": null,
            "grid_template_rows": null,
            "height": null,
            "justify_content": null,
            "justify_items": null,
            "left": null,
            "margin": null,
            "max_height": null,
            "max_width": null,
            "min_height": null,
            "min_width": null,
            "object_fit": null,
            "object_position": null,
            "order": null,
            "overflow": null,
            "overflow_x": null,
            "overflow_y": null,
            "padding": null,
            "right": null,
            "top": null,
            "visibility": null,
            "width": null
          }
        },
        "8fc888beabb24d068477b989cdf2904d": {
          "model_module": "@jupyter-widgets/base",
          "model_name": "LayoutModel",
          "model_module_version": "1.2.0",
          "state": {
            "_model_module": "@jupyter-widgets/base",
            "_model_module_version": "1.2.0",
            "_model_name": "LayoutModel",
            "_view_count": null,
            "_view_module": "@jupyter-widgets/base",
            "_view_module_version": "1.2.0",
            "_view_name": "LayoutView",
            "align_content": null,
            "align_items": null,
            "align_self": null,
            "border": null,
            "bottom": null,
            "display": null,
            "flex": null,
            "flex_flow": null,
            "grid_area": null,
            "grid_auto_columns": null,
            "grid_auto_flow": null,
            "grid_auto_rows": null,
            "grid_column": null,
            "grid_gap": null,
            "grid_row": null,
            "grid_template_areas": null,
            "grid_template_columns": null,
            "grid_template_rows": null,
            "height": null,
            "justify_content": null,
            "justify_items": null,
            "left": null,
            "margin": null,
            "max_height": null,
            "max_width": null,
            "min_height": null,
            "min_width": null,
            "object_fit": null,
            "object_position": null,
            "order": null,
            "overflow": null,
            "overflow_x": null,
            "overflow_y": null,
            "padding": null,
            "right": null,
            "top": null,
            "visibility": null,
            "width": null
          }
        },
        "5bc4dcd4d9b640e8b60bdaaaf46cfe52": {
          "model_module": "@jupyter-widgets/controls",
          "model_name": "DescriptionStyleModel",
          "model_module_version": "1.5.0",
          "state": {
            "_model_module": "@jupyter-widgets/controls",
            "_model_module_version": "1.5.0",
            "_model_name": "DescriptionStyleModel",
            "_view_count": null,
            "_view_module": "@jupyter-widgets/base",
            "_view_module_version": "1.2.0",
            "_view_name": "StyleView",
            "description_width": ""
          }
        },
        "b4edc33d9b1b4655bf85123f97a4e83a": {
          "model_module": "@jupyter-widgets/base",
          "model_name": "LayoutModel",
          "model_module_version": "1.2.0",
          "state": {
            "_model_module": "@jupyter-widgets/base",
            "_model_module_version": "1.2.0",
            "_model_name": "LayoutModel",
            "_view_count": null,
            "_view_module": "@jupyter-widgets/base",
            "_view_module_version": "1.2.0",
            "_view_name": "LayoutView",
            "align_content": null,
            "align_items": null,
            "align_self": null,
            "border": null,
            "bottom": null,
            "display": null,
            "flex": null,
            "flex_flow": null,
            "grid_area": null,
            "grid_auto_columns": null,
            "grid_auto_flow": null,
            "grid_auto_rows": null,
            "grid_column": null,
            "grid_gap": null,
            "grid_row": null,
            "grid_template_areas": null,
            "grid_template_columns": null,
            "grid_template_rows": null,
            "height": null,
            "justify_content": null,
            "justify_items": null,
            "left": null,
            "margin": null,
            "max_height": null,
            "max_width": null,
            "min_height": null,
            "min_width": null,
            "object_fit": null,
            "object_position": null,
            "order": null,
            "overflow": null,
            "overflow_x": null,
            "overflow_y": null,
            "padding": null,
            "right": null,
            "top": null,
            "visibility": null,
            "width": null
          }
        },
        "d59f9019c8d14140bead971636c2e1d5": {
          "model_module": "@jupyter-widgets/controls",
          "model_name": "ProgressStyleModel",
          "model_module_version": "1.5.0",
          "state": {
            "_model_module": "@jupyter-widgets/controls",
            "_model_module_version": "1.5.0",
            "_model_name": "ProgressStyleModel",
            "_view_count": null,
            "_view_module": "@jupyter-widgets/base",
            "_view_module_version": "1.2.0",
            "_view_name": "StyleView",
            "bar_color": null,
            "description_width": ""
          }
        },
        "8112c42670de4c758291690c5985eb14": {
          "model_module": "@jupyter-widgets/base",
          "model_name": "LayoutModel",
          "model_module_version": "1.2.0",
          "state": {
            "_model_module": "@jupyter-widgets/base",
            "_model_module_version": "1.2.0",
            "_model_name": "LayoutModel",
            "_view_count": null,
            "_view_module": "@jupyter-widgets/base",
            "_view_module_version": "1.2.0",
            "_view_name": "LayoutView",
            "align_content": null,
            "align_items": null,
            "align_self": null,
            "border": null,
            "bottom": null,
            "display": null,
            "flex": null,
            "flex_flow": null,
            "grid_area": null,
            "grid_auto_columns": null,
            "grid_auto_flow": null,
            "grid_auto_rows": null,
            "grid_column": null,
            "grid_gap": null,
            "grid_row": null,
            "grid_template_areas": null,
            "grid_template_columns": null,
            "grid_template_rows": null,
            "height": null,
            "justify_content": null,
            "justify_items": null,
            "left": null,
            "margin": null,
            "max_height": null,
            "max_width": null,
            "min_height": null,
            "min_width": null,
            "object_fit": null,
            "object_position": null,
            "order": null,
            "overflow": null,
            "overflow_x": null,
            "overflow_y": null,
            "padding": null,
            "right": null,
            "top": null,
            "visibility": null,
            "width": null
          }
        },
        "8ece955069f74c9c83f88d391a1da988": {
          "model_module": "@jupyter-widgets/controls",
          "model_name": "DescriptionStyleModel",
          "model_module_version": "1.5.0",
          "state": {
            "_model_module": "@jupyter-widgets/controls",
            "_model_module_version": "1.5.0",
            "_model_name": "DescriptionStyleModel",
            "_view_count": null,
            "_view_module": "@jupyter-widgets/base",
            "_view_module_version": "1.2.0",
            "_view_name": "StyleView",
            "description_width": ""
          }
        }
      }
    }
  },
  "nbformat": 4,
  "nbformat_minor": 0
}