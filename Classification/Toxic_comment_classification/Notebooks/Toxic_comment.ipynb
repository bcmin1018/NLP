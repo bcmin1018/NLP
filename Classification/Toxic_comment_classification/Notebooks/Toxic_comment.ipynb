{
  "nbformat": 4,
  "nbformat_minor": 0,
  "metadata": {
    "colab": {
      "name": "toxic_comment.ipynb",
      "provenance": [],
      "collapsed_sections": [],
      "include_colab_link": true
    },
    "kernelspec": {
      "name": "python3",
      "display_name": "Python 3"
    },
    "language_info": {
      "name": "python"
    },
    "accelerator": "GPU",
    "widgets": {
      "application/vnd.jupyter.widget-state+json": {
        "e7400736a8c44148ac737f33af6bc103": {
          "model_module": "@jupyter-widgets/controls",
          "model_name": "HBoxModel",
          "model_module_version": "1.5.0",
          "state": {
            "_dom_classes": [],
            "_model_module": "@jupyter-widgets/controls",
            "_model_module_version": "1.5.0",
            "_model_name": "HBoxModel",
            "_view_count": null,
            "_view_module": "@jupyter-widgets/controls",
            "_view_module_version": "1.5.0",
            "_view_name": "HBoxView",
            "box_style": "",
            "children": [
              "IPY_MODEL_3eeb5a7ff311441d9d9d0b90f5951629",
              "IPY_MODEL_ec56ae0e641a4282887d8c373584022e",
              "IPY_MODEL_d7a6a45f061c468899f26b79e1d2d806"
            ],
            "layout": "IPY_MODEL_fd112ab14443468f90adfaeb906eb4cb"
          }
        },
        "3eeb5a7ff311441d9d9d0b90f5951629": {
          "model_module": "@jupyter-widgets/controls",
          "model_name": "HTMLModel",
          "model_module_version": "1.5.0",
          "state": {
            "_dom_classes": [],
            "_model_module": "@jupyter-widgets/controls",
            "_model_module_version": "1.5.0",
            "_model_name": "HTMLModel",
            "_view_count": null,
            "_view_module": "@jupyter-widgets/controls",
            "_view_module_version": "1.5.0",
            "_view_name": "HTMLView",
            "description": "",
            "description_tooltip": null,
            "layout": "IPY_MODEL_337b2d3655c54b089a3cd1ff0181986f",
            "placeholder": "​",
            "style": "IPY_MODEL_368cf1536d2f4c45a9e87aa32a0fedb9",
            "value": "Downloading: 100%"
          }
        },
        "ec56ae0e641a4282887d8c373584022e": {
          "model_module": "@jupyter-widgets/controls",
          "model_name": "FloatProgressModel",
          "model_module_version": "1.5.0",
          "state": {
            "_dom_classes": [],
            "_model_module": "@jupyter-widgets/controls",
            "_model_module_version": "1.5.0",
            "_model_name": "FloatProgressModel",
            "_view_count": null,
            "_view_module": "@jupyter-widgets/controls",
            "_view_module_version": "1.5.0",
            "_view_name": "ProgressView",
            "bar_style": "success",
            "description": "",
            "description_tooltip": null,
            "layout": "IPY_MODEL_440294808f7b4c25959018506dc26231",
            "max": 714314041,
            "min": 0,
            "orientation": "horizontal",
            "style": "IPY_MODEL_6a5caffc4c184a96978f06362364fe50",
            "value": 714314041
          }
        },
        "d7a6a45f061c468899f26b79e1d2d806": {
          "model_module": "@jupyter-widgets/controls",
          "model_name": "HTMLModel",
          "model_module_version": "1.5.0",
          "state": {
            "_dom_classes": [],
            "_model_module": "@jupyter-widgets/controls",
            "_model_module_version": "1.5.0",
            "_model_name": "HTMLModel",
            "_view_count": null,
            "_view_module": "@jupyter-widgets/controls",
            "_view_module_version": "1.5.0",
            "_view_name": "HTMLView",
            "description": "",
            "description_tooltip": null,
            "layout": "IPY_MODEL_09162f2e24854fbfb73665f978456d05",
            "placeholder": "​",
            "style": "IPY_MODEL_9f01c972a9644c039890ea852889ad4d",
            "value": " 681M/681M [00:11&lt;00:00, 63.4MB/s]"
          }
        },
        "fd112ab14443468f90adfaeb906eb4cb": {
          "model_module": "@jupyter-widgets/base",
          "model_name": "LayoutModel",
          "model_module_version": "1.2.0",
          "state": {
            "_model_module": "@jupyter-widgets/base",
            "_model_module_version": "1.2.0",
            "_model_name": "LayoutModel",
            "_view_count": null,
            "_view_module": "@jupyter-widgets/base",
            "_view_module_version": "1.2.0",
            "_view_name": "LayoutView",
            "align_content": null,
            "align_items": null,
            "align_self": null,
            "border": null,
            "bottom": null,
            "display": null,
            "flex": null,
            "flex_flow": null,
            "grid_area": null,
            "grid_auto_columns": null,
            "grid_auto_flow": null,
            "grid_auto_rows": null,
            "grid_column": null,
            "grid_gap": null,
            "grid_row": null,
            "grid_template_areas": null,
            "grid_template_columns": null,
            "grid_template_rows": null,
            "height": null,
            "justify_content": null,
            "justify_items": null,
            "left": null,
            "margin": null,
            "max_height": null,
            "max_width": null,
            "min_height": null,
            "min_width": null,
            "object_fit": null,
            "object_position": null,
            "order": null,
            "overflow": null,
            "overflow_x": null,
            "overflow_y": null,
            "padding": null,
            "right": null,
            "top": null,
            "visibility": null,
            "width": null
          }
        },
        "337b2d3655c54b089a3cd1ff0181986f": {
          "model_module": "@jupyter-widgets/base",
          "model_name": "LayoutModel",
          "model_module_version": "1.2.0",
          "state": {
            "_model_module": "@jupyter-widgets/base",
            "_model_module_version": "1.2.0",
            "_model_name": "LayoutModel",
            "_view_count": null,
            "_view_module": "@jupyter-widgets/base",
            "_view_module_version": "1.2.0",
            "_view_name": "LayoutView",
            "align_content": null,
            "align_items": null,
            "align_self": null,
            "border": null,
            "bottom": null,
            "display": null,
            "flex": null,
            "flex_flow": null,
            "grid_area": null,
            "grid_auto_columns": null,
            "grid_auto_flow": null,
            "grid_auto_rows": null,
            "grid_column": null,
            "grid_gap": null,
            "grid_row": null,
            "grid_template_areas": null,
            "grid_template_columns": null,
            "grid_template_rows": null,
            "height": null,
            "justify_content": null,
            "justify_items": null,
            "left": null,
            "margin": null,
            "max_height": null,
            "max_width": null,
            "min_height": null,
            "min_width": null,
            "object_fit": null,
            "object_position": null,
            "order": null,
            "overflow": null,
            "overflow_x": null,
            "overflow_y": null,
            "padding": null,
            "right": null,
            "top": null,
            "visibility": null,
            "width": null
          }
        },
        "368cf1536d2f4c45a9e87aa32a0fedb9": {
          "model_module": "@jupyter-widgets/controls",
          "model_name": "DescriptionStyleModel",
          "model_module_version": "1.5.0",
          "state": {
            "_model_module": "@jupyter-widgets/controls",
            "_model_module_version": "1.5.0",
            "_model_name": "DescriptionStyleModel",
            "_view_count": null,
            "_view_module": "@jupyter-widgets/base",
            "_view_module_version": "1.2.0",
            "_view_name": "StyleView",
            "description_width": ""
          }
        },
        "440294808f7b4c25959018506dc26231": {
          "model_module": "@jupyter-widgets/base",
          "model_name": "LayoutModel",
          "model_module_version": "1.2.0",
          "state": {
            "_model_module": "@jupyter-widgets/base",
            "_model_module_version": "1.2.0",
            "_model_name": "LayoutModel",
            "_view_count": null,
            "_view_module": "@jupyter-widgets/base",
            "_view_module_version": "1.2.0",
            "_view_name": "LayoutView",
            "align_content": null,
            "align_items": null,
            "align_self": null,
            "border": null,
            "bottom": null,
            "display": null,
            "flex": null,
            "flex_flow": null,
            "grid_area": null,
            "grid_auto_columns": null,
            "grid_auto_flow": null,
            "grid_auto_rows": null,
            "grid_column": null,
            "grid_gap": null,
            "grid_row": null,
            "grid_template_areas": null,
            "grid_template_columns": null,
            "grid_template_rows": null,
            "height": null,
            "justify_content": null,
            "justify_items": null,
            "left": null,
            "margin": null,
            "max_height": null,
            "max_width": null,
            "min_height": null,
            "min_width": null,
            "object_fit": null,
            "object_position": null,
            "order": null,
            "overflow": null,
            "overflow_x": null,
            "overflow_y": null,
            "padding": null,
            "right": null,
            "top": null,
            "visibility": null,
            "width": null
          }
        },
        "6a5caffc4c184a96978f06362364fe50": {
          "model_module": "@jupyter-widgets/controls",
          "model_name": "ProgressStyleModel",
          "model_module_version": "1.5.0",
          "state": {
            "_model_module": "@jupyter-widgets/controls",
            "_model_module_version": "1.5.0",
            "_model_name": "ProgressStyleModel",
            "_view_count": null,
            "_view_module": "@jupyter-widgets/base",
            "_view_module_version": "1.2.0",
            "_view_name": "StyleView",
            "bar_color": null,
            "description_width": ""
          }
        },
        "09162f2e24854fbfb73665f978456d05": {
          "model_module": "@jupyter-widgets/base",
          "model_name": "LayoutModel",
          "model_module_version": "1.2.0",
          "state": {
            "_model_module": "@jupyter-widgets/base",
            "_model_module_version": "1.2.0",
            "_model_name": "LayoutModel",
            "_view_count": null,
            "_view_module": "@jupyter-widgets/base",
            "_view_module_version": "1.2.0",
            "_view_name": "LayoutView",
            "align_content": null,
            "align_items": null,
            "align_self": null,
            "border": null,
            "bottom": null,
            "display": null,
            "flex": null,
            "flex_flow": null,
            "grid_area": null,
            "grid_auto_columns": null,
            "grid_auto_flow": null,
            "grid_auto_rows": null,
            "grid_column": null,
            "grid_gap": null,
            "grid_row": null,
            "grid_template_areas": null,
            "grid_template_columns": null,
            "grid_template_rows": null,
            "height": null,
            "justify_content": null,
            "justify_items": null,
            "left": null,
            "margin": null,
            "max_height": null,
            "max_width": null,
            "min_height": null,
            "min_width": null,
            "object_fit": null,
            "object_position": null,
            "order": null,
            "overflow": null,
            "overflow_x": null,
            "overflow_y": null,
            "padding": null,
            "right": null,
            "top": null,
            "visibility": null,
            "width": null
          }
        },
        "9f01c972a9644c039890ea852889ad4d": {
          "model_module": "@jupyter-widgets/controls",
          "model_name": "DescriptionStyleModel",
          "model_module_version": "1.5.0",
          "state": {
            "_model_module": "@jupyter-widgets/controls",
            "_model_module_version": "1.5.0",
            "_model_name": "DescriptionStyleModel",
            "_view_count": null,
            "_view_module": "@jupyter-widgets/base",
            "_view_module_version": "1.2.0",
            "_view_name": "StyleView",
            "description_width": ""
          }
        },
        "75618834576d4be7b0d72478ed1753f1": {
          "model_module": "@jupyter-widgets/controls",
          "model_name": "HBoxModel",
          "model_module_version": "1.5.0",
          "state": {
            "_dom_classes": [],
            "_model_module": "@jupyter-widgets/controls",
            "_model_module_version": "1.5.0",
            "_model_name": "HBoxModel",
            "_view_count": null,
            "_view_module": "@jupyter-widgets/controls",
            "_view_module_version": "1.5.0",
            "_view_name": "HBoxView",
            "box_style": "",
            "children": [
              "IPY_MODEL_cb8e3611865146f88c4af3bd8d9850d7",
              "IPY_MODEL_b064336e6b8842b7b18eba4543bddcd0",
              "IPY_MODEL_da7493ecab134dc28e005a622912cd22"
            ],
            "layout": "IPY_MODEL_ab3167ec77ab40048fb47237f5a2c1c8"
          }
        },
        "cb8e3611865146f88c4af3bd8d9850d7": {
          "model_module": "@jupyter-widgets/controls",
          "model_name": "HTMLModel",
          "model_module_version": "1.5.0",
          "state": {
            "_dom_classes": [],
            "_model_module": "@jupyter-widgets/controls",
            "_model_module_version": "1.5.0",
            "_model_name": "HTMLModel",
            "_view_count": null,
            "_view_module": "@jupyter-widgets/controls",
            "_view_module_version": "1.5.0",
            "_view_name": "HTMLView",
            "description": "",
            "description_tooltip": null,
            "layout": "IPY_MODEL_070108c6649445f2a9990fadd1d31b2f",
            "placeholder": "​",
            "style": "IPY_MODEL_9372f83900ab41c8985c9d6af1af4eb1",
            "value": "Downloading: 100%"
          }
        },
        "b064336e6b8842b7b18eba4543bddcd0": {
          "model_module": "@jupyter-widgets/controls",
          "model_name": "FloatProgressModel",
          "model_module_version": "1.5.0",
          "state": {
            "_dom_classes": [],
            "_model_module": "@jupyter-widgets/controls",
            "_model_module_version": "1.5.0",
            "_model_name": "FloatProgressModel",
            "_view_count": null,
            "_view_module": "@jupyter-widgets/controls",
            "_view_module_version": "1.5.0",
            "_view_name": "ProgressView",
            "bar_style": "success",
            "description": "",
            "description_tooltip": null,
            "layout": "IPY_MODEL_b188e0ffc3d14a0aa6fc211c67ecf963",
            "max": 714314041,
            "min": 0,
            "orientation": "horizontal",
            "style": "IPY_MODEL_7b002c9385d94bf29e2618cf4f934b29",
            "value": 714314041
          }
        },
        "da7493ecab134dc28e005a622912cd22": {
          "model_module": "@jupyter-widgets/controls",
          "model_name": "HTMLModel",
          "model_module_version": "1.5.0",
          "state": {
            "_dom_classes": [],
            "_model_module": "@jupyter-widgets/controls",
            "_model_module_version": "1.5.0",
            "_model_name": "HTMLModel",
            "_view_count": null,
            "_view_module": "@jupyter-widgets/controls",
            "_view_module_version": "1.5.0",
            "_view_name": "HTMLView",
            "description": "",
            "description_tooltip": null,
            "layout": "IPY_MODEL_16ce9bf99bf24c20a40e89f3c3d8970a",
            "placeholder": "​",
            "style": "IPY_MODEL_d4ad4ee9dff54289850b672d5edff042",
            "value": " 681M/681M [00:18&lt;00:00, 44.8MB/s]"
          }
        },
        "ab3167ec77ab40048fb47237f5a2c1c8": {
          "model_module": "@jupyter-widgets/base",
          "model_name": "LayoutModel",
          "model_module_version": "1.2.0",
          "state": {
            "_model_module": "@jupyter-widgets/base",
            "_model_module_version": "1.2.0",
            "_model_name": "LayoutModel",
            "_view_count": null,
            "_view_module": "@jupyter-widgets/base",
            "_view_module_version": "1.2.0",
            "_view_name": "LayoutView",
            "align_content": null,
            "align_items": null,
            "align_self": null,
            "border": null,
            "bottom": null,
            "display": null,
            "flex": null,
            "flex_flow": null,
            "grid_area": null,
            "grid_auto_columns": null,
            "grid_auto_flow": null,
            "grid_auto_rows": null,
            "grid_column": null,
            "grid_gap": null,
            "grid_row": null,
            "grid_template_areas": null,
            "grid_template_columns": null,
            "grid_template_rows": null,
            "height": null,
            "justify_content": null,
            "justify_items": null,
            "left": null,
            "margin": null,
            "max_height": null,
            "max_width": null,
            "min_height": null,
            "min_width": null,
            "object_fit": null,
            "object_position": null,
            "order": null,
            "overflow": null,
            "overflow_x": null,
            "overflow_y": null,
            "padding": null,
            "right": null,
            "top": null,
            "visibility": null,
            "width": null
          }
        },
        "070108c6649445f2a9990fadd1d31b2f": {
          "model_module": "@jupyter-widgets/base",
          "model_name": "LayoutModel",
          "model_module_version": "1.2.0",
          "state": {
            "_model_module": "@jupyter-widgets/base",
            "_model_module_version": "1.2.0",
            "_model_name": "LayoutModel",
            "_view_count": null,
            "_view_module": "@jupyter-widgets/base",
            "_view_module_version": "1.2.0",
            "_view_name": "LayoutView",
            "align_content": null,
            "align_items": null,
            "align_self": null,
            "border": null,
            "bottom": null,
            "display": null,
            "flex": null,
            "flex_flow": null,
            "grid_area": null,
            "grid_auto_columns": null,
            "grid_auto_flow": null,
            "grid_auto_rows": null,
            "grid_column": null,
            "grid_gap": null,
            "grid_row": null,
            "grid_template_areas": null,
            "grid_template_columns": null,
            "grid_template_rows": null,
            "height": null,
            "justify_content": null,
            "justify_items": null,
            "left": null,
            "margin": null,
            "max_height": null,
            "max_width": null,
            "min_height": null,
            "min_width": null,
            "object_fit": null,
            "object_position": null,
            "order": null,
            "overflow": null,
            "overflow_x": null,
            "overflow_y": null,
            "padding": null,
            "right": null,
            "top": null,
            "visibility": null,
            "width": null
          }
        },
        "9372f83900ab41c8985c9d6af1af4eb1": {
          "model_module": "@jupyter-widgets/controls",
          "model_name": "DescriptionStyleModel",
          "model_module_version": "1.5.0",
          "state": {
            "_model_module": "@jupyter-widgets/controls",
            "_model_module_version": "1.5.0",
            "_model_name": "DescriptionStyleModel",
            "_view_count": null,
            "_view_module": "@jupyter-widgets/base",
            "_view_module_version": "1.2.0",
            "_view_name": "StyleView",
            "description_width": ""
          }
        },
        "b188e0ffc3d14a0aa6fc211c67ecf963": {
          "model_module": "@jupyter-widgets/base",
          "model_name": "LayoutModel",
          "model_module_version": "1.2.0",
          "state": {
            "_model_module": "@jupyter-widgets/base",
            "_model_module_version": "1.2.0",
            "_model_name": "LayoutModel",
            "_view_count": null,
            "_view_module": "@jupyter-widgets/base",
            "_view_module_version": "1.2.0",
            "_view_name": "LayoutView",
            "align_content": null,
            "align_items": null,
            "align_self": null,
            "border": null,
            "bottom": null,
            "display": null,
            "flex": null,
            "flex_flow": null,
            "grid_area": null,
            "grid_auto_columns": null,
            "grid_auto_flow": null,
            "grid_auto_rows": null,
            "grid_column": null,
            "grid_gap": null,
            "grid_row": null,
            "grid_template_areas": null,
            "grid_template_columns": null,
            "grid_template_rows": null,
            "height": null,
            "justify_content": null,
            "justify_items": null,
            "left": null,
            "margin": null,
            "max_height": null,
            "max_width": null,
            "min_height": null,
            "min_width": null,
            "object_fit": null,
            "object_position": null,
            "order": null,
            "overflow": null,
            "overflow_x": null,
            "overflow_y": null,
            "padding": null,
            "right": null,
            "top": null,
            "visibility": null,
            "width": null
          }
        },
        "7b002c9385d94bf29e2618cf4f934b29": {
          "model_module": "@jupyter-widgets/controls",
          "model_name": "ProgressStyleModel",
          "model_module_version": "1.5.0",
          "state": {
            "_model_module": "@jupyter-widgets/controls",
            "_model_module_version": "1.5.0",
            "_model_name": "ProgressStyleModel",
            "_view_count": null,
            "_view_module": "@jupyter-widgets/base",
            "_view_module_version": "1.2.0",
            "_view_name": "StyleView",
            "bar_color": null,
            "description_width": ""
          }
        },
        "16ce9bf99bf24c20a40e89f3c3d8970a": {
          "model_module": "@jupyter-widgets/base",
          "model_name": "LayoutModel",
          "model_module_version": "1.2.0",
          "state": {
            "_model_module": "@jupyter-widgets/base",
            "_model_module_version": "1.2.0",
            "_model_name": "LayoutModel",
            "_view_count": null,
            "_view_module": "@jupyter-widgets/base",
            "_view_module_version": "1.2.0",
            "_view_name": "LayoutView",
            "align_content": null,
            "align_items": null,
            "align_self": null,
            "border": null,
            "bottom": null,
            "display": null,
            "flex": null,
            "flex_flow": null,
            "grid_area": null,
            "grid_auto_columns": null,
            "grid_auto_flow": null,
            "grid_auto_rows": null,
            "grid_column": null,
            "grid_gap": null,
            "grid_row": null,
            "grid_template_areas": null,
            "grid_template_columns": null,
            "grid_template_rows": null,
            "height": null,
            "justify_content": null,
            "justify_items": null,
            "left": null,
            "margin": null,
            "max_height": null,
            "max_width": null,
            "min_height": null,
            "min_width": null,
            "object_fit": null,
            "object_position": null,
            "order": null,
            "overflow": null,
            "overflow_x": null,
            "overflow_y": null,
            "padding": null,
            "right": null,
            "top": null,
            "visibility": null,
            "width": null
          }
        },
        "d4ad4ee9dff54289850b672d5edff042": {
          "model_module": "@jupyter-widgets/controls",
          "model_name": "DescriptionStyleModel",
          "model_module_version": "1.5.0",
          "state": {
            "_model_module": "@jupyter-widgets/controls",
            "_model_module_version": "1.5.0",
            "_model_name": "DescriptionStyleModel",
            "_view_count": null,
            "_view_module": "@jupyter-widgets/base",
            "_view_module_version": "1.2.0",
            "_view_name": "StyleView",
            "description_width": ""
          }
        }
      }
    }
  },
  "cells": [
    {
      "cell_type": "markdown",
      "metadata": {
        "id": "view-in-github",
        "colab_type": "text"
      },
      "source": [
        "<a href=\"https://colab.research.google.com/github/bcmin1018/NLP/blob/main/Classification/Toxic_comment_classification/Notebooks/Toxic_comment.ipynb\" target=\"_parent\"><img src=\"https://colab.research.google.com/assets/colab-badge.svg\" alt=\"Open In Colab\"/></a>"
      ]
    },
    {
      "cell_type": "code",
      "source": [
        "!pip install transformers"
      ],
      "metadata": {
        "id": "hl6FnyWREn3J"
      },
      "execution_count": null,
      "outputs": []
    },
    {
      "cell_type": "code",
      "source": [
        "import torch\n",
        "import torch.nn as nn\n",
        "import transformers\n",
        "import pandas as pd\n",
        "import numpy as np\n",
        "from tqdm import tqdm, tqdm_notebook\n",
        "from transformers import BertTokenizer\n",
        "from transformers import AdamW, get_linear_schedule_with_warmup\n",
        "from sklearn import model_selection\n",
        "from sklearn import metrics\n",
        "from sklearn.metrics import roc_auc_score\n",
        "from torch.utils.data import DataLoader, Dataset\n",
        "from torch.nn import functional as F"
      ],
      "metadata": {
        "id": "8822sFwqETLS"
      },
      "execution_count": 2,
      "outputs": []
    },
    {
      "cell_type": "code",
      "source": [
        "import os, sys \n",
        "from google.colab import drive\n",
        "drive.mount('/content/drive')"
      ],
      "metadata": {
        "colab": {
          "base_uri": "https://localhost:8080/"
        },
        "id": "rTsYfLgObJYu",
        "outputId": "849b3a59-d770-403f-d15c-4418abe82fcf"
      },
      "execution_count": 3,
      "outputs": [
        {
          "output_type": "stream",
          "name": "stdout",
          "text": [
            "Mounted at /content/drive\n"
          ]
        }
      ]
    },
    {
      "cell_type": "code",
      "source": [
        "#train\n",
        "!gdown --id 1-0kJHNDTDLvx8U7hrN9kq9T3aLaWI6wW\n",
        "#valid\n",
        "!gdown --id 1fh2Wtzjx7t9mIv6-ntUB-dv27nfJfFba\n",
        "#test\n",
        "!gdown --id 1K6bu85ANf1niUOUP1j4Zdd1mEN7wdIVT\n",
        "#sample_submission\n",
        "!gdown --id 1gyVdX4syHrDCum7e6qiDOFkXVcbY2tGO"
      ],
      "metadata": {
        "colab": {
          "base_uri": "https://localhost:8080/"
        },
        "id": "qORTvYDmaJtd",
        "outputId": "6275e753-04b7-46d9-8bc5-5b1700d1ea99"
      },
      "execution_count": 4,
      "outputs": [
        {
          "output_type": "stream",
          "name": "stdout",
          "text": [
            "/usr/local/lib/python3.7/dist-packages/gdown/cli.py:131: FutureWarning: Option `--id` was deprecated in version 4.3.1 and will be removed in 5.0. You don't need to pass it anymore to use a file ID.\n",
            "  category=FutureWarning,\n",
            "Downloading...\n",
            "From: https://drive.google.com/uc?id=1-0kJHNDTDLvx8U7hrN9kq9T3aLaWI6wW\n",
            "To: /content/jigsaw-unintended-bias-train(clean).csv\n",
            "100% 1.43G/1.43G [00:12<00:00, 116MB/s] \n",
            "/usr/local/lib/python3.7/dist-packages/gdown/cli.py:131: FutureWarning: Option `--id` was deprecated in version 4.3.1 and will be removed in 5.0. You don't need to pass it anymore to use a file ID.\n",
            "  category=FutureWarning,\n",
            "Downloading...\n",
            "From: https://drive.google.com/uc?id=1fh2Wtzjx7t9mIv6-ntUB-dv27nfJfFba\n",
            "To: /content/validation.csv\n",
            "100% 3.18M/3.18M [00:00<00:00, 136MB/s]\n",
            "/usr/local/lib/python3.7/dist-packages/gdown/cli.py:131: FutureWarning: Option `--id` was deprecated in version 4.3.1 and will be removed in 5.0. You don't need to pass it anymore to use a file ID.\n",
            "  category=FutureWarning,\n",
            "Downloading...\n",
            "From: https://drive.google.com/uc?id=1K6bu85ANf1niUOUP1j4Zdd1mEN7wdIVT\n",
            "To: /content/test.csv\n",
            "100% 28.8M/28.8M [00:00<00:00, 165MB/s] \n",
            "/usr/local/lib/python3.7/dist-packages/gdown/cli.py:131: FutureWarning: Option `--id` was deprecated in version 4.3.1 and will be removed in 5.0. You don't need to pass it anymore to use a file ID.\n",
            "  category=FutureWarning,\n",
            "Downloading...\n",
            "From: https://drive.google.com/uc?id=1gyVdX4syHrDCum7e6qiDOFkXVcbY2tGO\n",
            "To: /content/sample_submission.csv\n",
            "100% 627k/627k [00:00<00:00, 92.2MB/s]\n"
          ]
        }
      ]
    },
    {
      "cell_type": "code",
      "source": [
        "train_data_path= \"./jigsaw-unintended-bias-train(clean).csv\"\n",
        "valid_data_path= \"./validation.csv\"\n",
        "test_data_path =\"./test.csv\"\n",
        "sample_submission_path = \"./sample_submission.csv\"\n",
        "\n",
        "train_data = pd.read_csv(train_data_path, lineterminator='\\n', usecols=['clean_comment_text','toxic'])\n",
        "valid_data = pd.read_csv(valid_data_path, usecols=['comment_text','toxic'])\n",
        "test_data = pd.read_csv(test_data_path, usecols=['content'])\n",
        "sample_submission = pd.read_csv(sample_submission_path)"
      ],
      "metadata": {
        "id": "WX7WSOiyaqrF"
      },
      "execution_count": 5,
      "outputs": []
    },
    {
      "cell_type": "code",
      "source": [
        "print(len(train_data))\n",
        "print(len(valid_data))\n",
        "print(len(test_data))"
      ],
      "metadata": {
        "colab": {
          "base_uri": "https://localhost:8080/"
        },
        "id": "IqcSHMacr5eL",
        "outputId": "8c0b6e0d-3f15-43a2-8f5a-3b5995025991"
      },
      "execution_count": 6,
      "outputs": [
        {
          "output_type": "stream",
          "name": "stdout",
          "text": [
            "1902194\n",
            "8000\n",
            "63812\n"
          ]
        }
      ]
    },
    {
      "cell_type": "code",
      "source": [
        "df_train = train_data[0:50000]\n",
        "df_valid = valid_data\n",
        "df_test = test_data"
      ],
      "metadata": {
        "id": "zmEUSYJccGwp"
      },
      "execution_count": 7,
      "outputs": []
    },
    {
      "cell_type": "code",
      "execution_count": 8,
      "metadata": {
        "id": "GO2K7m7TCRjj"
      },
      "outputs": [],
      "source": [
        "# dataset.py\n",
        "class BERTDataset:\n",
        "  def __init__(self, comment_text, target):\n",
        "    self.comment_text = comment_text\n",
        "    self.target = target\n",
        "    self.tokenizer = TOKENIZER\n",
        "    self.max_len = MAX_LEN\n",
        "\n",
        "  def __len__(self):\n",
        "    return len(self.comment_text)\n",
        "\n",
        "  def __getitem__(self, item):\n",
        "    comment_text = str(self.comment_text[item])\n",
        "    comment_text = \" \".join(comment_text.split())\n",
        "\n",
        "    inputs = self.tokenizer.encode_plus(\n",
        "        comment_text,\n",
        "        None,\n",
        "        add_special_tokens=True,\n",
        "        truncation=True,\n",
        "        max_length = self.max_len\n",
        "    )\n",
        "\n",
        "    ids = inputs[\"input_ids\"]\n",
        "    mask = inputs['attention_mask']\n",
        "    token_type_ids = inputs[\"token_type_ids\"]\n",
        "\n",
        "    padding_length = self.max_len - len(ids)\n",
        "    ids = ids + ([0] * padding_length)\n",
        "    mask = mask + ([0] * padding_length)\n",
        "    token_type_ids = token_type_ids + ([0] * padding_length)\n",
        "\n",
        "    return {\n",
        "        'ids' : torch.tensor(ids, dtype=torch.long),\n",
        "        'mask' : torch.tensor(mask, dtype=torch.long),\n",
        "        'token_type_ids' : torch.tensor(token_type_ids, dtype=torch.long),\n",
        "        'target' : torch.tensor(self.target[item], dtype=torch.float)\n",
        "    }"
      ]
    },
    {
      "cell_type": "code",
      "source": [
        "# model.py\n",
        "\n",
        "class BERTBaseUncased(nn.Module):\n",
        "  def __init__(self):\n",
        "    super(BERTBaseUncased, self).__init__()\n",
        "    self.bert = transformers.BertModel.from_pretrained('bert-base-multilingual-cased')\n",
        "    self.bert_drop = nn.Dropout(0.3)\n",
        "    # mean, max pooling (768 * 2)\n",
        "    self.out = nn.Linear(768 * 2, 1)\n",
        "\n",
        "  def forward(self, ids, mask, token_type_ids):\n",
        "    outputs = self.bert(\n",
        "        ids,\n",
        "        attention_mask = mask,\n",
        "        token_type_ids = token_type_ids\n",
        "    )\n",
        "\n",
        "    mean_pooling = torch.mean(outputs[0], 1)\n",
        "    max_pooling, _ = torch.max(outputs[0], 1)\n",
        "    cat = torch.cat((mean_pooling, max_pooling), 1)\n",
        "\n",
        "    bo = self.bert_drop(cat)\n",
        "    output = self.out(bo)\n",
        "    return output"
      ],
      "metadata": {
        "id": "KC4g6cNVEWTM"
      },
      "execution_count": 9,
      "outputs": []
    },
    {
      "cell_type": "code",
      "source": [
        "#engine.py\n",
        "\n",
        "def loss_fn(outputs, targets):\n",
        "  return nn.BCEWithLogitsLoss()(outputs, targets.float().view(-1, 1))\n",
        "\n",
        "def train(data_loader, model, optimizer, device, scheduler):\n",
        "  model.train()\n",
        "  avg_loss = 0\n",
        "  for batch_idx, data in enumerate(data_loader):\n",
        "    ids = data['ids']\n",
        "    token_type_ids = data['token_type_ids']\n",
        "    mask = data['mask']\n",
        "    targets = data['target']\n",
        "\n",
        "    ids = ids.to(device, dtype=torch.long)\n",
        "    token_type_ids = token_type_ids.to(device, dtype=torch.long)\n",
        "    mask = mask.to(device, dtype=torch.long)\n",
        "    targets = targets.to(device, dtype=torch.long)\n",
        "\n",
        "    optimizer.zero_grad()\n",
        "    outputs = model(\n",
        "        ids = ids,\n",
        "        mask = mask,\n",
        "        token_type_ids = token_type_ids\n",
        "    )\n",
        "\n",
        "    loss = loss_fn(outputs, targets)\n",
        "    if batch_idx % 10 == 0:\n",
        "      print(f'train_batch_idx={batch_idx}, train_loss={loss}')\n",
        "    \n",
        "    loss.backward()\n",
        "    optimizer.step()\n",
        "    scheduler.step()\n",
        "\n",
        "\n",
        "def eval(data_loader, model, device):\n",
        "  model.eval()\n",
        "  fin_targets = []\n",
        "  fin_outputs = []\n",
        "  with torch.no_grad():\n",
        "    for batch_idx, data in enumerate(data_loader):\n",
        "      ids = data['ids']\n",
        "      token_type_ids = data['token_type_ids']\n",
        "      mask = data['mask']\n",
        "      targets = data['target']\n",
        "\n",
        "      ids = ids.to(device, dtype=torch.long)\n",
        "      token_type_ids = token_type_ids.to(device, dtype=torch.long)\n",
        "      mask = mask.to(device, dtype=torch.long)\n",
        "      targets = targets.to(device, dtype=torch.long)\n",
        "\n",
        "      outputs = model(\n",
        "        ids = ids,\n",
        "        mask = mask,\n",
        "        token_type_ids = token_type_ids\n",
        "      )\n",
        "\n",
        "      fin_targets.extend(targets.cpu().detach().numpy().tolist())\n",
        "      fin_outputs.extend(torch.sigmoid(outputs).cpu().detach().numpy().tolist())\n",
        "\n",
        "  return fin_outputs, fin_targets"
      ],
      "metadata": {
        "id": "sai52AShG_E0"
      },
      "execution_count": 10,
      "outputs": []
    },
    {
      "cell_type": "code",
      "source": [
        "# train.py\n",
        "def run(train_data_loader, valid_data_loader):\n",
        "  device = torch.device(\"cuda\")\n",
        "  model = BERTBaseUncased()\n",
        "  model.to(device)\n",
        "\n",
        "  param_optimizer = list(model.named_parameters())\n",
        "  no_decay = [\"bias\", \"LayerNorm.bias\", \"LayerNorm.weight\"]\n",
        "  optimizer_parameters = [\n",
        "    {'params' : [p for n, p in param_optimizer if not any (nd in n for nd in no_decay)], 'weight_decay': 0.001},\n",
        "    {'params' : [p for n, p in param_optimizer if any (nd in n for nd in no_decay)], 'weight_decay': 0.0}\n",
        "  ]\n",
        "\n",
        "  num_train_steps = int(len(df_train) / TRAIN_BATCH_SIZE * EPOCHS)\n",
        "  optimizer = AdamW(optimizer_parameters, lr = LR)\n",
        "  scheduler = get_linear_schedule_with_warmup(optimizer, \n",
        "                                              num_warmup_steps = 0,\n",
        "                                              num_training_steps = num_train_steps)\n",
        "\n",
        "  best_accuracy = 0\n",
        "  for epoch in range(EPOCHS):\n",
        "    train(train_data_loader, model, optimizer, device, scheduler)\n",
        "    outputs, targets = eval(valid_data_loader, model, device)\n",
        "    # targets = np.array(targets) >= 0.5\n",
        "    accuracy = metrics.roc_auc_score(targets, outputs)\n",
        "    print((f\"AUC Score = {accuracy}\"))\n",
        "    if accuracy > best_accuracy:\n",
        "      torch.save(model.state_dict(), MODEL_PATH)\n",
        "      best_accuarcy = accuracy"
      ],
      "metadata": {
        "id": "i7EtrYw6KEAR"
      },
      "execution_count": 11,
      "outputs": []
    },
    {
      "cell_type": "code",
      "source": [
        "# config.py\n",
        "\n",
        "MAX_LEN = 100\n",
        "TRAIN_BATCH_SIZE = 16\n",
        "VALID_BATCH_SIZE = 16\n",
        "EPOCHS = 3\n",
        "LR = 1e-5\n",
        "MODEL_PATH = \"/content/drive/MyDrive/Colab Notebooks/model.pt\"\n",
        "TOKENIZER = transformers.BertTokenizer.from_pretrained('bert-base-multilingual-cased', do_lower_case=True)"
      ],
      "metadata": {
        "id": "_0fxVf42JbQE"
      },
      "execution_count": 14,
      "outputs": []
    },
    {
      "cell_type": "code",
      "source": [
        "train_dataset = BERTDataset(\n",
        "    comment_text = df_train.clean_comment_text.values,\n",
        "    target = df_train.toxic.values\n",
        ")\n",
        "train_data_loader = DataLoader(\n",
        "    train_dataset,\n",
        "    batch_size = TRAIN_BATCH_SIZE,\n",
        "    num_workers = 2,\n",
        "    shuffle=True\n",
        ")\n",
        "valid_dataset = BERTDataset(\n",
        "    comment_text = df_valid.comment_text.values,\n",
        "    target = df_valid.toxic.values\n",
        ")\n",
        "\n",
        "valid_data_loader = DataLoader(\n",
        "    valid_dataset,\n",
        "    batch_size = VALID_BATCH_SIZE,\n",
        "    num_workers = 1,\n",
        "    shuffle=True\n",
        ")"
      ],
      "metadata": {
        "id": "lpt6wnFjcPXZ"
      },
      "execution_count": 13,
      "outputs": []
    },
    {
      "cell_type": "code",
      "source": [
        "run(train_data_loader, valid_data_loader)"
      ],
      "metadata": {
        "colab": {
          "base_uri": "https://localhost:8080/",
          "height": 1000,
          "referenced_widgets": [
            "75618834576d4be7b0d72478ed1753f1",
            "cb8e3611865146f88c4af3bd8d9850d7",
            "b064336e6b8842b7b18eba4543bddcd0",
            "da7493ecab134dc28e005a622912cd22",
            "ab3167ec77ab40048fb47237f5a2c1c8",
            "070108c6649445f2a9990fadd1d31b2f",
            "9372f83900ab41c8985c9d6af1af4eb1",
            "b188e0ffc3d14a0aa6fc211c67ecf963",
            "7b002c9385d94bf29e2618cf4f934b29",
            "16ce9bf99bf24c20a40e89f3c3d8970a",
            "d4ad4ee9dff54289850b672d5edff042"
          ]
        },
        "id": "CDrPygQf3Xsa",
        "outputId": "096b8879-2866-4fc1-9dfd-67fcf8c43008"
      },
      "execution_count": 15,
      "outputs": [
        {
          "data": {
            "application/vnd.jupyter.widget-view+json": {
              "model_id": "75618834576d4be7b0d72478ed1753f1",
              "version_major": 2,
              "version_minor": 0
            },
            "text/plain": [
              "Downloading:   0%|          | 0.00/681M [00:00<?, ?B/s]"
            ]
          },
          "metadata": {},
          "output_type": "display_data"
        },
        {
          "metadata": {
            "tags": null
          },
          "name": "stderr",
          "output_type": "stream",
          "text": [
            "Some weights of the model checkpoint at bert-base-multilingual-cased were not used when initializing BertModel: ['cls.seq_relationship.weight', 'cls.seq_relationship.bias', 'cls.predictions.transform.LayerNorm.weight', 'cls.predictions.bias', 'cls.predictions.transform.LayerNorm.bias', 'cls.predictions.transform.dense.bias', 'cls.predictions.transform.dense.weight', 'cls.predictions.decoder.weight']\n",
            "- This IS expected if you are initializing BertModel from the checkpoint of a model trained on another task or with another architecture (e.g. initializing a BertForSequenceClassification model from a BertForPreTraining model).\n",
            "- This IS NOT expected if you are initializing BertModel from the checkpoint of a model that you expect to be exactly identical (initializing a BertForSequenceClassification model from a BertForSequenceClassification model).\n",
            "/usr/local/lib/python3.7/dist-packages/transformers/optimization.py:309: FutureWarning: This implementation of AdamW is deprecated and will be removed in a future version. Use the PyTorch implementation torch.optim.AdamW instead, or set `no_deprecation_warning=True` to disable this warning\n",
            "  FutureWarning,\n"
          ]
        },
        {
          "output_type": "stream",
          "name": "stdout",
          "text": [
            "train_batch_idx=0, train_loss=0.20101475715637207\n",
            "train_batch_idx=10, train_loss=0.012041833251714706\n",
            "train_batch_idx=20, train_loss=0.0037121104542165995\n",
            "train_batch_idx=30, train_loss=0.0019787410274147987\n",
            "train_batch_idx=40, train_loss=0.001551773282699287\n",
            "train_batch_idx=50, train_loss=0.0018560555763542652\n",
            "train_batch_idx=60, train_loss=0.0016893008723855019\n",
            "train_batch_idx=70, train_loss=0.4332113564014435\n",
            "train_batch_idx=80, train_loss=0.0016852023545652628\n",
            "train_batch_idx=90, train_loss=0.003285888582468033\n",
            "train_batch_idx=100, train_loss=0.004842825699597597\n",
            "train_batch_idx=110, train_loss=0.009270334616303444\n",
            "train_batch_idx=120, train_loss=0.005157594569027424\n",
            "train_batch_idx=130, train_loss=0.0031806884799152613\n",
            "train_batch_idx=140, train_loss=0.002654857002198696\n",
            "train_batch_idx=150, train_loss=0.0015433438820764422\n",
            "train_batch_idx=160, train_loss=0.0013995054177939892\n",
            "train_batch_idx=170, train_loss=0.0015293131582438946\n",
            "train_batch_idx=180, train_loss=0.0018797311931848526\n",
            "train_batch_idx=190, train_loss=0.002163712400943041\n",
            "train_batch_idx=200, train_loss=0.0023538749665021896\n",
            "train_batch_idx=210, train_loss=0.0017479786183685064\n",
            "train_batch_idx=220, train_loss=0.001317037851549685\n",
            "train_batch_idx=230, train_loss=0.0015897511038929224\n",
            "train_batch_idx=240, train_loss=0.0011264950735494494\n",
            "train_batch_idx=250, train_loss=0.0013848721282556653\n",
            "train_batch_idx=260, train_loss=0.0021676388569176197\n",
            "train_batch_idx=270, train_loss=0.0015106885693967342\n",
            "train_batch_idx=280, train_loss=0.0027992562390863895\n",
            "train_batch_idx=290, train_loss=0.0018734101904556155\n",
            "train_batch_idx=300, train_loss=0.0014202197780832648\n",
            "train_batch_idx=310, train_loss=0.0016332785598933697\n",
            "train_batch_idx=320, train_loss=0.00252883555367589\n",
            "train_batch_idx=330, train_loss=0.003916636109352112\n",
            "train_batch_idx=340, train_loss=0.004567242693156004\n",
            "train_batch_idx=350, train_loss=0.0026669478975236416\n",
            "train_batch_idx=360, train_loss=0.001971988007426262\n",
            "train_batch_idx=370, train_loss=0.0013409359380602837\n",
            "train_batch_idx=380, train_loss=0.0012679211795330048\n",
            "train_batch_idx=390, train_loss=0.0011945220176130533\n",
            "train_batch_idx=400, train_loss=0.0009676312329247594\n",
            "train_batch_idx=410, train_loss=0.000989300198853016\n",
            "train_batch_idx=420, train_loss=0.002639036625623703\n",
            "train_batch_idx=430, train_loss=0.0024502109736204147\n",
            "train_batch_idx=440, train_loss=0.004094443283975124\n",
            "train_batch_idx=450, train_loss=0.0032013114541769028\n",
            "train_batch_idx=460, train_loss=0.0019471452105790377\n",
            "train_batch_idx=470, train_loss=0.0018350724130868912\n",
            "train_batch_idx=480, train_loss=0.368435263633728\n",
            "train_batch_idx=490, train_loss=0.004151442088186741\n",
            "train_batch_idx=500, train_loss=0.003167221788316965\n",
            "train_batch_idx=510, train_loss=0.002166865626350045\n",
            "train_batch_idx=520, train_loss=0.001317658694460988\n",
            "train_batch_idx=530, train_loss=0.0014301503542810678\n",
            "train_batch_idx=540, train_loss=0.40771231055259705\n",
            "train_batch_idx=550, train_loss=0.001884128083474934\n",
            "train_batch_idx=560, train_loss=0.005484741646796465\n",
            "train_batch_idx=570, train_loss=0.0032386616803705692\n",
            "train_batch_idx=580, train_loss=0.002487694378942251\n",
            "train_batch_idx=590, train_loss=0.005265871994197369\n",
            "train_batch_idx=600, train_loss=0.003960965201258659\n",
            "train_batch_idx=610, train_loss=0.0027785510756075382\n",
            "train_batch_idx=620, train_loss=0.3772526979446411\n",
            "train_batch_idx=630, train_loss=0.006259943824261427\n",
            "train_batch_idx=640, train_loss=0.0072927698493003845\n",
            "train_batch_idx=650, train_loss=0.004646483343094587\n",
            "train_batch_idx=660, train_loss=0.003389367600902915\n",
            "train_batch_idx=670, train_loss=0.0041315630078315735\n",
            "train_batch_idx=680, train_loss=0.0041853212751448154\n",
            "train_batch_idx=690, train_loss=0.002558257197961211\n",
            "train_batch_idx=700, train_loss=0.0032983829732984304\n",
            "train_batch_idx=710, train_loss=0.002727156039327383\n",
            "train_batch_idx=720, train_loss=0.002097637392580509\n",
            "train_batch_idx=730, train_loss=0.0016662494745105505\n",
            "train_batch_idx=740, train_loss=0.001300382660701871\n",
            "train_batch_idx=750, train_loss=0.0014627005439251661\n",
            "train_batch_idx=760, train_loss=0.0024631842970848083\n",
            "train_batch_idx=770, train_loss=0.003313149092718959\n",
            "train_batch_idx=780, train_loss=0.004802033305168152\n",
            "train_batch_idx=790, train_loss=0.005282947793602943\n",
            "train_batch_idx=800, train_loss=0.003989753313362598\n",
            "train_batch_idx=810, train_loss=0.002418468240648508\n",
            "train_batch_idx=820, train_loss=0.003047462087124586\n",
            "train_batch_idx=830, train_loss=0.003487546928226948\n",
            "train_batch_idx=840, train_loss=0.0058127511292696\n",
            "train_batch_idx=850, train_loss=0.012500627897679806\n",
            "train_batch_idx=860, train_loss=0.006623361259698868\n",
            "train_batch_idx=870, train_loss=0.3510352373123169\n",
            "train_batch_idx=880, train_loss=0.003111534286290407\n",
            "train_batch_idx=890, train_loss=0.002397758886218071\n",
            "train_batch_idx=900, train_loss=0.001984468661248684\n",
            "train_batch_idx=910, train_loss=0.001768668182194233\n",
            "train_batch_idx=920, train_loss=0.0019420806784182787\n",
            "train_batch_idx=930, train_loss=0.0022983094677329063\n",
            "train_batch_idx=940, train_loss=0.002556611318141222\n",
            "train_batch_idx=950, train_loss=0.002246991265565157\n",
            "train_batch_idx=960, train_loss=0.0023361355997622013\n",
            "train_batch_idx=970, train_loss=0.003379679750651121\n",
            "train_batch_idx=980, train_loss=0.0034725398290902376\n",
            "train_batch_idx=990, train_loss=0.0031399810686707497\n",
            "train_batch_idx=1000, train_loss=0.0029329508543014526\n",
            "train_batch_idx=1010, train_loss=0.35450997948646545\n",
            "train_batch_idx=1020, train_loss=0.0031073717400431633\n",
            "train_batch_idx=1030, train_loss=0.002710797358304262\n",
            "train_batch_idx=1040, train_loss=0.0023918356746435165\n",
            "train_batch_idx=1050, train_loss=0.0021312760654836893\n",
            "train_batch_idx=1060, train_loss=0.0031374392565339804\n",
            "train_batch_idx=1070, train_loss=0.003197961486876011\n",
            "train_batch_idx=1080, train_loss=0.0027868994511663914\n",
            "train_batch_idx=1090, train_loss=0.002301629399880767\n",
            "train_batch_idx=1100, train_loss=0.002652084920555353\n",
            "train_batch_idx=1110, train_loss=0.0025617419742047787\n",
            "train_batch_idx=1120, train_loss=0.0023579630069434643\n",
            "train_batch_idx=1130, train_loss=0.0019921744242310524\n",
            "train_batch_idx=1140, train_loss=0.0015542316250503063\n",
            "train_batch_idx=1150, train_loss=0.0015408446779474616\n",
            "train_batch_idx=1160, train_loss=0.40039417147636414\n",
            "train_batch_idx=1170, train_loss=0.002591463504359126\n",
            "train_batch_idx=1180, train_loss=0.0021675950847566128\n",
            "train_batch_idx=1190, train_loss=0.0018881285795941949\n",
            "train_batch_idx=1200, train_loss=0.002142631681635976\n",
            "train_batch_idx=1210, train_loss=0.0016131955198943615\n",
            "train_batch_idx=1220, train_loss=0.0016021629562601447\n",
            "train_batch_idx=1230, train_loss=0.0011165954638272524\n",
            "train_batch_idx=1240, train_loss=0.0010287908371537924\n",
            "train_batch_idx=1250, train_loss=0.0010580673115327954\n",
            "train_batch_idx=1260, train_loss=0.001237987307831645\n",
            "train_batch_idx=1270, train_loss=0.0008838217472657561\n",
            "train_batch_idx=1280, train_loss=0.0008447612053714693\n",
            "train_batch_idx=1290, train_loss=0.0007729878416284919\n",
            "train_batch_idx=1300, train_loss=0.0008247483638115227\n",
            "train_batch_idx=1310, train_loss=0.0007831635884940624\n",
            "train_batch_idx=1320, train_loss=0.0007038627518340945\n",
            "train_batch_idx=1330, train_loss=0.0007566767162643373\n",
            "train_batch_idx=1340, train_loss=0.000557670253328979\n",
            "train_batch_idx=1350, train_loss=0.0005846234853379428\n",
            "train_batch_idx=1360, train_loss=0.0006661463994532824\n",
            "train_batch_idx=1370, train_loss=0.0007751238881610334\n",
            "train_batch_idx=1380, train_loss=0.0009827709291130304\n",
            "train_batch_idx=1390, train_loss=0.0014777720207348466\n",
            "train_batch_idx=1400, train_loss=0.0015461603179574013\n",
            "train_batch_idx=1410, train_loss=0.001385544310323894\n",
            "train_batch_idx=1420, train_loss=0.0014605268370360136\n",
            "train_batch_idx=1430, train_loss=0.0019143852405250072\n",
            "train_batch_idx=1440, train_loss=0.0020952329505234957\n",
            "train_batch_idx=1450, train_loss=0.0024323281832039356\n",
            "train_batch_idx=1460, train_loss=0.00176032236777246\n",
            "train_batch_idx=1470, train_loss=0.001506115309894085\n",
            "train_batch_idx=1480, train_loss=0.0012858558911830187\n",
            "train_batch_idx=1490, train_loss=0.0009462547022849321\n",
            "train_batch_idx=1500, train_loss=0.0008979132981039584\n",
            "train_batch_idx=1510, train_loss=0.001431566197425127\n",
            "train_batch_idx=1520, train_loss=0.001437889994122088\n",
            "train_batch_idx=1530, train_loss=0.0017085844883695245\n",
            "train_batch_idx=1540, train_loss=0.00259434524923563\n",
            "train_batch_idx=1550, train_loss=0.002554879290983081\n",
            "train_batch_idx=1560, train_loss=0.003144588554278016\n",
            "train_batch_idx=1570, train_loss=0.0029305594507604837\n",
            "train_batch_idx=1580, train_loss=0.0029226585756987333\n",
            "train_batch_idx=1590, train_loss=0.0027339390944689512\n",
            "train_batch_idx=1600, train_loss=0.0023327686358243227\n",
            "train_batch_idx=1610, train_loss=0.0018902643350884318\n",
            "train_batch_idx=1620, train_loss=0.0020383759401738644\n",
            "train_batch_idx=1630, train_loss=0.002415564376860857\n",
            "train_batch_idx=1640, train_loss=0.0019204230047762394\n",
            "train_batch_idx=1650, train_loss=0.0016770090442150831\n",
            "train_batch_idx=1660, train_loss=0.001387294614687562\n",
            "train_batch_idx=1670, train_loss=0.0012310203164815903\n",
            "train_batch_idx=1680, train_loss=0.0015267605194821954\n",
            "train_batch_idx=1690, train_loss=0.0016811807872727513\n",
            "train_batch_idx=1700, train_loss=0.0014616179978474975\n",
            "train_batch_idx=1710, train_loss=0.0014943466521799564\n",
            "train_batch_idx=1720, train_loss=0.0011932164197787642\n",
            "train_batch_idx=1730, train_loss=0.001040345523506403\n",
            "train_batch_idx=1740, train_loss=0.0014848753344267607\n",
            "train_batch_idx=1750, train_loss=0.001393172424286604\n",
            "train_batch_idx=1760, train_loss=0.0019287876784801483\n",
            "train_batch_idx=1770, train_loss=0.002267060801386833\n",
            "train_batch_idx=1780, train_loss=0.002341797575354576\n",
            "train_batch_idx=1790, train_loss=0.0028831236995756626\n",
            "train_batch_idx=1800, train_loss=0.0019387515494599938\n",
            "train_batch_idx=1810, train_loss=0.001493880059570074\n",
            "train_batch_idx=1820, train_loss=0.0012903193710371852\n",
            "train_batch_idx=1830, train_loss=0.0011976943351328373\n",
            "train_batch_idx=1840, train_loss=0.0009080327581614256\n",
            "train_batch_idx=1850, train_loss=0.0016780002042651176\n",
            "train_batch_idx=1860, train_loss=0.0017090062610805035\n",
            "train_batch_idx=1870, train_loss=0.001985703594982624\n",
            "train_batch_idx=1880, train_loss=0.0016527760308235884\n",
            "train_batch_idx=1890, train_loss=0.0014808228006586432\n",
            "train_batch_idx=1900, train_loss=0.001194837735965848\n",
            "train_batch_idx=1910, train_loss=0.0011481374967843294\n",
            "train_batch_idx=1920, train_loss=0.0010929841082543135\n",
            "train_batch_idx=1930, train_loss=0.00116933963727206\n",
            "train_batch_idx=1940, train_loss=0.0011315339943394065\n",
            "train_batch_idx=1950, train_loss=0.001192860072478652\n",
            "train_batch_idx=1960, train_loss=0.0011204048059880733\n",
            "train_batch_idx=1970, train_loss=0.001024345401674509\n",
            "train_batch_idx=1980, train_loss=0.0009679629583843052\n",
            "train_batch_idx=1990, train_loss=0.0009423229494132102\n",
            "train_batch_idx=2000, train_loss=0.0009632804431021214\n",
            "train_batch_idx=2010, train_loss=0.0011272872798144817\n",
            "train_batch_idx=2020, train_loss=0.0015125254867598414\n",
            "train_batch_idx=2030, train_loss=0.0025208541192114353\n",
            "train_batch_idx=2040, train_loss=0.003595080692321062\n",
            "train_batch_idx=2050, train_loss=0.002599039115011692\n",
            "train_batch_idx=2060, train_loss=0.00204198295250535\n",
            "train_batch_idx=2070, train_loss=0.0017459873342886567\n",
            "train_batch_idx=2080, train_loss=0.0021784640848636627\n",
            "train_batch_idx=2090, train_loss=0.00198098411783576\n",
            "train_batch_idx=2100, train_loss=0.002539091743528843\n",
            "train_batch_idx=2110, train_loss=0.0019055507145822048\n",
            "train_batch_idx=2120, train_loss=0.0017231241799890995\n",
            "train_batch_idx=2130, train_loss=0.0026628240011632442\n",
            "train_batch_idx=2140, train_loss=0.0022050142288208008\n",
            "train_batch_idx=2150, train_loss=0.0018267289269715548\n",
            "train_batch_idx=2160, train_loss=0.0012476531555876136\n",
            "train_batch_idx=2170, train_loss=0.001464533619582653\n",
            "train_batch_idx=2180, train_loss=0.0011457051150500774\n",
            "train_batch_idx=2190, train_loss=0.0016707556787878275\n",
            "train_batch_idx=2200, train_loss=0.0019992105662822723\n",
            "train_batch_idx=2210, train_loss=0.00233635981567204\n",
            "train_batch_idx=2220, train_loss=0.0018184797372668982\n",
            "train_batch_idx=2230, train_loss=0.0015927421627566218\n",
            "train_batch_idx=2240, train_loss=0.002022863831371069\n",
            "train_batch_idx=2250, train_loss=0.0019523866940289736\n",
            "train_batch_idx=2260, train_loss=0.0017005219124257565\n",
            "train_batch_idx=2270, train_loss=0.001471061259508133\n",
            "train_batch_idx=2280, train_loss=0.0013689323095604777\n",
            "train_batch_idx=2290, train_loss=0.0012078359723091125\n",
            "train_batch_idx=2300, train_loss=0.0014280476607382298\n",
            "train_batch_idx=2310, train_loss=0.0016885690856724977\n",
            "train_batch_idx=2320, train_loss=0.0014237957075238228\n",
            "train_batch_idx=2330, train_loss=0.0014872580068185925\n",
            "train_batch_idx=2340, train_loss=0.001131399068981409\n",
            "train_batch_idx=2350, train_loss=0.0012922477908432484\n",
            "train_batch_idx=2360, train_loss=0.0009169412078335881\n",
            "train_batch_idx=2370, train_loss=0.0008946337620727718\n",
            "train_batch_idx=2380, train_loss=0.0007091750157997012\n",
            "train_batch_idx=2390, train_loss=0.0008625774644315243\n",
            "train_batch_idx=2400, train_loss=0.0014220771845430136\n",
            "train_batch_idx=2410, train_loss=0.001563378842547536\n",
            "train_batch_idx=2420, train_loss=0.38764652609825134\n",
            "train_batch_idx=2430, train_loss=0.0021411448251456022\n",
            "train_batch_idx=2440, train_loss=0.002141694538295269\n",
            "train_batch_idx=2450, train_loss=0.001840700046159327\n",
            "train_batch_idx=2460, train_loss=0.0024418430402874947\n",
            "train_batch_idx=2470, train_loss=0.0023392830044031143\n",
            "train_batch_idx=2480, train_loss=0.0022388631477952003\n",
            "train_batch_idx=2490, train_loss=0.0016674974467605352\n",
            "train_batch_idx=2500, train_loss=0.0014685987262055278\n",
            "train_batch_idx=2510, train_loss=0.002528055803850293\n",
            "train_batch_idx=2520, train_loss=0.002507957397028804\n",
            "train_batch_idx=2530, train_loss=0.002008832525461912\n",
            "train_batch_idx=2540, train_loss=0.002638544887304306\n",
            "train_batch_idx=2550, train_loss=0.0028825984336435795\n",
            "train_batch_idx=2560, train_loss=0.001795420190319419\n",
            "train_batch_idx=2570, train_loss=0.0016712540527805686\n",
            "train_batch_idx=2580, train_loss=0.0012740083038806915\n",
            "train_batch_idx=2590, train_loss=0.001348988153040409\n",
            "train_batch_idx=2600, train_loss=0.0011927143204957247\n",
            "train_batch_idx=2610, train_loss=0.0013278970727697015\n",
            "train_batch_idx=2620, train_loss=0.0013484694063663483\n",
            "train_batch_idx=2630, train_loss=0.0012970149982720613\n",
            "train_batch_idx=2640, train_loss=0.0013089190470054746\n",
            "train_batch_idx=2650, train_loss=0.0009335633949376643\n",
            "train_batch_idx=2660, train_loss=0.0009492425015196204\n",
            "train_batch_idx=2670, train_loss=0.0010675778612494469\n",
            "train_batch_idx=2680, train_loss=0.000947197899222374\n",
            "train_batch_idx=2690, train_loss=0.0010547894053161144\n",
            "train_batch_idx=2700, train_loss=0.0012558915186673403\n",
            "train_batch_idx=2710, train_loss=0.0012499995063990355\n",
            "train_batch_idx=2720, train_loss=0.0010494613088667393\n",
            "train_batch_idx=2730, train_loss=0.0010537607595324516\n",
            "train_batch_idx=2740, train_loss=0.0008164332830347121\n",
            "train_batch_idx=2750, train_loss=0.0009544562199153006\n",
            "train_batch_idx=2760, train_loss=0.0007872326532378793\n",
            "train_batch_idx=2770, train_loss=0.0011184492614120245\n",
            "train_batch_idx=2780, train_loss=0.0014483636477962136\n",
            "train_batch_idx=2790, train_loss=0.002247333060950041\n",
            "train_batch_idx=2800, train_loss=0.002003475558012724\n",
            "train_batch_idx=2810, train_loss=0.0029905878473073244\n",
            "train_batch_idx=2820, train_loss=0.002890367526561022\n",
            "train_batch_idx=2830, train_loss=0.0020341728813946247\n",
            "train_batch_idx=2840, train_loss=0.0015892884694039822\n",
            "train_batch_idx=2850, train_loss=0.0022331951186060905\n",
            "train_batch_idx=2860, train_loss=0.00255792960524559\n",
            "train_batch_idx=2870, train_loss=0.0030365316197276115\n",
            "train_batch_idx=2880, train_loss=0.002196095883846283\n",
            "train_batch_idx=2890, train_loss=0.0017474903725087643\n",
            "train_batch_idx=2900, train_loss=0.001589311519637704\n",
            "train_batch_idx=2910, train_loss=0.0014141855062916875\n",
            "train_batch_idx=2920, train_loss=0.0017034830525517464\n",
            "train_batch_idx=2930, train_loss=0.002476354595273733\n",
            "train_batch_idx=2940, train_loss=0.0031149848364293575\n",
            "train_batch_idx=2950, train_loss=0.00885673239827156\n",
            "train_batch_idx=2960, train_loss=0.004362944513559341\n",
            "train_batch_idx=2970, train_loss=0.0022759377025067806\n",
            "train_batch_idx=2980, train_loss=0.0017168261110782623\n",
            "train_batch_idx=2990, train_loss=0.00137038785032928\n",
            "train_batch_idx=3000, train_loss=0.0013182694092392921\n",
            "train_batch_idx=3010, train_loss=0.0014478673692792654\n",
            "train_batch_idx=3020, train_loss=0.0029619685374200344\n",
            "train_batch_idx=3030, train_loss=0.0036244955845177174\n",
            "train_batch_idx=3040, train_loss=0.00416679959744215\n",
            "train_batch_idx=3050, train_loss=0.005058401729911566\n",
            "train_batch_idx=3060, train_loss=0.0035828747786581516\n",
            "train_batch_idx=3070, train_loss=0.0021447152830660343\n",
            "train_batch_idx=3080, train_loss=0.0019513318547978997\n",
            "train_batch_idx=3090, train_loss=0.0015318742953240871\n",
            "train_batch_idx=3100, train_loss=0.0012615767773240805\n",
            "train_batch_idx=3110, train_loss=0.0011280877515673637\n",
            "train_batch_idx=3120, train_loss=0.0009281974053010345\n",
            "AUC Score = 0.7358874638229396\n",
            "train_batch_idx=0, train_loss=0.0010241481941193342\n",
            "train_batch_idx=10, train_loss=0.0010343572357669473\n",
            "train_batch_idx=20, train_loss=0.4377380609512329\n",
            "train_batch_idx=30, train_loss=0.0011495377402752638\n",
            "train_batch_idx=40, train_loss=0.0012490921653807163\n",
            "train_batch_idx=50, train_loss=0.001236632582731545\n",
            "train_batch_idx=60, train_loss=0.0014034569030627608\n",
            "train_batch_idx=70, train_loss=0.0014605799224227667\n",
            "train_batch_idx=80, train_loss=0.0016247552121058106\n",
            "train_batch_idx=90, train_loss=0.0010698373662307858\n",
            "train_batch_idx=100, train_loss=0.002128901891410351\n",
            "train_batch_idx=110, train_loss=0.0014908614102751017\n",
            "train_batch_idx=120, train_loss=0.004746288061141968\n",
            "train_batch_idx=130, train_loss=0.00878806784749031\n",
            "train_batch_idx=140, train_loss=0.006845295429229736\n",
            "train_batch_idx=150, train_loss=0.003090226324275136\n",
            "train_batch_idx=160, train_loss=0.002284934278577566\n",
            "train_batch_idx=170, train_loss=0.001551564084365964\n",
            "train_batch_idx=180, train_loss=0.0015514031983911991\n",
            "train_batch_idx=190, train_loss=0.0011999779380857944\n",
            "train_batch_idx=200, train_loss=0.001077615306712687\n",
            "train_batch_idx=210, train_loss=0.0010599312372505665\n",
            "train_batch_idx=220, train_loss=0.0009096320136450231\n",
            "train_batch_idx=230, train_loss=0.0009351543849334121\n",
            "train_batch_idx=240, train_loss=0.0008376978803426027\n",
            "train_batch_idx=250, train_loss=0.0008353100856766105\n",
            "train_batch_idx=260, train_loss=0.0008458267548121512\n",
            "train_batch_idx=270, train_loss=0.0008473031339235604\n",
            "train_batch_idx=280, train_loss=0.001242568250745535\n",
            "train_batch_idx=290, train_loss=0.0014433326432481408\n",
            "train_batch_idx=300, train_loss=0.001387793105095625\n",
            "train_batch_idx=310, train_loss=0.3781930208206177\n",
            "train_batch_idx=320, train_loss=0.0017389102140441537\n",
            "train_batch_idx=330, train_loss=0.0014475660864263773\n",
            "train_batch_idx=340, train_loss=0.0016582307871431112\n",
            "train_batch_idx=350, train_loss=0.0016016053268685937\n",
            "train_batch_idx=360, train_loss=0.0023611956275999546\n",
            "train_batch_idx=370, train_loss=0.002111762063577771\n",
            "train_batch_idx=380, train_loss=0.0017548922915011644\n",
            "train_batch_idx=390, train_loss=0.0016796427080407739\n",
            "train_batch_idx=400, train_loss=0.0014876832719892263\n",
            "train_batch_idx=410, train_loss=0.0015494367107748985\n",
            "train_batch_idx=420, train_loss=0.0016325321048498154\n",
            "train_batch_idx=430, train_loss=0.0020660145673900843\n",
            "train_batch_idx=440, train_loss=0.3987606167793274\n",
            "train_batch_idx=450, train_loss=0.003647844772785902\n",
            "train_batch_idx=460, train_loss=0.003236813936382532\n",
            "train_batch_idx=470, train_loss=0.0026025662664324045\n",
            "train_batch_idx=480, train_loss=0.0024109003134071827\n",
            "train_batch_idx=490, train_loss=0.0020411573350429535\n",
            "train_batch_idx=500, train_loss=0.0014924791175872087\n",
            "train_batch_idx=510, train_loss=0.0013701103162020445\n",
            "train_batch_idx=520, train_loss=0.0013180221430957317\n",
            "train_batch_idx=530, train_loss=0.0011864202097058296\n",
            "train_batch_idx=540, train_loss=0.0010713145602494478\n",
            "train_batch_idx=550, train_loss=0.0007777551654726267\n",
            "train_batch_idx=560, train_loss=0.0006537019507959485\n",
            "train_batch_idx=570, train_loss=0.0007620255928486586\n",
            "train_batch_idx=580, train_loss=0.0009725530399009585\n",
            "train_batch_idx=590, train_loss=0.0010949892457574606\n",
            "train_batch_idx=600, train_loss=0.002105187624692917\n",
            "train_batch_idx=610, train_loss=0.0021672011353075504\n",
            "train_batch_idx=620, train_loss=0.0021753190085291862\n",
            "train_batch_idx=630, train_loss=0.0022165218833833933\n",
            "train_batch_idx=640, train_loss=0.0015759265515953302\n",
            "train_batch_idx=650, train_loss=0.0009233353775925934\n",
            "train_batch_idx=660, train_loss=0.0008220296585932374\n",
            "train_batch_idx=670, train_loss=0.0009013921953737736\n",
            "train_batch_idx=680, train_loss=0.00088066968601197\n",
            "train_batch_idx=690, train_loss=0.0012897276319563389\n",
            "train_batch_idx=700, train_loss=0.0011214977130293846\n",
            "train_batch_idx=710, train_loss=0.00109968485776335\n",
            "train_batch_idx=720, train_loss=0.0012619608314707875\n",
            "train_batch_idx=730, train_loss=0.000911872775759548\n",
            "train_batch_idx=740, train_loss=0.0008534245425835252\n",
            "train_batch_idx=750, train_loss=0.0009795844089239836\n",
            "train_batch_idx=760, train_loss=0.42810651659965515\n",
            "train_batch_idx=770, train_loss=0.0011706948280334473\n",
            "train_batch_idx=780, train_loss=0.0013512077275663614\n",
            "train_batch_idx=790, train_loss=0.0017262380570173264\n",
            "train_batch_idx=800, train_loss=0.00153745012357831\n",
            "train_batch_idx=810, train_loss=0.001000639284029603\n",
            "train_batch_idx=820, train_loss=0.004004516638815403\n",
            "train_batch_idx=830, train_loss=0.0025717010721564293\n",
            "train_batch_idx=840, train_loss=0.0031353337690234184\n",
            "train_batch_idx=850, train_loss=0.005561142228543758\n",
            "train_batch_idx=860, train_loss=0.005749409087002277\n",
            "train_batch_idx=870, train_loss=0.0028980704955756664\n",
            "train_batch_idx=880, train_loss=0.0015998167218640447\n",
            "train_batch_idx=890, train_loss=0.0012010571081191301\n",
            "train_batch_idx=900, train_loss=0.000973979476839304\n",
            "train_batch_idx=910, train_loss=0.001152032520622015\n",
            "train_batch_idx=920, train_loss=0.0016444046050310135\n",
            "train_batch_idx=930, train_loss=0.003576128976419568\n",
            "train_batch_idx=940, train_loss=0.005942164920270443\n",
            "train_batch_idx=950, train_loss=0.005709942430257797\n",
            "train_batch_idx=960, train_loss=0.003212226554751396\n",
            "train_batch_idx=970, train_loss=0.0023384822998195887\n",
            "train_batch_idx=980, train_loss=0.0011286826338618994\n",
            "train_batch_idx=990, train_loss=0.0017088829772546887\n",
            "train_batch_idx=1000, train_loss=0.0018586856313049793\n",
            "train_batch_idx=1010, train_loss=0.3759220242500305\n",
            "train_batch_idx=1020, train_loss=0.0029227142222225666\n",
            "train_batch_idx=1030, train_loss=0.004384085536003113\n",
            "train_batch_idx=1040, train_loss=0.0014872027095407248\n",
            "train_batch_idx=1050, train_loss=0.005069545470178127\n",
            "train_batch_idx=1060, train_loss=0.036261722445487976\n",
            "train_batch_idx=1070, train_loss=0.00099800038151443\n",
            "train_batch_idx=1080, train_loss=0.002150027547031641\n",
            "train_batch_idx=1090, train_loss=0.0008690934046171606\n",
            "train_batch_idx=1100, train_loss=0.0009987207595258951\n",
            "train_batch_idx=1110, train_loss=0.0006907631177455187\n",
            "train_batch_idx=1120, train_loss=0.0008647531503811479\n",
            "train_batch_idx=1130, train_loss=0.0007094836910255253\n",
            "train_batch_idx=1140, train_loss=0.0017788531258702278\n",
            "train_batch_idx=1150, train_loss=0.0026918728835880756\n",
            "train_batch_idx=1160, train_loss=0.004208461847156286\n",
            "train_batch_idx=1170, train_loss=0.001579036470502615\n",
            "train_batch_idx=1180, train_loss=0.0016758432611823082\n",
            "train_batch_idx=1190, train_loss=0.0027852302882820368\n",
            "train_batch_idx=1200, train_loss=0.0050214556977152824\n",
            "train_batch_idx=1210, train_loss=0.002339282538741827\n",
            "train_batch_idx=1220, train_loss=0.0017644136678427458\n",
            "train_batch_idx=1230, train_loss=0.0011453568004071712\n",
            "train_batch_idx=1240, train_loss=0.0010468438267707825\n",
            "train_batch_idx=1250, train_loss=0.0008348834235221148\n",
            "train_batch_idx=1260, train_loss=0.0006024299655109644\n",
            "train_batch_idx=1270, train_loss=0.000464279146399349\n",
            "train_batch_idx=1280, train_loss=0.0005725754890590906\n",
            "train_batch_idx=1290, train_loss=0.0007973252213560045\n",
            "train_batch_idx=1300, train_loss=0.0006589891854673624\n",
            "train_batch_idx=1310, train_loss=0.0008696813602000475\n",
            "train_batch_idx=1320, train_loss=0.001123283989727497\n",
            "train_batch_idx=1330, train_loss=0.00121874560136348\n",
            "train_batch_idx=1340, train_loss=0.0009141184855252504\n",
            "train_batch_idx=1350, train_loss=0.0006745225982740521\n",
            "train_batch_idx=1360, train_loss=0.0005788225680589676\n",
            "train_batch_idx=1370, train_loss=0.0005226721987128258\n",
            "train_batch_idx=1380, train_loss=0.0005036851507611573\n",
            "train_batch_idx=1390, train_loss=0.0008827217388898134\n",
            "train_batch_idx=1400, train_loss=0.0003875842085108161\n",
            "train_batch_idx=1410, train_loss=0.0006180952186696231\n",
            "train_batch_idx=1420, train_loss=0.00038299051811918616\n",
            "train_batch_idx=1430, train_loss=0.30897921323776245\n",
            "train_batch_idx=1440, train_loss=0.0005414941697381437\n",
            "train_batch_idx=1450, train_loss=0.0004508453421294689\n",
            "train_batch_idx=1460, train_loss=0.0008340432541444898\n",
            "train_batch_idx=1470, train_loss=0.004996774718165398\n",
            "train_batch_idx=1480, train_loss=0.0093949930742383\n",
            "train_batch_idx=1490, train_loss=0.005447472911328077\n",
            "train_batch_idx=1500, train_loss=0.0015408718027174473\n",
            "train_batch_idx=1510, train_loss=0.0010320733999833465\n",
            "train_batch_idx=1520, train_loss=0.0006764580029994249\n",
            "train_batch_idx=1530, train_loss=0.0005652104737237096\n",
            "train_batch_idx=1540, train_loss=0.004177584312856197\n",
            "train_batch_idx=1550, train_loss=0.0010351749369874597\n",
            "train_batch_idx=1560, train_loss=0.0007135071791708469\n",
            "train_batch_idx=1570, train_loss=0.00041071465238928795\n",
            "train_batch_idx=1580, train_loss=0.0006136440206319094\n",
            "train_batch_idx=1590, train_loss=0.0021818806417286396\n",
            "train_batch_idx=1600, train_loss=0.0004322273307479918\n",
            "train_batch_idx=1610, train_loss=0.00037296043592505157\n",
            "train_batch_idx=1620, train_loss=0.0002808322897180915\n",
            "train_batch_idx=1630, train_loss=0.0005764223751612008\n",
            "train_batch_idx=1640, train_loss=0.0011678107548505068\n",
            "train_batch_idx=1650, train_loss=0.003969740588217974\n",
            "train_batch_idx=1660, train_loss=0.002027156762778759\n",
            "train_batch_idx=1670, train_loss=0.0020175022073090076\n",
            "train_batch_idx=1680, train_loss=0.0024697964545339346\n",
            "train_batch_idx=1690, train_loss=0.0016918736509978771\n",
            "train_batch_idx=1700, train_loss=0.0009984389180317521\n",
            "train_batch_idx=1710, train_loss=0.0008921867702156305\n",
            "train_batch_idx=1720, train_loss=0.0007549705915153027\n",
            "train_batch_idx=1730, train_loss=0.00175922317430377\n",
            "train_batch_idx=1740, train_loss=0.0022907268721610308\n",
            "train_batch_idx=1750, train_loss=0.002593918703496456\n",
            "train_batch_idx=1760, train_loss=0.005743950605392456\n",
            "train_batch_idx=1770, train_loss=0.007287756539881229\n",
            "train_batch_idx=1780, train_loss=0.004158268682658672\n",
            "train_batch_idx=1790, train_loss=0.3977077603340149\n",
            "train_batch_idx=1800, train_loss=0.004716977477073669\n",
            "train_batch_idx=1810, train_loss=0.0048240963369607925\n",
            "train_batch_idx=1820, train_loss=0.0022213722113519907\n",
            "train_batch_idx=1830, train_loss=0.003439225722104311\n",
            "train_batch_idx=1840, train_loss=0.32300275564193726\n",
            "train_batch_idx=1850, train_loss=0.0038117128424346447\n",
            "train_batch_idx=1860, train_loss=0.003599980380386114\n",
            "train_batch_idx=1870, train_loss=0.001502794912084937\n",
            "train_batch_idx=1880, train_loss=0.002454254776239395\n",
            "train_batch_idx=1890, train_loss=0.000999030889943242\n",
            "train_batch_idx=1900, train_loss=0.001138064544647932\n",
            "train_batch_idx=1910, train_loss=0.0007323435274884105\n",
            "train_batch_idx=1920, train_loss=0.0010463028447702527\n",
            "train_batch_idx=1930, train_loss=0.0011534658260643482\n",
            "train_batch_idx=1940, train_loss=0.0033844150602817535\n",
            "train_batch_idx=1950, train_loss=0.0012018261477351189\n",
            "train_batch_idx=1960, train_loss=0.0015594689175486565\n",
            "train_batch_idx=1970, train_loss=0.0014906864380463958\n",
            "train_batch_idx=1980, train_loss=0.0009453545208089054\n",
            "train_batch_idx=1990, train_loss=0.0027246808167546988\n",
            "train_batch_idx=2000, train_loss=0.0006683990359306335\n",
            "train_batch_idx=2010, train_loss=0.0009140089969150722\n",
            "train_batch_idx=2020, train_loss=0.34098371863365173\n",
            "train_batch_idx=2030, train_loss=0.0008188238134607673\n",
            "train_batch_idx=2040, train_loss=0.0032369564287364483\n",
            "train_batch_idx=2050, train_loss=0.002196494722738862\n",
            "train_batch_idx=2060, train_loss=0.0027699507772922516\n",
            "train_batch_idx=2070, train_loss=0.0008791446452960372\n",
            "train_batch_idx=2080, train_loss=0.001078686909750104\n",
            "train_batch_idx=2090, train_loss=0.0012517906725406647\n",
            "train_batch_idx=2100, train_loss=0.0009559575701132417\n",
            "train_batch_idx=2110, train_loss=0.0006162311183288693\n",
            "train_batch_idx=2120, train_loss=0.001507050939835608\n",
            "train_batch_idx=2130, train_loss=0.01231287606060505\n",
            "train_batch_idx=2140, train_loss=0.0023205021861940622\n",
            "train_batch_idx=2150, train_loss=0.001928211422637105\n",
            "train_batch_idx=2160, train_loss=0.0013711599167436361\n",
            "train_batch_idx=2170, train_loss=0.20393671095371246\n",
            "train_batch_idx=2180, train_loss=0.0030973306857049465\n",
            "train_batch_idx=2190, train_loss=0.01203598640859127\n",
            "train_batch_idx=2200, train_loss=0.01325812004506588\n",
            "train_batch_idx=2210, train_loss=0.0012427098117768764\n",
            "train_batch_idx=2220, train_loss=0.0009456075495108962\n",
            "train_batch_idx=2230, train_loss=0.0006876901024952531\n",
            "train_batch_idx=2240, train_loss=0.010490676388144493\n",
            "train_batch_idx=2250, train_loss=0.0021858976688236\n",
            "train_batch_idx=2260, train_loss=0.009421995840966702\n",
            "train_batch_idx=2270, train_loss=0.006769568659365177\n",
            "train_batch_idx=2280, train_loss=0.01232825592160225\n",
            "train_batch_idx=2290, train_loss=0.0007624761201441288\n",
            "train_batch_idx=2300, train_loss=0.0006288026925176382\n",
            "train_batch_idx=2310, train_loss=0.000799531873781234\n",
            "train_batch_idx=2320, train_loss=0.0012211862485855818\n",
            "train_batch_idx=2330, train_loss=0.0004827100201509893\n",
            "train_batch_idx=2340, train_loss=0.0006877181585878134\n",
            "train_batch_idx=2350, train_loss=0.0005591817898675799\n",
            "train_batch_idx=2360, train_loss=0.002405695617198944\n",
            "train_batch_idx=2370, train_loss=0.002050139009952545\n",
            "train_batch_idx=2380, train_loss=0.003148539923131466\n",
            "train_batch_idx=2390, train_loss=0.0009834327502176166\n",
            "train_batch_idx=2400, train_loss=0.0013175368076190352\n",
            "train_batch_idx=2410, train_loss=0.000943737686611712\n",
            "train_batch_idx=2420, train_loss=0.0012569937389343977\n",
            "train_batch_idx=2430, train_loss=0.0012323986738920212\n",
            "train_batch_idx=2440, train_loss=0.0026082629337906837\n",
            "train_batch_idx=2450, train_loss=0.00418637553229928\n",
            "train_batch_idx=2460, train_loss=0.33926326036453247\n",
            "train_batch_idx=2470, train_loss=0.00550834508612752\n",
            "train_batch_idx=2480, train_loss=0.0021596394944936037\n",
            "train_batch_idx=2490, train_loss=0.0013428162783384323\n",
            "train_batch_idx=2500, train_loss=0.0017955893417820334\n",
            "train_batch_idx=2510, train_loss=0.002099952194839716\n",
            "train_batch_idx=2520, train_loss=0.000896833254955709\n",
            "train_batch_idx=2530, train_loss=0.0027154996059834957\n",
            "train_batch_idx=2540, train_loss=0.0025052507407963276\n",
            "train_batch_idx=2550, train_loss=0.0006703792605549097\n",
            "train_batch_idx=2560, train_loss=0.0012352815829217434\n",
            "train_batch_idx=2570, train_loss=0.0008084384026005864\n",
            "train_batch_idx=2580, train_loss=0.0007198568200692534\n",
            "train_batch_idx=2590, train_loss=0.0015450881328433752\n",
            "train_batch_idx=2600, train_loss=0.0009747524745762348\n",
            "train_batch_idx=2610, train_loss=0.001455208519473672\n",
            "train_batch_idx=2620, train_loss=0.0009238853817805648\n",
            "train_batch_idx=2630, train_loss=0.000546481111086905\n",
            "train_batch_idx=2640, train_loss=0.0009866961045190692\n",
            "train_batch_idx=2650, train_loss=0.0007080180221237242\n",
            "train_batch_idx=2660, train_loss=0.0005959055852144957\n",
            "train_batch_idx=2670, train_loss=0.0009904451435431838\n",
            "train_batch_idx=2680, train_loss=0.0008174076210707426\n",
            "train_batch_idx=2690, train_loss=0.0009908471256494522\n",
            "train_batch_idx=2700, train_loss=0.001469017006456852\n",
            "train_batch_idx=2710, train_loss=0.0020061470568180084\n",
            "train_batch_idx=2720, train_loss=0.002722463570535183\n",
            "train_batch_idx=2730, train_loss=0.0013302690349519253\n",
            "train_batch_idx=2740, train_loss=0.0019591781310737133\n",
            "train_batch_idx=2750, train_loss=0.0007704912568442523\n",
            "train_batch_idx=2760, train_loss=0.0015297082718461752\n",
            "train_batch_idx=2770, train_loss=0.00152028095908463\n",
            "train_batch_idx=2780, train_loss=0.0008616117411293089\n",
            "train_batch_idx=2790, train_loss=0.0014632669044658542\n",
            "train_batch_idx=2800, train_loss=0.001033751992508769\n",
            "train_batch_idx=2810, train_loss=0.002030879259109497\n",
            "train_batch_idx=2820, train_loss=0.0006234665052033961\n",
            "train_batch_idx=2830, train_loss=0.0007503627566620708\n",
            "train_batch_idx=2840, train_loss=0.000748923048377037\n",
            "train_batch_idx=2850, train_loss=0.0011573540978133678\n",
            "train_batch_idx=2860, train_loss=0.0025436794385313988\n",
            "train_batch_idx=2870, train_loss=0.0013507006224244833\n",
            "train_batch_idx=2880, train_loss=0.0031884578056633472\n",
            "train_batch_idx=2890, train_loss=0.006569869816303253\n",
            "train_batch_idx=2900, train_loss=0.004160602111369371\n",
            "train_batch_idx=2910, train_loss=0.0025585386902093887\n",
            "train_batch_idx=2920, train_loss=0.006435983814299107\n",
            "train_batch_idx=2930, train_loss=0.0019256278173997998\n",
            "train_batch_idx=2940, train_loss=0.0013752642553299665\n",
            "train_batch_idx=2950, train_loss=0.3254580795764923\n",
            "train_batch_idx=2960, train_loss=0.002640307880938053\n",
            "train_batch_idx=2970, train_loss=0.0008947703754529357\n",
            "train_batch_idx=2980, train_loss=0.18973608314990997\n",
            "train_batch_idx=2990, train_loss=0.005232383497059345\n",
            "train_batch_idx=3000, train_loss=0.0020045102573931217\n",
            "train_batch_idx=3010, train_loss=0.0042821550741791725\n",
            "train_batch_idx=3020, train_loss=0.0007344788173213601\n",
            "train_batch_idx=3030, train_loss=0.0026650018990039825\n",
            "train_batch_idx=3040, train_loss=0.0009281536913476884\n",
            "train_batch_idx=3050, train_loss=0.0012254035100340843\n",
            "train_batch_idx=3060, train_loss=0.000783589668571949\n",
            "train_batch_idx=3070, train_loss=0.002075765747576952\n",
            "train_batch_idx=3080, train_loss=0.0006934833945706487\n",
            "train_batch_idx=3090, train_loss=0.00038030778523534536\n",
            "train_batch_idx=3100, train_loss=0.0007717951666563749\n",
            "train_batch_idx=3110, train_loss=0.0003897644055541605\n",
            "train_batch_idx=3120, train_loss=0.0004233640502206981\n",
            "AUC Score = 0.7285712312809982\n",
            "train_batch_idx=0, train_loss=0.0007422115886583924\n",
            "train_batch_idx=10, train_loss=0.001152536366134882\n",
            "train_batch_idx=20, train_loss=0.0009586955420672894\n",
            "train_batch_idx=30, train_loss=0.004139420576393604\n",
            "train_batch_idx=40, train_loss=0.002721785567700863\n",
            "train_batch_idx=50, train_loss=0.0024754912592470646\n",
            "train_batch_idx=60, train_loss=0.0011962436838075519\n",
            "train_batch_idx=70, train_loss=0.000760519178584218\n",
            "train_batch_idx=80, train_loss=0.0007409913232550025\n",
            "train_batch_idx=90, train_loss=0.0005016615614295006\n",
            "train_batch_idx=100, train_loss=0.3061109185218811\n",
            "train_batch_idx=110, train_loss=0.0006718938238918781\n",
            "train_batch_idx=120, train_loss=0.001128225470893085\n",
            "train_batch_idx=130, train_loss=0.007655845955014229\n",
            "train_batch_idx=140, train_loss=0.16919636726379395\n",
            "train_batch_idx=150, train_loss=0.0006935150595381856\n",
            "train_batch_idx=160, train_loss=0.0009281087550334632\n",
            "train_batch_idx=170, train_loss=0.0005050565232522786\n",
            "train_batch_idx=180, train_loss=0.0005536601529456675\n",
            "train_batch_idx=190, train_loss=0.000728507642634213\n",
            "train_batch_idx=200, train_loss=0.0009044166072271764\n",
            "train_batch_idx=210, train_loss=0.0009113663109019399\n",
            "train_batch_idx=220, train_loss=0.0021651594433933496\n",
            "train_batch_idx=230, train_loss=0.0027692553121596575\n",
            "train_batch_idx=240, train_loss=0.0007458347827196121\n",
            "train_batch_idx=250, train_loss=0.0034252572804689407\n",
            "train_batch_idx=260, train_loss=0.0005627074278891087\n",
            "train_batch_idx=270, train_loss=0.010097434744238853\n",
            "train_batch_idx=280, train_loss=0.0009662082884460688\n",
            "train_batch_idx=290, train_loss=0.005212744232267141\n",
            "train_batch_idx=300, train_loss=0.002293323166668415\n",
            "train_batch_idx=310, train_loss=0.00042146004852838814\n",
            "train_batch_idx=320, train_loss=0.0005283032078295946\n",
            "train_batch_idx=330, train_loss=0.0005281787016429007\n",
            "train_batch_idx=340, train_loss=0.0016347675118595362\n",
            "train_batch_idx=350, train_loss=0.0012398473918437958\n",
            "train_batch_idx=360, train_loss=0.00046762326383031905\n",
            "train_batch_idx=370, train_loss=0.0006963745108805597\n",
            "train_batch_idx=380, train_loss=0.0005164898466318846\n",
            "train_batch_idx=390, train_loss=0.0005582058802247047\n",
            "train_batch_idx=400, train_loss=0.0009255081531591713\n",
            "train_batch_idx=410, train_loss=0.0009457021369598806\n",
            "train_batch_idx=420, train_loss=0.0031477506272494793\n",
            "train_batch_idx=430, train_loss=0.0013902746140956879\n",
            "train_batch_idx=440, train_loss=0.000519628229085356\n",
            "train_batch_idx=450, train_loss=0.0006136314477771521\n",
            "train_batch_idx=460, train_loss=0.001510969246737659\n",
            "train_batch_idx=470, train_loss=0.0011114678345620632\n",
            "train_batch_idx=480, train_loss=0.0007178555242717266\n",
            "train_batch_idx=490, train_loss=0.0011396638583391905\n",
            "train_batch_idx=500, train_loss=0.0008500107796862721\n",
            "train_batch_idx=510, train_loss=0.0012217310722917318\n",
            "train_batch_idx=520, train_loss=0.0004949587164446712\n",
            "train_batch_idx=530, train_loss=0.0006604191148653626\n",
            "train_batch_idx=540, train_loss=0.0007709772326052189\n",
            "train_batch_idx=550, train_loss=0.0005497712409123778\n",
            "train_batch_idx=560, train_loss=0.005577653180807829\n",
            "train_batch_idx=570, train_loss=0.0014695446006953716\n",
            "train_batch_idx=580, train_loss=0.00039351871237158775\n",
            "train_batch_idx=590, train_loss=0.001669549848884344\n",
            "train_batch_idx=600, train_loss=0.00179393554572016\n",
            "train_batch_idx=610, train_loss=0.008298175409436226\n",
            "train_batch_idx=620, train_loss=0.00031882073380984366\n",
            "train_batch_idx=630, train_loss=0.00041312159737572074\n",
            "train_batch_idx=640, train_loss=0.00038940642843954265\n",
            "train_batch_idx=650, train_loss=0.0006565868970938027\n",
            "train_batch_idx=660, train_loss=0.0005601084558293223\n",
            "train_batch_idx=670, train_loss=0.0004531452723313123\n",
            "train_batch_idx=680, train_loss=0.0003952014958485961\n",
            "train_batch_idx=690, train_loss=0.002866243477910757\n",
            "train_batch_idx=700, train_loss=0.0003817137621808797\n",
            "train_batch_idx=710, train_loss=0.00045666159712709486\n",
            "train_batch_idx=720, train_loss=0.006604413036257029\n",
            "train_batch_idx=730, train_loss=0.011220289394259453\n",
            "train_batch_idx=740, train_loss=0.0003641392686404288\n",
            "train_batch_idx=750, train_loss=0.0005007947911508381\n",
            "train_batch_idx=760, train_loss=0.006152405869215727\n",
            "train_batch_idx=770, train_loss=0.0010841614566743374\n",
            "train_batch_idx=780, train_loss=0.006876345723867416\n",
            "train_batch_idx=790, train_loss=0.00032893483876250684\n",
            "train_batch_idx=800, train_loss=0.0003829387715086341\n",
            "train_batch_idx=810, train_loss=0.00042086344910785556\n",
            "train_batch_idx=820, train_loss=0.00046743344864808023\n",
            "train_batch_idx=830, train_loss=0.007099824491888285\n",
            "train_batch_idx=840, train_loss=0.0004079088394064456\n",
            "train_batch_idx=850, train_loss=0.0003420909633859992\n",
            "train_batch_idx=860, train_loss=0.000626217108219862\n",
            "train_batch_idx=870, train_loss=0.00038325536297634244\n",
            "train_batch_idx=880, train_loss=0.0038047817070037127\n",
            "train_batch_idx=890, train_loss=0.0003419015556573868\n",
            "train_batch_idx=900, train_loss=0.0008935742662288249\n",
            "train_batch_idx=910, train_loss=0.0007427909877151251\n",
            "train_batch_idx=920, train_loss=0.000810840807389468\n",
            "train_batch_idx=930, train_loss=0.0006260659429244697\n",
            "train_batch_idx=940, train_loss=0.0011933593777939677\n",
            "train_batch_idx=950, train_loss=0.0009976765140891075\n",
            "train_batch_idx=960, train_loss=0.00040380461723543704\n",
            "train_batch_idx=970, train_loss=0.00046908375225029886\n",
            "train_batch_idx=980, train_loss=0.00039759548963047564\n",
            "train_batch_idx=990, train_loss=0.0004605748108588159\n",
            "train_batch_idx=1000, train_loss=0.003981025889515877\n",
            "train_batch_idx=1010, train_loss=0.0004892336437478662\n",
            "train_batch_idx=1020, train_loss=0.0004998206859454513\n",
            "train_batch_idx=1030, train_loss=0.0005217334255576134\n",
            "train_batch_idx=1040, train_loss=0.00047427325625903904\n",
            "train_batch_idx=1050, train_loss=0.0003358235699124634\n",
            "train_batch_idx=1060, train_loss=0.0003380784473847598\n",
            "train_batch_idx=1070, train_loss=0.0004117699572816491\n",
            "train_batch_idx=1080, train_loss=0.000541082990821451\n",
            "train_batch_idx=1090, train_loss=0.00046512583503499627\n",
            "train_batch_idx=1100, train_loss=0.000518870132509619\n",
            "train_batch_idx=1110, train_loss=0.00047891834401525557\n",
            "train_batch_idx=1120, train_loss=0.0007398411398753524\n",
            "train_batch_idx=1130, train_loss=0.00041807832894846797\n",
            "train_batch_idx=1140, train_loss=0.37475427985191345\n",
            "train_batch_idx=1150, train_loss=0.0004879056359641254\n",
            "train_batch_idx=1160, train_loss=0.000900817452929914\n",
            "train_batch_idx=1170, train_loss=0.000851225748192519\n",
            "train_batch_idx=1180, train_loss=0.0018346398137509823\n",
            "train_batch_idx=1190, train_loss=0.001340869814157486\n",
            "train_batch_idx=1200, train_loss=0.0006424810271710157\n",
            "train_batch_idx=1210, train_loss=0.0008773147710599005\n",
            "train_batch_idx=1220, train_loss=0.0008848258294165134\n",
            "train_batch_idx=1230, train_loss=0.002639496000483632\n",
            "train_batch_idx=1240, train_loss=0.000508393335621804\n",
            "train_batch_idx=1250, train_loss=0.0008193497778847814\n",
            "train_batch_idx=1260, train_loss=0.0005001891404390335\n",
            "train_batch_idx=1270, train_loss=0.0008057538652792573\n",
            "train_batch_idx=1280, train_loss=0.0007764892070554197\n",
            "train_batch_idx=1290, train_loss=0.21668581664562225\n",
            "train_batch_idx=1300, train_loss=0.0008412894094362855\n",
            "train_batch_idx=1310, train_loss=0.00042955196113325655\n",
            "train_batch_idx=1320, train_loss=0.004205486737191677\n",
            "train_batch_idx=1330, train_loss=0.000370193476555869\n",
            "train_batch_idx=1340, train_loss=0.0006945241475477815\n",
            "train_batch_idx=1350, train_loss=0.0010968948481604457\n",
            "train_batch_idx=1360, train_loss=0.0003502857871353626\n",
            "train_batch_idx=1370, train_loss=0.0007160275126807392\n",
            "train_batch_idx=1380, train_loss=0.000678354874253273\n",
            "train_batch_idx=1390, train_loss=0.08797983080148697\n",
            "train_batch_idx=1400, train_loss=0.002502906834706664\n",
            "train_batch_idx=1410, train_loss=0.0017137691611424088\n",
            "train_batch_idx=1420, train_loss=0.0016658941749483347\n",
            "train_batch_idx=1430, train_loss=0.0024065282195806503\n",
            "train_batch_idx=1440, train_loss=0.001372003462165594\n",
            "train_batch_idx=1450, train_loss=0.0030304528772830963\n",
            "train_batch_idx=1460, train_loss=0.0007165638962760568\n",
            "train_batch_idx=1470, train_loss=0.0003316651564091444\n",
            "train_batch_idx=1480, train_loss=0.0011229336960241199\n",
            "train_batch_idx=1490, train_loss=0.0014887601137161255\n",
            "train_batch_idx=1500, train_loss=0.0006517411675304174\n",
            "train_batch_idx=1510, train_loss=0.0016196725191548467\n",
            "train_batch_idx=1520, train_loss=0.2057209014892578\n",
            "train_batch_idx=1530, train_loss=0.000553864287212491\n",
            "train_batch_idx=1540, train_loss=0.0005070269107818604\n",
            "train_batch_idx=1550, train_loss=0.0007534406613558531\n",
            "train_batch_idx=1560, train_loss=0.014011879451572895\n",
            "train_batch_idx=1570, train_loss=0.001872141961939633\n",
            "train_batch_idx=1580, train_loss=0.005608083214610815\n",
            "train_batch_idx=1590, train_loss=0.00030131760286167264\n",
            "train_batch_idx=1600, train_loss=0.0007361348834820092\n",
            "train_batch_idx=1610, train_loss=0.005994005594402552\n",
            "train_batch_idx=1620, train_loss=0.00023223372409120202\n",
            "train_batch_idx=1630, train_loss=0.0004045360838063061\n",
            "train_batch_idx=1640, train_loss=0.00022569528664462268\n",
            "train_batch_idx=1650, train_loss=0.0002580508007667959\n",
            "train_batch_idx=1660, train_loss=0.005801808089017868\n",
            "train_batch_idx=1670, train_loss=0.000830627977848053\n",
            "train_batch_idx=1680, train_loss=0.1198980063199997\n",
            "train_batch_idx=1690, train_loss=0.031001491472125053\n",
            "train_batch_idx=1700, train_loss=0.0043002343736588955\n",
            "train_batch_idx=1710, train_loss=0.0002892417833209038\n",
            "train_batch_idx=1720, train_loss=0.00028846791246905923\n",
            "train_batch_idx=1730, train_loss=0.0003376235254108906\n",
            "train_batch_idx=1740, train_loss=0.0009215354220941663\n",
            "train_batch_idx=1750, train_loss=0.00034239760134369135\n",
            "train_batch_idx=1760, train_loss=0.0011284779757261276\n",
            "train_batch_idx=1770, train_loss=0.0005451350007206202\n",
            "train_batch_idx=1780, train_loss=0.001653804793022573\n",
            "train_batch_idx=1790, train_loss=0.00033230771077796817\n",
            "train_batch_idx=1800, train_loss=0.48364773392677307\n",
            "train_batch_idx=1810, train_loss=0.0011673660483211279\n",
            "train_batch_idx=1820, train_loss=0.00040940174949355423\n",
            "train_batch_idx=1830, train_loss=0.0008159061544574797\n",
            "train_batch_idx=1840, train_loss=0.0010452179703861475\n",
            "train_batch_idx=1850, train_loss=0.0022885696962475777\n",
            "train_batch_idx=1860, train_loss=0.0005890361499041319\n",
            "train_batch_idx=1870, train_loss=0.19561567902565002\n",
            "train_batch_idx=1880, train_loss=0.0003564191283658147\n",
            "train_batch_idx=1890, train_loss=0.00038992491317912936\n",
            "train_batch_idx=1900, train_loss=0.0009602385107427835\n",
            "train_batch_idx=1910, train_loss=0.0007673732470721006\n",
            "train_batch_idx=1920, train_loss=0.02116425894200802\n",
            "train_batch_idx=1930, train_loss=0.00111252604983747\n",
            "train_batch_idx=1940, train_loss=0.0003889231593348086\n",
            "train_batch_idx=1950, train_loss=0.0003282291581854224\n",
            "train_batch_idx=1960, train_loss=0.00027967168716713786\n",
            "train_batch_idx=1970, train_loss=0.00028822323656640947\n",
            "train_batch_idx=1980, train_loss=0.0003135050064884126\n",
            "train_batch_idx=1990, train_loss=0.0002468189049977809\n",
            "train_batch_idx=2000, train_loss=0.0025580995716154575\n",
            "train_batch_idx=2010, train_loss=0.0005406216951087117\n",
            "train_batch_idx=2020, train_loss=0.00038987741572782397\n",
            "train_batch_idx=2030, train_loss=0.0008410583832301199\n",
            "train_batch_idx=2040, train_loss=0.0004893329460173845\n",
            "train_batch_idx=2050, train_loss=0.0005491371266543865\n",
            "train_batch_idx=2060, train_loss=0.002779961097985506\n",
            "train_batch_idx=2070, train_loss=0.0005952880019322038\n",
            "train_batch_idx=2080, train_loss=0.0008907580049708486\n",
            "train_batch_idx=2090, train_loss=0.0013508201809599996\n",
            "train_batch_idx=2100, train_loss=0.000402708537876606\n",
            "train_batch_idx=2110, train_loss=0.0005925289588049054\n",
            "train_batch_idx=2120, train_loss=0.00177744310349226\n",
            "train_batch_idx=2130, train_loss=0.000349155452568084\n",
            "train_batch_idx=2140, train_loss=0.002693215385079384\n",
            "train_batch_idx=2150, train_loss=0.000653618189971894\n",
            "train_batch_idx=2160, train_loss=0.005158949643373489\n",
            "train_batch_idx=2170, train_loss=0.0005839680670760572\n",
            "train_batch_idx=2180, train_loss=0.009696710854768753\n",
            "train_batch_idx=2190, train_loss=0.004416423849761486\n",
            "train_batch_idx=2200, train_loss=0.0008033065823838115\n",
            "train_batch_idx=2210, train_loss=0.0013214659411460161\n",
            "train_batch_idx=2220, train_loss=0.0011420247610658407\n",
            "train_batch_idx=2230, train_loss=0.000304895598674193\n",
            "train_batch_idx=2240, train_loss=0.001172457356005907\n",
            "train_batch_idx=2250, train_loss=0.0003789634502027184\n",
            "train_batch_idx=2260, train_loss=0.0008959245751611888\n",
            "train_batch_idx=2270, train_loss=0.0009603415383026004\n",
            "train_batch_idx=2280, train_loss=0.0005101916030980647\n",
            "train_batch_idx=2290, train_loss=0.014972908422350883\n",
            "train_batch_idx=2300, train_loss=0.0015983852790668607\n",
            "train_batch_idx=2310, train_loss=0.00031171756563708186\n",
            "train_batch_idx=2320, train_loss=0.0003468344220891595\n",
            "train_batch_idx=2330, train_loss=0.1841941922903061\n",
            "train_batch_idx=2340, train_loss=0.0019803564064204693\n",
            "train_batch_idx=2350, train_loss=0.10270795226097107\n",
            "train_batch_idx=2360, train_loss=0.0008405560511164367\n",
            "train_batch_idx=2370, train_loss=0.001135925529524684\n",
            "train_batch_idx=2380, train_loss=0.000583385000936687\n",
            "train_batch_idx=2390, train_loss=0.0006575144943781197\n",
            "train_batch_idx=2400, train_loss=0.00025165925035253167\n",
            "train_batch_idx=2410, train_loss=0.00024783139815554023\n",
            "train_batch_idx=2420, train_loss=0.006042477674782276\n",
            "train_batch_idx=2430, train_loss=0.0003983774804510176\n",
            "train_batch_idx=2440, train_loss=0.0003121919580735266\n",
            "train_batch_idx=2450, train_loss=0.0003265545819886029\n",
            "train_batch_idx=2460, train_loss=0.0004311701050028205\n",
            "train_batch_idx=2470, train_loss=0.0010209318716078997\n",
            "train_batch_idx=2480, train_loss=0.00023996368690859526\n",
            "train_batch_idx=2490, train_loss=0.0008836144697852433\n",
            "train_batch_idx=2500, train_loss=0.00042383623076602817\n",
            "train_batch_idx=2510, train_loss=0.0005280825425870717\n",
            "train_batch_idx=2520, train_loss=0.00026406830875203013\n",
            "train_batch_idx=2530, train_loss=0.0005565499304793775\n",
            "train_batch_idx=2540, train_loss=0.00027935815160162747\n",
            "train_batch_idx=2550, train_loss=0.26437607407569885\n",
            "train_batch_idx=2560, train_loss=0.0002654546406120062\n",
            "train_batch_idx=2570, train_loss=0.0004684534214902669\n",
            "train_batch_idx=2580, train_loss=0.0006155966548249125\n",
            "train_batch_idx=2590, train_loss=0.0042031994089484215\n",
            "train_batch_idx=2600, train_loss=0.0003992885467596352\n",
            "train_batch_idx=2610, train_loss=0.0018678407650440931\n",
            "train_batch_idx=2620, train_loss=0.0005957860848866403\n",
            "train_batch_idx=2630, train_loss=0.0005405917763710022\n",
            "train_batch_idx=2640, train_loss=0.0014248755760490894\n",
            "train_batch_idx=2650, train_loss=0.001012786291539669\n",
            "train_batch_idx=2660, train_loss=0.0020824766252189875\n",
            "train_batch_idx=2670, train_loss=0.0011950826738029718\n",
            "train_batch_idx=2680, train_loss=0.000560782034881413\n",
            "train_batch_idx=2690, train_loss=0.0004639801918528974\n",
            "train_batch_idx=2700, train_loss=0.002289637690410018\n",
            "train_batch_idx=2710, train_loss=0.0007870149565860629\n",
            "train_batch_idx=2720, train_loss=0.001144331181421876\n",
            "train_batch_idx=2730, train_loss=0.00043079242459498346\n",
            "train_batch_idx=2740, train_loss=0.07889524102210999\n",
            "train_batch_idx=2750, train_loss=0.0003486369096208364\n",
            "train_batch_idx=2760, train_loss=0.00122992810793221\n",
            "train_batch_idx=2770, train_loss=0.08539053052663803\n",
            "train_batch_idx=2780, train_loss=0.01195457112044096\n",
            "train_batch_idx=2790, train_loss=0.0004108681168872863\n",
            "train_batch_idx=2800, train_loss=0.001858602510765195\n",
            "train_batch_idx=2810, train_loss=0.00045937058166600764\n",
            "train_batch_idx=2820, train_loss=0.0003105906944256276\n",
            "train_batch_idx=2830, train_loss=0.0004449238476809114\n",
            "train_batch_idx=2840, train_loss=0.022239331156015396\n",
            "train_batch_idx=2850, train_loss=0.0004352621326688677\n",
            "train_batch_idx=2860, train_loss=0.000383881910238415\n",
            "train_batch_idx=2870, train_loss=0.0008501384872943163\n",
            "train_batch_idx=2880, train_loss=0.0020178789272904396\n",
            "train_batch_idx=2890, train_loss=0.00035428639966994524\n",
            "train_batch_idx=2900, train_loss=0.0003216222394257784\n",
            "train_batch_idx=2910, train_loss=0.0024758302606642246\n",
            "train_batch_idx=2920, train_loss=0.002011468168348074\n",
            "train_batch_idx=2930, train_loss=0.0003451448865234852\n",
            "train_batch_idx=2940, train_loss=0.0006818854599259794\n",
            "train_batch_idx=2950, train_loss=0.0015127974329516292\n",
            "train_batch_idx=2960, train_loss=0.00028052052948623896\n",
            "train_batch_idx=2970, train_loss=0.0010023510549217463\n",
            "train_batch_idx=2980, train_loss=0.00127597083337605\n",
            "train_batch_idx=2990, train_loss=0.0003512969415169209\n",
            "train_batch_idx=3000, train_loss=0.00023361013154499233\n",
            "train_batch_idx=3010, train_loss=0.004973848350346088\n",
            "train_batch_idx=3020, train_loss=0.0005686926306225359\n",
            "train_batch_idx=3030, train_loss=0.0008406275301240385\n",
            "train_batch_idx=3040, train_loss=0.0004862572532147169\n",
            "train_batch_idx=3050, train_loss=0.0006252891034819186\n",
            "train_batch_idx=3060, train_loss=0.0008289341349154711\n",
            "train_batch_idx=3070, train_loss=0.0020514291245490313\n",
            "train_batch_idx=3080, train_loss=0.0004201119299978018\n",
            "train_batch_idx=3090, train_loss=0.006789212115108967\n",
            "train_batch_idx=3100, train_loss=0.0007521701045334339\n",
            "train_batch_idx=3110, train_loss=0.0012003470910713077\n",
            "train_batch_idx=3120, train_loss=0.00024234040756709874\n",
            "AUC Score = 0.728992686529524\n"
          ]
        }
      ]
    },
    {
      "cell_type": "code",
      "source": [
        "#test_dataset.py\n",
        "class BERTDatasetTest:\n",
        "    def __init__(self, comment_text):\n",
        "        self.comment_text = comment_text\n",
        "        self.tokenizer = TOKENIZER\n",
        "        self.max_length = MAX_LEN\n",
        "\n",
        "    def __len__(self):\n",
        "        return len(self.comment_text)\n",
        "\n",
        "    def __getitem__(self, item):\n",
        "        comment_text = str(self.comment_text[item])\n",
        "        comment_text = \" \".join(comment_text.split())\n",
        "\n",
        "        inputs = self.tokenizer.encode_plus(\n",
        "            comment_text,\n",
        "            None,\n",
        "            add_special_tokens=True,\n",
        "            max_length=self.max_length,\n",
        "            truncation=True,\n",
        "        )\n",
        "        ids = inputs[\"input_ids\"]\n",
        "        token_type_ids = inputs[\"token_type_ids\"]\n",
        "        mask = inputs[\"attention_mask\"]\n",
        "        \n",
        "        padding_length = self.max_length - len(ids)\n",
        "        \n",
        "        ids = ids + ([0] * padding_length)\n",
        "        mask = mask + ([0] * padding_length)\n",
        "        token_type_ids = token_type_ids + ([0] * padding_length)\n",
        "        \n",
        "        return {\n",
        "            'ids': torch.tensor(ids, dtype=torch.long),\n",
        "            'mask': torch.tensor(mask, dtype=torch.long),\n",
        "            'token_type_ids': torch.tensor(token_type_ids, dtype=torch.long)\n",
        "        }"
      ],
      "metadata": {
        "id": "zL9_SGkoo7-R"
      },
      "execution_count": 16,
      "outputs": []
    },
    {
      "cell_type": "code",
      "source": [
        "test_dataset = BERTDatasetTest(\n",
        "    comment_text = df_test.content.values\n",
        ")\n",
        "\n",
        "test_data_loader = DataLoader(\n",
        "    test_dataset,\n",
        "    batch_size = VALID_BATCH_SIZE,\n",
        "    num_workers = 1,\n",
        "    shuffle=False\n",
        ")"
      ],
      "metadata": {
        "id": "UnOKkXozmoSB"
      },
      "execution_count": 17,
      "outputs": []
    },
    {
      "cell_type": "code",
      "source": [
        "# prediction.py\n",
        "\n",
        "def pred(data_loader):\n",
        "  device = torch.device(\"cuda\")\n",
        "  model = BERTBaseUncased().to(device)\n",
        "  model.load_state_dict(torch.load('/content/drive/MyDrive/Colab Notebooks/model.pt'))\n",
        "  model.eval()\n",
        "  fin_targets = []\n",
        "  fin_outputs = []\n",
        "  with torch.no_grad():\n",
        "    for batch_idx, data in enumerate(data_loader):\n",
        "      ids = data['ids']\n",
        "      token_type_ids = data['token_type_ids']\n",
        "      mask = data['mask']\n",
        "\n",
        "      ids = ids.to(device, dtype=torch.long)\n",
        "      token_type_ids = token_type_ids.to(device, dtype=torch.long)\n",
        "      mask = mask.to(device, dtype=torch.long)\n",
        "\n",
        "      outputs = model(\n",
        "        ids = ids,\n",
        "        mask = mask,\n",
        "        token_type_ids = token_type_ids\n",
        "      )\n",
        "\n",
        "      fin_outputs.extend(torch.sigmoid(outputs).cpu().detach().numpy().tolist())\n",
        "  return fin_outputs"
      ],
      "metadata": {
        "id": "PUyds6Kl93u7"
      },
      "execution_count": 18,
      "outputs": []
    },
    {
      "cell_type": "code",
      "source": [
        "prediction = pred(test_data_loader)"
      ],
      "metadata": {
        "colab": {
          "base_uri": "https://localhost:8080/"
        },
        "id": "RPVTphtvplGY",
        "outputId": "939dede8-ab2e-48d2-c35a-db583ef860ba"
      },
      "execution_count": 19,
      "outputs": [
        {
          "output_type": "stream",
          "name": "stderr",
          "text": [
            "Some weights of the model checkpoint at bert-base-multilingual-cased were not used when initializing BertModel: ['cls.seq_relationship.weight', 'cls.seq_relationship.bias', 'cls.predictions.transform.LayerNorm.weight', 'cls.predictions.bias', 'cls.predictions.transform.LayerNorm.bias', 'cls.predictions.transform.dense.bias', 'cls.predictions.transform.dense.weight', 'cls.predictions.decoder.weight']\n",
            "- This IS expected if you are initializing BertModel from the checkpoint of a model trained on another task or with another architecture (e.g. initializing a BertForSequenceClassification model from a BertForPreTraining model).\n",
            "- This IS NOT expected if you are initializing BertModel from the checkpoint of a model that you expect to be exactly identical (initializing a BertForSequenceClassification model from a BertForSequenceClassification model).\n"
          ]
        }
      ]
    },
    {
      "cell_type": "code",
      "source": [
        "sample_submission.loc[:, 'toxic'] = np.array(prediction)\n",
        "sample_submission.to_csv('/content/drive/MyDrive/Colab Notebooks/sample_submission.csv', index=False)"
      ],
      "metadata": {
        "id": "GsPTHKScqPBj"
      },
      "execution_count": 23,
      "outputs": []
    },
    {
      "cell_type": "code",
      "source": [
        ""
      ],
      "metadata": {
        "id": "VyXUig3OVCP_"
      },
      "execution_count": 22,
      "outputs": []
    },
    {
      "cell_type": "markdown",
      "source": [
        "# 테스트코드"
      ],
      "metadata": {
        "id": "FV4Ba5qwiX_m"
      }
    },
    {
      "cell_type": "code",
      "source": [
        "device = torch.device(\"cuda\")\n",
        "bert = transformers.BertModel.from_pretrained('bert-base-multilingual-cased').to(device)"
      ],
      "metadata": {
        "colab": {
          "base_uri": "https://localhost:8080/",
          "height": 124,
          "referenced_widgets": [
            "e7400736a8c44148ac737f33af6bc103",
            "3eeb5a7ff311441d9d9d0b90f5951629",
            "ec56ae0e641a4282887d8c373584022e",
            "d7a6a45f061c468899f26b79e1d2d806",
            "fd112ab14443468f90adfaeb906eb4cb",
            "337b2d3655c54b089a3cd1ff0181986f",
            "368cf1536d2f4c45a9e87aa32a0fedb9",
            "440294808f7b4c25959018506dc26231",
            "6a5caffc4c184a96978f06362364fe50",
            "09162f2e24854fbfb73665f978456d05",
            "9f01c972a9644c039890ea852889ad4d"
          ]
        },
        "id": "k3HWKEEfpVlQ",
        "outputId": "c149e9db-70e8-4995-daea-17e20b965594"
      },
      "execution_count": null,
      "outputs": [
        {
          "output_type": "display_data",
          "data": {
            "text/plain": [
              "Downloading:   0%|          | 0.00/681M [00:00<?, ?B/s]"
            ],
            "application/vnd.jupyter.widget-view+json": {
              "version_major": 2,
              "version_minor": 0,
              "model_id": "e7400736a8c44148ac737f33af6bc103"
            }
          },
          "metadata": {}
        },
        {
          "output_type": "stream",
          "name": "stderr",
          "text": [
            "Some weights of the model checkpoint at bert-base-multilingual-cased were not used when initializing BertModel: ['cls.predictions.transform.LayerNorm.weight', 'cls.predictions.bias', 'cls.seq_relationship.weight', 'cls.predictions.decoder.weight', 'cls.predictions.transform.LayerNorm.bias', 'cls.seq_relationship.bias', 'cls.predictions.transform.dense.weight', 'cls.predictions.transform.dense.bias']\n",
            "- This IS expected if you are initializing BertModel from the checkpoint of a model trained on another task or with another architecture (e.g. initializing a BertForSequenceClassification model from a BertForPreTraining model).\n",
            "- This IS NOT expected if you are initializing BertModel from the checkpoint of a model that you expect to be exactly identical (initializing a BertForSequenceClassification model from a BertForSequenceClassification model).\n"
          ]
        }
      ]
    },
    {
      "cell_type": "code",
      "source": [
        "device = torch.device(\"cuda\")\n",
        "# device = torch.device('cpu')\n",
        "model = BERTBaseUncased().to(device)"
      ],
      "metadata": {
        "colab": {
          "base_uri": "https://localhost:8080/",
          "height": 475
        },
        "id": "3iLyha4EAik6",
        "outputId": "31fa9160-4d9c-40ac-9315-ff25be6ec0a4"
      },
      "execution_count": null,
      "outputs": [
        {
          "output_type": "stream",
          "name": "stderr",
          "text": [
            "Some weights of the model checkpoint at bert-base-multilingual-cased were not used when initializing BertModel: ['cls.predictions.transform.LayerNorm.weight', 'cls.predictions.bias', 'cls.seq_relationship.weight', 'cls.predictions.decoder.weight', 'cls.predictions.transform.LayerNorm.bias', 'cls.seq_relationship.bias', 'cls.predictions.transform.dense.weight', 'cls.predictions.transform.dense.bias']\n",
            "- This IS expected if you are initializing BertModel from the checkpoint of a model trained on another task or with another architecture (e.g. initializing a BertForSequenceClassification model from a BertForPreTraining model).\n",
            "- This IS NOT expected if you are initializing BertModel from the checkpoint of a model that you expect to be exactly identical (initializing a BertForSequenceClassification model from a BertForSequenceClassification model).\n"
          ]
        },
        {
          "output_type": "error",
          "ename": "RuntimeError",
          "evalue": "ignored",
          "traceback": [
            "\u001b[0;31m---------------------------------------------------------------------------\u001b[0m",
            "\u001b[0;31mRuntimeError\u001b[0m                              Traceback (most recent call last)",
            "\u001b[0;32m<ipython-input-57-1beb3ca5891b>\u001b[0m in \u001b[0;36m<module>\u001b[0;34m()\u001b[0m\n\u001b[1;32m      1\u001b[0m \u001b[0mdevice\u001b[0m \u001b[0;34m=\u001b[0m \u001b[0mtorch\u001b[0m\u001b[0;34m.\u001b[0m\u001b[0mdevice\u001b[0m\u001b[0;34m(\u001b[0m\u001b[0;34m\"cuda\"\u001b[0m\u001b[0;34m)\u001b[0m\u001b[0;34m\u001b[0m\u001b[0;34m\u001b[0m\u001b[0m\n\u001b[1;32m      2\u001b[0m \u001b[0;31m# device = torch.device('cpu')\u001b[0m\u001b[0;34m\u001b[0m\u001b[0;34m\u001b[0m\u001b[0;34m\u001b[0m\u001b[0m\n\u001b[0;32m----> 3\u001b[0;31m \u001b[0mmodel\u001b[0m \u001b[0;34m=\u001b[0m \u001b[0mBERTBaseUncased\u001b[0m\u001b[0;34m(\u001b[0m\u001b[0;34m)\u001b[0m\u001b[0;34m.\u001b[0m\u001b[0mto\u001b[0m\u001b[0;34m(\u001b[0m\u001b[0mdevice\u001b[0m\u001b[0;34m)\u001b[0m\u001b[0;34m\u001b[0m\u001b[0;34m\u001b[0m\u001b[0m\n\u001b[0m",
            "\u001b[0;32m/usr/local/lib/python3.7/dist-packages/torch/nn/modules/module.py\u001b[0m in \u001b[0;36mto\u001b[0;34m(self, *args, **kwargs)\u001b[0m\n\u001b[1;32m    905\u001b[0m             \u001b[0;32mreturn\u001b[0m \u001b[0mt\u001b[0m\u001b[0;34m.\u001b[0m\u001b[0mto\u001b[0m\u001b[0;34m(\u001b[0m\u001b[0mdevice\u001b[0m\u001b[0;34m,\u001b[0m \u001b[0mdtype\u001b[0m \u001b[0;32mif\u001b[0m \u001b[0mt\u001b[0m\u001b[0;34m.\u001b[0m\u001b[0mis_floating_point\u001b[0m\u001b[0;34m(\u001b[0m\u001b[0;34m)\u001b[0m \u001b[0;32mor\u001b[0m \u001b[0mt\u001b[0m\u001b[0;34m.\u001b[0m\u001b[0mis_complex\u001b[0m\u001b[0;34m(\u001b[0m\u001b[0;34m)\u001b[0m \u001b[0;32melse\u001b[0m \u001b[0;32mNone\u001b[0m\u001b[0;34m,\u001b[0m \u001b[0mnon_blocking\u001b[0m\u001b[0;34m)\u001b[0m\u001b[0;34m\u001b[0m\u001b[0;34m\u001b[0m\u001b[0m\n\u001b[1;32m    906\u001b[0m \u001b[0;34m\u001b[0m\u001b[0m\n\u001b[0;32m--> 907\u001b[0;31m         \u001b[0;32mreturn\u001b[0m \u001b[0mself\u001b[0m\u001b[0;34m.\u001b[0m\u001b[0m_apply\u001b[0m\u001b[0;34m(\u001b[0m\u001b[0mconvert\u001b[0m\u001b[0;34m)\u001b[0m\u001b[0;34m\u001b[0m\u001b[0;34m\u001b[0m\u001b[0m\n\u001b[0m\u001b[1;32m    908\u001b[0m \u001b[0;34m\u001b[0m\u001b[0m\n\u001b[1;32m    909\u001b[0m     def register_backward_hook(\n",
            "\u001b[0;32m/usr/local/lib/python3.7/dist-packages/torch/nn/modules/module.py\u001b[0m in \u001b[0;36m_apply\u001b[0;34m(self, fn)\u001b[0m\n\u001b[1;32m    576\u001b[0m     \u001b[0;32mdef\u001b[0m \u001b[0m_apply\u001b[0m\u001b[0;34m(\u001b[0m\u001b[0mself\u001b[0m\u001b[0;34m,\u001b[0m \u001b[0mfn\u001b[0m\u001b[0;34m)\u001b[0m\u001b[0;34m:\u001b[0m\u001b[0;34m\u001b[0m\u001b[0;34m\u001b[0m\u001b[0m\n\u001b[1;32m    577\u001b[0m         \u001b[0;32mfor\u001b[0m \u001b[0mmodule\u001b[0m \u001b[0;32min\u001b[0m \u001b[0mself\u001b[0m\u001b[0;34m.\u001b[0m\u001b[0mchildren\u001b[0m\u001b[0;34m(\u001b[0m\u001b[0;34m)\u001b[0m\u001b[0;34m:\u001b[0m\u001b[0;34m\u001b[0m\u001b[0;34m\u001b[0m\u001b[0m\n\u001b[0;32m--> 578\u001b[0;31m             \u001b[0mmodule\u001b[0m\u001b[0;34m.\u001b[0m\u001b[0m_apply\u001b[0m\u001b[0;34m(\u001b[0m\u001b[0mfn\u001b[0m\u001b[0;34m)\u001b[0m\u001b[0;34m\u001b[0m\u001b[0;34m\u001b[0m\u001b[0m\n\u001b[0m\u001b[1;32m    579\u001b[0m \u001b[0;34m\u001b[0m\u001b[0m\n\u001b[1;32m    580\u001b[0m         \u001b[0;32mdef\u001b[0m \u001b[0mcompute_should_use_set_data\u001b[0m\u001b[0;34m(\u001b[0m\u001b[0mtensor\u001b[0m\u001b[0;34m,\u001b[0m \u001b[0mtensor_applied\u001b[0m\u001b[0;34m)\u001b[0m\u001b[0;34m:\u001b[0m\u001b[0;34m\u001b[0m\u001b[0;34m\u001b[0m\u001b[0m\n",
            "\u001b[0;32m/usr/local/lib/python3.7/dist-packages/torch/nn/modules/module.py\u001b[0m in \u001b[0;36m_apply\u001b[0;34m(self, fn)\u001b[0m\n\u001b[1;32m    576\u001b[0m     \u001b[0;32mdef\u001b[0m \u001b[0m_apply\u001b[0m\u001b[0;34m(\u001b[0m\u001b[0mself\u001b[0m\u001b[0;34m,\u001b[0m \u001b[0mfn\u001b[0m\u001b[0;34m)\u001b[0m\u001b[0;34m:\u001b[0m\u001b[0;34m\u001b[0m\u001b[0;34m\u001b[0m\u001b[0m\n\u001b[1;32m    577\u001b[0m         \u001b[0;32mfor\u001b[0m \u001b[0mmodule\u001b[0m \u001b[0;32min\u001b[0m \u001b[0mself\u001b[0m\u001b[0;34m.\u001b[0m\u001b[0mchildren\u001b[0m\u001b[0;34m(\u001b[0m\u001b[0;34m)\u001b[0m\u001b[0;34m:\u001b[0m\u001b[0;34m\u001b[0m\u001b[0;34m\u001b[0m\u001b[0m\n\u001b[0;32m--> 578\u001b[0;31m             \u001b[0mmodule\u001b[0m\u001b[0;34m.\u001b[0m\u001b[0m_apply\u001b[0m\u001b[0;34m(\u001b[0m\u001b[0mfn\u001b[0m\u001b[0;34m)\u001b[0m\u001b[0;34m\u001b[0m\u001b[0;34m\u001b[0m\u001b[0m\n\u001b[0m\u001b[1;32m    579\u001b[0m \u001b[0;34m\u001b[0m\u001b[0m\n\u001b[1;32m    580\u001b[0m         \u001b[0;32mdef\u001b[0m \u001b[0mcompute_should_use_set_data\u001b[0m\u001b[0;34m(\u001b[0m\u001b[0mtensor\u001b[0m\u001b[0;34m,\u001b[0m \u001b[0mtensor_applied\u001b[0m\u001b[0;34m)\u001b[0m\u001b[0;34m:\u001b[0m\u001b[0;34m\u001b[0m\u001b[0;34m\u001b[0m\u001b[0m\n",
            "\u001b[0;32m/usr/local/lib/python3.7/dist-packages/torch/nn/modules/module.py\u001b[0m in \u001b[0;36m_apply\u001b[0;34m(self, fn)\u001b[0m\n\u001b[1;32m    576\u001b[0m     \u001b[0;32mdef\u001b[0m \u001b[0m_apply\u001b[0m\u001b[0;34m(\u001b[0m\u001b[0mself\u001b[0m\u001b[0;34m,\u001b[0m \u001b[0mfn\u001b[0m\u001b[0;34m)\u001b[0m\u001b[0;34m:\u001b[0m\u001b[0;34m\u001b[0m\u001b[0;34m\u001b[0m\u001b[0m\n\u001b[1;32m    577\u001b[0m         \u001b[0;32mfor\u001b[0m \u001b[0mmodule\u001b[0m \u001b[0;32min\u001b[0m \u001b[0mself\u001b[0m\u001b[0;34m.\u001b[0m\u001b[0mchildren\u001b[0m\u001b[0;34m(\u001b[0m\u001b[0;34m)\u001b[0m\u001b[0;34m:\u001b[0m\u001b[0;34m\u001b[0m\u001b[0;34m\u001b[0m\u001b[0m\n\u001b[0;32m--> 578\u001b[0;31m             \u001b[0mmodule\u001b[0m\u001b[0;34m.\u001b[0m\u001b[0m_apply\u001b[0m\u001b[0;34m(\u001b[0m\u001b[0mfn\u001b[0m\u001b[0;34m)\u001b[0m\u001b[0;34m\u001b[0m\u001b[0;34m\u001b[0m\u001b[0m\n\u001b[0m\u001b[1;32m    579\u001b[0m \u001b[0;34m\u001b[0m\u001b[0m\n\u001b[1;32m    580\u001b[0m         \u001b[0;32mdef\u001b[0m \u001b[0mcompute_should_use_set_data\u001b[0m\u001b[0;34m(\u001b[0m\u001b[0mtensor\u001b[0m\u001b[0;34m,\u001b[0m \u001b[0mtensor_applied\u001b[0m\u001b[0;34m)\u001b[0m\u001b[0;34m:\u001b[0m\u001b[0;34m\u001b[0m\u001b[0;34m\u001b[0m\u001b[0m\n",
            "\u001b[0;32m/usr/local/lib/python3.7/dist-packages/torch/nn/modules/module.py\u001b[0m in \u001b[0;36m_apply\u001b[0;34m(self, fn)\u001b[0m\n\u001b[1;32m    599\u001b[0m             \u001b[0;31m# `with torch.no_grad():`\u001b[0m\u001b[0;34m\u001b[0m\u001b[0;34m\u001b[0m\u001b[0;34m\u001b[0m\u001b[0m\n\u001b[1;32m    600\u001b[0m             \u001b[0;32mwith\u001b[0m \u001b[0mtorch\u001b[0m\u001b[0;34m.\u001b[0m\u001b[0mno_grad\u001b[0m\u001b[0;34m(\u001b[0m\u001b[0;34m)\u001b[0m\u001b[0;34m:\u001b[0m\u001b[0;34m\u001b[0m\u001b[0;34m\u001b[0m\u001b[0m\n\u001b[0;32m--> 601\u001b[0;31m                 \u001b[0mparam_applied\u001b[0m \u001b[0;34m=\u001b[0m \u001b[0mfn\u001b[0m\u001b[0;34m(\u001b[0m\u001b[0mparam\u001b[0m\u001b[0;34m)\u001b[0m\u001b[0;34m\u001b[0m\u001b[0;34m\u001b[0m\u001b[0m\n\u001b[0m\u001b[1;32m    602\u001b[0m             \u001b[0mshould_use_set_data\u001b[0m \u001b[0;34m=\u001b[0m \u001b[0mcompute_should_use_set_data\u001b[0m\u001b[0;34m(\u001b[0m\u001b[0mparam\u001b[0m\u001b[0;34m,\u001b[0m \u001b[0mparam_applied\u001b[0m\u001b[0;34m)\u001b[0m\u001b[0;34m\u001b[0m\u001b[0;34m\u001b[0m\u001b[0m\n\u001b[1;32m    603\u001b[0m             \u001b[0;32mif\u001b[0m \u001b[0mshould_use_set_data\u001b[0m\u001b[0;34m:\u001b[0m\u001b[0;34m\u001b[0m\u001b[0;34m\u001b[0m\u001b[0m\n",
            "\u001b[0;32m/usr/local/lib/python3.7/dist-packages/torch/nn/modules/module.py\u001b[0m in \u001b[0;36mconvert\u001b[0;34m(t)\u001b[0m\n\u001b[1;32m    903\u001b[0m                 return t.to(device, dtype if t.is_floating_point() or t.is_complex() else None,\n\u001b[1;32m    904\u001b[0m                             non_blocking, memory_format=convert_to_format)\n\u001b[0;32m--> 905\u001b[0;31m             \u001b[0;32mreturn\u001b[0m \u001b[0mt\u001b[0m\u001b[0;34m.\u001b[0m\u001b[0mto\u001b[0m\u001b[0;34m(\u001b[0m\u001b[0mdevice\u001b[0m\u001b[0;34m,\u001b[0m \u001b[0mdtype\u001b[0m \u001b[0;32mif\u001b[0m \u001b[0mt\u001b[0m\u001b[0;34m.\u001b[0m\u001b[0mis_floating_point\u001b[0m\u001b[0;34m(\u001b[0m\u001b[0;34m)\u001b[0m \u001b[0;32mor\u001b[0m \u001b[0mt\u001b[0m\u001b[0;34m.\u001b[0m\u001b[0mis_complex\u001b[0m\u001b[0;34m(\u001b[0m\u001b[0;34m)\u001b[0m \u001b[0;32melse\u001b[0m \u001b[0;32mNone\u001b[0m\u001b[0;34m,\u001b[0m \u001b[0mnon_blocking\u001b[0m\u001b[0;34m)\u001b[0m\u001b[0;34m\u001b[0m\u001b[0;34m\u001b[0m\u001b[0m\n\u001b[0m\u001b[1;32m    906\u001b[0m \u001b[0;34m\u001b[0m\u001b[0m\n\u001b[1;32m    907\u001b[0m         \u001b[0;32mreturn\u001b[0m \u001b[0mself\u001b[0m\u001b[0;34m.\u001b[0m\u001b[0m_apply\u001b[0m\u001b[0;34m(\u001b[0m\u001b[0mconvert\u001b[0m\u001b[0;34m)\u001b[0m\u001b[0;34m\u001b[0m\u001b[0;34m\u001b[0m\u001b[0m\n",
            "\u001b[0;31mRuntimeError\u001b[0m: CUDA error: device-side assert triggered\nCUDA kernel errors might be asynchronously reported at some other API call,so the stacktrace below might be incorrect.\nFor debugging consider passing CUDA_LAUNCH_BLOCKING=1."
          ]
        }
      ]
    },
    {
      "cell_type": "code",
      "source": [
        "for batch_idx, data in tqdm(enumerate(valid_data_loader), total=len(valid_data_loader)):\n",
        "   ids = data['ids']\n",
        "   token_type_ids = data['token_type_ids']\n",
        "   mask = data['mask']\n",
        "   targets = data['target']\n",
        "\n",
        "   ids = ids.to(device, dtype=torch.long)\n",
        "   token_type_ids = token_type_ids.to(device, dtype=torch.long)\n",
        "   mask = mask.to(device, dtype=torch.long)\n",
        "   targets = targets.to(device, dtype=torch.long)\n",
        "   break"
      ],
      "metadata": {
        "colab": {
          "base_uri": "https://localhost:8080/"
        },
        "id": "XTg589-HiW3T",
        "outputId": "d2ac7b98-6d46-41b6-da5a-556137a8dc2f"
      },
      "execution_count": null,
      "outputs": [
        {
          "output_type": "stream",
          "name": "stderr",
          "text": [
            "  0%|          | 0/7 [00:00<?, ?it/s]\n"
          ]
        }
      ]
    },
    {
      "cell_type": "code",
      "source": [
        "print(ids)\n",
        "print(token_type_ids)\n",
        "print(mask)\n",
        "print(targets)"
      ],
      "metadata": {
        "colab": {
          "base_uri": "https://localhost:8080/"
        },
        "id": "6jvjtMbcKdoJ",
        "outputId": "4db69cd9-224d-4124-9f14-2f1a4aaee655"
      },
      "execution_count": null,
      "outputs": [
        {
          "output_type": "stream",
          "name": "stdout",
          "text": [
            "tensor([[   101,  10247,    120,  ...,      0,      0,      0],\n",
            "        [   101,    173,  10237,  ...,      0,      0,      0],\n",
            "        [   101,  13697, 100025,  ...,      0,      0,      0],\n",
            "        ...,\n",
            "        [   101,  21583,  10123,  ...,  10418,    102,      0],\n",
            "        [   101,  10414,  53543,  ...,      0,      0,      0],\n",
            "        [   101,  10294,  19325,  ...,      0,      0,      0]])\n",
            "tensor([[0, 0, 0,  ..., 0, 0, 0],\n",
            "        [0, 0, 0,  ..., 0, 0, 0],\n",
            "        [0, 0, 0,  ..., 0, 0, 0],\n",
            "        ...,\n",
            "        [0, 0, 0,  ..., 0, 0, 0],\n",
            "        [0, 0, 0,  ..., 0, 0, 0],\n",
            "        [0, 0, 0,  ..., 0, 0, 0]])\n",
            "tensor([[1, 1, 1,  ..., 0, 0, 0],\n",
            "        [1, 1, 1,  ..., 0, 0, 0],\n",
            "        [1, 1, 1,  ..., 0, 0, 0],\n",
            "        ...,\n",
            "        [1, 1, 1,  ..., 1, 1, 0],\n",
            "        [1, 1, 1,  ..., 0, 0, 0],\n",
            "        [1, 1, 1,  ..., 0, 0, 0]])\n",
            "tensor([0, 1, 0, 1, 0, 0, 0, 0, 0, 0, 0, 1, 1, 0, 1, 0])\n"
          ]
        }
      ]
    },
    {
      "cell_type": "code",
      "source": [
        "bert = transformers.BertModel.from_pretrained('bert-base-multilingual-cased').to(device)\n",
        "outputs = bert(\n",
        "        ids,\n",
        "        attention_mask = mask,\n",
        "        token_type_ids = token_type_ids\n",
        "    )"
      ],
      "metadata": {
        "colab": {
          "base_uri": "https://localhost:8080/"
        },
        "id": "I6BbAk0QKy30",
        "outputId": "e87b6851-05ae-45fc-8143-c2cef492af54"
      },
      "execution_count": null,
      "outputs": [
        {
          "output_type": "stream",
          "name": "stderr",
          "text": [
            "Some weights of the model checkpoint at bert-base-multilingual-cased were not used when initializing BertModel: ['cls.predictions.transform.LayerNorm.weight', 'cls.predictions.bias', 'cls.seq_relationship.weight', 'cls.predictions.decoder.weight', 'cls.predictions.transform.LayerNorm.bias', 'cls.seq_relationship.bias', 'cls.predictions.transform.dense.weight', 'cls.predictions.transform.dense.bias']\n",
            "- This IS expected if you are initializing BertModel from the checkpoint of a model trained on another task or with another architecture (e.g. initializing a BertForSequenceClassification model from a BertForPreTraining model).\n",
            "- This IS NOT expected if you are initializing BertModel from the checkpoint of a model that you expect to be exactly identical (initializing a BertForSequenceClassification model from a BertForSequenceClassification model).\n"
          ]
        }
      ]
    },
    {
      "cell_type": "code",
      "source": [
        "outputs[0].shape"
      ],
      "metadata": {
        "colab": {
          "base_uri": "https://localhost:8080/"
        },
        "id": "hX_qFIHYOHLP",
        "outputId": "c9381352-645b-4c79-f4ea-d461dbb4fff7"
      },
      "execution_count": null,
      "outputs": [
        {
          "output_type": "execute_result",
          "data": {
            "text/plain": [
              "torch.Size([16, 100, 768])"
            ]
          },
          "metadata": {},
          "execution_count": 101
        }
      ]
    },
    {
      "cell_type": "code",
      "source": [
        "torch.max(outputs[0], 1)"
      ],
      "metadata": {
        "colab": {
          "base_uri": "https://localhost:8080/"
        },
        "id": "QHP5wQZGMsEZ",
        "outputId": "5110f0bf-a1c7-4ce0-d931-b8b313fca585"
      },
      "execution_count": null,
      "outputs": [
        {
          "output_type": "execute_result",
          "data": {
            "text/plain": [
              "torch.return_types.max(values=tensor([[0.8341, 0.8097, 1.5347,  ..., 1.4086, 0.9169, 0.8884],\n",
              "        [0.5375, 0.4361, 1.7747,  ..., 0.7926, 0.3058, 0.3963],\n",
              "        [0.7145, 0.3961, 1.2925,  ..., 1.0917, 0.5830, 1.3070],\n",
              "        ...,\n",
              "        [0.2507, 1.0089, 1.3007,  ..., 0.7810, 0.5252, 1.1897],\n",
              "        [0.4364, 0.8533, 1.5533,  ..., 1.3696, 0.9986, 1.4865],\n",
              "        [0.5254, 0.4245, 1.7083,  ..., 1.2749, 1.0420, 1.2905]],\n",
              "       device='cuda:0', grad_fn=<MaxBackward0>), ...)"
            ]
          },
          "metadata": {},
          "execution_count": 100
        }
      ]
    },
    {
      "cell_type": "code",
      "source": [
        "mean_pooling = torch.mean(outputs[0], 1)\n",
        "max_pooling = torch.max(outputs[0], 1)[0]\n",
        "print(mean_pooling)\n",
        "print(max_pooling)"
      ],
      "metadata": {
        "colab": {
          "base_uri": "https://localhost:8080/"
        },
        "id": "RsAFKtUkK-Mq",
        "outputId": "99c616f4-839d-483f-d7f8-2e7bdadbbf03"
      },
      "execution_count": null,
      "outputs": [
        {
          "output_type": "stream",
          "name": "stdout",
          "text": [
            "tensor([[ 0.0586, -0.2672, -0.1470,  ...,  0.0343,  0.0246,  0.3047],\n",
            "        [-0.5249,  0.1883,  0.0353,  ...,  0.3419,  0.2138,  0.0042],\n",
            "        [-0.1869, -0.5305,  0.3124,  ...,  0.0755, -0.0814,  0.4429],\n",
            "        ...,\n",
            "        [-0.0969, -0.1655,  0.3459,  ...,  0.3441,  0.0966,  0.3250],\n",
            "        [ 0.0120, -0.3983,  0.1737,  ...,  0.0564,  0.1642,  0.0659],\n",
            "        [-0.3242, -0.3836,  0.1232,  ...,  0.2428, -0.0313,  0.4149]],\n",
            "       grad_fn=<MeanBackward1>)\n",
            "tensor([[1.0278, 0.4594, 1.3534,  ..., 1.2225, 0.8621, 1.6045],\n",
            "        [0.3587, 0.7318, 1.4748,  ..., 1.2207, 0.9245, 0.7660],\n",
            "        [0.5443, 0.4104, 1.4537,  ..., 1.1046, 0.9373, 1.3056],\n",
            "        ...,\n",
            "        [0.9907, 1.0772, 1.5230,  ..., 1.4751, 1.0895, 1.1570],\n",
            "        [0.8003, 0.5594, 1.3066,  ..., 1.1569, 1.0621, 0.9255],\n",
            "        [0.4644, 0.5846, 1.5499,  ..., 1.6675, 1.2249, 1.4496]],\n",
            "       grad_fn=<MaxBackward0>)\n"
          ]
        }
      ]
    },
    {
      "cell_type": "code",
      "source": [
        "cat = torch.cat((mean_pooling, max_pooling),1)\n",
        "print(cat)"
      ],
      "metadata": {
        "colab": {
          "base_uri": "https://localhost:8080/"
        },
        "id": "0JZhqtbxL4CG",
        "outputId": "d1d22cc1-828e-4208-8f39-b71fc2225af3"
      },
      "execution_count": null,
      "outputs": [
        {
          "output_type": "stream",
          "name": "stdout",
          "text": [
            "tensor([[ 0.0586, -0.2672, -0.1470,  ...,  1.2225,  0.8621,  1.6045],\n",
            "        [-0.5249,  0.1883,  0.0353,  ...,  1.2207,  0.9245,  0.7660],\n",
            "        [-0.1869, -0.5305,  0.3124,  ...,  1.1046,  0.9373,  1.3056],\n",
            "        ...,\n",
            "        [-0.0969, -0.1655,  0.3459,  ...,  1.4751,  1.0895,  1.1570],\n",
            "        [ 0.0120, -0.3983,  0.1737,  ...,  1.1569,  1.0621,  0.9255],\n",
            "        [-0.3242, -0.3836,  0.1232,  ...,  1.6675,  1.2249,  1.4496]],\n",
            "       grad_fn=<CatBackward0>)\n"
          ]
        }
      ]
    },
    {
      "cell_type": "code",
      "source": [
        "out = nn.Linear(768*2, 1).to(device)"
      ],
      "metadata": {
        "id": "9itl9ujnp9Cu"
      },
      "execution_count": null,
      "outputs": []
    },
    {
      "cell_type": "code",
      "source": [
        "pred = out(cat)"
      ],
      "metadata": {
        "id": "8DbsVNBTO85v"
      },
      "execution_count": null,
      "outputs": []
    },
    {
      "cell_type": "code",
      "source": [
        "pred"
      ],
      "metadata": {
        "colab": {
          "base_uri": "https://localhost:8080/"
        },
        "id": "pu_Ug2NTQVVQ",
        "outputId": "0fe68123-1d7b-4683-c525-6f3b5801e808"
      },
      "execution_count": null,
      "outputs": [
        {
          "output_type": "execute_result",
          "data": {
            "text/plain": [
              "tensor([[0.3792],\n",
              "        [0.5491],\n",
              "        [0.2730],\n",
              "        [0.3773],\n",
              "        [0.4561],\n",
              "        [0.2064],\n",
              "        [0.2225],\n",
              "        [0.3269],\n",
              "        [0.2739],\n",
              "        [0.5427],\n",
              "        [0.3959],\n",
              "        [0.5336],\n",
              "        [0.5073],\n",
              "        [0.6041],\n",
              "        [0.2007],\n",
              "        [0.4927]], grad_fn=<AddmmBackward0>)"
            ]
          },
          "metadata": {},
          "execution_count": 54
        }
      ]
    },
    {
      "cell_type": "code",
      "source": [
        "def loss_fn(outputs, targets):\n",
        "  return nn.BCEWithLogitsLoss()(outputs, targets.float().view(-1, 1))"
      ],
      "metadata": {
        "id": "7edqezZcRX_a"
      },
      "execution_count": null,
      "outputs": []
    },
    {
      "cell_type": "code",
      "source": [
        "loss_fn(pred, targets)"
      ],
      "metadata": {
        "colab": {
          "base_uri": "https://localhost:8080/"
        },
        "id": "hk2jYp9RQDCw",
        "outputId": "4176f51a-31a0-4525-ab5e-db20084bf401"
      },
      "execution_count": null,
      "outputs": [
        {
          "output_type": "execute_result",
          "data": {
            "text/plain": [
              "tensor(0.7774, grad_fn=<BinaryCrossEntropyWithLogitsBackward0>)"
            ]
          },
          "metadata": {},
          "execution_count": 56
        }
      ]
    },
    {
      "cell_type": "code",
      "source": [
        "outputs = model(\n",
        "    ids = ids,\n",
        "    mask = mask,\n",
        "    token_type_ids = token_type_ids\n",
        ")"
      ],
      "metadata": {
        "id": "y8mdGtB_rQVD"
      },
      "execution_count": null,
      "outputs": []
    },
    {
      "cell_type": "code",
      "source": [
        "outputs"
      ],
      "metadata": {
        "colab": {
          "base_uri": "https://localhost:8080/"
        },
        "id": "tkJiuK8ArdqX",
        "outputId": "7d057950-d564-40eb-d300-4cca499d3a26"
      },
      "execution_count": null,
      "outputs": [
        {
          "output_type": "execute_result",
          "data": {
            "text/plain": [
              "tensor([[-0.1379],\n",
              "        [-0.1046],\n",
              "        [-0.1857],\n",
              "        [-0.0685],\n",
              "        [-0.1720],\n",
              "        [-0.1240],\n",
              "        [-0.0849],\n",
              "        [-0.0676],\n",
              "        [-0.0986],\n",
              "        [-0.1321],\n",
              "        [-0.0929],\n",
              "        [-0.1777],\n",
              "        [-0.0874],\n",
              "        [-0.2104],\n",
              "        [-0.0668],\n",
              "        [-0.0582]], device='cuda:0', grad_fn=<AddmmBackward0>)"
            ]
          },
          "metadata": {},
          "execution_count": 63
        }
      ]
    },
    {
      "cell_type": "code",
      "source": [
        "targets"
      ],
      "metadata": {
        "colab": {
          "base_uri": "https://localhost:8080/"
        },
        "id": "rPEf5VEargA6",
        "outputId": "5ce5d294-0b01-4150-e274-feacb2823305"
      },
      "execution_count": null,
      "outputs": [
        {
          "output_type": "execute_result",
          "data": {
            "text/plain": [
              "tensor([0, 0, 0, 0, 0, 0, 0, 0, 0, 0, 0, 0, 0, 0, 0, 0], device='cuda:0')"
            ]
          },
          "metadata": {},
          "execution_count": 58
        }
      ]
    },
    {
      "cell_type": "code",
      "source": [
        "F.cross_entropy(targets.view(-1, 1).float(), outputs)"
      ],
      "metadata": {
        "colab": {
          "base_uri": "https://localhost:8080/"
        },
        "id": "989vo_dcKFnS",
        "outputId": "2e0a4d31-0d48-462a-e220-65f39fff2c18"
      },
      "execution_count": null,
      "outputs": [
        {
          "output_type": "execute_result",
          "data": {
            "text/plain": [
              "tensor(-0., device='cuda:0', grad_fn=<DivBackward1>)"
            ]
          },
          "metadata": {},
          "execution_count": 65
        }
      ]
    },
    {
      "cell_type": "code",
      "source": [
        "loss = loss_fn(targets.float(), outputs)"
      ],
      "metadata": {
        "id": "Bel6XK85rbZO",
        "colab": {
          "base_uri": "https://localhost:8080/",
          "height": 327
        },
        "outputId": "e3a49e73-bcf2-47b6-d783-99b4477802e5"
      },
      "execution_count": null,
      "outputs": [
        {
          "output_type": "error",
          "ename": "RuntimeError",
          "evalue": "ignored",
          "traceback": [
            "\u001b[0;31m---------------------------------------------------------------------------\u001b[0m",
            "\u001b[0;31mRuntimeError\u001b[0m                              Traceback (most recent call last)",
            "\u001b[0;32m<ipython-input-64-40a4c7b33c7a>\u001b[0m in \u001b[0;36m<module>\u001b[0;34m()\u001b[0m\n\u001b[0;32m----> 1\u001b[0;31m \u001b[0mloss\u001b[0m \u001b[0;34m=\u001b[0m \u001b[0mloss_fn\u001b[0m\u001b[0;34m(\u001b[0m\u001b[0mtargets\u001b[0m\u001b[0;34m.\u001b[0m\u001b[0mfloat\u001b[0m\u001b[0;34m(\u001b[0m\u001b[0;34m)\u001b[0m\u001b[0;34m,\u001b[0m \u001b[0moutputs\u001b[0m\u001b[0;34m)\u001b[0m\u001b[0;34m\u001b[0m\u001b[0;34m\u001b[0m\u001b[0m\n\u001b[0m",
            "\u001b[0;32m<ipython-input-52-035613067e6f>\u001b[0m in \u001b[0;36mloss_fn\u001b[0;34m(outputs, targets)\u001b[0m\n\u001b[1;32m      2\u001b[0m \u001b[0;34m\u001b[0m\u001b[0m\n\u001b[1;32m      3\u001b[0m \u001b[0;32mdef\u001b[0m \u001b[0mloss_fn\u001b[0m\u001b[0;34m(\u001b[0m\u001b[0moutputs\u001b[0m\u001b[0;34m,\u001b[0m \u001b[0mtargets\u001b[0m\u001b[0;34m)\u001b[0m\u001b[0;34m:\u001b[0m\u001b[0;34m\u001b[0m\u001b[0;34m\u001b[0m\u001b[0m\n\u001b[0;32m----> 4\u001b[0;31m   \u001b[0;32mreturn\u001b[0m \u001b[0mF\u001b[0m\u001b[0;34m.\u001b[0m\u001b[0mcross_entropy\u001b[0m\u001b[0;34m(\u001b[0m\u001b[0moutputs\u001b[0m\u001b[0;34m,\u001b[0m \u001b[0mtargets\u001b[0m\u001b[0;34m.\u001b[0m\u001b[0mview\u001b[0m\u001b[0;34m(\u001b[0m\u001b[0;34m-\u001b[0m\u001b[0;36m1\u001b[0m\u001b[0;34m,\u001b[0m \u001b[0;36m1\u001b[0m\u001b[0;34m)\u001b[0m\u001b[0;34m.\u001b[0m\u001b[0mfloat\u001b[0m\u001b[0;34m(\u001b[0m\u001b[0;34m)\u001b[0m\u001b[0;34m)\u001b[0m\u001b[0;34m\u001b[0m\u001b[0;34m\u001b[0m\u001b[0m\n\u001b[0m\u001b[1;32m      5\u001b[0m \u001b[0;34m\u001b[0m\u001b[0m\n\u001b[1;32m      6\u001b[0m \u001b[0;32mdef\u001b[0m \u001b[0mtrain\u001b[0m\u001b[0;34m(\u001b[0m\u001b[0mdata_loader\u001b[0m\u001b[0;34m,\u001b[0m \u001b[0mmodel\u001b[0m\u001b[0;34m,\u001b[0m \u001b[0moptimizer\u001b[0m\u001b[0;34m,\u001b[0m \u001b[0mdevice\u001b[0m\u001b[0;34m,\u001b[0m \u001b[0mscheduler\u001b[0m\u001b[0;34m)\u001b[0m\u001b[0;34m:\u001b[0m\u001b[0;34m\u001b[0m\u001b[0;34m\u001b[0m\u001b[0m\n",
            "\u001b[0;32m/usr/local/lib/python3.7/dist-packages/torch/nn/functional.py\u001b[0m in \u001b[0;36mcross_entropy\u001b[0;34m(input, target, weight, size_average, ignore_index, reduce, reduction, label_smoothing)\u001b[0m\n\u001b[1;32m   2994\u001b[0m     \u001b[0;32mif\u001b[0m \u001b[0msize_average\u001b[0m \u001b[0;32mis\u001b[0m \u001b[0;32mnot\u001b[0m \u001b[0;32mNone\u001b[0m \u001b[0;32mor\u001b[0m \u001b[0mreduce\u001b[0m \u001b[0;32mis\u001b[0m \u001b[0;32mnot\u001b[0m \u001b[0;32mNone\u001b[0m\u001b[0;34m:\u001b[0m\u001b[0;34m\u001b[0m\u001b[0;34m\u001b[0m\u001b[0m\n\u001b[1;32m   2995\u001b[0m         \u001b[0mreduction\u001b[0m \u001b[0;34m=\u001b[0m \u001b[0m_Reduction\u001b[0m\u001b[0;34m.\u001b[0m\u001b[0mlegacy_get_string\u001b[0m\u001b[0;34m(\u001b[0m\u001b[0msize_average\u001b[0m\u001b[0;34m,\u001b[0m \u001b[0mreduce\u001b[0m\u001b[0;34m)\u001b[0m\u001b[0;34m\u001b[0m\u001b[0;34m\u001b[0m\u001b[0m\n\u001b[0;32m-> 2996\u001b[0;31m     \u001b[0;32mreturn\u001b[0m \u001b[0mtorch\u001b[0m\u001b[0;34m.\u001b[0m\u001b[0m_C\u001b[0m\u001b[0;34m.\u001b[0m\u001b[0m_nn\u001b[0m\u001b[0;34m.\u001b[0m\u001b[0mcross_entropy_loss\u001b[0m\u001b[0;34m(\u001b[0m\u001b[0minput\u001b[0m\u001b[0;34m,\u001b[0m \u001b[0mtarget\u001b[0m\u001b[0;34m,\u001b[0m \u001b[0mweight\u001b[0m\u001b[0;34m,\u001b[0m \u001b[0m_Reduction\u001b[0m\u001b[0;34m.\u001b[0m\u001b[0mget_enum\u001b[0m\u001b[0;34m(\u001b[0m\u001b[0mreduction\u001b[0m\u001b[0;34m)\u001b[0m\u001b[0;34m,\u001b[0m \u001b[0mignore_index\u001b[0m\u001b[0;34m,\u001b[0m \u001b[0mlabel_smoothing\u001b[0m\u001b[0;34m)\u001b[0m\u001b[0;34m\u001b[0m\u001b[0;34m\u001b[0m\u001b[0m\n\u001b[0m\u001b[1;32m   2997\u001b[0m \u001b[0;34m\u001b[0m\u001b[0m\n\u001b[1;32m   2998\u001b[0m \u001b[0;34m\u001b[0m\u001b[0m\n",
            "\u001b[0;31mRuntimeError\u001b[0m: 0D or 1D target tensor expected, multi-target not supported"
          ]
        }
      ]
    },
    {
      "cell_type": "code",
      "source": [
        "loss"
      ],
      "metadata": {
        "colab": {
          "base_uri": "https://localhost:8080/"
        },
        "id": "XuwkDGTErpVS",
        "outputId": "48b284cb-259c-4da5-d2c9-489b8df1aaf1"
      },
      "execution_count": null,
      "outputs": [
        {
          "output_type": "execute_result",
          "data": {
            "text/plain": [
              "tensor(-0., device='cuda:0', grad_fn=<DivBackward1>)"
            ]
          },
          "metadata": {},
          "execution_count": 60
        }
      ]
    },
    {
      "cell_type": "code",
      "source": [
        "outputs = bert(\n",
        "        ids,\n",
        "        attention_mask = mask,\n",
        "        token_type_ids = token_type_ids\n",
        ")"
      ],
      "metadata": {
        "id": "ZUw_F-OQpcBV"
      },
      "execution_count": null,
      "outputs": []
    },
    {
      "cell_type": "code",
      "source": [
        "out(outputs[1])"
      ],
      "metadata": {
        "colab": {
          "base_uri": "https://localhost:8080/"
        },
        "id": "e4nPrRC5pl1W",
        "outputId": "5f286de5-a77a-4c1a-c106-59d4b64c894c"
      },
      "execution_count": null,
      "outputs": [
        {
          "output_type": "execute_result",
          "data": {
            "text/plain": [
              "tensor([[0.4839],\n",
              "        [0.4113],\n",
              "        [0.4250],\n",
              "        [0.3696],\n",
              "        [0.3300],\n",
              "        [0.2585],\n",
              "        [0.2929],\n",
              "        [0.2718],\n",
              "        [0.4765],\n",
              "        [0.4958],\n",
              "        [0.4319],\n",
              "        [0.3376],\n",
              "        [0.3643],\n",
              "        [0.4480],\n",
              "        [0.2355],\n",
              "        [0.3274]], device='cuda:0', grad_fn=<AddmmBackward0>)"
            ]
          },
          "metadata": {},
          "execution_count": 102
        }
      ]
    },
    {
      "cell_type": "code",
      "source": [
        ""
      ],
      "metadata": {
        "id": "E7diU20SigXt",
        "colab": {
          "base_uri": "https://localhost:8080/"
        },
        "outputId": "6c0f97dc-dd4d-43fd-b546-f056d41aac99"
      },
      "execution_count": null,
      "outputs": [
        {
          "output_type": "stream",
          "name": "stderr",
          "text": [
            "Some weights of the model checkpoint at bert-base-multilingual-cased were not used when initializing BertModel: ['cls.predictions.transform.dense.bias', 'cls.predictions.transform.LayerNorm.bias', 'cls.predictions.transform.dense.weight', 'cls.seq_relationship.bias', 'cls.predictions.bias', 'cls.predictions.decoder.weight', 'cls.predictions.transform.LayerNorm.weight', 'cls.seq_relationship.weight']\n",
            "- This IS expected if you are initializing BertModel from the checkpoint of a model trained on another task or with another architecture (e.g. initializing a BertForSequenceClassification model from a BertForPreTraining model).\n",
            "- This IS NOT expected if you are initializing BertModel from the checkpoint of a model that you expect to be exactly identical (initializing a BertForSequenceClassification model from a BertForSequenceClassification model).\n"
          ]
        }
      ]
    },
    {
      "cell_type": "code",
      "source": [
        "# bert = transformers.BertModel.from_pretrained('bert-base-multilingual-cased').to(device)"
      ],
      "metadata": {
        "colab": {
          "base_uri": "https://localhost:8080/"
        },
        "id": "NtaEHjDYikqQ",
        "outputId": "da344c77-89fe-4d15-aa0c-fcff6c4cb424"
      },
      "execution_count": null,
      "outputs": [
        {
          "output_type": "stream",
          "name": "stderr",
          "text": [
            "Some weights of the model checkpoint at bert-base-multilingual-cased were not used when initializing BertModel: ['cls.predictions.bias', 'cls.seq_relationship.bias', 'cls.predictions.transform.dense.bias', 'cls.predictions.transform.LayerNorm.bias', 'cls.seq_relationship.weight', 'cls.predictions.transform.LayerNorm.weight', 'cls.predictions.transform.dense.weight', 'cls.predictions.decoder.weight']\n",
            "- This IS expected if you are initializing BertModel from the checkpoint of a model trained on another task or with another architecture (e.g. initializing a BertForSequenceClassification model from a BertForPreTraining model).\n",
            "- This IS NOT expected if you are initializing BertModel from the checkpoint of a model that you expect to be exactly identical (initializing a BertForSequenceClassification model from a BertForSequenceClassification model).\n"
          ]
        }
      ]
    },
    {
      "cell_type": "code",
      "source": [
        "outputs = model(\n",
        "        ids = ids,\n",
        "        mask = mask,\n",
        "        token_type_ids = token_type_ids)"
      ],
      "metadata": {
        "id": "NVxgNJ3mjYEm"
      },
      "execution_count": null,
      "outputs": []
    },
    {
      "cell_type": "code",
      "source": [
        "outputs"
      ],
      "metadata": {
        "colab": {
          "base_uri": "https://localhost:8080/"
        },
        "id": "uA2aqQDKomel",
        "outputId": "640ef0b5-ef78-4667-d858-b92b99f5499a"
      },
      "execution_count": null,
      "outputs": [
        {
          "output_type": "execute_result",
          "data": {
            "text/plain": [
              "tensor([[-0.6342],\n",
              "        [-0.5819],\n",
              "        [-0.5279],\n",
              "        [-0.5547],\n",
              "        [ 0.1543],\n",
              "        [-0.4455],\n",
              "        [-0.5732],\n",
              "        [-0.6738],\n",
              "        [-0.4307],\n",
              "        [-0.5857],\n",
              "        [-0.3221],\n",
              "        [-0.5132],\n",
              "        [ 0.1230],\n",
              "        [-0.4605],\n",
              "        [-0.5499],\n",
              "        [-0.6433]], device='cuda:0', grad_fn=<AddmmBackward0>)"
            ]
          },
          "metadata": {},
          "execution_count": 34
        }
      ]
    },
    {
      "cell_type": "code",
      "source": [
        "outputs, targets = eval(valid_data_loader, model, device)"
      ],
      "metadata": {
        "colab": {
          "base_uri": "https://localhost:8080/"
        },
        "id": "F6PhIMJOqgXL",
        "outputId": "c612233a-a9ce-403e-8887-715ad6dc7328"
      },
      "execution_count": null,
      "outputs": [
        {
          "output_type": "stream",
          "name": "stderr",
          "text": [
            "100%|██████████| 13/13 [00:01<00:00,  9.99it/s]\n"
          ]
        }
      ]
    },
    {
      "cell_type": "code",
      "source": [
        "outputs"
      ],
      "metadata": {
        "colab": {
          "base_uri": "https://localhost:8080/"
        },
        "id": "POXxFCr64W0_",
        "outputId": "0176adc5-4ee9-4a66-f3fc-d7b1fd14eaa9"
      },
      "execution_count": null,
      "outputs": [
        {
          "output_type": "execute_result",
          "data": {
            "text/plain": [
              "[[0.4376993477344513],\n",
              " [0.5473430752754211],\n",
              " [0.4304685592651367],\n",
              " [0.3696940839290619],\n",
              " [0.3778122663497925],\n",
              " [0.434233158826828],\n",
              " [0.43217146396636963],\n",
              " [0.4821430742740631],\n",
              " [0.3803848922252655],\n",
              " [0.3944300413131714],\n",
              " [0.5571368336677551],\n",
              " [0.3973301947116852],\n",
              " [0.43737703561782837],\n",
              " [0.5570463538169861],\n",
              " [0.4305109679698944],\n",
              " [0.4362465739250183],\n",
              " [0.4069691002368927],\n",
              " [0.42568057775497437],\n",
              " [0.3767576813697815],\n",
              " [0.43503254652023315],\n",
              " [0.42154985666275024],\n",
              " [0.4401720464229584],\n",
              " [0.3826456367969513],\n",
              " [0.4007130265235901],\n",
              " [0.3964690566062927],\n",
              " [0.43989676237106323],\n",
              " [0.4022636413574219],\n",
              " [0.3940058946609497],\n",
              " [0.4127604365348816],\n",
              " [0.4376904368400574],\n",
              " [0.3904869258403778],\n",
              " [0.39702335000038147],\n",
              " [0.4382345974445343],\n",
              " [0.5560024380683899],\n",
              " [0.3747329115867615],\n",
              " [0.3790303170681],\n",
              " [0.43346527218818665],\n",
              " [0.4012080430984497],\n",
              " [0.4120001792907715],\n",
              " [0.5309929847717285],\n",
              " [0.4065152406692505],\n",
              " [0.5681859850883484],\n",
              " [0.38822999596595764],\n",
              " [0.4211895763874054],\n",
              " [0.4488644003868103],\n",
              " [0.41345593333244324],\n",
              " [0.39774033427238464],\n",
              " [0.38944995403289795],\n",
              " [0.3927995264530182],\n",
              " [0.41715356707572937],\n",
              " [0.40130794048309326],\n",
              " [0.5250956416130066],\n",
              " [0.3970165550708771],\n",
              " [0.38039571046829224],\n",
              " [0.39434462785720825],\n",
              " [0.4599442183971405],\n",
              " [0.4236721694469452],\n",
              " [0.45436543226242065],\n",
              " [0.39004257321357727],\n",
              " [0.42073458433151245],\n",
              " [0.409529447555542],\n",
              " [0.4088393747806549],\n",
              " [0.48133939504623413],\n",
              " [0.37418481707572937],\n",
              " [0.40156394243240356],\n",
              " [0.4295848309993744],\n",
              " [0.4085920751094818],\n",
              " [0.394776314496994],\n",
              " [0.4548306465148926],\n",
              " [0.39815038442611694],\n",
              " [0.3728174567222595],\n",
              " [0.4216894805431366],\n",
              " [0.5147594809532166],\n",
              " [0.4360419809818268],\n",
              " [0.3844199776649475],\n",
              " [0.4557246267795563],\n",
              " [0.4145445227622986],\n",
              " [0.40472176671028137],\n",
              " [0.3923597037792206],\n",
              " [0.3676266074180603],\n",
              " [0.4305307865142822],\n",
              " [0.4503531754016876],\n",
              " [0.42314648628234863],\n",
              " [0.37968680262565613],\n",
              " [0.402629017829895],\n",
              " [0.4445572793483734],\n",
              " [0.4892417788505554],\n",
              " [0.4324810206890106],\n",
              " [0.3897212743759155],\n",
              " [0.3772260546684265],\n",
              " [0.3859063684940338],\n",
              " [0.3862154185771942],\n",
              " [0.36321818828582764],\n",
              " [0.4300920069217682],\n",
              " [0.4048355221748352],\n",
              " [0.40521323680877686],\n",
              " [0.4470181167125702],\n",
              " [0.4827624559402466],\n",
              " [0.4376904368400574],\n",
              " [0.41668349504470825],\n",
              " [0.3999153673648834],\n",
              " [0.41196542978286743],\n",
              " [0.39010995626449585],\n",
              " [0.43547314405441284],\n",
              " [0.5676358938217163],\n",
              " [0.4098008871078491],\n",
              " [0.4192216992378235],\n",
              " [0.4376904368400574],\n",
              " [0.41745054721832275],\n",
              " [0.4137994945049286],\n",
              " [0.40491384267807007],\n",
              " [0.4130139946937561],\n",
              " [0.4035201668739319],\n",
              " [0.42264115810394287],\n",
              " [0.43960657715797424],\n",
              " [0.38818153738975525],\n",
              " [0.3836292624473572],\n",
              " [0.4362310469150543],\n",
              " [0.4776701331138611],\n",
              " [0.3724040389060974],\n",
              " [0.4316006004810333],\n",
              " [0.41848549246788025],\n",
              " [0.3804033100605011],\n",
              " [0.43361973762512207],\n",
              " [0.36593425273895264],\n",
              " [0.397956520318985],\n",
              " [0.4217506945133209],\n",
              " [0.3945493996143341],\n",
              " [0.35584181547164917],\n",
              " [0.3943708837032318],\n",
              " [0.4402797520160675],\n",
              " [0.3631671071052551],\n",
              " [0.4008578956127167],\n",
              " [0.42794719338417053],\n",
              " [0.4049045443534851],\n",
              " [0.4122646749019623],\n",
              " [0.4206793010234833],\n",
              " [0.40776869654655457],\n",
              " [0.4057636260986328],\n",
              " [0.4048807621002197],\n",
              " [0.3962359130382538],\n",
              " [0.409175306558609],\n",
              " [0.37459537386894226],\n",
              " [0.39906203746795654],\n",
              " [0.39592161774635315],\n",
              " [0.3977450132369995],\n",
              " [0.41798192262649536],\n",
              " [0.4111344516277313],\n",
              " [0.4249248802661896],\n",
              " [0.4182682931423187],\n",
              " [0.4239251911640167],\n",
              " [0.45585981011390686],\n",
              " [0.4352165758609772],\n",
              " [0.38223549723625183],\n",
              " [0.4049658179283142],\n",
              " [0.44332003593444824],\n",
              " [0.40297290682792664],\n",
              " [0.4221184551715851],\n",
              " [0.4432137906551361],\n",
              " [0.4140409231185913],\n",
              " [0.4235721826553345],\n",
              " [0.3819528818130493],\n",
              " [0.4183976352214813],\n",
              " [0.3689381182193756],\n",
              " [0.4619782269001007],\n",
              " [0.37336844205856323],\n",
              " [0.3489972949028015],\n",
              " [0.39819207787513733],\n",
              " [0.3724908232688904],\n",
              " [0.40337198972702026],\n",
              " [0.41523677110671997],\n",
              " [0.4009683430194855],\n",
              " [0.4065113961696625],\n",
              " [0.40577471256256104],\n",
              " [0.4477123022079468],\n",
              " [0.43058037757873535],\n",
              " [0.4772869944572449],\n",
              " [0.4373820424079895],\n",
              " [0.38725849986076355],\n",
              " [0.3451903760433197],\n",
              " [0.43286415934562683],\n",
              " [0.44005268812179565],\n",
              " [0.4083162248134613],\n",
              " [0.3596281409263611],\n",
              " [0.37434035539627075],\n",
              " [0.3928764760494232],\n",
              " [0.5404630303382874],\n",
              " [0.3915674686431885],\n",
              " [0.4239480793476105],\n",
              " [0.4259911775588989],\n",
              " [0.42373374104499817],\n",
              " [0.4394967555999756],\n",
              " [0.42829450964927673],\n",
              " [0.40453994274139404],\n",
              " [0.36412447690963745],\n",
              " [0.4046563506126404],\n",
              " [0.40924686193466187],\n",
              " [0.45543450117111206],\n",
              " [0.4143419861793518],\n",
              " [0.3803717792034149]]"
            ]
          },
          "metadata": {},
          "execution_count": 36
        }
      ]
    },
    {
      "cell_type": "code",
      "source": [
        "metrics.roc_auc_score(targets, outputs)"
      ],
      "metadata": {
        "colab": {
          "base_uri": "https://localhost:8080/"
        },
        "id": "kphvTxGapulG",
        "outputId": "946a268a-40a4-4ed1-ef45-2125619c6a5f"
      },
      "execution_count": null,
      "outputs": [
        {
          "output_type": "execute_result",
          "data": {
            "text/plain": [
              "0.4"
            ]
          },
          "metadata": {},
          "execution_count": 112
        }
      ]
    },
    {
      "cell_type": "code",
      "source": [
        "max_indices"
      ],
      "metadata": {
        "colab": {
          "base_uri": "https://localhost:8080/"
        },
        "id": "mZdKJ0T5ouzV",
        "outputId": "05c1d671-f186-45e7-be6e-24bdcb234db5"
      },
      "execution_count": null,
      "outputs": [
        {
          "output_type": "execute_result",
          "data": {
            "text/plain": [
              "tensor([0, 0, 0, 0, 0, 0, 0, 0, 0, 0, 0, 0, 0, 0, 0, 0, 0, 0, 0, 0, 0, 0, 0, 0,\n",
              "        0, 0, 0, 0, 0, 0, 0, 0, 0, 0, 0, 0, 0, 0, 0, 0, 0, 0, 0, 0, 0, 0, 0, 0,\n",
              "        0, 0, 0, 0, 0, 0, 0, 0, 0, 0, 0, 0, 0, 0, 0, 0, 0, 0, 0, 0, 0, 0, 0, 0,\n",
              "        0, 0, 0, 0, 0, 0, 0, 0, 0, 0, 0, 0, 0, 0, 0, 0, 0, 0, 0, 0, 0, 0, 0, 0,\n",
              "        0, 0, 0, 0], device='cuda:0')"
            ]
          },
          "metadata": {},
          "execution_count": 87
        }
      ]
    },
    {
      "cell_type": "code",
      "source": [
        "np.array(targets) >= 0.5"
      ],
      "metadata": {
        "colab": {
          "base_uri": "https://localhost:8080/"
        },
        "id": "9ly0AtKblzOI",
        "outputId": "5c0ed90e-0c53-409e-b3da-f3f768387985"
      },
      "execution_count": null,
      "outputs": [
        {
          "output_type": "execute_result",
          "data": {
            "text/plain": [
              "array([False, False,  True, False, False, False, False, False, False,\n",
              "       False, False, False, False, False, False, False])"
            ]
          },
          "metadata": {},
          "execution_count": 63
        }
      ]
    },
    {
      "cell_type": "code",
      "source": [
        "targets = np.array(targets) >= 0.5\n",
        "    accuracy = metrics.roc_auc_score(targets, outputs)"
      ],
      "metadata": {
        "id": "UePjv0-nirS9",
        "colab": {
          "base_uri": "https://localhost:8080/",
          "height": 174
        },
        "outputId": "11bf28bb-4b9b-4cef-8bf9-76eb44c2f763"
      },
      "execution_count": null,
      "outputs": [
        {
          "output_type": "error",
          "ename": "AttributeError",
          "evalue": "ignored",
          "traceback": [
            "\u001b[0;31m---------------------------------------------------------------------------\u001b[0m",
            "\u001b[0;31mAttributeError\u001b[0m                            Traceback (most recent call last)",
            "\u001b[0;32m<ipython-input-60-e518f864067f>\u001b[0m in \u001b[0;36m<module>\u001b[0;34m()\u001b[0m\n\u001b[0;32m----> 1\u001b[0;31m \u001b[0mtargets\u001b[0m\u001b[0;34m.\u001b[0m\u001b[0mview\u001b[0m\u001b[0;34m(\u001b[0m\u001b[0;36m1\u001b[0m\u001b[0;34m,\u001b[0m \u001b[0;34m-\u001b[0m\u001b[0;36m1\u001b[0m\u001b[0;34m)\u001b[0m\u001b[0;34m\u001b[0m\u001b[0;34m\u001b[0m\u001b[0m\n\u001b[0m",
            "\u001b[0;31mAttributeError\u001b[0m: 'list' object has no attribute 'view'"
          ]
        }
      ]
    },
    {
      "cell_type": "code",
      "source": [
        "out = nn.Linear(768, 1).to(device)"
      ],
      "metadata": {
        "id": "3NDeWTgNmaNa"
      },
      "execution_count": null,
      "outputs": []
    },
    {
      "cell_type": "code",
      "source": [
        "output = out(outputs[0])"
      ],
      "metadata": {
        "id": "w3O1BealmV5U"
      },
      "execution_count": null,
      "outputs": []
    },
    {
      "cell_type": "code",
      "source": [
        "o = torch.sigmoid(output[0]).cpu().detach().numpy().tolist()"
      ],
      "metadata": {
        "id": "TwSf4n4Y0QFs"
      },
      "execution_count": null,
      "outputs": []
    },
    {
      "cell_type": "code",
      "source": [
        "t = targets.cpu().detach().numpy().tolist()\n",
        "t"
      ],
      "metadata": {
        "colab": {
          "base_uri": "https://localhost:8080/"
        },
        "id": "aXX9lSUatcHA",
        "outputId": "4a67171f-d3eb-4328-c6b2-c217f9234786"
      },
      "execution_count": null,
      "outputs": [
        {
          "output_type": "execute_result",
          "data": {
            "text/plain": [
              "[0, 0, 0, 0, 0, 0, 0, 0, 0, 0, 0, 0, 0, 0, 0, 0]"
            ]
          },
          "metadata": {},
          "execution_count": 42
        }
      ]
    },
    {
      "cell_type": "code",
      "source": [
        "train_loss = F.cross_entropy(output, targets.view(-1, 1))"
      ],
      "metadata": {
        "id": "usWAzPKctj4A"
      },
      "execution_count": null,
      "outputs": []
    },
    {
      "cell_type": "code",
      "source": [
        "t2 = np.array(t) >= 0.5\n",
        "t2"
      ],
      "metadata": {
        "colab": {
          "base_uri": "https://localhost:8080/"
        },
        "id": "HhIXg7hAt9KG",
        "outputId": "28b72899-1c5b-46ae-aa95-c2cbb4577f5a"
      },
      "execution_count": null,
      "outputs": [
        {
          "output_type": "execute_result",
          "data": {
            "text/plain": [
              "array([False, False, False, False, False, False, False, False, False,\n",
              "       False, False, False, False, False, False, False])"
            ]
          },
          "metadata": {},
          "execution_count": 44
        }
      ]
    },
    {
      "cell_type": "code",
      "source": [
        "accuracy = metrics.roc_auc_score(t2, o)"
      ],
      "metadata": {
        "colab": {
          "base_uri": "https://localhost:8080/",
          "height": 327
        },
        "id": "daamrfvsw4Xc",
        "outputId": "02cb7369-b197-4905-e08e-254e7fbb6331"
      },
      "execution_count": null,
      "outputs": [
        {
          "output_type": "error",
          "ename": "ValueError",
          "evalue": "ignored",
          "traceback": [
            "\u001b[0;31m---------------------------------------------------------------------------\u001b[0m",
            "\u001b[0;31mValueError\u001b[0m                                Traceback (most recent call last)",
            "\u001b[0;32m<ipython-input-47-eacf23537d94>\u001b[0m in \u001b[0;36m<module>\u001b[0;34m()\u001b[0m\n\u001b[0;32m----> 1\u001b[0;31m \u001b[0maccuracy\u001b[0m \u001b[0;34m=\u001b[0m \u001b[0mmetrics\u001b[0m\u001b[0;34m.\u001b[0m\u001b[0mroc_auc_score\u001b[0m\u001b[0;34m(\u001b[0m\u001b[0mt2\u001b[0m\u001b[0;34m,\u001b[0m \u001b[0mo\u001b[0m\u001b[0;34m)\u001b[0m\u001b[0;34m\u001b[0m\u001b[0;34m\u001b[0m\u001b[0m\n\u001b[0m",
            "\u001b[0;32m/usr/local/lib/python3.7/dist-packages/sklearn/metrics/_ranking.py\u001b[0m in \u001b[0;36mroc_auc_score\u001b[0;34m(y_true, y_score, average, sample_weight, max_fpr, multi_class, labels)\u001b[0m\n\u001b[1;32m    570\u001b[0m             \u001b[0my_score\u001b[0m\u001b[0;34m,\u001b[0m\u001b[0;34m\u001b[0m\u001b[0;34m\u001b[0m\u001b[0m\n\u001b[1;32m    571\u001b[0m             \u001b[0maverage\u001b[0m\u001b[0;34m,\u001b[0m\u001b[0;34m\u001b[0m\u001b[0;34m\u001b[0m\u001b[0m\n\u001b[0;32m--> 572\u001b[0;31m             \u001b[0msample_weight\u001b[0m\u001b[0;34m=\u001b[0m\u001b[0msample_weight\u001b[0m\u001b[0;34m,\u001b[0m\u001b[0;34m\u001b[0m\u001b[0;34m\u001b[0m\u001b[0m\n\u001b[0m\u001b[1;32m    573\u001b[0m         )\n\u001b[1;32m    574\u001b[0m     \u001b[0;32melse\u001b[0m\u001b[0;34m:\u001b[0m  \u001b[0;31m# multilabel-indicator\u001b[0m\u001b[0;34m\u001b[0m\u001b[0;34m\u001b[0m\u001b[0m\n",
            "\u001b[0;32m/usr/local/lib/python3.7/dist-packages/sklearn/metrics/_base.py\u001b[0m in \u001b[0;36m_average_binary_score\u001b[0;34m(binary_metric, y_true, y_score, average, sample_weight)\u001b[0m\n\u001b[1;32m     73\u001b[0m \u001b[0;34m\u001b[0m\u001b[0m\n\u001b[1;32m     74\u001b[0m     \u001b[0;32mif\u001b[0m \u001b[0my_type\u001b[0m \u001b[0;34m==\u001b[0m \u001b[0;34m\"binary\"\u001b[0m\u001b[0;34m:\u001b[0m\u001b[0;34m\u001b[0m\u001b[0;34m\u001b[0m\u001b[0m\n\u001b[0;32m---> 75\u001b[0;31m         \u001b[0;32mreturn\u001b[0m \u001b[0mbinary_metric\u001b[0m\u001b[0;34m(\u001b[0m\u001b[0my_true\u001b[0m\u001b[0;34m,\u001b[0m \u001b[0my_score\u001b[0m\u001b[0;34m,\u001b[0m \u001b[0msample_weight\u001b[0m\u001b[0;34m=\u001b[0m\u001b[0msample_weight\u001b[0m\u001b[0;34m)\u001b[0m\u001b[0;34m\u001b[0m\u001b[0;34m\u001b[0m\u001b[0m\n\u001b[0m\u001b[1;32m     76\u001b[0m \u001b[0;34m\u001b[0m\u001b[0m\n\u001b[1;32m     77\u001b[0m     \u001b[0mcheck_consistent_length\u001b[0m\u001b[0;34m(\u001b[0m\u001b[0my_true\u001b[0m\u001b[0;34m,\u001b[0m \u001b[0my_score\u001b[0m\u001b[0;34m,\u001b[0m \u001b[0msample_weight\u001b[0m\u001b[0;34m)\u001b[0m\u001b[0;34m\u001b[0m\u001b[0;34m\u001b[0m\u001b[0m\n",
            "\u001b[0;32m/usr/local/lib/python3.7/dist-packages/sklearn/metrics/_ranking.py\u001b[0m in \u001b[0;36m_binary_roc_auc_score\u001b[0;34m(y_true, y_score, sample_weight, max_fpr)\u001b[0m\n\u001b[1;32m    336\u001b[0m     \u001b[0;32mif\u001b[0m \u001b[0mlen\u001b[0m\u001b[0;34m(\u001b[0m\u001b[0mnp\u001b[0m\u001b[0;34m.\u001b[0m\u001b[0munique\u001b[0m\u001b[0;34m(\u001b[0m\u001b[0my_true\u001b[0m\u001b[0;34m)\u001b[0m\u001b[0;34m)\u001b[0m \u001b[0;34m!=\u001b[0m \u001b[0;36m2\u001b[0m\u001b[0;34m:\u001b[0m\u001b[0;34m\u001b[0m\u001b[0;34m\u001b[0m\u001b[0m\n\u001b[1;32m    337\u001b[0m         raise ValueError(\n\u001b[0;32m--> 338\u001b[0;31m             \u001b[0;34m\"Only one class present in y_true. ROC AUC score \"\u001b[0m\u001b[0;34m\u001b[0m\u001b[0;34m\u001b[0m\u001b[0m\n\u001b[0m\u001b[1;32m    339\u001b[0m             \u001b[0;34m\"is not defined in that case.\"\u001b[0m\u001b[0;34m\u001b[0m\u001b[0;34m\u001b[0m\u001b[0m\n\u001b[1;32m    340\u001b[0m         )\n",
            "\u001b[0;31mValueError\u001b[0m: Only one class present in y_true. ROC AUC score is not defined in that case."
          ]
        }
      ]
    },
    {
      "cell_type": "code",
      "source": [
        "accuracy = metrics.roc_auc_score(targets, outputs)"
      ],
      "metadata": {
        "id": "rWm7eYfhydib",
        "colab": {
          "base_uri": "https://localhost:8080/",
          "height": 345
        },
        "outputId": "b45c6016-2e9d-4b82-85ee-43405e806ea1"
      },
      "execution_count": null,
      "outputs": [
        {
          "output_type": "error",
          "ename": "ValueError",
          "evalue": "ignored",
          "traceback": [
            "\u001b[0;31m---------------------------------------------------------------------------\u001b[0m",
            "\u001b[0;31mValueError\u001b[0m                                Traceback (most recent call last)",
            "\u001b[0;32m<ipython-input-57-e18f1a8406d8>\u001b[0m in \u001b[0;36m<module>\u001b[0;34m()\u001b[0m\n\u001b[0;32m----> 1\u001b[0;31m \u001b[0maccuracy\u001b[0m \u001b[0;34m=\u001b[0m \u001b[0mmetrics\u001b[0m\u001b[0;34m.\u001b[0m\u001b[0mroc_auc_score\u001b[0m\u001b[0;34m(\u001b[0m\u001b[0mtargets\u001b[0m\u001b[0;34m,\u001b[0m \u001b[0moutputs\u001b[0m\u001b[0;34m)\u001b[0m\u001b[0;34m\u001b[0m\u001b[0;34m\u001b[0m\u001b[0m\n\u001b[0m",
            "\u001b[0;32m/usr/local/lib/python3.7/dist-packages/sklearn/metrics/_ranking.py\u001b[0m in \u001b[0;36mroc_auc_score\u001b[0;34m(y_true, y_score, average, sample_weight, max_fpr, multi_class, labels)\u001b[0m\n\u001b[1;32m    544\u001b[0m     \u001b[0my_type\u001b[0m \u001b[0;34m=\u001b[0m \u001b[0mtype_of_target\u001b[0m\u001b[0;34m(\u001b[0m\u001b[0my_true\u001b[0m\u001b[0;34m)\u001b[0m\u001b[0;34m\u001b[0m\u001b[0;34m\u001b[0m\u001b[0m\n\u001b[1;32m    545\u001b[0m     \u001b[0my_true\u001b[0m \u001b[0;34m=\u001b[0m \u001b[0mcheck_array\u001b[0m\u001b[0;34m(\u001b[0m\u001b[0my_true\u001b[0m\u001b[0;34m,\u001b[0m \u001b[0mensure_2d\u001b[0m\u001b[0;34m=\u001b[0m\u001b[0;32mFalse\u001b[0m\u001b[0;34m,\u001b[0m \u001b[0mdtype\u001b[0m\u001b[0;34m=\u001b[0m\u001b[0;32mNone\u001b[0m\u001b[0;34m)\u001b[0m\u001b[0;34m\u001b[0m\u001b[0;34m\u001b[0m\u001b[0m\n\u001b[0;32m--> 546\u001b[0;31m     \u001b[0my_score\u001b[0m \u001b[0;34m=\u001b[0m \u001b[0mcheck_array\u001b[0m\u001b[0;34m(\u001b[0m\u001b[0my_score\u001b[0m\u001b[0;34m,\u001b[0m \u001b[0mensure_2d\u001b[0m\u001b[0;34m=\u001b[0m\u001b[0;32mFalse\u001b[0m\u001b[0;34m)\u001b[0m\u001b[0;34m\u001b[0m\u001b[0;34m\u001b[0m\u001b[0m\n\u001b[0m\u001b[1;32m    547\u001b[0m \u001b[0;34m\u001b[0m\u001b[0m\n\u001b[1;32m    548\u001b[0m     if y_type == \"multiclass\" or (\n",
            "\u001b[0;32m/usr/local/lib/python3.7/dist-packages/sklearn/utils/validation.py\u001b[0m in \u001b[0;36mcheck_array\u001b[0;34m(array, accept_sparse, accept_large_sparse, dtype, order, copy, force_all_finite, ensure_2d, allow_nd, ensure_min_samples, ensure_min_features, estimator)\u001b[0m\n\u001b[1;32m    794\u001b[0m             raise ValueError(\n\u001b[1;32m    795\u001b[0m                 \u001b[0;34m\"Found array with dim %d. %s expected <= 2.\"\u001b[0m\u001b[0;34m\u001b[0m\u001b[0;34m\u001b[0m\u001b[0m\n\u001b[0;32m--> 796\u001b[0;31m                 \u001b[0;34m%\u001b[0m \u001b[0;34m(\u001b[0m\u001b[0marray\u001b[0m\u001b[0;34m.\u001b[0m\u001b[0mndim\u001b[0m\u001b[0;34m,\u001b[0m \u001b[0mestimator_name\u001b[0m\u001b[0;34m)\u001b[0m\u001b[0;34m\u001b[0m\u001b[0;34m\u001b[0m\u001b[0m\n\u001b[0m\u001b[1;32m    797\u001b[0m             )\n\u001b[1;32m    798\u001b[0m \u001b[0;34m\u001b[0m\u001b[0m\n",
            "\u001b[0;31mValueError\u001b[0m: Found array with dim 3. Estimator expected <= 2."
          ]
        }
      ]
    },
    {
      "cell_type": "code",
      "source": [
        ""
      ],
      "metadata": {
        "id": "qVZe5Mhoj354"
      },
      "execution_count": null,
      "outputs": []
    }
  ]
}